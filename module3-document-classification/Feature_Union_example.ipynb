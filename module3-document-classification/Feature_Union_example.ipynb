{
 "cells": [
  {
   "cell_type": "code",
   "execution_count": 1,
   "metadata": {},
   "outputs": [],
   "source": [
    "import numpy as np\n",
    "import pandas as pd\n",
    "\n",
    "from sklearn.pipeline import FeatureUnion, Pipeline\n",
    "from sklearn.feature_extraction.text import CountVectorizer, TfidfVectorizer\n",
    "from sklearn.decomposition import PCA, TruncatedSVD\n",
    "from sklearn.preprocessing import MinMaxScaler, StandardScaler"
   ]
  },
  {
   "cell_type": "markdown",
   "metadata": {},
   "source": [
    "[**Feature Union Documentation**](https://scikit-learn.org/stable/modules/generated/sklearn.pipeline.FeatureUnion.html)\n",
    "\n",
    "**FeatureUnion** is a very useful pipeline class that takes a data set and allows for the parallel processing of completely independent data transformation pipelines, the output from the pipelines is merged at the eng - hence the name feautre **union**. \n",
    "\n",
    "A potential use case is when you want to include both term-counts (i.e. CountVectorizer and TFIDF) and context vectors (i.e. spaCy's language model) into the same doc-term matrix that you pass into a ML classifier. The motivation is that our model would benefit from having both pieces of information about our data at training time. \n",
    "\n",
    "You can then use this to, hopefully, bump up your Kaggle score - yay!!!\n",
    "\n",
    "____"
   ]
  },
  {
   "cell_type": "markdown",
   "metadata": {},
   "source": [
    "### Our Mixed Data Set"
   ]
  },
  {
   "cell_type": "code",
   "execution_count": 15,
   "metadata": {},
   "outputs": [],
   "source": [
    "# text data\n",
    "reviews = [\"I love dogs and coffee and dancing tango with beautiful women in Argentina.\", \n",
    "           \"I love cats and tea but dancing tango is difficult and I gave up.\", \n",
    "           \"I love dogs and cats and dancing but only dancing salsa.\"]\n",
    "\n",
    "# numerical data\n",
    "ratings = [100.,75., 25.]\n",
    "visits = [10, 3, 6]\n",
    "purchase_amount = [25.0, 5.50, 12.30]\n",
    "\n",
    "data = [reviews, ratings, visits, purchase_amount]\n",
    "columns = [\"reviews\", \"ratings\", \"visits\", \"purchase_amount\"]\n",
    "\n",
    "df = pd.DataFrame(data=data).T\n",
    "df.columns = columns"
   ]
  },
  {
   "cell_type": "code",
   "execution_count": 16,
   "metadata": {
    "scrolled": true
   },
   "outputs": [
    {
     "data": {
      "text/html": [
       "<div>\n",
       "<style scoped>\n",
       "    .dataframe tbody tr th:only-of-type {\n",
       "        vertical-align: middle;\n",
       "    }\n",
       "\n",
       "    .dataframe tbody tr th {\n",
       "        vertical-align: top;\n",
       "    }\n",
       "\n",
       "    .dataframe thead th {\n",
       "        text-align: right;\n",
       "    }\n",
       "</style>\n",
       "<table border=\"1\" class=\"dataframe\">\n",
       "  <thead>\n",
       "    <tr style=\"text-align: right;\">\n",
       "      <th></th>\n",
       "      <th>reviews</th>\n",
       "      <th>ratings</th>\n",
       "      <th>visits</th>\n",
       "      <th>purchase_amount</th>\n",
       "    </tr>\n",
       "  </thead>\n",
       "  <tbody>\n",
       "    <tr>\n",
       "      <th>0</th>\n",
       "      <td>I love dogs and coffee and dancing tango with ...</td>\n",
       "      <td>100</td>\n",
       "      <td>10</td>\n",
       "      <td>25</td>\n",
       "    </tr>\n",
       "    <tr>\n",
       "      <th>1</th>\n",
       "      <td>I love cats and tea but dancing tango is diffi...</td>\n",
       "      <td>75</td>\n",
       "      <td>3</td>\n",
       "      <td>5.5</td>\n",
       "    </tr>\n",
       "    <tr>\n",
       "      <th>2</th>\n",
       "      <td>I love dogs and cats and dancing but only danc...</td>\n",
       "      <td>25</td>\n",
       "      <td>6</td>\n",
       "      <td>12.3</td>\n",
       "    </tr>\n",
       "  </tbody>\n",
       "</table>\n",
       "</div>"
      ],
      "text/plain": [
       "                                             reviews ratings visits  \\\n",
       "0  I love dogs and coffee and dancing tango with ...     100     10   \n",
       "1  I love cats and tea but dancing tango is diffi...      75      3   \n",
       "2  I love dogs and cats and dancing but only danc...      25      6   \n",
       "\n",
       "  purchase_amount  \n",
       "0              25  \n",
       "1             5.5  \n",
       "2            12.3  "
      ]
     },
     "execution_count": 16,
     "metadata": {},
     "output_type": "execute_result"
    }
   ],
   "source": [
    "df.head()"
   ]
  },
  {
   "cell_type": "markdown",
   "metadata": {},
   "source": [
    "----\n",
    "### Split features into multiple feature sets\n",
    "\n",
    "FeatureUnion provides multiple feature transformation pipelines that run in parallel and in isolation of each other, however FeatureUnion passed the same data set through all pipelines. So we need to make sure that whatever features we pass in can be handeled by all transformations in all pipelines. \n",
    "\n",
    "In order words, create a FeatureUnion instance for text data, then create another FeatureUnion for numerical data, and so on. "
   ]
  },
  {
   "cell_type": "code",
   "execution_count": 17,
   "metadata": {},
   "outputs": [],
   "source": [
    "feat_set_1 = [\"reviews\"]\n",
    "feat_set_2 = ['ratings', 'visits', \"purchase_amount\"]\n",
    "\n",
    "\n",
    "text_data = df[feat_set_1].values.flatten()\n",
    "numerical_data =  df[feat_set_2].values"
   ]
  },
  {
   "cell_type": "code",
   "execution_count": 22,
   "metadata": {},
   "outputs": [
    {
     "data": {
      "text/plain": [
       "array(['I love dogs and coffee and dancing tango with beautiful women in Argentina.',\n",
       "       'I love cats and tea but dancing tango is difficult and I gave up.',\n",
       "       'I love dogs and cats and dancing but only dancing salsa.'],\n",
       "      dtype=object)"
      ]
     },
     "execution_count": 22,
     "metadata": {},
     "output_type": "execute_result"
    }
   ],
   "source": [
    "text_data"
   ]
  },
  {
   "cell_type": "code",
   "execution_count": 28,
   "metadata": {},
   "outputs": [
    {
     "data": {
      "text/plain": [
       "array([[100.0, 10, 25.0],\n",
       "       [75.0, 3, 5.5],\n",
       "       [25.0, 6, 12.3]], dtype=object)"
      ]
     },
     "execution_count": 28,
     "metadata": {},
     "output_type": "execute_result"
    }
   ],
   "source": [
    "numerical_data"
   ]
  },
  {
   "cell_type": "markdown",
   "metadata": {},
   "source": [
    "----\n",
    "### Create FeatureUnion pipeine for text data "
   ]
  },
  {
   "cell_type": "code",
   "execution_count": 23,
   "metadata": {},
   "outputs": [],
   "source": [
    "vect = CountVectorizer()\n",
    "tfidf = TfidfVectorizer()\n",
    "svd = TruncatedSVD(n_components = 2)\n",
    "\n",
    "# there are 2 independent feature eng pipelines running in parallel \n",
    "\n",
    "# pipeline 1 applys 2 consequcative transformations, i.e. vect then svd\n",
    "pipe_one = Pipeline([(\"tfidf\", TfidfVectorizer()), \n",
    "                     ('svd', TruncatedSVD(n_components = 10))])\n",
    "\n",
    "\n",
    "# pipeline 2 applys 1 transformation, i.e. count vectorizer \n",
    "pipe_two = Pipeline([(\"vect\", CountVectorizer())])\n",
    "\n",
    "transformer_list = [(\"tfidf_svd\", pipe_one), \n",
    "                    (\"vect\", pipe_two) \n",
    "                   ]   \n",
    "\n",
    "union = FeatureUnion(transformer_list, n_jobs=2, verbose=1)"
   ]
  },
  {
   "cell_type": "code",
   "execution_count": 29,
   "metadata": {
    "scrolled": true
   },
   "outputs": [
    {
     "data": {
      "text/plain": [
       "<3x23 sparse matrix of type '<class 'numpy.float64'>'\n",
       "\twith 39 stored elements in Compressed Sparse Row format>"
      ]
     },
     "execution_count": 29,
     "metadata": {},
     "output_type": "execute_result"
    }
   ],
   "source": [
    "text_feat_set = union.fit_transform(text_data)\n",
    "text_feat_set"
   ]
  },
  {
   "cell_type": "markdown",
   "metadata": {},
   "source": [
    "----\n",
    "### Create FeatureUnion pipeline for numerical data"
   ]
  },
  {
   "cell_type": "code",
   "execution_count": 26,
   "metadata": {},
   "outputs": [],
   "source": [
    "# there are 2 independent feature eng pipelines running in parallel \n",
    "\n",
    "# pipeline 1 applys 2 consequcative transformations, i.e. vect then svd\n",
    "pipe_one = Pipeline([(\"minmaxscaler\", MinMaxScaler()), \n",
    "                     ('pca', PCA(n_components = 2))])\n",
    "\n",
    "\n",
    "# pipeline 2 applys 1 transformation, i.e. count vectorizer \n",
    "pipe_two = Pipeline([(\"standardscaler\", StandardScaler())])\n",
    "\n",
    "transformer_list = [(\"scaler_pca\", pipe_one), \n",
    "                    (\"scaler\", pipe_two) \n",
    "                   ]   \n",
    "\n",
    "num_union = FeatureUnion(transformer_list, n_jobs=2, verbose=1)"
   ]
  },
  {
   "cell_type": "code",
   "execution_count": 30,
   "metadata": {},
   "outputs": [
    {
     "data": {
      "text/plain": [
       "array([[ 0.87799794, -0.06322309,  1.06904497,  1.27872403,  1.32815411],\n",
       "       [-0.5377671 , -0.38990404,  0.26726124, -1.16247639, -1.08479668],\n",
       "       [-0.34023084,  0.45312713, -1.33630621, -0.11624764, -0.24335743]])"
      ]
     },
     "execution_count": 30,
     "metadata": {},
     "output_type": "execute_result"
    }
   ],
   "source": [
    "num_feat_set = num_union.fit_transform(numerical_data)\n",
    "num_feat_set"
   ]
  },
  {
   "cell_type": "code",
   "execution_count": 33,
   "metadata": {},
   "outputs": [
    {
     "data": {
      "text/plain": [
       "(3, 23)"
      ]
     },
     "execution_count": 33,
     "metadata": {},
     "output_type": "execute_result"
    }
   ],
   "source": [
    "# sanity check: make sure each dataset as the same number of rows\n",
    "# they are expected to have different number of features \n",
    "text_feat_set.todense().shape"
   ]
  },
  {
   "cell_type": "code",
   "execution_count": 34,
   "metadata": {},
   "outputs": [
    {
     "data": {
      "text/plain": [
       "(3, 5)"
      ]
     },
     "execution_count": 34,
     "metadata": {},
     "output_type": "execute_result"
    }
   ],
   "source": [
    "num_feat_set.shape"
   ]
  },
  {
   "cell_type": "code",
   "execution_count": 36,
   "metadata": {},
   "outputs": [],
   "source": [
    "# join numerical and text features together \n",
    "model_ready_data = np.concatenate((text_feat_set.todense(), num_feat_set), axis=1)"
   ]
  },
  {
   "cell_type": "code",
   "execution_count": 37,
   "metadata": {},
   "outputs": [
    {
     "data": {
      "text/plain": [
       "matrix([[ 0.7059917 ,  0.68635474, -0.17462215,  2.        ,  1.        ,\n",
       "          1.        ,  0.        ,  0.        ,  1.        ,  1.        ,\n",
       "          0.        ,  1.        ,  0.        ,  1.        ,  0.        ,\n",
       "          1.        ,  0.        ,  0.        ,  1.        ,  0.        ,\n",
       "          0.        ,  1.        ,  1.        ,  0.87799794, -0.06322309,\n",
       "          1.06904497,  1.27872403,  1.32815411],\n",
       "        [ 0.77038018, -0.47103563, -0.42969735,  2.        ,  0.        ,\n",
       "          0.        ,  1.        ,  1.        ,  0.        ,  1.        ,\n",
       "          1.        ,  0.        ,  1.        ,  0.        ,  1.        ,\n",
       "          1.        ,  0.        ,  0.        ,  1.        ,  1.        ,\n",
       "          1.        ,  0.        ,  0.        , -0.5377671 , -0.38990404,\n",
       "          0.26726124, -1.16247639, -1.08479668],\n",
       "        [ 0.81834366, -0.14869576,  0.55516054,  2.        ,  0.        ,\n",
       "          0.        ,  1.        ,  1.        ,  0.        ,  2.        ,\n",
       "          0.        ,  1.        ,  0.        ,  0.        ,  0.        ,\n",
       "          1.        ,  1.        ,  1.        ,  0.        ,  0.        ,\n",
       "          0.        ,  0.        ,  0.        , -0.34023084,  0.45312713,\n",
       "         -1.33630621, -0.11624764, -0.24335743]])"
      ]
     },
     "execution_count": 37,
     "metadata": {},
     "output_type": "execute_result"
    }
   ],
   "source": [
    "model_ready_data"
   ]
  }
 ],
 "metadata": {
  "kernelspec": {
   "display_name": "Python 3",
   "language": "python",
   "name": "python3"
  },
  "language_info": {
   "codemirror_mode": {
    "name": "ipython",
    "version": 3
   },
   "file_extension": ".py",
   "mimetype": "text/x-python",
   "name": "python",
   "nbconvert_exporter": "python",
   "pygments_lexer": "ipython3",
   "version": "3.8.5"
  }
 },
 "nbformat": 4,
 "nbformat_minor": 4
}
