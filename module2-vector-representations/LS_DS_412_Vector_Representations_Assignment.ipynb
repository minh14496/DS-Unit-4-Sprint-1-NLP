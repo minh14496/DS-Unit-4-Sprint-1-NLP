{
 "cells": [
  {
   "cell_type": "markdown",
   "metadata": {},
   "source": [
    "<img align=\"left\" src=\"https://lever-client-logos.s3.amazonaws.com/864372b1-534c-480e-acd5-9711f850815c-1524247202159.png\" width=200>\n",
    "<br></br>\n",
    "\n",
    "# Vector Representations\n",
    "## *Data Science Unit 4 Sprint 2 Assignment 2*"
   ]
  },
  {
   "cell_type": "code",
   "execution_count": 6,
   "metadata": {
    "colab": {
     "base_uri": "https://localhost:8080/",
     "height": 159
    },
    "colab_type": "code",
    "id": "hyj-f9FDcVFp",
    "outputId": "5dd045fe-6e4c-458c-e2fc-253c3da9c805"
   },
   "outputs": [],
   "source": [
    "import re\n",
    "from collections import Counter\n",
    "import string\n",
    "\n",
    "from sklearn.feature_extraction.text import CountVectorizer, TfidfVectorizer\n",
    "from sklearn.neighbors import NearestNeighbors\n",
    "import matplotlib.pyplot as plt\n",
    "import squarify\n",
    "import pandas as pd\n",
    "import numpy as np\n",
    "import spacy\n",
    "\n",
    "from bs4 import BeautifulSoup\n",
    "nlp = spacy.load('en_core_web_sm')"
   ]
  },
  {
   "cell_type": "markdown",
   "metadata": {
    "colab_type": "text",
    "id": "M7bcmqfGXrFG"
   },
   "source": [
    "## 1) *Clean:* Job Listings from indeed.com that contain the title \"Data Scientist\" \n",
    "\n",
    "You have `job_listings.csv` in the data folder for this module. The text data in the description column is still messy - full of html tags. Use the [BeautifulSoup](https://www.crummy.com/software/BeautifulSoup/bs4/doc/) library to clean up this column. You will need to read through the documentation to accomplish this task. "
   ]
  },
  {
   "cell_type": "code",
   "execution_count": 7,
   "metadata": {
    "colab": {},
    "colab_type": "code",
    "id": "KcYlc1URXhlC"
   },
   "outputs": [
    {
     "output_type": "execute_result",
     "data": {
      "text/plain": [
       "                                         description  \\\n",
       "0  b\"<div><div>Job Requirements:</div><ul><li><p>...   \n",
       "1  b'<div>Job Description<br/>\\n<br/>\\n<p>As a Da...   \n",
       "2  b'<div><p>As a Data Scientist you will be work...   \n",
       "3  b'<div class=\"jobsearch-JobMetadataHeader icl-...   \n",
       "4  b'<ul><li>Location: USA \\xe2\\x80\\x93 multiple ...   \n",
       "\n",
       "                          title  \n",
       "0               Data scientist   \n",
       "1              Data Scientist I  \n",
       "2  Data Scientist - Entry Level  \n",
       "3                Data Scientist  \n",
       "4                Data Scientist  "
      ],
      "text/html": "<div>\n<style scoped>\n    .dataframe tbody tr th:only-of-type {\n        vertical-align: middle;\n    }\n\n    .dataframe tbody tr th {\n        vertical-align: top;\n    }\n\n    .dataframe thead th {\n        text-align: right;\n    }\n</style>\n<table border=\"1\" class=\"dataframe\">\n  <thead>\n    <tr style=\"text-align: right;\">\n      <th></th>\n      <th>description</th>\n      <th>title</th>\n    </tr>\n  </thead>\n  <tbody>\n    <tr>\n      <th>0</th>\n      <td>b\"&lt;div&gt;&lt;div&gt;Job Requirements:&lt;/div&gt;&lt;ul&gt;&lt;li&gt;&lt;p&gt;...</td>\n      <td>Data scientist</td>\n    </tr>\n    <tr>\n      <th>1</th>\n      <td>b'&lt;div&gt;Job Description&lt;br/&gt;\\n&lt;br/&gt;\\n&lt;p&gt;As a Da...</td>\n      <td>Data Scientist I</td>\n    </tr>\n    <tr>\n      <th>2</th>\n      <td>b'&lt;div&gt;&lt;p&gt;As a Data Scientist you will be work...</td>\n      <td>Data Scientist - Entry Level</td>\n    </tr>\n    <tr>\n      <th>3</th>\n      <td>b'&lt;div class=\"jobsearch-JobMetadataHeader icl-...</td>\n      <td>Data Scientist</td>\n    </tr>\n    <tr>\n      <th>4</th>\n      <td>b'&lt;ul&gt;&lt;li&gt;Location: USA \\xe2\\x80\\x93 multiple ...</td>\n      <td>Data Scientist</td>\n    </tr>\n  </tbody>\n</table>\n</div>"
     },
     "metadata": {},
     "execution_count": 7
    }
   ],
   "source": [
    "from bs4 import BeautifulSoup\n",
    "import requests\n",
    "##### Your Code Here #####            \n",
    "df = pd.read_csv('data/job_listings.csv', index_col=0)\n",
    "df.head()"
   ]
  },
  {
   "cell_type": "code",
   "execution_count": 8,
   "metadata": {},
   "outputs": [
    {
     "output_type": "stream",
     "name": "stdout",
     "text": [
      "whatever this istest thisdang\n"
     ]
    },
    {
     "output_type": "execute_result",
     "data": {
      "text/plain": [
       "['whatever this is', 'test this', 'dang']"
      ]
     },
     "metadata": {},
     "execution_count": 8
    }
   ],
   "source": [
    "soup = BeautifulSoup(\"<div>\\nwhatever this is<li>\\ntest this \\n</li> dang \\n</div>\")\n",
    "print(soup.get_text(strip=True))\n",
    "[text for text in soup.stripped_strings] # this can be a good way to do it"
   ]
  },
  {
   "cell_type": "code",
   "execution_count": 18,
   "metadata": {},
   "outputs": [
    {
     "output_type": "execute_result",
     "data": {
      "text/plain": [
       "'hello\\\\r\\\\n'"
      ]
     },
     "metadata": {},
     "execution_count": 18
    }
   ],
   "source": [
    "b'hello\\\\r\\\\n'.decode('utf-8')"
   ]
  },
  {
   "cell_type": "code",
   "execution_count": 35,
   "metadata": {},
   "outputs": [],
   "source": [
    "a = b\"Job Requirements:\\\\nConceptual understanding in Machine Learning models like Nai\\\\xc2\\\\xa8ve Bayes\".decode('unicode_escape')\n",
    "b = \"Job Requirements:\\\\nConceptual understanding in Machine Learning models like Nai\\\\xc2\\\\xa8ve Bayes\".encode().decode('unicode_escape')\n",
    "c = b\"Job Requirements:\\nConceptual understanding in Machine Learning models like Nai\\xc2\\xa8ve Bayes\".decode('utf-8')"
   ]
  },
  {
   "cell_type": "code",
   "execution_count": 36,
   "metadata": {},
   "outputs": [
    {
     "output_type": "execute_result",
     "data": {
      "text/plain": [
       "'Job Requirements:\\nConceptual understanding in Machine Learning models like NaiÂ¨ve Bayes'"
      ]
     },
     "metadata": {},
     "execution_count": 36
    }
   ],
   "source": [
    "b"
   ]
  },
  {
   "cell_type": "code",
   "execution_count": 30,
   "metadata": {},
   "outputs": [
    {
     "output_type": "execute_result",
     "data": {
      "text/plain": [
       "Job Requirements:\\nConceptual understanding in Machine Learning models like Nai\\xc2\\xa8ve Bayes"
      ]
     },
     "metadata": {},
     "execution_count": 30
    }
   ],
   "source": [
    "nlp(c)"
   ]
  },
  {
   "cell_type": "code",
   "execution_count": 7,
   "metadata": {},
   "outputs": [
    {
     "output_type": "execute_result",
     "data": {
      "text/plain": [
       "'b\"Job Requirements:\\\\nConceptual understanding in Machine Learning models like Nai\\\\xc2\\\\xa8ve Bayes, K-Means, SVM, Apriori, Linear/ Logistic Regression, Neural, Random Forests, Decision Trees, K-NN along with hands-on experience in at least 2 of them\\\\nIntermediate to expert level coding skills in Python/R. (Ability to write functions, clean and efficient data manipulation are mandatory for this role)\\\\nExposure to packages like NumPy, SciPy, Pandas, Matplotlib etc in Python or GGPlot2, dplyr, tidyR in R\\\\nAbility to communicate Model findings to both Technical and Non-Technical stake holders\\\\nHands on experience in SQL/Hive or similar programming language\\\\nMust show past work via GitHub, Kaggle or any other published article\\\\nMaster\\'s degree in Statistics/Mathematics/Computer Science or any other quant specific field.\\\\nApply Now\"'"
      ]
     },
     "metadata": {},
     "execution_count": 7
    }
   ],
   "source": [
    "soup = BeautifulSoup(df['description'][0])\n",
    "soup.get_text()"
   ]
  },
  {
   "cell_type": "code",
   "execution_count": 192,
   "metadata": {},
   "outputs": [
    {
     "output_type": "stream",
     "name": "stdout",
     "text": [
      "Job Requirements Conceptual understanding in Machine Learning models like Nai xc xa ve Bayes K Means SVM Apriori Linear Logistic Regression Neural Random Forests Decision Trees K NN along with hands on experience in at least  of them Intermediate to expert level coding skills in Python R  Ability to write functions clean and efficient data manipulation are mandatory for this role Exposure to packages like NumPy SciPy Pandas Matplotlib etc in Python or GGPlot  dplyr tidyR in R Ability to communicate Model findings to both Technical and Non Technical stake holders Hands on experience in SQL Hive or similar programming language Must show past work via GitHub Kaggle or any other published article Master s degree in Statistics Mathematics Computer Science or any other quant specific field Apply Now\n"
     ]
    }
   ],
   "source": [
    "# to get rid of the leading b\" and trailing \" [2:-1]\n",
    "soup = BeautifulSoup(df['description'][0][2:-1])\n",
    "# .get_text() to get the text or using .text\n",
    "src_string = soup.get_text() # get_text(strip=True) can strip new line from text \\n but for this assignment \\\\n doesn't work\n",
    "# use regex to strip out the \\\\n not working on regex101 don't know why work here\n",
    "pattern = r'\\\\n' \n",
    "# Replace all occurrences of character \\\\n with space\n",
    "mod_string = re.sub(pattern, ' ', src_string )\n",
    "mod_string = re.sub(r'[^a-zA-Z ]', ' ', mod_string)\n",
    "print(mod_string.replace(\"  \", \" \"))"
   ]
  },
  {
   "cell_type": "markdown",
   "metadata": {
    "colab_type": "text",
    "id": "5C4xFZNtX1m2"
   },
   "source": [
    "## 2) Use Spacy to tokenize the listings "
   ]
  },
  {
   "cell_type": "code",
   "execution_count": 193,
   "metadata": {
    "colab": {},
    "colab_type": "code",
    "id": "dhUHuMr-X-II"
   },
   "outputs": [],
   "source": [
    "##### Your Code Here #####\n",
    "def clean_text(doc):\n",
    "    # to get rid of the leading b\" and trailing \" [2:-1]\n",
    "    soup = BeautifulSoup(doc[2:-1])\n",
    "    # .get_text() to get the text or using .text\n",
    "    text_out = soup.get_text()\n",
    "    # use regex to strip out the \\\\n not working on regex101 don't know why work here\n",
    "    pattern = r'\\\\n' \n",
    "    # Replace all occurrences of character \\\\n with space\n",
    "    clean_doc = re.sub(pattern, ' ', text_out).strip()\n",
    "    clean_doc = re.sub(r'[^a-zA-Z ]', ' ', clean_doc).strip()\n",
    "    return clean_doc.replace(\"  \", \" \")\n",
    "\n",
    "df['clean_text'] = df['description'].apply(clean_text)"
   ]
  },
  {
   "cell_type": "code",
   "execution_count": 194,
   "metadata": {},
   "outputs": [],
   "source": [
    "def count(tokens):\n",
    "    \"\"\"\n",
    "    Calculates some basic statistics about tokens in our corpus (i.e. corpus means collections text data)\n",
    "    \"\"\"\n",
    "    # stores the count of each token\n",
    "    word_counts = Counter()\n",
    "    \n",
    "    # stores the number of docs that each token appears in \n",
    "    appears_in = Counter()\n",
    "\n",
    "    total_docs = len(tokens)\n",
    "\n",
    "    for token in tokens:\n",
    "        # stores count of every appearance of a token \n",
    "        word_counts.update(token)\n",
    "        # use set() in order to not count duplicates, thereby count the num of docs that each token appears in\n",
    "        appears_in.update(set(token))\n",
    "\n",
    "    # build word count dataframe\n",
    "    temp = zip(word_counts.keys(), word_counts.values())\n",
    "    wc = pd.DataFrame(temp, columns = ['word', 'count'])\n",
    "\n",
    "    # rank the the word counts\n",
    "    wc['rank'] = wc['count'].rank(method='first', ascending=False)\n",
    "    total = wc['count'].sum()\n",
    "\n",
    "    # calculate the percent total of each token\n",
    "    wc['pct_total'] = wc['count'].apply(lambda token_count: token_count / total * 100)\n",
    "\n",
    "    # calculate the cumulative percent total of word counts \n",
    "    wc = wc.sort_values(by='rank')\n",
    "    wc['cul_pct_total'] = wc['pct_total'].cumsum()\n",
    "\n",
    "    # create dataframe for document stats\n",
    "    t2 = zip(appears_in.keys(), appears_in.values())\n",
    "    ac = pd.DataFrame(t2, columns=['word', 'appears_in'])\n",
    "    \n",
    "    # merge word count stats with doc stats\n",
    "    wc = ac.merge(wc, on='word')\n",
    "\n",
    "    wc['appears_in_pct'] = wc['appears_in'].apply(lambda x: x / total_docs * 100)\n",
    "\n",
    "    return wc.sort_values(by='rank')"
   ]
  },
  {
   "cell_type": "code",
   "execution_count": 195,
   "metadata": {},
   "outputs": [],
   "source": [
    "STOP_WORDS = nlp.Defaults.stop_words.union(['nt', 'm', 've', 's','usa', 'xe', 'x', 'xbb', 'xa', 'xae', 'xb', 'xcc'])\n",
    "# nested list that stores all tokens from all docs\n",
    "tokens = []\n",
    "for doc in nlp.pipe(df['clean_text']):\n",
    "    \n",
    "    # store tokens from individual docs\n",
    "    doc_tokens = []\n",
    "\n",
    "    # iter through the tokens of the doc\n",
    "    for token in doc:\n",
    "        # provide stopword and punctuation filters on our tokens\n",
    "        if ((token.is_punct == False) and (token.text.lower() not in STOP_WORDS) and (token.pos_ != 'PRON')):\n",
    "            # store doc's tokens in list\n",
    "            # case normalize our tokens\n",
    "            doc_tokens.append(token.lemma_.lower().strip())\n",
    "\n",
    "    # store doc_tokens in our master list    \n",
    "    tokens.append(doc_tokens)"
   ]
  },
  {
   "cell_type": "code",
   "execution_count": 196,
   "metadata": {},
   "outputs": [],
   "source": [
    "df['tokens'] = tokens\n"
   ]
  },
  {
   "cell_type": "code",
   "execution_count": 197,
   "metadata": {},
   "outputs": [
    {
     "output_type": "execute_result",
     "data": {
      "text/plain": [
       "                                         description  \\\n",
       "0  b\"<div><div>Job Requirements:</div><ul><li><p>...   \n",
       "1  b'<div>Job Description<br/>\\n<br/>\\n<p>As a Da...   \n",
       "2  b'<div><p>As a Data Scientist you will be work...   \n",
       "3  b'<div class=\"jobsearch-JobMetadataHeader icl-...   \n",
       "4  b'<ul><li>Location: USA \\xe2\\x80\\x93 multiple ...   \n",
       "\n",
       "                          title  \\\n",
       "0               Data scientist    \n",
       "1              Data Scientist I   \n",
       "2  Data Scientist - Entry Level   \n",
       "3                Data Scientist   \n",
       "4                Data Scientist   \n",
       "\n",
       "                                          clean_text  \\\n",
       "0  Job Requirements Conceptual understanding in M...   \n",
       "1  Job Description As a Data Scientist  you will ...   \n",
       "2  As a Data Scientist you will be working on con...   \n",
       "3  a monthContractUnder the general supervision o...   \n",
       "4  Location USA xe x  x  multiple locations  year...   \n",
       "\n",
       "                                              tokens  \n",
       "0  [job, requirements, conceptual, understanding,...  \n",
       "1  [job, description, data, scientist, , help, bu...  \n",
       "2  [data, scientist, work, consult, business, res...  \n",
       "3  [monthcontractunder, general, supervision, pro...  \n",
       "4  [location, , , multiple, location, , year, ana...  "
      ],
      "text/html": "<div>\n<style scoped>\n    .dataframe tbody tr th:only-of-type {\n        vertical-align: middle;\n    }\n\n    .dataframe tbody tr th {\n        vertical-align: top;\n    }\n\n    .dataframe thead th {\n        text-align: right;\n    }\n</style>\n<table border=\"1\" class=\"dataframe\">\n  <thead>\n    <tr style=\"text-align: right;\">\n      <th></th>\n      <th>description</th>\n      <th>title</th>\n      <th>clean_text</th>\n      <th>tokens</th>\n    </tr>\n  </thead>\n  <tbody>\n    <tr>\n      <th>0</th>\n      <td>b\"&lt;div&gt;&lt;div&gt;Job Requirements:&lt;/div&gt;&lt;ul&gt;&lt;li&gt;&lt;p&gt;...</td>\n      <td>Data scientist</td>\n      <td>Job Requirements Conceptual understanding in M...</td>\n      <td>[job, requirements, conceptual, understanding,...</td>\n    </tr>\n    <tr>\n      <th>1</th>\n      <td>b'&lt;div&gt;Job Description&lt;br/&gt;\\n&lt;br/&gt;\\n&lt;p&gt;As a Da...</td>\n      <td>Data Scientist I</td>\n      <td>Job Description As a Data Scientist  you will ...</td>\n      <td>[job, description, data, scientist, , help, bu...</td>\n    </tr>\n    <tr>\n      <th>2</th>\n      <td>b'&lt;div&gt;&lt;p&gt;As a Data Scientist you will be work...</td>\n      <td>Data Scientist - Entry Level</td>\n      <td>As a Data Scientist you will be working on con...</td>\n      <td>[data, scientist, work, consult, business, res...</td>\n    </tr>\n    <tr>\n      <th>3</th>\n      <td>b'&lt;div class=\"jobsearch-JobMetadataHeader icl-...</td>\n      <td>Data Scientist</td>\n      <td>a monthContractUnder the general supervision o...</td>\n      <td>[monthcontractunder, general, supervision, pro...</td>\n    </tr>\n    <tr>\n      <th>4</th>\n      <td>b'&lt;ul&gt;&lt;li&gt;Location: USA \\xe2\\x80\\x93 multiple ...</td>\n      <td>Data Scientist</td>\n      <td>Location USA xe x  x  multiple locations  year...</td>\n      <td>[location, , , multiple, location, , year, ana...</td>\n    </tr>\n  </tbody>\n</table>\n</div>"
     },
     "metadata": {},
     "execution_count": 197
    }
   ],
   "source": [
    "df.head()"
   ]
  },
  {
   "cell_type": "code",
   "execution_count": 198,
   "metadata": {},
   "outputs": [],
   "source": [
    "wc = count(df['tokens'])"
   ]
  },
  {
   "cell_type": "code",
   "execution_count": 199,
   "metadata": {},
   "outputs": [
    {
     "output_type": "execute_result",
     "data": {
      "text/plain": [
       "           word  appears_in  count  rank  pct_total  cul_pct_total  \\\n",
       "0                       420   6434   1.0   4.601104       4.601104   \n",
       "118       datum         410   2685   2.0   1.920106       6.521211   \n",
       "16   experience         408   1958   3.0   1.400212       7.921422   \n",
       "11         data         397   1781   4.0   1.273635       9.195057   \n",
       "28         work         385   1641   5.0   1.173518      10.368575   \n",
       "99         team         370   1371   6.0   0.980434      11.349009   \n",
       "200    business         325   1263   7.0   0.903201      12.252210   \n",
       "14      science         342    969   8.0   0.692955      12.945164   \n",
       "26        model         292    917   9.0   0.655768      13.600933   \n",
       "155     product         275    885  10.0   0.632884      14.233817   \n",
       "\n",
       "     appears_in_pct  \n",
       "0         98.591549  \n",
       "118       96.244131  \n",
       "16        95.774648  \n",
       "11        93.192488  \n",
       "28        90.375587  \n",
       "99        86.854460  \n",
       "200       76.291080  \n",
       "14        80.281690  \n",
       "26        68.544601  \n",
       "155       64.553991  "
      ],
      "text/html": "<div>\n<style scoped>\n    .dataframe tbody tr th:only-of-type {\n        vertical-align: middle;\n    }\n\n    .dataframe tbody tr th {\n        vertical-align: top;\n    }\n\n    .dataframe thead th {\n        text-align: right;\n    }\n</style>\n<table border=\"1\" class=\"dataframe\">\n  <thead>\n    <tr style=\"text-align: right;\">\n      <th></th>\n      <th>word</th>\n      <th>appears_in</th>\n      <th>count</th>\n      <th>rank</th>\n      <th>pct_total</th>\n      <th>cul_pct_total</th>\n      <th>appears_in_pct</th>\n    </tr>\n  </thead>\n  <tbody>\n    <tr>\n      <th>0</th>\n      <td></td>\n      <td>420</td>\n      <td>6434</td>\n      <td>1.0</td>\n      <td>4.601104</td>\n      <td>4.601104</td>\n      <td>98.591549</td>\n    </tr>\n    <tr>\n      <th>118</th>\n      <td>datum</td>\n      <td>410</td>\n      <td>2685</td>\n      <td>2.0</td>\n      <td>1.920106</td>\n      <td>6.521211</td>\n      <td>96.244131</td>\n    </tr>\n    <tr>\n      <th>16</th>\n      <td>experience</td>\n      <td>408</td>\n      <td>1958</td>\n      <td>3.0</td>\n      <td>1.400212</td>\n      <td>7.921422</td>\n      <td>95.774648</td>\n    </tr>\n    <tr>\n      <th>11</th>\n      <td>data</td>\n      <td>397</td>\n      <td>1781</td>\n      <td>4.0</td>\n      <td>1.273635</td>\n      <td>9.195057</td>\n      <td>93.192488</td>\n    </tr>\n    <tr>\n      <th>28</th>\n      <td>work</td>\n      <td>385</td>\n      <td>1641</td>\n      <td>5.0</td>\n      <td>1.173518</td>\n      <td>10.368575</td>\n      <td>90.375587</td>\n    </tr>\n    <tr>\n      <th>99</th>\n      <td>team</td>\n      <td>370</td>\n      <td>1371</td>\n      <td>6.0</td>\n      <td>0.980434</td>\n      <td>11.349009</td>\n      <td>86.854460</td>\n    </tr>\n    <tr>\n      <th>200</th>\n      <td>business</td>\n      <td>325</td>\n      <td>1263</td>\n      <td>7.0</td>\n      <td>0.903201</td>\n      <td>12.252210</td>\n      <td>76.291080</td>\n    </tr>\n    <tr>\n      <th>14</th>\n      <td>science</td>\n      <td>342</td>\n      <td>969</td>\n      <td>8.0</td>\n      <td>0.692955</td>\n      <td>12.945164</td>\n      <td>80.281690</td>\n    </tr>\n    <tr>\n      <th>26</th>\n      <td>model</td>\n      <td>292</td>\n      <td>917</td>\n      <td>9.0</td>\n      <td>0.655768</td>\n      <td>13.600933</td>\n      <td>68.544601</td>\n    </tr>\n    <tr>\n      <th>155</th>\n      <td>product</td>\n      <td>275</td>\n      <td>885</td>\n      <td>10.0</td>\n      <td>0.632884</td>\n      <td>14.233817</td>\n      <td>64.553991</td>\n    </tr>\n  </tbody>\n</table>\n</div>"
     },
     "metadata": {},
     "execution_count": 199
    }
   ],
   "source": [
    "wc.head(10)"
   ]
  },
  {
   "cell_type": "markdown",
   "metadata": {
    "colab_type": "text",
    "id": "-lgCZNL_YycP"
   },
   "source": [
    "## 3) Use Scikit-Learn's CountVectorizer to get word counts for each listing."
   ]
  },
  {
   "cell_type": "code",
   "execution_count": 200,
   "metadata": {
    "colab": {},
    "colab_type": "code",
    "id": "X2PZ8Pj_YxcF"
   },
   "outputs": [],
   "source": [
    "##### Your Code Here #####\n",
    "# instantiate the vectorizer\n",
    "vect = CountVectorizer(stop_words=\"english\", max_features=1000)\n",
    "\n",
    "# learn BCC dataset vocab\n",
    "vect.fit(df['clean_text'])\n",
    "\n",
    "# create dtm for BCC dataset\n",
    "dtm = vect.transform(df['clean_text'])\n",
    "\n",
    "dtm = pd.DataFrame(data=dtm.toarray(),  columns=vect.get_feature_names())"
   ]
  },
  {
   "cell_type": "code",
   "execution_count": 201,
   "metadata": {},
   "outputs": [
    {
     "output_type": "execute_result",
     "data": {
      "text/plain": [
       "     abilities  ability  able  academic  access  accommodation  \\\n",
       "0            0        2     0         0       0              0   \n",
       "1            0        1     0         0       0              0   \n",
       "2            0        1     0         0       0              0   \n",
       "3            0        0     0         0       0              0   \n",
       "4            0        0     0         0       0              0   \n",
       "..         ...      ...   ...       ...     ...            ...   \n",
       "421          0        2     0         0       0              0   \n",
       "422          0        0     0         0       0              0   \n",
       "423          0        0     0         0       0              0   \n",
       "424          0        0     2         0       0              0   \n",
       "425          0        0     0         0       0              0   \n",
       "\n",
       "     accommodations  accuracy  achieve  acquisition  ...  xa  xae  xb  xbb  \\\n",
       "0                 0         0        0            0  ...   1    0   0    0   \n",
       "1                 0         1        0            0  ...   2    0   0    0   \n",
       "2                 0         0        0            0  ...   0    0   0    0   \n",
       "3                 0         0        0            0  ...   0    0   0    0   \n",
       "4                 0         0        0            0  ...   0    0   0    0   \n",
       "..              ...       ...      ...          ...  ...  ..  ...  ..  ...   \n",
       "421               0         0        0            0  ...   0    0   0    0   \n",
       "422               0         0        0            0  ...   0    0   0    0   \n",
       "423               0         0        0            0  ...   0    0   0    0   \n",
       "424               0         0        0            0  ...   0    0   0    0   \n",
       "425               0         0        1            0  ...   0    0   0    0   \n",
       "\n",
       "     xc  xe  xef  year  years  york  \n",
       "0     1   0    0     0      0     0  \n",
       "1     0   8    0     1      0     0  \n",
       "2     0   0    0     0      0     0  \n",
       "3     0   0    0     1      0     0  \n",
       "4     0   1    0     0      1     0  \n",
       "..   ..  ..  ...   ...    ...   ...  \n",
       "421   0   4    0     2      3     1  \n",
       "422   0   1    0     0      0     0  \n",
       "423   0   1    0     1      0     0  \n",
       "424   0   2    0     0      1     0  \n",
       "425   0   5    0     0      2     0  \n",
       "\n",
       "[426 rows x 1000 columns]"
      ],
      "text/html": "<div>\n<style scoped>\n    .dataframe tbody tr th:only-of-type {\n        vertical-align: middle;\n    }\n\n    .dataframe tbody tr th {\n        vertical-align: top;\n    }\n\n    .dataframe thead th {\n        text-align: right;\n    }\n</style>\n<table border=\"1\" class=\"dataframe\">\n  <thead>\n    <tr style=\"text-align: right;\">\n      <th></th>\n      <th>abilities</th>\n      <th>ability</th>\n      <th>able</th>\n      <th>academic</th>\n      <th>access</th>\n      <th>accommodation</th>\n      <th>accommodations</th>\n      <th>accuracy</th>\n      <th>achieve</th>\n      <th>acquisition</th>\n      <th>...</th>\n      <th>xa</th>\n      <th>xae</th>\n      <th>xb</th>\n      <th>xbb</th>\n      <th>xc</th>\n      <th>xe</th>\n      <th>xef</th>\n      <th>year</th>\n      <th>years</th>\n      <th>york</th>\n    </tr>\n  </thead>\n  <tbody>\n    <tr>\n      <th>0</th>\n      <td>0</td>\n      <td>2</td>\n      <td>0</td>\n      <td>0</td>\n      <td>0</td>\n      <td>0</td>\n      <td>0</td>\n      <td>0</td>\n      <td>0</td>\n      <td>0</td>\n      <td>...</td>\n      <td>1</td>\n      <td>0</td>\n      <td>0</td>\n      <td>0</td>\n      <td>1</td>\n      <td>0</td>\n      <td>0</td>\n      <td>0</td>\n      <td>0</td>\n      <td>0</td>\n    </tr>\n    <tr>\n      <th>1</th>\n      <td>0</td>\n      <td>1</td>\n      <td>0</td>\n      <td>0</td>\n      <td>0</td>\n      <td>0</td>\n      <td>0</td>\n      <td>1</td>\n      <td>0</td>\n      <td>0</td>\n      <td>...</td>\n      <td>2</td>\n      <td>0</td>\n      <td>0</td>\n      <td>0</td>\n      <td>0</td>\n      <td>8</td>\n      <td>0</td>\n      <td>1</td>\n      <td>0</td>\n      <td>0</td>\n    </tr>\n    <tr>\n      <th>2</th>\n      <td>0</td>\n      <td>1</td>\n      <td>0</td>\n      <td>0</td>\n      <td>0</td>\n      <td>0</td>\n      <td>0</td>\n      <td>0</td>\n      <td>0</td>\n      <td>0</td>\n      <td>...</td>\n      <td>0</td>\n      <td>0</td>\n      <td>0</td>\n      <td>0</td>\n      <td>0</td>\n      <td>0</td>\n      <td>0</td>\n      <td>0</td>\n      <td>0</td>\n      <td>0</td>\n    </tr>\n    <tr>\n      <th>3</th>\n      <td>0</td>\n      <td>0</td>\n      <td>0</td>\n      <td>0</td>\n      <td>0</td>\n      <td>0</td>\n      <td>0</td>\n      <td>0</td>\n      <td>0</td>\n      <td>0</td>\n      <td>...</td>\n      <td>0</td>\n      <td>0</td>\n      <td>0</td>\n      <td>0</td>\n      <td>0</td>\n      <td>0</td>\n      <td>0</td>\n      <td>1</td>\n      <td>0</td>\n      <td>0</td>\n    </tr>\n    <tr>\n      <th>4</th>\n      <td>0</td>\n      <td>0</td>\n      <td>0</td>\n      <td>0</td>\n      <td>0</td>\n      <td>0</td>\n      <td>0</td>\n      <td>0</td>\n      <td>0</td>\n      <td>0</td>\n      <td>...</td>\n      <td>0</td>\n      <td>0</td>\n      <td>0</td>\n      <td>0</td>\n      <td>0</td>\n      <td>1</td>\n      <td>0</td>\n      <td>0</td>\n      <td>1</td>\n      <td>0</td>\n    </tr>\n    <tr>\n      <th>...</th>\n      <td>...</td>\n      <td>...</td>\n      <td>...</td>\n      <td>...</td>\n      <td>...</td>\n      <td>...</td>\n      <td>...</td>\n      <td>...</td>\n      <td>...</td>\n      <td>...</td>\n      <td>...</td>\n      <td>...</td>\n      <td>...</td>\n      <td>...</td>\n      <td>...</td>\n      <td>...</td>\n      <td>...</td>\n      <td>...</td>\n      <td>...</td>\n      <td>...</td>\n      <td>...</td>\n    </tr>\n    <tr>\n      <th>421</th>\n      <td>0</td>\n      <td>2</td>\n      <td>0</td>\n      <td>0</td>\n      <td>0</td>\n      <td>0</td>\n      <td>0</td>\n      <td>0</td>\n      <td>0</td>\n      <td>0</td>\n      <td>...</td>\n      <td>0</td>\n      <td>0</td>\n      <td>0</td>\n      <td>0</td>\n      <td>0</td>\n      <td>4</td>\n      <td>0</td>\n      <td>2</td>\n      <td>3</td>\n      <td>1</td>\n    </tr>\n    <tr>\n      <th>422</th>\n      <td>0</td>\n      <td>0</td>\n      <td>0</td>\n      <td>0</td>\n      <td>0</td>\n      <td>0</td>\n      <td>0</td>\n      <td>0</td>\n      <td>0</td>\n      <td>0</td>\n      <td>...</td>\n      <td>0</td>\n      <td>0</td>\n      <td>0</td>\n      <td>0</td>\n      <td>0</td>\n      <td>1</td>\n      <td>0</td>\n      <td>0</td>\n      <td>0</td>\n      <td>0</td>\n    </tr>\n    <tr>\n      <th>423</th>\n      <td>0</td>\n      <td>0</td>\n      <td>0</td>\n      <td>0</td>\n      <td>0</td>\n      <td>0</td>\n      <td>0</td>\n      <td>0</td>\n      <td>0</td>\n      <td>0</td>\n      <td>...</td>\n      <td>0</td>\n      <td>0</td>\n      <td>0</td>\n      <td>0</td>\n      <td>0</td>\n      <td>1</td>\n      <td>0</td>\n      <td>1</td>\n      <td>0</td>\n      <td>0</td>\n    </tr>\n    <tr>\n      <th>424</th>\n      <td>0</td>\n      <td>0</td>\n      <td>2</td>\n      <td>0</td>\n      <td>0</td>\n      <td>0</td>\n      <td>0</td>\n      <td>0</td>\n      <td>0</td>\n      <td>0</td>\n      <td>...</td>\n      <td>0</td>\n      <td>0</td>\n      <td>0</td>\n      <td>0</td>\n      <td>0</td>\n      <td>2</td>\n      <td>0</td>\n      <td>0</td>\n      <td>1</td>\n      <td>0</td>\n    </tr>\n    <tr>\n      <th>425</th>\n      <td>0</td>\n      <td>0</td>\n      <td>0</td>\n      <td>0</td>\n      <td>0</td>\n      <td>0</td>\n      <td>0</td>\n      <td>0</td>\n      <td>1</td>\n      <td>0</td>\n      <td>...</td>\n      <td>0</td>\n      <td>0</td>\n      <td>0</td>\n      <td>0</td>\n      <td>0</td>\n      <td>5</td>\n      <td>0</td>\n      <td>0</td>\n      <td>2</td>\n      <td>0</td>\n    </tr>\n  </tbody>\n</table>\n<p>426 rows × 1000 columns</p>\n</div>"
     },
     "metadata": {},
     "execution_count": 201
    }
   ],
   "source": [
    "dtm"
   ]
  },
  {
   "cell_type": "markdown",
   "metadata": {
    "colab_type": "text",
    "id": "Zo1iH_UeY7_n"
   },
   "source": [
    "## 4) Visualize the most common word counts"
   ]
  },
  {
   "cell_type": "code",
   "execution_count": 202,
   "metadata": {
    "colab": {},
    "colab_type": "code",
    "id": "M5LB00uyZKV5"
   },
   "outputs": [
    {
     "output_type": "display_data",
     "data": {
      "text/plain": "<Figure size 432x288 with 1 Axes>",
      "image/svg+xml": "<?xml version=\"1.0\" encoding=\"utf-8\" standalone=\"no\"?>\n<!DOCTYPE svg PUBLIC \"-//W3C//DTD SVG 1.1//EN\"\n  \"http://www.w3.org/Graphics/SVG/1.1/DTD/svg11.dtd\">\n<svg height=\"231.84pt\" version=\"1.1\" viewBox=\"0 0 355.68292 231.84\" width=\"355.68292pt\" xmlns=\"http://www.w3.org/2000/svg\" xmlns:xlink=\"http://www.w3.org/1999/xlink\">\n <metadata>\n  <rdf:RDF xmlns:cc=\"http://creativecommons.org/ns#\" xmlns:dc=\"http://purl.org/dc/elements/1.1/\" xmlns:rdf=\"http://www.w3.org/1999/02/22-rdf-syntax-ns#\">\n   <cc:Work>\n    <dc:type rdf:resource=\"http://purl.org/dc/dcmitype/StillImage\"/>\n    <dc:date>2021-06-01T23:20:39.112765</dc:date>\n    <dc:format>image/svg+xml</dc:format>\n    <dc:creator>\n     <cc:Agent>\n      <dc:title>Matplotlib v3.4.2, https://matplotlib.org/</dc:title>\n     </cc:Agent>\n    </dc:creator>\n   </cc:Work>\n  </rdf:RDF>\n </metadata>\n <defs>\n  <style type=\"text/css\">*{stroke-linecap:butt;stroke-linejoin:round;}</style>\n </defs>\n <g id=\"figure_1\">\n  <g id=\"patch_1\">\n   <path d=\"M 0 231.84 \nL 355.68292 231.84 \nL 355.68292 0 \nL 0 0 \nz\n\" style=\"fill:none;\"/>\n  </g>\n  <g id=\"axes_1\">\n   <g id=\"patch_2\">\n    <path clip-path=\"url(#p87d0fdbff4)\" d=\"M 7.2 224.64 \nL 123.324955 224.64 \nL 123.324955 71.223073 \nL 7.2 71.223073 \nz\n\" style=\"fill:#3e4989;opacity:0.8;\"/>\n   </g>\n   <g id=\"patch_3\">\n    <path clip-path=\"url(#p87d0fdbff4)\" d=\"M 7.2 71.223073 \nL 123.324955 71.223073 \nL 123.324955 7.2 \nL 7.2 7.2 \nz\n\" style=\"fill:#472c7a;opacity:0.8;\"/>\n   </g>\n   <g id=\"patch_4\">\n    <path clip-path=\"url(#p87d0fdbff4)\" d=\"M 123.324955 224.64 \nL 237.838391 224.64 \nL 237.838391 177.29501 \nL 123.324955 177.29501 \nz\n\" style=\"fill:#4ac16d;opacity:0.8;\"/>\n   </g>\n   <g id=\"patch_5\">\n    <path clip-path=\"url(#p87d0fdbff4)\" d=\"M 237.838391 224.64 \nL 342 224.64 \nL 342 177.29501 \nL 237.838391 177.29501 \nz\n\" style=\"fill:#3e4c8a;opacity:0.8;\"/>\n   </g>\n   <g id=\"patch_6\">\n    <path clip-path=\"url(#p87d0fdbff4)\" d=\"M 123.324955 177.29501 \nL 207.265481 177.29501 \nL 207.265481 123.162935 \nL 123.324955 123.162935 \nz\n\" style=\"fill:#46337f;opacity:0.8;\"/>\n   </g>\n   <g id=\"patch_7\">\n    <path clip-path=\"url(#p87d0fdbff4)\" d=\"M 207.265481 177.29501 \nL 277.394952 177.29501 \nL 277.394952 123.162935 \nL 207.265481 123.162935 \nz\n\" style=\"fill:#3b518b;opacity:0.8;\"/>\n   </g>\n   <g id=\"patch_8\">\n    <path clip-path=\"url(#p87d0fdbff4)\" d=\"M 277.394952 177.29501 \nL 342 177.29501 \nL 342 123.162935 \nL 277.394952 123.162935 \nz\n\" style=\"fill:#481467;opacity:0.8;\"/>\n   </g>\n   <g id=\"patch_9\">\n    <path clip-path=\"url(#p87d0fdbff4)\" d=\"M 123.324955 123.162935 \nL 189.49099 123.162935 \nL 189.49099 82.611479 \nL 123.324955 82.611479 \nz\n\" style=\"fill:#31b57b;opacity:0.8;\"/>\n   </g>\n   <g id=\"patch_10\">\n    <path clip-path=\"url(#p87d0fdbff4)\" d=\"M 123.324955 82.611479 \nL 189.49099 82.611479 \nL 189.49099 44.236159 \nL 123.324955 44.236159 \nz\n\" style=\"fill:#482475;opacity:0.8;\"/>\n   </g>\n   <g id=\"patch_11\">\n    <path clip-path=\"url(#p87d0fdbff4)\" d=\"M 123.324955 44.236159 \nL 189.49099 44.236159 \nL 189.49099 7.2 \nL 123.324955 7.2 \nz\n\" style=\"fill:#e2e418;opacity:0.8;\"/>\n   </g>\n   <g id=\"patch_12\">\n    <path clip-path=\"url(#p87d0fdbff4)\" d=\"M 189.49099 123.162935 \nL 245.283516 123.162935 \nL 245.283516 84.054721 \nL 189.49099 84.054721 \nz\n\" style=\"fill:#1e9b8a;opacity:0.8;\"/>\n   </g>\n   <g id=\"patch_13\">\n    <path clip-path=\"url(#p87d0fdbff4)\" d=\"M 245.283516 123.162935 \nL 295.199417 123.162935 \nL 295.199417 84.054721 \nL 245.283516 84.054721 \nz\n\" style=\"fill:#34608d;opacity:0.8;\"/>\n   </g>\n   <g id=\"patch_14\">\n    <path clip-path=\"url(#p87d0fdbff4)\" d=\"M 295.199417 123.162935 \nL 342 123.162935 \nL 342 84.054721 \nL 295.199417 84.054721 \nz\n\" style=\"fill:#2e6e8e;opacity:0.8;\"/>\n   </g>\n   <g id=\"patch_15\">\n    <path clip-path=\"url(#p87d0fdbff4)\" d=\"M 189.49099 84.054721 \nL 234.742896 84.054721 \nL 234.742896 45.627361 \nL 189.49099 45.627361 \nz\n\" style=\"fill:#1fa287;opacity:0.8;\"/>\n   </g>\n   <g id=\"patch_16\">\n    <path clip-path=\"url(#p87d0fdbff4)\" d=\"M 189.49099 45.627361 \nL 234.742896 45.627361 \nL 234.742896 7.2 \nL 189.49099 7.2 \nz\n\" style=\"fill:#472c7a;opacity:0.8;\"/>\n   </g>\n   <g id=\"patch_17\">\n    <path clip-path=\"url(#p87d0fdbff4)\" d=\"M 234.742896 84.054721 \nL 289.289296 84.054721 \nL 289.289296 52.378288 \nL 234.742896 52.378288 \nz\n\" style=\"fill:#472f7d;opacity:0.8;\"/>\n   </g>\n   <g id=\"patch_18\">\n    <path clip-path=\"url(#p87d0fdbff4)\" d=\"M 289.289296 84.054721 \nL 342 84.054721 \nL 342 52.378288 \nL 289.289296 52.378288 \nz\n\" style=\"fill:#e2e418;opacity:0.8;\"/>\n   </g>\n   <g id=\"patch_19\">\n    <path clip-path=\"url(#p87d0fdbff4)\" d=\"M 234.742896 52.378288 \nL 271.271601 52.378288 \nL 271.271601 7.2 \nL 234.742896 7.2 \nz\n\" style=\"fill:#470d60;opacity:0.8;\"/>\n   </g>\n   <g id=\"patch_20\">\n    <path clip-path=\"url(#p87d0fdbff4)\" d=\"M 271.271601 52.378288 \nL 306.69709 52.378288 \nL 306.69709 7.2 \nL 271.271601 7.2 \nz\n\" style=\"fill:#1fa188;opacity:0.8;\"/>\n   </g>\n   <g id=\"patch_21\">\n    <path clip-path=\"url(#p87d0fdbff4)\" d=\"M 306.69709 52.378288 \nL 342 52.378288 \nL 342 7.2 \nL 306.69709 7.2 \nz\n\" style=\"fill:#20928c;opacity:0.8;\"/>\n   </g>\n   <g id=\"text_1\">\n    <!-- datum -->\n    <g transform=\"translate(49.024978 41.970911)scale(0.1 -0.1)\">\n     <defs>\n      <path d=\"M 2906 2969 \nL 2906 4863 \nL 3481 4863 \nL 3481 0 \nL 2906 0 \nL 2906 525 \nQ 2725 213 2448 61 \nQ 2172 -91 1784 -91 \nQ 1150 -91 751 415 \nQ 353 922 353 1747 \nQ 353 2572 751 3078 \nQ 1150 3584 1784 3584 \nQ 2172 3584 2448 3432 \nQ 2725 3281 2906 2969 \nz\nM 947 1747 \nQ 947 1113 1208 752 \nQ 1469 391 1925 391 \nQ 2381 391 2643 752 \nQ 2906 1113 2906 1747 \nQ 2906 2381 2643 2742 \nQ 2381 3103 1925 3103 \nQ 1469 3103 1208 2742 \nQ 947 2381 947 1747 \nz\n\" id=\"DejaVuSans-64\" transform=\"scale(0.015625)\"/>\n      <path d=\"M 2194 1759 \nQ 1497 1759 1228 1600 \nQ 959 1441 959 1056 \nQ 959 750 1161 570 \nQ 1363 391 1709 391 \nQ 2188 391 2477 730 \nQ 2766 1069 2766 1631 \nL 2766 1759 \nL 2194 1759 \nz\nM 3341 1997 \nL 3341 0 \nL 2766 0 \nL 2766 531 \nQ 2569 213 2275 61 \nQ 1981 -91 1556 -91 \nQ 1019 -91 701 211 \nQ 384 513 384 1019 \nQ 384 1609 779 1909 \nQ 1175 2209 1959 2209 \nL 2766 2209 \nL 2766 2266 \nQ 2766 2663 2505 2880 \nQ 2244 3097 1772 3097 \nQ 1472 3097 1187 3025 \nQ 903 2953 641 2809 \nL 641 3341 \nQ 956 3463 1253 3523 \nQ 1550 3584 1831 3584 \nQ 2591 3584 2966 3190 \nQ 3341 2797 3341 1997 \nz\n\" id=\"DejaVuSans-61\" transform=\"scale(0.015625)\"/>\n      <path d=\"M 1172 4494 \nL 1172 3500 \nL 2356 3500 \nL 2356 3053 \nL 1172 3053 \nL 1172 1153 \nQ 1172 725 1289 603 \nQ 1406 481 1766 481 \nL 2356 481 \nL 2356 0 \nL 1766 0 \nQ 1100 0 847 248 \nQ 594 497 594 1153 \nL 594 3053 \nL 172 3053 \nL 172 3500 \nL 594 3500 \nL 594 4494 \nL 1172 4494 \nz\n\" id=\"DejaVuSans-74\" transform=\"scale(0.015625)\"/>\n      <path d=\"M 544 1381 \nL 544 3500 \nL 1119 3500 \nL 1119 1403 \nQ 1119 906 1312 657 \nQ 1506 409 1894 409 \nQ 2359 409 2629 706 \nQ 2900 1003 2900 1516 \nL 2900 3500 \nL 3475 3500 \nL 3475 0 \nL 2900 0 \nL 2900 538 \nQ 2691 219 2414 64 \nQ 2138 -91 1772 -91 \nQ 1169 -91 856 284 \nQ 544 659 544 1381 \nz\nM 1991 3584 \nL 1991 3584 \nz\n\" id=\"DejaVuSans-75\" transform=\"scale(0.015625)\"/>\n      <path d=\"M 3328 2828 \nQ 3544 3216 3844 3400 \nQ 4144 3584 4550 3584 \nQ 5097 3584 5394 3201 \nQ 5691 2819 5691 2113 \nL 5691 0 \nL 5113 0 \nL 5113 2094 \nQ 5113 2597 4934 2840 \nQ 4756 3084 4391 3084 \nQ 3944 3084 3684 2787 \nQ 3425 2491 3425 1978 \nL 3425 0 \nL 2847 0 \nL 2847 2094 \nQ 2847 2600 2669 2842 \nQ 2491 3084 2119 3084 \nQ 1678 3084 1418 2786 \nQ 1159 2488 1159 1978 \nL 1159 0 \nL 581 0 \nL 581 3500 \nL 1159 3500 \nL 1159 2956 \nQ 1356 3278 1631 3431 \nQ 1906 3584 2284 3584 \nQ 2666 3584 2933 3390 \nQ 3200 3197 3328 2828 \nz\n\" id=\"DejaVuSans-6d\" transform=\"scale(0.015625)\"/>\n     </defs>\n     <use xlink:href=\"#DejaVuSans-64\"/>\n     <use x=\"63.476562\" xlink:href=\"#DejaVuSans-61\"/>\n     <use x=\"124.755859\" xlink:href=\"#DejaVuSans-74\"/>\n     <use x=\"163.964844\" xlink:href=\"#DejaVuSans-75\"/>\n     <use x=\"227.34375\" xlink:href=\"#DejaVuSans-6d\"/>\n    </g>\n   </g>\n   <g id=\"text_2\">\n    <!-- experience -->\n    <g transform=\"translate(152.86683 203.72688)scale(0.1 -0.1)\">\n     <defs>\n      <path d=\"M 3597 1894 \nL 3597 1613 \nL 953 1613 \nQ 991 1019 1311 708 \nQ 1631 397 2203 397 \nQ 2534 397 2845 478 \nQ 3156 559 3463 722 \nL 3463 178 \nQ 3153 47 2828 -22 \nQ 2503 -91 2169 -91 \nQ 1331 -91 842 396 \nQ 353 884 353 1716 \nQ 353 2575 817 3079 \nQ 1281 3584 2069 3584 \nQ 2775 3584 3186 3129 \nQ 3597 2675 3597 1894 \nz\nM 3022 2063 \nQ 3016 2534 2758 2815 \nQ 2500 3097 2075 3097 \nQ 1594 3097 1305 2825 \nQ 1016 2553 972 2059 \nL 3022 2063 \nz\n\" id=\"DejaVuSans-65\" transform=\"scale(0.015625)\"/>\n      <path d=\"M 3513 3500 \nL 2247 1797 \nL 3578 0 \nL 2900 0 \nL 1881 1375 \nL 863 0 \nL 184 0 \nL 1544 1831 \nL 300 3500 \nL 978 3500 \nL 1906 2253 \nL 2834 3500 \nL 3513 3500 \nz\n\" id=\"DejaVuSans-78\" transform=\"scale(0.015625)\"/>\n      <path d=\"M 1159 525 \nL 1159 -1331 \nL 581 -1331 \nL 581 3500 \nL 1159 3500 \nL 1159 2969 \nQ 1341 3281 1617 3432 \nQ 1894 3584 2278 3584 \nQ 2916 3584 3314 3078 \nQ 3713 2572 3713 1747 \nQ 3713 922 3314 415 \nQ 2916 -91 2278 -91 \nQ 1894 -91 1617 61 \nQ 1341 213 1159 525 \nz\nM 3116 1747 \nQ 3116 2381 2855 2742 \nQ 2594 3103 2138 3103 \nQ 1681 3103 1420 2742 \nQ 1159 2381 1159 1747 \nQ 1159 1113 1420 752 \nQ 1681 391 2138 391 \nQ 2594 391 2855 752 \nQ 3116 1113 3116 1747 \nz\n\" id=\"DejaVuSans-70\" transform=\"scale(0.015625)\"/>\n      <path d=\"M 2631 2963 \nQ 2534 3019 2420 3045 \nQ 2306 3072 2169 3072 \nQ 1681 3072 1420 2755 \nQ 1159 2438 1159 1844 \nL 1159 0 \nL 581 0 \nL 581 3500 \nL 1159 3500 \nL 1159 2956 \nQ 1341 3275 1631 3429 \nQ 1922 3584 2338 3584 \nQ 2397 3584 2469 3576 \nQ 2541 3569 2628 3553 \nL 2631 2963 \nz\n\" id=\"DejaVuSans-72\" transform=\"scale(0.015625)\"/>\n      <path d=\"M 603 3500 \nL 1178 3500 \nL 1178 0 \nL 603 0 \nL 603 3500 \nz\nM 603 4863 \nL 1178 4863 \nL 1178 4134 \nL 603 4134 \nL 603 4863 \nz\n\" id=\"DejaVuSans-69\" transform=\"scale(0.015625)\"/>\n      <path d=\"M 3513 2113 \nL 3513 0 \nL 2938 0 \nL 2938 2094 \nQ 2938 2591 2744 2837 \nQ 2550 3084 2163 3084 \nQ 1697 3084 1428 2787 \nQ 1159 2491 1159 1978 \nL 1159 0 \nL 581 0 \nL 581 3500 \nL 1159 3500 \nL 1159 2956 \nQ 1366 3272 1645 3428 \nQ 1925 3584 2291 3584 \nQ 2894 3584 3203 3211 \nQ 3513 2838 3513 2113 \nz\n\" id=\"DejaVuSans-6e\" transform=\"scale(0.015625)\"/>\n      <path d=\"M 3122 3366 \nL 3122 2828 \nQ 2878 2963 2633 3030 \nQ 2388 3097 2138 3097 \nQ 1578 3097 1268 2742 \nQ 959 2388 959 1747 \nQ 959 1106 1268 751 \nQ 1578 397 2138 397 \nQ 2388 397 2633 464 \nQ 2878 531 3122 666 \nL 3122 134 \nQ 2881 22 2623 -34 \nQ 2366 -91 2075 -91 \nQ 1284 -91 818 406 \nQ 353 903 353 1747 \nQ 353 2603 823 3093 \nQ 1294 3584 2113 3584 \nQ 2378 3584 2631 3529 \nQ 2884 3475 3122 3366 \nz\n\" id=\"DejaVuSans-63\" transform=\"scale(0.015625)\"/>\n     </defs>\n     <use xlink:href=\"#DejaVuSans-65\"/>\n     <use x=\"59.773438\" xlink:href=\"#DejaVuSans-78\"/>\n     <use x=\"118.953125\" xlink:href=\"#DejaVuSans-70\"/>\n     <use x=\"182.429688\" xlink:href=\"#DejaVuSans-65\"/>\n     <use x=\"243.953125\" xlink:href=\"#DejaVuSans-72\"/>\n     <use x=\"285.066406\" xlink:href=\"#DejaVuSans-69\"/>\n     <use x=\"312.849609\" xlink:href=\"#DejaVuSans-65\"/>\n     <use x=\"374.373047\" xlink:href=\"#DejaVuSans-6e\"/>\n     <use x=\"437.751953\" xlink:href=\"#DejaVuSans-63\"/>\n     <use x=\"492.732422\" xlink:href=\"#DejaVuSans-65\"/>\n    </g>\n   </g>\n   <g id=\"text_3\">\n    <!-- data -->\n    <g transform=\"translate(278.656696 203.72688)scale(0.1 -0.1)\">\n     <use xlink:href=\"#DejaVuSans-64\"/>\n     <use x=\"63.476562\" xlink:href=\"#DejaVuSans-61\"/>\n     <use x=\"124.755859\" xlink:href=\"#DejaVuSans-74\"/>\n     <use x=\"163.964844\" xlink:href=\"#DejaVuSans-61\"/>\n    </g>\n   </g>\n   <g id=\"text_4\">\n    <!-- work -->\n    <g transform=\"translate(153.196 152.988348)scale(0.1 -0.1)\">\n     <defs>\n      <path d=\"M 269 3500 \nL 844 3500 \nL 1563 769 \nL 2278 3500 \nL 2956 3500 \nL 3675 769 \nL 4391 3500 \nL 4966 3500 \nL 4050 0 \nL 3372 0 \nL 2619 2869 \nL 1863 0 \nL 1184 0 \nL 269 3500 \nz\n\" id=\"DejaVuSans-77\" transform=\"scale(0.015625)\"/>\n      <path d=\"M 1959 3097 \nQ 1497 3097 1228 2736 \nQ 959 2375 959 1747 \nQ 959 1119 1226 758 \nQ 1494 397 1959 397 \nQ 2419 397 2687 759 \nQ 2956 1122 2956 1747 \nQ 2956 2369 2687 2733 \nQ 2419 3097 1959 3097 \nz\nM 1959 3584 \nQ 2709 3584 3137 3096 \nQ 3566 2609 3566 1747 \nQ 3566 888 3137 398 \nQ 2709 -91 1959 -91 \nQ 1206 -91 779 398 \nQ 353 888 353 1747 \nQ 353 2609 779 3096 \nQ 1206 3584 1959 3584 \nz\n\" id=\"DejaVuSans-6f\" transform=\"scale(0.015625)\"/>\n      <path d=\"M 581 4863 \nL 1159 4863 \nL 1159 1991 \nL 2875 3500 \nL 3609 3500 \nL 1753 1863 \nL 3688 0 \nL 2938 0 \nL 1159 1709 \nL 1159 0 \nL 581 0 \nL 581 4863 \nz\n\" id=\"DejaVuSans-6b\" transform=\"scale(0.015625)\"/>\n     </defs>\n     <use xlink:href=\"#DejaVuSans-77\"/>\n     <use x=\"81.787109\" xlink:href=\"#DejaVuSans-6f\"/>\n     <use x=\"142.96875\" xlink:href=\"#DejaVuSans-72\"/>\n     <use x=\"184.082031\" xlink:href=\"#DejaVuSans-6b\"/>\n    </g>\n   </g>\n   <g id=\"text_5\">\n    <!-- team -->\n    <g transform=\"translate(229.359123 152.988348)scale(0.1 -0.1)\">\n     <use xlink:href=\"#DejaVuSans-74\"/>\n     <use x=\"39.208984\" xlink:href=\"#DejaVuSans-65\"/>\n     <use x=\"100.732422\" xlink:href=\"#DejaVuSans-61\"/>\n     <use x=\"162.011719\" xlink:href=\"#DejaVuSans-6d\"/>\n    </g>\n   </g>\n   <g id=\"text_6\">\n    <!-- business -->\n    <g transform=\"translate(287.90607 152.988348)scale(0.1 -0.1)\">\n     <defs>\n      <path d=\"M 3116 1747 \nQ 3116 2381 2855 2742 \nQ 2594 3103 2138 3103 \nQ 1681 3103 1420 2742 \nQ 1159 2381 1159 1747 \nQ 1159 1113 1420 752 \nQ 1681 391 2138 391 \nQ 2594 391 2855 752 \nQ 3116 1113 3116 1747 \nz\nM 1159 2969 \nQ 1341 3281 1617 3432 \nQ 1894 3584 2278 3584 \nQ 2916 3584 3314 3078 \nQ 3713 2572 3713 1747 \nQ 3713 922 3314 415 \nQ 2916 -91 2278 -91 \nQ 1894 -91 1617 61 \nQ 1341 213 1159 525 \nL 1159 0 \nL 581 0 \nL 581 4863 \nL 1159 4863 \nL 1159 2969 \nz\n\" id=\"DejaVuSans-62\" transform=\"scale(0.015625)\"/>\n      <path d=\"M 2834 3397 \nL 2834 2853 \nQ 2591 2978 2328 3040 \nQ 2066 3103 1784 3103 \nQ 1356 3103 1142 2972 \nQ 928 2841 928 2578 \nQ 928 2378 1081 2264 \nQ 1234 2150 1697 2047 \nL 1894 2003 \nQ 2506 1872 2764 1633 \nQ 3022 1394 3022 966 \nQ 3022 478 2636 193 \nQ 2250 -91 1575 -91 \nQ 1294 -91 989 -36 \nQ 684 19 347 128 \nL 347 722 \nQ 666 556 975 473 \nQ 1284 391 1588 391 \nQ 1994 391 2212 530 \nQ 2431 669 2431 922 \nQ 2431 1156 2273 1281 \nQ 2116 1406 1581 1522 \nL 1381 1569 \nQ 847 1681 609 1914 \nQ 372 2147 372 2553 \nQ 372 3047 722 3315 \nQ 1072 3584 1716 3584 \nQ 2034 3584 2315 3537 \nQ 2597 3491 2834 3397 \nz\n\" id=\"DejaVuSans-73\" transform=\"scale(0.015625)\"/>\n     </defs>\n     <use xlink:href=\"#DejaVuSans-62\"/>\n     <use x=\"63.476562\" xlink:href=\"#DejaVuSans-75\"/>\n     <use x=\"126.855469\" xlink:href=\"#DejaVuSans-73\"/>\n     <use x=\"178.955078\" xlink:href=\"#DejaVuSans-69\"/>\n     <use x=\"206.738281\" xlink:href=\"#DejaVuSans-6e\"/>\n     <use x=\"270.117188\" xlink:href=\"#DejaVuSans-65\"/>\n     <use x=\"331.640625\" xlink:href=\"#DejaVuSans-73\"/>\n     <use x=\"383.740234\" xlink:href=\"#DejaVuSans-73\"/>\n    </g>\n   </g>\n   <g id=\"text_7\">\n    <!-- science -->\n    <g transform=\"translate(137.59391 105.646582)scale(0.1 -0.1)\">\n     <use xlink:href=\"#DejaVuSans-73\"/>\n     <use x=\"52.099609\" xlink:href=\"#DejaVuSans-63\"/>\n     <use x=\"107.080078\" xlink:href=\"#DejaVuSans-69\"/>\n     <use x=\"134.863281\" xlink:href=\"#DejaVuSans-65\"/>\n     <use x=\"196.386719\" xlink:href=\"#DejaVuSans-6e\"/>\n     <use x=\"259.765625\" xlink:href=\"#DejaVuSans-63\"/>\n     <use x=\"314.746094\" xlink:href=\"#DejaVuSans-65\"/>\n    </g>\n   </g>\n   <g id=\"text_8\">\n    <!-- model -->\n    <g transform=\"translate(140.838442 66.183194)scale(0.1 -0.1)\">\n     <defs>\n      <path d=\"M 603 4863 \nL 1178 4863 \nL 1178 0 \nL 603 0 \nL 603 4863 \nz\n\" id=\"DejaVuSans-6c\" transform=\"scale(0.015625)\"/>\n     </defs>\n     <use xlink:href=\"#DejaVuSans-6d\"/>\n     <use x=\"97.412109\" xlink:href=\"#DejaVuSans-6f\"/>\n     <use x=\"158.59375\" xlink:href=\"#DejaVuSans-64\"/>\n     <use x=\"222.070312\" xlink:href=\"#DejaVuSans-65\"/>\n     <use x=\"283.59375\" xlink:href=\"#DejaVuSans-6c\"/>\n    </g>\n   </g>\n   <g id=\"text_9\">\n    <!-- product -->\n    <g transform=\"translate(137.179067 28.477455)scale(0.1 -0.1)\">\n     <use xlink:href=\"#DejaVuSans-70\"/>\n     <use x=\"63.476562\" xlink:href=\"#DejaVuSans-72\"/>\n     <use x=\"102.339844\" xlink:href=\"#DejaVuSans-6f\"/>\n     <use x=\"163.521484\" xlink:href=\"#DejaVuSans-64\"/>\n     <use x=\"226.998047\" xlink:href=\"#DejaVuSans-75\"/>\n     <use x=\"290.376953\" xlink:href=\"#DejaVuSans-63\"/>\n     <use x=\"345.357422\" xlink:href=\"#DejaVuSans-74\"/>\n    </g>\n   </g>\n   <g id=\"text_10\">\n    <!-- analysis -->\n    <g transform=\"translate(197.143503 106.368203)scale(0.1 -0.1)\">\n     <defs>\n      <path d=\"M 2059 -325 \nQ 1816 -950 1584 -1140 \nQ 1353 -1331 966 -1331 \nL 506 -1331 \nL 506 -850 \nL 844 -850 \nQ 1081 -850 1212 -737 \nQ 1344 -625 1503 -206 \nL 1606 56 \nL 191 3500 \nL 800 3500 \nL 1894 763 \nL 2988 3500 \nL 3597 3500 \nL 2059 -325 \nz\n\" id=\"DejaVuSans-79\" transform=\"scale(0.015625)\"/>\n     </defs>\n     <use xlink:href=\"#DejaVuSans-61\"/>\n     <use x=\"61.279297\" xlink:href=\"#DejaVuSans-6e\"/>\n     <use x=\"124.658203\" xlink:href=\"#DejaVuSans-61\"/>\n     <use x=\"185.9375\" xlink:href=\"#DejaVuSans-6c\"/>\n     <use x=\"213.720703\" xlink:href=\"#DejaVuSans-79\"/>\n     <use x=\"272.900391\" xlink:href=\"#DejaVuSans-73\"/>\n     <use x=\"325\" xlink:href=\"#DejaVuSans-69\"/>\n     <use x=\"352.783203\" xlink:href=\"#DejaVuSans-73\"/>\n    </g>\n   </g>\n   <g id=\"text_11\">\n    <!-- machine -->\n    <g transform=\"translate(248.754748 106.368203)scale(0.1 -0.1)\">\n     <defs>\n      <path d=\"M 3513 2113 \nL 3513 0 \nL 2938 0 \nL 2938 2094 \nQ 2938 2591 2744 2837 \nQ 2550 3084 2163 3084 \nQ 1697 3084 1428 2787 \nQ 1159 2491 1159 1978 \nL 1159 0 \nL 581 0 \nL 581 4863 \nL 1159 4863 \nL 1159 2956 \nQ 1366 3272 1645 3428 \nQ 1925 3584 2291 3584 \nQ 2894 3584 3203 3211 \nQ 3513 2838 3513 2113 \nz\n\" id=\"DejaVuSans-68\" transform=\"scale(0.015625)\"/>\n     </defs>\n     <use xlink:href=\"#DejaVuSans-6d\"/>\n     <use x=\"97.412109\" xlink:href=\"#DejaVuSans-61\"/>\n     <use x=\"158.691406\" xlink:href=\"#DejaVuSans-63\"/>\n     <use x=\"213.671875\" xlink:href=\"#DejaVuSans-68\"/>\n     <use x=\"277.050781\" xlink:href=\"#DejaVuSans-69\"/>\n     <use x=\"304.833984\" xlink:href=\"#DejaVuSans-6e\"/>\n     <use x=\"368.212891\" xlink:href=\"#DejaVuSans-65\"/>\n    </g>\n   </g>\n   <g id=\"text_12\">\n    <!-- scientist -->\n    <g transform=\"translate(297.697365 106.368203)scale(0.1 -0.1)\">\n     <use xlink:href=\"#DejaVuSans-73\"/>\n     <use x=\"52.099609\" xlink:href=\"#DejaVuSans-63\"/>\n     <use x=\"107.080078\" xlink:href=\"#DejaVuSans-69\"/>\n     <use x=\"134.863281\" xlink:href=\"#DejaVuSans-65\"/>\n     <use x=\"196.386719\" xlink:href=\"#DejaVuSans-6e\"/>\n     <use x=\"259.765625\" xlink:href=\"#DejaVuSans-74\"/>\n     <use x=\"298.974609\" xlink:href=\"#DejaVuSans-69\"/>\n     <use x=\"326.757812\" xlink:href=\"#DejaVuSans-73\"/>\n     <use x=\"378.857422\" xlink:href=\"#DejaVuSans-74\"/>\n    </g>\n   </g>\n   <g id=\"text_13\">\n    <!-- build -->\n    <g transform=\"translate(199.821631 67.600416)scale(0.1 -0.1)\">\n     <use xlink:href=\"#DejaVuSans-62\"/>\n     <use x=\"63.476562\" xlink:href=\"#DejaVuSans-75\"/>\n     <use x=\"126.855469\" xlink:href=\"#DejaVuSans-69\"/>\n     <use x=\"154.638672\" xlink:href=\"#DejaVuSans-6c\"/>\n     <use x=\"182.421875\" xlink:href=\"#DejaVuSans-64\"/>\n    </g>\n   </g>\n   <g id=\"text_14\">\n    <!-- analytic -->\n    <g transform=\"translate(192.373193 29.173055)scale(0.1 -0.1)\">\n     <use xlink:href=\"#DejaVuSans-61\"/>\n     <use x=\"61.279297\" xlink:href=\"#DejaVuSans-6e\"/>\n     <use x=\"124.658203\" xlink:href=\"#DejaVuSans-61\"/>\n     <use x=\"185.9375\" xlink:href=\"#DejaVuSans-6c\"/>\n     <use x=\"213.720703\" xlink:href=\"#DejaVuSans-79\"/>\n     <use x=\"272.900391\" xlink:href=\"#DejaVuSans-74\"/>\n     <use x=\"312.109375\" xlink:href=\"#DejaVuSans-69\"/>\n     <use x=\"339.892578\" xlink:href=\"#DejaVuSans-63\"/>\n    </g>\n   </g>\n   <g id=\"text_15\">\n    <!-- skill -->\n    <g transform=\"translate(252.348908 70.975879)scale(0.1 -0.1)\">\n     <use xlink:href=\"#DejaVuSans-73\"/>\n     <use x=\"52.099609\" xlink:href=\"#DejaVuSans-6b\"/>\n     <use x=\"110.009766\" xlink:href=\"#DejaVuSans-69\"/>\n     <use x=\"137.792969\" xlink:href=\"#DejaVuSans-6c\"/>\n     <use x=\"165.576172\" xlink:href=\"#DejaVuSans-6c\"/>\n    </g>\n   </g>\n   <g id=\"text_16\">\n    <!-- develop -->\n    <g transform=\"translate(295.735273 70.975879)scale(0.1 -0.1)\">\n     <defs>\n      <path d=\"M 191 3500 \nL 800 3500 \nL 1894 563 \nL 2988 3500 \nL 3597 3500 \nL 2284 0 \nL 1503 0 \nL 191 3500 \nz\n\" id=\"DejaVuSans-76\" transform=\"scale(0.015625)\"/>\n     </defs>\n     <use xlink:href=\"#DejaVuSans-64\"/>\n     <use x=\"63.476562\" xlink:href=\"#DejaVuSans-65\"/>\n     <use x=\"125\" xlink:href=\"#DejaVuSans-76\"/>\n     <use x=\"184.179688\" xlink:href=\"#DejaVuSans-65\"/>\n     <use x=\"245.703125\" xlink:href=\"#DejaVuSans-6c\"/>\n     <use x=\"273.486328\" xlink:href=\"#DejaVuSans-6f\"/>\n     <use x=\"334.667969\" xlink:href=\"#DejaVuSans-70\"/>\n    </g>\n   </g>\n   <g id=\"text_17\">\n    <!-- learn -->\n    <g transform=\"translate(240.340842 32.548519)scale(0.1 -0.1)\">\n     <use xlink:href=\"#DejaVuSans-6c\"/>\n     <use x=\"27.783203\" xlink:href=\"#DejaVuSans-65\"/>\n     <use x=\"89.306641\" xlink:href=\"#DejaVuSans-61\"/>\n     <use x=\"150.585938\" xlink:href=\"#DejaVuSans-72\"/>\n     <use x=\"189.949219\" xlink:href=\"#DejaVuSans-6e\"/>\n    </g>\n   </g>\n   <g id=\"text_18\">\n    <!-- opportunity -->\n    <g transform=\"translate(259.855439 32.548519)scale(0.1 -0.1)\">\n     <use xlink:href=\"#DejaVuSans-6f\"/>\n     <use x=\"61.181641\" xlink:href=\"#DejaVuSans-70\"/>\n     <use x=\"124.658203\" xlink:href=\"#DejaVuSans-70\"/>\n     <use x=\"188.134766\" xlink:href=\"#DejaVuSans-6f\"/>\n     <use x=\"249.316406\" xlink:href=\"#DejaVuSans-72\"/>\n     <use x=\"290.429688\" xlink:href=\"#DejaVuSans-74\"/>\n     <use x=\"329.638672\" xlink:href=\"#DejaVuSans-75\"/>\n     <use x=\"393.017578\" xlink:href=\"#DejaVuSans-6e\"/>\n     <use x=\"456.396484\" xlink:href=\"#DejaVuSans-69\"/>\n     <use x=\"484.179688\" xlink:href=\"#DejaVuSans-74\"/>\n     <use x=\"523.388672\" xlink:href=\"#DejaVuSans-79\"/>\n    </g>\n   </g>\n   <g id=\"text_19\">\n    <!-- statistical -->\n    <g transform=\"translate(300.21417 32.548519)scale(0.1 -0.1)\">\n     <use xlink:href=\"#DejaVuSans-73\"/>\n     <use x=\"52.099609\" xlink:href=\"#DejaVuSans-74\"/>\n     <use x=\"91.308594\" xlink:href=\"#DejaVuSans-61\"/>\n     <use x=\"152.587891\" xlink:href=\"#DejaVuSans-74\"/>\n     <use x=\"191.796875\" xlink:href=\"#DejaVuSans-69\"/>\n     <use x=\"219.580078\" xlink:href=\"#DejaVuSans-73\"/>\n     <use x=\"271.679688\" xlink:href=\"#DejaVuSans-74\"/>\n     <use x=\"310.888672\" xlink:href=\"#DejaVuSans-69\"/>\n     <use x=\"338.671875\" xlink:href=\"#DejaVuSans-63\"/>\n     <use x=\"393.652344\" xlink:href=\"#DejaVuSans-61\"/>\n     <use x=\"454.931641\" xlink:href=\"#DejaVuSans-6c\"/>\n    </g>\n   </g>\n  </g>\n </g>\n <defs>\n  <clipPath id=\"p87d0fdbff4\">\n   <rect height=\"217.44\" width=\"334.8\" x=\"7.2\" y=\"7.2\"/>\n  </clipPath>\n </defs>\n</svg>\n",
      "image/png": "[encoded data removed]"
     },
     "metadata": {
      "needs_background": "light"
     }
    }
   ],
   "source": [
    "##### Your Code Here #####\n",
    "wc_top20 = wc[wc['rank'] <= 20]\n",
    "\n",
    "squarify.plot(sizes=wc_top20['pct_total'], label=wc_top20['word'], alpha=.8 )\n",
    "plt.axis('off')\n",
    "plt.show()"
   ]
  },
  {
   "cell_type": "markdown",
   "metadata": {
    "colab_type": "text",
    "id": "bwFsTqrVZMYi"
   },
   "source": [
    "## 5) Use Scikit-Learn's tfidfVectorizer to get a TF-IDF feature matrix"
   ]
  },
  {
   "cell_type": "code",
   "execution_count": 203,
   "metadata": {},
   "outputs": [],
   "source": [
    "def tokenize(document):\n",
    "    \"\"\"\n",
    "    Takes a doc and returns a list of tokens in the form of lemmas.\n",
    "    Stop words and punctuation are filtered out. \n",
    "    \"\"\"\n",
    "    \n",
    "    doc = nlp(document)\n",
    "    \n",
    "    return [token.lemma_.strip() for token in doc if (token.is_stop != True) and (token.is_punct != True)]"
   ]
  },
  {
   "cell_type": "code",
   "execution_count": 204,
   "metadata": {
    "colab": {},
    "colab_type": "code",
    "id": "-gx2gZCbl5Np"
   },
   "outputs": [
    {
     "output_type": "stream",
     "name": "stderr",
     "text": [
      "/home/minh14496/.local/share/virtualenvs/DS-Unit-4-Sprint-1-NLP-1TUUJhOU/lib/python3.8/site-packages/sklearn/feature_extraction/text.py:388: UserWarning: Your stop_words may be inconsistent with your preprocessing. Tokenizing the stop words generated tokens ['nt'] not in stop_words.\n  warnings.warn('Your stop_words may be inconsistent with '\n"
     ]
    },
    {
     "output_type": "execute_result",
     "data": {
      "text/plain": [
       "                aa  aap   ab  abernathy   ability      able  abound  abroad  \\\n",
       "0    0.090717  0.0  0.0  0.0        0.0  0.090377  0.000000     0.0     0.0   \n",
       "1    0.190067  0.0  0.0  0.0        0.0  0.020288  0.000000     0.0     0.0   \n",
       "2    0.046601  0.0  0.0  0.0        0.0  0.069639  0.000000     0.0     0.0   \n",
       "3    0.090648  0.0  0.0  0.0        0.0  0.000000  0.000000     0.0     0.0   \n",
       "4    0.231660  0.0  0.0  0.0        0.0  0.000000  0.000000     0.0     0.0   \n",
       "..        ...  ...  ...  ...        ...       ...       ...     ...     ...   \n",
       "421  0.247104  0.0  0.0  0.0        0.0  0.028405  0.000000     0.0     0.0   \n",
       "422  0.187821  0.0  0.0  0.0        0.0  0.000000  0.000000     0.0     0.0   \n",
       "423  0.106312  0.0  0.0  0.0        0.0  0.000000  0.000000     0.0     0.0   \n",
       "424  0.160399  0.0  0.0  0.0        0.0  0.000000  0.065701     0.0     0.0   \n",
       "425  0.185862  0.0  0.0  0.0        0.0  0.000000  0.000000     0.0     0.0   \n",
       "\n",
       "     absence  ...      zero  zeus   zf    zheng  zillow  zogsport  zone  zoom  \\\n",
       "0        0.0  ...  0.000000   0.0  0.0  0.00000     0.0       0.0   0.0   0.0   \n",
       "1        0.0  ...  0.000000   0.0  0.0  0.00000     0.0       0.0   0.0   0.0   \n",
       "2        0.0  ...  0.000000   0.0  0.0  0.00000     0.0       0.0   0.0   0.0   \n",
       "3        0.0  ...  0.000000   0.0  0.0  0.11376     0.0       0.0   0.0   0.0   \n",
       "4        0.0  ...  0.000000   0.0  0.0  0.00000     0.0       0.0   0.0   0.0   \n",
       "..       ...  ...       ...   ...  ...      ...     ...       ...   ...   ...   \n",
       "421      0.0  ...  0.000000   0.0  0.0  0.00000     0.0       0.0   0.0   0.0   \n",
       "422      0.0  ...  0.000000   0.0  0.0  0.00000     0.0       0.0   0.0   0.0   \n",
       "423      0.0  ...  0.104098   0.0  0.0  0.00000     0.0       0.0   0.0   0.0   \n",
       "424      0.0  ...  0.000000   0.0  0.0  0.00000     0.0       0.0   0.0   0.0   \n",
       "425      0.0  ...  0.000000   0.0  0.0  0.00000     0.0       0.0   0.0   0.0   \n",
       "\n",
       "     zuckerberg  zurich  \n",
       "0           0.0     0.0  \n",
       "1           0.0     0.0  \n",
       "2           0.0     0.0  \n",
       "3           0.0     0.0  \n",
       "4           0.0     0.0  \n",
       "..          ...     ...  \n",
       "421         0.0     0.0  \n",
       "422         0.0     0.0  \n",
       "423         0.0     0.0  \n",
       "424         0.0     0.0  \n",
       "425         0.0     0.0  \n",
       "\n",
       "[426 rows x 6427 columns]"
      ],
      "text/html": "<div>\n<style scoped>\n    .dataframe tbody tr th:only-of-type {\n        vertical-align: middle;\n    }\n\n    .dataframe tbody tr th {\n        vertical-align: top;\n    }\n\n    .dataframe thead th {\n        text-align: right;\n    }\n</style>\n<table border=\"1\" class=\"dataframe\">\n  <thead>\n    <tr style=\"text-align: right;\">\n      <th></th>\n      <th></th>\n      <th>aa</th>\n      <th>aap</th>\n      <th>ab</th>\n      <th>abernathy</th>\n      <th>ability</th>\n      <th>able</th>\n      <th>abound</th>\n      <th>abroad</th>\n      <th>absence</th>\n      <th>...</th>\n      <th>zero</th>\n      <th>zeus</th>\n      <th>zf</th>\n      <th>zheng</th>\n      <th>zillow</th>\n      <th>zogsport</th>\n      <th>zone</th>\n      <th>zoom</th>\n      <th>zuckerberg</th>\n      <th>zurich</th>\n    </tr>\n  </thead>\n  <tbody>\n    <tr>\n      <th>0</th>\n      <td>0.090717</td>\n      <td>0.0</td>\n      <td>0.0</td>\n      <td>0.0</td>\n      <td>0.0</td>\n      <td>0.090377</td>\n      <td>0.000000</td>\n      <td>0.0</td>\n      <td>0.0</td>\n      <td>0.0</td>\n      <td>...</td>\n      <td>0.000000</td>\n      <td>0.0</td>\n      <td>0.0</td>\n      <td>0.00000</td>\n      <td>0.0</td>\n      <td>0.0</td>\n      <td>0.0</td>\n      <td>0.0</td>\n      <td>0.0</td>\n      <td>0.0</td>\n    </tr>\n    <tr>\n      <th>1</th>\n      <td>0.190067</td>\n      <td>0.0</td>\n      <td>0.0</td>\n      <td>0.0</td>\n      <td>0.0</td>\n      <td>0.020288</td>\n      <td>0.000000</td>\n      <td>0.0</td>\n      <td>0.0</td>\n      <td>0.0</td>\n      <td>...</td>\n      <td>0.000000</td>\n      <td>0.0</td>\n      <td>0.0</td>\n      <td>0.00000</td>\n      <td>0.0</td>\n      <td>0.0</td>\n      <td>0.0</td>\n      <td>0.0</td>\n      <td>0.0</td>\n      <td>0.0</td>\n    </tr>\n    <tr>\n      <th>2</th>\n      <td>0.046601</td>\n      <td>0.0</td>\n      <td>0.0</td>\n      <td>0.0</td>\n      <td>0.0</td>\n      <td>0.069639</td>\n      <td>0.000000</td>\n      <td>0.0</td>\n      <td>0.0</td>\n      <td>0.0</td>\n      <td>...</td>\n      <td>0.000000</td>\n      <td>0.0</td>\n      <td>0.0</td>\n      <td>0.00000</td>\n      <td>0.0</td>\n      <td>0.0</td>\n      <td>0.0</td>\n      <td>0.0</td>\n      <td>0.0</td>\n      <td>0.0</td>\n    </tr>\n    <tr>\n      <th>3</th>\n      <td>0.090648</td>\n      <td>0.0</td>\n      <td>0.0</td>\n      <td>0.0</td>\n      <td>0.0</td>\n      <td>0.000000</td>\n      <td>0.000000</td>\n      <td>0.0</td>\n      <td>0.0</td>\n      <td>0.0</td>\n      <td>...</td>\n      <td>0.000000</td>\n      <td>0.0</td>\n      <td>0.0</td>\n      <td>0.11376</td>\n      <td>0.0</td>\n      <td>0.0</td>\n      <td>0.0</td>\n      <td>0.0</td>\n      <td>0.0</td>\n      <td>0.0</td>\n    </tr>\n    <tr>\n      <th>4</th>\n      <td>0.231660</td>\n      <td>0.0</td>\n      <td>0.0</td>\n      <td>0.0</td>\n      <td>0.0</td>\n      <td>0.000000</td>\n      <td>0.000000</td>\n      <td>0.0</td>\n      <td>0.0</td>\n      <td>0.0</td>\n      <td>...</td>\n      <td>0.000000</td>\n      <td>0.0</td>\n      <td>0.0</td>\n      <td>0.00000</td>\n      <td>0.0</td>\n      <td>0.0</td>\n      <td>0.0</td>\n      <td>0.0</td>\n      <td>0.0</td>\n      <td>0.0</td>\n    </tr>\n    <tr>\n      <th>...</th>\n      <td>...</td>\n      <td>...</td>\n      <td>...</td>\n      <td>...</td>\n      <td>...</td>\n      <td>...</td>\n      <td>...</td>\n      <td>...</td>\n      <td>...</td>\n      <td>...</td>\n      <td>...</td>\n      <td>...</td>\n      <td>...</td>\n      <td>...</td>\n      <td>...</td>\n      <td>...</td>\n      <td>...</td>\n      <td>...</td>\n      <td>...</td>\n      <td>...</td>\n      <td>...</td>\n    </tr>\n    <tr>\n      <th>421</th>\n      <td>0.247104</td>\n      <td>0.0</td>\n      <td>0.0</td>\n      <td>0.0</td>\n      <td>0.0</td>\n      <td>0.028405</td>\n      <td>0.000000</td>\n      <td>0.0</td>\n      <td>0.0</td>\n      <td>0.0</td>\n      <td>...</td>\n      <td>0.000000</td>\n      <td>0.0</td>\n      <td>0.0</td>\n      <td>0.00000</td>\n      <td>0.0</td>\n      <td>0.0</td>\n      <td>0.0</td>\n      <td>0.0</td>\n      <td>0.0</td>\n      <td>0.0</td>\n    </tr>\n    <tr>\n      <th>422</th>\n      <td>0.187821</td>\n      <td>0.0</td>\n      <td>0.0</td>\n      <td>0.0</td>\n      <td>0.0</td>\n      <td>0.000000</td>\n      <td>0.000000</td>\n      <td>0.0</td>\n      <td>0.0</td>\n      <td>0.0</td>\n      <td>...</td>\n      <td>0.000000</td>\n      <td>0.0</td>\n      <td>0.0</td>\n      <td>0.00000</td>\n      <td>0.0</td>\n      <td>0.0</td>\n      <td>0.0</td>\n      <td>0.0</td>\n      <td>0.0</td>\n      <td>0.0</td>\n    </tr>\n    <tr>\n      <th>423</th>\n      <td>0.106312</td>\n      <td>0.0</td>\n      <td>0.0</td>\n      <td>0.0</td>\n      <td>0.0</td>\n      <td>0.000000</td>\n      <td>0.000000</td>\n      <td>0.0</td>\n      <td>0.0</td>\n      <td>0.0</td>\n      <td>...</td>\n      <td>0.104098</td>\n      <td>0.0</td>\n      <td>0.0</td>\n      <td>0.00000</td>\n      <td>0.0</td>\n      <td>0.0</td>\n      <td>0.0</td>\n      <td>0.0</td>\n      <td>0.0</td>\n      <td>0.0</td>\n    </tr>\n    <tr>\n      <th>424</th>\n      <td>0.160399</td>\n      <td>0.0</td>\n      <td>0.0</td>\n      <td>0.0</td>\n      <td>0.0</td>\n      <td>0.000000</td>\n      <td>0.065701</td>\n      <td>0.0</td>\n      <td>0.0</td>\n      <td>0.0</td>\n      <td>...</td>\n      <td>0.000000</td>\n      <td>0.0</td>\n      <td>0.0</td>\n      <td>0.00000</td>\n      <td>0.0</td>\n      <td>0.0</td>\n      <td>0.0</td>\n      <td>0.0</td>\n      <td>0.0</td>\n      <td>0.0</td>\n    </tr>\n    <tr>\n      <th>425</th>\n      <td>0.185862</td>\n      <td>0.0</td>\n      <td>0.0</td>\n      <td>0.0</td>\n      <td>0.0</td>\n      <td>0.000000</td>\n      <td>0.000000</td>\n      <td>0.0</td>\n      <td>0.0</td>\n      <td>0.0</td>\n      <td>...</td>\n      <td>0.000000</td>\n      <td>0.0</td>\n      <td>0.0</td>\n      <td>0.00000</td>\n      <td>0.0</td>\n      <td>0.0</td>\n      <td>0.0</td>\n      <td>0.0</td>\n      <td>0.0</td>\n      <td>0.0</td>\n    </tr>\n  </tbody>\n</table>\n<p>426 rows × 6427 columns</p>\n</div>"
     },
     "metadata": {},
     "execution_count": 204
    }
   ],
   "source": [
    "##### Your Code Here #####\n",
    "# Instantiate vectorizer object\n",
    "tfidf_vect = TfidfVectorizer(tokenizer=tokenize)\n",
    "\n",
    "# Create a vocabulary and get word counts per document\n",
    "# Similiar to fit_predict\n",
    "dtm = tfidf_vect.fit_transform(df['clean_text'])\n",
    "\n",
    "# View Feature Matrix as DataFrame\n",
    "dtm = pd.DataFrame(data=dtm.toarray(), columns=tfidf_vect.get_feature_names())\n",
    "dtm"
   ]
  },
  {
   "cell_type": "markdown",
   "metadata": {},
   "source": [
    "## 6) Create a NearestNeighbor Model. Write the description of your ideal datascience job and query your job listings. "
   ]
  },
  {
   "cell_type": "code",
   "execution_count": 205,
   "metadata": {
    "collapsed": false,
    "inputHidden": false,
    "jupyter": {
     "outputs_hidden": false
    },
    "outputHidden": false
   },
   "outputs": [],
   "source": [
    "##### Your Code Here #####\n",
    "# Fit on DTM\n",
    "nn = NearestNeighbors(n_neighbors=5, algorithm='kd_tree')\n",
    "nn.fit(dtm)\n",
    "\n",
    "# sample a doc from dtm to use as our query point\n",
    "doc_index = 0\n",
    "doc = [dtm.iloc[doc_index].values]\n",
    "\n",
    "# Query Using kneighbors \n",
    "neigh_dist, neigh_index = nn.kneighbors(doc)"
   ]
  },
  {
   "cell_type": "code",
   "execution_count": 206,
   "metadata": {},
   "outputs": [
    {
     "output_type": "execute_result",
     "data": {
      "text/plain": [
       "array([[0.        , 1.26458801, 1.2952899 , 1.29533272, 1.2984744 ]])"
      ]
     },
     "metadata": {},
     "execution_count": 206
    }
   ],
   "source": [
    "neigh_dist"
   ]
  },
  {
   "source": [
    "Job listing: Data Scientist  Proficient coder in Python, JavaScript. Working knowledge in Git [Github, GitLab]. Familiarity with scripting languages, machine learning, advanced statistical techniques, and A/B testing is a plus. Analyze, test, and interpret complex clinical data, algorithmic results, and Machine Learning model performance data. Demonstrated experience with some or all of the following: data modeling, data visualization, statistics, experimental design, predictive modeling."
   ],
   "cell_type": "markdown",
   "metadata": {}
  },
  {
   "cell_type": "markdown",
   "metadata": {
    "colab_type": "text",
    "id": "FiDfTWceoRkH"
   },
   "source": [
    "## Stretch Goals\n",
    "\n",
    " - Try different visualizations for words and frequencies - what story do you want to tell with the data?\n",
    " - Scrape Job Listings for the job title \"Data Analyst\". How do these differ from Data Scientist Job Listings\n",
    " - Try and identify requirements for experience specific technologies that are asked for in the job listings. How are those distributed among the job listings?\n",
    " - Use a clustering algorithm to cluster documents by their most important terms. Do the clusters reveal any common themes?\n",
    "  - **Hint:** K-means might not be the best algorithm for this. Do a little bit of research to see what might be good for this. Also, remember that algorithms that depend on Euclidean distance break down with high dimensional data.\n",
    " - Create a labeled dataset - which jobs will you apply for? Train a model to select the jobs you are most likely to apply for. :) "
   ]
  }
 ],
 "metadata": {
  "colab": {
   "collapsed_sections": [],
   "name": "LS_DS_422_BOW_Assignment.ipynb",
   "provenance": [],
   "version": "0.3.2"
  },
  "kernel_info": {
   "name": "python3"
  },
  "kernelspec": {
   "name": "python385jvsc74a57bd0018056dc2a2ddb2107860c63abca7eff55c565c606fe6595ba04b2466e00a74c",
   "display_name": "Python 3.8.5 64-bit ('DS-Unit-4-Sprint-1-NLP-1TUUJhOU': pipenv)"
  },
  "language_info": {
   "codemirror_mode": {
    "name": "ipython",
    "version": 3
   },
   "file_extension": ".py",
   "mimetype": "text/x-python",
   "name": "python",
   "nbconvert_exporter": "python",
   "pygments_lexer": "ipython3",
   "version": "3.8.5"
  },
  "nteract": {
   "version": "0.14.3"
  }
 },
 "nbformat": 4,
 "nbformat_minor": 4
}