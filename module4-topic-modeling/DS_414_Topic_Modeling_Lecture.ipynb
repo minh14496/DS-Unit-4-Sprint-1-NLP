{
 "cells": [
  {
   "cell_type": "markdown",
   "metadata": {
    "colab_type": "text",
    "id": "cOMBkFKn6uEK"
   },
   "source": [
    "# Topic Modeling (Prepare)\n",
    "\n",
    "On Monday we talked about summarizing your documents using just token counts. Today, we're going to learn about a much more sophisticated approach - learning 'topics' from documents. Topics are a latent structure. They are not directly observable in the data, but we know they're there by reading them.\n",
    "\n",
    "> **latent**: existing but not yet developed or manifest; hidden or concealed.\n",
    "\n",
    "## Use Cases\n",
    "Primary use case: What the are your documents about? Who might want to know that in industry - \n",
    "* Identifying common themes in customer reviews\n",
    "* Grouping job ads into categories \n",
    "* Monitoring communications (Email - State Department, Google) \n",
    "\n",
    "## Learning Objectives\n",
    "*At the end of the lesson you should be able to:*\n",
    "* Part 1: Describe how an LDA Model works\n",
    "* Part 2: Build a LDA Model with Gensim\n",
    "* Part 3: Interpret LDA results & Select the appropriate number of topics"
   ]
  },
  {
   "cell_type": "code",
   "execution_count": 1,
   "metadata": {
    "colab": {},
    "colab_type": "code",
    "id": "rnyNg8sQ6uEL"
   },
   "outputs": [],
   "source": [
    "import re\n",
    "import numpy as np\n",
    "import pandas as pd\n",
    "from pprint import pprint\n",
    "\n",
    "import gensim\n",
    "import gensim.corpora as corpora\n",
    "from gensim.utils import simple_preprocess\n",
    "from gensim.models import CoherenceModel\n",
    "\n",
    "from sklearn.datasets import fetch_20newsgroups\n",
    "from pandarallel import pandarallel\n",
    "\n",
    "\n",
    "import spacy\n",
    "spacy.util.fix_random_seed(0)\n",
    "\n",
    "import pyLDAvis\n",
    "import pyLDAvis.gensim \n",
    "import matplotlib.pyplot as plt\n",
    "%matplotlib inline\n",
    "\n",
    "import warnings\n",
    "warnings.filterwarnings(\"ignore\")"
   ]
  },
  {
   "cell_type": "code",
   "execution_count": null,
   "metadata": {},
   "outputs": [],
   "source": [
    "np.ar"
   ]
  },
  {
   "cell_type": "code",
   "execution_count": null,
   "metadata": {},
   "outputs": [],
   "source": []
  },
  {
   "cell_type": "markdown",
   "metadata": {
    "colab_type": "text",
    "id": "xbZjG6U86uEe"
   },
   "source": [
    "# Part 1: Describe how an LDA Model works\n",
    "\n",
    "We are going to focus on a high level of understand for how LDA works, meaning we are going to focus on \"what it does\" instead of \"how it does it\". I realize that this may be unsatisfying to some so I've included some resources that serve as a prerequisite for understanding how LDA works at a mathematical level. \n",
    "\n",
    "LDA is a [**Probabilistic Graphical Model (PGM)**](https://en.wikipedia.org/wiki/Graphical_model)\n",
    "\n",
    "PGM are represented by a graph that expresses the conditional dependence structure between random variables. Here's the LDA representation dependency graph: \n",
    "\n",
    "![](https://filebox.ece.vt.edu/~s14ece6504/projects/alfadda_topic/main_figure_3.png)\n",
    "\n",
    "These image is communicating the hierarchical dependency between probability distributions and their parameters. This is an application of Bayesian Probability - on steroids. \n",
    "\n",
    "\n",
    "In order to understand how LDA works, one must first understand how PGM work. If this is something that you're interested in learning more about here are some resources: \n",
    "\n",
    "This Github repo that has transformed a textbook in a collection of Jupyter Notebooks. This repo is call [**\"Bayesian Methods for Hackers\"**](https://github.com/CamDavidsonPilon/Probabilistic-Programming-and-Bayesian-Methods-for-Hackers) The cool thing about this repo is that each chapter has the same material covered in several notebooks but each notebook is written in a different python package: **PyMC2, PyMC3, Pyro, and Tensorflow Probability.** So you can even learn a new library if you want or stick to what you know. \n",
    "\n",
    "Having said that, [**Pyro**](https://pyro.ai/) is considered a very powerful probabilistic programming library that even combines probabilistic programming with deep learning. "
   ]
  },
  {
   "cell_type": "markdown",
   "metadata": {},
   "source": [
    "### Resources for LDA\n",
    "\n",
    "[**Your Guide to Latent Dirichlet Allocation**](https://medium.com/@lettier/how-does-lda-work-ill-explain-using-emoji-108abf40fa7d) Here's a medium article that works through an example of LDA. This is useful if you'd like to get an exposure of LDA outside of this notebook.\n",
    "\n",
    "[**LDA Topic Modeling**](https://lettier.com/projects/lda-topic-modeling/)This is an interactive data visualization tool that allows us to explore a simple and visual example of LDA. We'll be using this to learn about LDA in class. \n",
    "\n",
    "[**Topic Modeling with Gensim**](https://www.machinelearningplus.com/nlp/topic-modeling-gensim-python/) This is an example of implementing LDA using the same dataset that we are using in the guided project.  "
   ]
  },
  {
   "cell_type": "markdown",
   "metadata": {},
   "source": [
    "# Problem Statement\n",
    "\n",
    "We are going to load some emails. Those emails do belong to topics however those topics are hierarchical.\n",
    "\n",
    "    sci\n",
    "        \\_ electronics, space\n",
    "\n",
    "\n",
    "    talk\n",
    "        \\_politics \n",
    "                  \\_ guns, middle east\n",
    "              \n",
    "So what's the best way to categorize these emails - is it between science and talk? \n",
    "\n",
    "Is it between electronics, space, guns, and the Middle East? \n",
    "\n",
    "The Middle East is a pretty broad topics in and of itself, should that topic be broken down into further sub-topics?\n",
    "\n",
    "\n",
    "Let's learn about Topic Modeling and how it can help us answer this questions!\n",
    "\n",
    "### Load Email Corpus"
   ]
  },
  {
   "cell_type": "code",
   "execution_count": 2,
   "metadata": {},
   "outputs": [],
   "source": [
    "# notice that the categories are hierarchical\n",
    "# so there is a sense in which we 2 topics but also as many as 4 topics  \n",
    "categories = ['sci.electronics', 'sci.space', \n",
    "              'talk.politics.guns', 'talk.politics.mideast']\n",
    "data = fetch_20newsgroups(categories=categories)"
   ]
  },
  {
   "cell_type": "code",
   "execution_count": 3,
   "metadata": {
    "nbgrader": {
     "grade": false,
     "grade_id": "cell-3240b1c818e9dcc2",
     "locked": false,
     "schema_version": 3,
     "solution": true,
     "task": false
    }
   },
   "outputs": [],
   "source": [
    "# create X and Y from data\n",
    "\n",
    "###BEGIN SOLUTION\n",
    "X = data.data\n",
    "Y = data.target\n",
    "target_names = data.target_names\n",
    "###END SOLUTION"
   ]
  },
  {
   "cell_type": "code",
   "execution_count": 4,
   "metadata": {
    "colab": {
     "base_uri": "https://localhost:8080/",
     "height": 419
    },
    "colab_type": "code",
    "id": "qaMsy1XAGLxc",
    "outputId": "0a981642-93ef-4a95-c6a2-c5ca7c5151e0"
   },
   "outputs": [],
   "source": [
    "# loda data into a dataframe \n",
    "\n",
    "\n",
    "data = {\n",
    "    'content': X,\n",
    "    'target': Y,\n",
    "    'target_names': [target_names[target_id] for target_id in Y]\n",
    "}\n",
    "\n",
    "df = pd.DataFrame(data=data)"
   ]
  },
  {
   "cell_type": "code",
   "execution_count": 5,
   "metadata": {
    "colab": {
     "base_uri": "https://localhost:8080/",
     "height": 289
    },
    "colab_type": "code",
    "id": "na2bkOcFGter",
    "nbgrader": {
     "grade": false,
     "grade_id": "cell-6ce62b4e40acee5f",
     "locked": false,
     "schema_version": 3,
     "solution": true,
     "task": false
    },
    "outputId": "6c8d1a19-3719-4e28-d8c6-d3202fdd6257"
   },
   "outputs": [],
   "source": [
    "def clean_data(text):\n",
    "    \"\"\"\n",
    "    Accepts a single text document and performs several regex substitutions in order to clean the document. \n",
    "    \n",
    "    Parameters\n",
    "    ----------\n",
    "    text: string or object \n",
    "    \n",
    "    Returns\n",
    "    -------\n",
    "    text: string or object\n",
    "    \"\"\"\n",
    "    \n",
    "    # order of operations - apply the expression from top to bottom\n",
    "    email_regex = \"From: \\S*@\\S*\\s?\"\n",
    "    non_alpha = '[^a-zA-Z]'\n",
    "    multi_white_spaces = \"[ ]{2,}\"\n",
    "    \n",
    "    text = re.sub(email_regex, \"\", text)\n",
    "    text = re.sub(non_alpha, ' ', text)\n",
    "    text = re.sub(multi_white_spaces, \" \", text)\n",
    "    \n",
    "    # apply case normalization \n",
    "    return text.lower().lstrip().rstrip()"
   ]
  },
  {
   "cell_type": "code",
   "execution_count": 6,
   "metadata": {},
   "outputs": [],
   "source": [
    "# clean our text data and save it to a new column\n",
    "df[\"clean_data\"] = df[\"content\"].apply(clean_data)"
   ]
  },
  {
   "cell_type": "code",
   "execution_count": 7,
   "metadata": {},
   "outputs": [
    {
     "data": {
      "text/html": [
       "<div>\n",
       "<style scoped>\n",
       "    .dataframe tbody tr th:only-of-type {\n",
       "        vertical-align: middle;\n",
       "    }\n",
       "\n",
       "    .dataframe tbody tr th {\n",
       "        vertical-align: top;\n",
       "    }\n",
       "\n",
       "    .dataframe thead th {\n",
       "        text-align: right;\n",
       "    }\n",
       "</style>\n",
       "<table border=\"1\" class=\"dataframe\">\n",
       "  <thead>\n",
       "    <tr style=\"text-align: right;\">\n",
       "      <th></th>\n",
       "      <th>content</th>\n",
       "      <th>target</th>\n",
       "      <th>target_names</th>\n",
       "      <th>clean_data</th>\n",
       "    </tr>\n",
       "  </thead>\n",
       "  <tbody>\n",
       "    <tr>\n",
       "      <th>0</th>\n",
       "      <td>From: webb@itu1 (90-29265  Webber  AH)\\nSubjec...</td>\n",
       "      <td>0</td>\n",
       "      <td>sci.electronics</td>\n",
       "      <td>webber ah subject re adcom cheap products arti...</td>\n",
       "    </tr>\n",
       "    <tr>\n",
       "      <th>1</th>\n",
       "      <td>From: nate@psygate.psych.indiana.edu (Nathan E...</td>\n",
       "      <td>2</td>\n",
       "      <td>talk.politics.guns</td>\n",
       "      <td>nathan engle subject re atf burns dividian ran...</td>\n",
       "    </tr>\n",
       "    <tr>\n",
       "      <th>2</th>\n",
       "      <td>From: ab4z@Virginia.EDU (\"Andi Beyer\")\\nSubjec...</td>\n",
       "      <td>3</td>\n",
       "      <td>talk.politics.mideast</td>\n",
       "      <td>andi beyer subject re israeli terrorism organi...</td>\n",
       "    </tr>\n",
       "    <tr>\n",
       "      <th>3</th>\n",
       "      <td>From: levy@levy.fnal.gov (Mark E. Levy, ext. 8...</td>\n",
       "      <td>0</td>\n",
       "      <td>sci.electronics</td>\n",
       "      <td>mark e levy ext subject sources for intel d c ...</td>\n",
       "    </tr>\n",
       "    <tr>\n",
       "      <th>4</th>\n",
       "      <td>From: wolfone@ccwf.cc.utexas.edu (I am an andr...</td>\n",
       "      <td>2</td>\n",
       "      <td>talk.politics.guns</td>\n",
       "      <td>i am an android subject re atf burns dividian ...</td>\n",
       "    </tr>\n",
       "  </tbody>\n",
       "</table>\n",
       "</div>"
      ],
      "text/plain": [
       "                                             content  target  \\\n",
       "0  From: webb@itu1 (90-29265  Webber  AH)\\nSubjec...       0   \n",
       "1  From: nate@psygate.psych.indiana.edu (Nathan E...       2   \n",
       "2  From: ab4z@Virginia.EDU (\"Andi Beyer\")\\nSubjec...       3   \n",
       "3  From: levy@levy.fnal.gov (Mark E. Levy, ext. 8...       0   \n",
       "4  From: wolfone@ccwf.cc.utexas.edu (I am an andr...       2   \n",
       "\n",
       "            target_names                                         clean_data  \n",
       "0        sci.electronics  webber ah subject re adcom cheap products arti...  \n",
       "1     talk.politics.guns  nathan engle subject re atf burns dividian ran...  \n",
       "2  talk.politics.mideast  andi beyer subject re israeli terrorism organi...  \n",
       "3        sci.electronics  mark e levy ext subject sources for intel d c ...  \n",
       "4     talk.politics.guns  i am an android subject re atf burns dividian ...  "
      ]
     },
     "execution_count": 7,
     "metadata": {},
     "output_type": "execute_result"
    }
   ],
   "source": [
    "df.head()"
   ]
  },
  {
   "cell_type": "markdown",
   "metadata": {},
   "source": [
    "### Create Tokens \n",
    "\n",
    "Before we can use the Gemsim library to create bag-of-words vectors in exactly the right way that the LDA model wants, we must first create tokens. \n",
    "\n",
    "Let's use spaCy to create some lemmas. But first let's initialize our multi-processing library `pandarallel` which will empower us to use the same dataframe that our data is stored in but be able to create tokens in parallel so as to save time.\n",
    "\n",
    "Here's the documentation for [**pandarallel**](https://github.com/nalepae/pandarallel)"
   ]
  },
  {
   "cell_type": "code",
   "execution_count": 8,
   "metadata": {},
   "outputs": [
    {
     "name": "stdout",
     "output_type": "stream",
     "text": [
      "INFO: Pandarallel will run on 10 workers.\n",
      "INFO: Pandarallel will use standard multiprocessing data transfer (pipe) to transfer data between the main process and workers.\n"
     ]
    }
   ],
   "source": [
    "# we mush initalize pandarallel before we can use it\n",
    "pandarallel.initialize(progress_bar=True, nb_workers=10)"
   ]
  },
  {
   "cell_type": "code",
   "execution_count": 9,
   "metadata": {},
   "outputs": [],
   "source": [
    "# load in our spaCy language model\n",
    "nlp = spacy.load(\"en_core_web_lg\")"
   ]
  },
  {
   "cell_type": "code",
   "execution_count": 10,
   "metadata": {
    "colab": {},
    "colab_type": "code",
    "id": "6EBPQXqEKE9P"
   },
   "outputs": [
    {
     "data": {
      "application/vnd.jupyter.widget-view+json": {
       "model_id": "d86d167866af437591769314ec5df825",
       "version_major": 2,
       "version_minor": 0
      },
      "text/plain": [
       "VBox(children=(HBox(children=(IntProgress(value=0, description='0.00%', max=230), Label(value='0 / 230'))), HB…"
      ]
     },
     "metadata": {},
     "output_type": "display_data"
    },
    {
     "name": "stdout",
     "output_type": "stream",
     "text": [
      "CPU times: user 1.59 s, sys: 255 ms, total: 1.84 s\n",
      "Wall time: 23.5 s\n"
     ]
    }
   ],
   "source": [
    "%%time\n",
    "# create our tokens in the form of lemmas \n",
    "df['lemmas'] = df['clean_data'].parallel_apply(lambda x: [token.lemma_ for token in nlp(x) if (token.is_stop != True) and (token.is_punct != True)])"
   ]
  },
  {
   "cell_type": "markdown",
   "metadata": {},
   "source": [
    "### Take a look at our lemmas"
   ]
  },
  {
   "cell_type": "code",
   "execution_count": 11,
   "metadata": {},
   "outputs": [],
   "source": [
    "# print out the lemmeas from the first article"
   ]
  },
  {
   "cell_type": "markdown",
   "metadata": {},
   "source": [
    "### Filter out low quality lemmas"
   ]
  },
  {
   "cell_type": "code",
   "execution_count": 12,
   "metadata": {},
   "outputs": [],
   "source": [
    "def filter_lemmas(lemmas):\n",
    "    \"\"\"\n",
    "    Filter out any lemmas that are 2 characters or smaller\n",
    "    \"\"\"\n",
    "    return [lemmas for lemmas in lemmas if len(lemmas) > 2]"
   ]
  },
  {
   "cell_type": "code",
   "execution_count": 13,
   "metadata": {},
   "outputs": [],
   "source": [
    "# apply filter_lemmas"
   ]
  },
  {
   "cell_type": "markdown",
   "metadata": {},
   "source": [
    "### The two main inputs to the LDA topic model are the dictionary (id2word) and the corpus."
   ]
  },
  {
   "cell_type": "code",
   "execution_count": 14,
   "metadata": {
    "colab": {},
    "colab_type": "code",
    "id": "1klqRpqtJxWc",
    "nbgrader": {
     "grade": false,
     "grade_id": "cell-79d38b90e5c6e38b",
     "locked": false,
     "schema_version": 3,
     "solution": true,
     "task": false
    }
   },
   "outputs": [
    {
     "data": {
      "text/plain": [
       "[('article', 3),\n",
       " ('drop', 1),\n",
       " ('good', 1),\n",
       " ('hear', 1),\n",
       " ('inside', 3),\n",
       " ('line', 1),\n",
       " ('m', 4),\n",
       " ('organization', 1),\n",
       " ('people', 2),\n",
       " ('point', 1),\n",
       " ('s', 4),\n",
       " ('subject', 1),\n",
       " ('sure', 1),\n",
       " ('t', 4),\n",
       " ('think', 1),\n",
       " ('true', 1),\n",
       " ('w', 2),\n",
       " ('want', 2),\n",
       " ('believe', 1),\n",
       " ('child', 2),\n",
       " ('come', 3),\n",
       " ('distribution', 1),\n",
       " ('edu', 4),\n",
       " ('fbi', 5),\n",
       " ('fire', 1),\n",
       " ('get', 3),\n",
       " ('host', 1),\n",
       " ('nntp', 1),\n",
       " ('place', 1),\n",
       " ('posting', 1),\n",
       " ('set', 1),\n",
       " ('write', 3),\n",
       " ('doubt', 1),\n",
       " ('happen', 1),\n",
       " ('truth', 2),\n",
       " ('c', 2),\n",
       " ('com', 5),\n",
       " ('day', 4),\n",
       " ('j', 1),\n",
       " ('let', 1),\n",
       " ('news', 2),\n",
       " ('r', 1),\n",
       " ('stay', 2),\n",
       " ('way', 1),\n",
       " ('action', 2),\n",
       " ('affair', 1),\n",
       " ('agree', 2),\n",
       " ('alive', 1),\n",
       " ('american', 2),\n",
       " ('ample', 1),\n",
       " ('apparently', 1),\n",
       " ('april', 2),\n",
       " ('arlen', 1),\n",
       " ('arm', 2),\n",
       " ('arras', 2),\n",
       " ('bastard', 1),\n",
       " ('batf', 2),\n",
       " ('bill', 2),\n",
       " ('bleed', 4),\n",
       " ('blind', 1),\n",
       " ('bungle', 1),\n",
       " ('chatham', 2),\n",
       " ('choose', 2),\n",
       " ('chopin', 2),\n",
       " ('clem', 1),\n",
       " ('clinton', 2),\n",
       " ('comment', 1),\n",
       " ('common', 1),\n",
       " ('compound', 1),\n",
       " ('congress', 1),\n",
       " ('country', 2),\n",
       " ('course', 1),\n",
       " ('creature', 1),\n",
       " ('cry', 1),\n",
       " ('cube', 1),\n",
       " ('dale', 1),\n",
       " ('de', 2),\n",
       " ('dept', 1),\n",
       " ('deserve', 3),\n",
       " ('devotion', 1),\n",
       " ('die', 3),\n",
       " ('ds', 1),\n",
       " ('earl', 2),\n",
       " ('early', 1),\n",
       " ('englishman', 2),\n",
       " ('feel', 1),\n",
       " ('find', 1),\n",
       " ('folk', 1),\n",
       " ('foreign', 2),\n",
       " ('gas', 2),\n",
       " ('give', 1),\n",
       " ('go', 2),\n",
       " ('god', 1),\n",
       " ('government', 1),\n",
       " ('gunfire', 1),\n",
       " ('hand', 2),\n",
       " ('handheld', 5),\n",
       " ('haven', 2),\n",
       " ('heart', 4),\n",
       " ('heartless', 2),\n",
       " ('hold', 1),\n",
       " ('human', 2),\n",
       " ('inc', 1),\n",
       " ('investigate', 2),\n",
       " ('jim', 4),\n",
       " ('jmd', 3),\n",
       " ('justice', 1),\n",
       " ('keep', 1),\n",
       " ('kind', 1),\n",
       " ('land', 2),\n",
       " ('lay', 2),\n",
       " ('leave', 1),\n",
       " ('likely', 1),\n",
       " ('lre', 1),\n",
       " ('morning', 1),\n",
       " ('motion', 1),\n",
       " ('mr', 1),\n",
       " ('murder', 1),\n",
       " ('noriega', 1),\n",
       " ('nov', 2),\n",
       " ('opinion', 1),\n",
       " ('opportunity', 1),\n",
       " ('pitt', 2),\n",
       " ('plan', 1),\n",
       " ('possible', 2),\n",
       " ('products', 1),\n",
       " ('propose', 1),\n",
       " ('qsrinnc', 1),\n",
       " ('quickly', 1),\n",
       " ('rational', 1),\n",
       " ('release', 1),\n",
       " ('religious', 1),\n",
       " ('rethink', 4),\n",
       " ('roby', 5),\n",
       " ('say', 1),\n",
       " ('scott', 2),\n",
       " ('sense', 1),\n",
       " ('smart', 1),\n",
       " ('spectre', 1),\n",
       " ('spov', 1),\n",
       " ('spread', 1),\n",
       " ('start', 3),\n",
       " ('suck', 1),\n",
       " ('take', 1),\n",
       " ('tank', 1),\n",
       " ('tear', 2),\n",
       " ('thing', 1),\n",
       " ('today', 2),\n",
       " ('trial', 3),\n",
       " ('troop', 2),\n",
       " ('udel', 4),\n",
       " ('undeniable', 3),\n",
       " ('unworthy', 1),\n",
       " ('waco', 1),\n",
       " ('walk', 1),\n",
       " ('william', 2),\n",
       " ('world', 1),\n",
       " ('yesterday', 2)]"
      ]
     },
     "execution_count": 14,
     "metadata": {},
     "output_type": "execute_result"
    }
   ],
   "source": [
    "# Create Dictionary\n",
    "\n",
    "# Term Document Frequency\n",
    "\n",
    "# stores (token id, token count) for each doc in the corpus\n",
    "\n",
    "# Human readable format of corpus (term-frequency)\n",
    "\n",
    "\n",
    "### BEGIN SOLUTION\n",
    "# Create Dictionary\n",
    "id2word = corpora.Dictionary(df['lemmas'] )\n",
    "\n",
    "# Term Document Frequency\n",
    "corpus = [id2word.doc2bow(text) for text in df['lemmas']]\n",
    "\n",
    "# stores (token id, token count) for each doc in the corpus\n",
    "doc_id = 5\n",
    "corpus[doc_id]\n",
    "\n",
    "# Human readable format of corpus (term-frequency)\n",
    "[(id2word[word_id], word_count) for word_id, word_count in corpus[doc_id]]\n",
    "\n",
    "### END SOLUTION"
   ]
  },
  {
   "cell_type": "markdown",
   "metadata": {},
   "source": [
    "# Part 2: Estimate a LDA Model with Gensim"
   ]
  },
  {
   "cell_type": "markdown",
   "metadata": {},
   "source": [
    " ### Train an LDA model"
   ]
  },
  {
   "cell_type": "code",
   "execution_count": 15,
   "metadata": {
    "colab": {},
    "colab_type": "code",
    "id": "Fasvjf0VLQ2a"
   },
   "outputs": [],
   "source": [
    "### This cell runs the single-processor version of the model (slower)\n",
    "# %%time\n",
    "# lda_model = gensim.models.ldamodel.LdaModel(corpus=corpus,\n",
    "#                                            id2word=id2word,\n",
    "#                                            num_topics=20, \n",
    "#                                            chunksize=100,\n",
    "#                                            passes=10,\n",
    "#                                            per_word_topics=True)\n",
    "# lda_model.save('lda_model.model')\n",
    "# # https://radimrehurek.com/gensim/models/ldamodel.html"
   ]
  },
  {
   "cell_type": "code",
   "execution_count": 16,
   "metadata": {},
   "outputs": [
    {
     "name": "stdout",
     "output_type": "stream",
     "text": [
      "CPU times: user 11.4 s, sys: 1.27 s, total: 12.7 s\n",
      "Wall time: 13 s\n"
     ]
    }
   ],
   "source": [
    "%%time\n",
    "\n",
    "num_topics = 2\n",
    "### This cell runs the multi-processor version of the model (faster)\n",
    "lda_multicore_2_topics = gensim.models.ldamulticore.LdaMulticore(corpus=corpus,\n",
    "                                                        id2word=id2word,\n",
    "                                                        num_topics=num_topics, \n",
    "                                                        chunksize=100,\n",
    "                                                        passes=10,# runtime related parameter\n",
    "                                                        per_word_topics=True,\n",
    "                                                        workers=10, # runtime related parameter\n",
    "                                                        random_state=1234, \n",
    "                                                        iterations=20) # runtime related parameter\n",
    "\n",
    "num_topics = 6\n",
    "### This cell runs the multi-processor version of the model (faster)\n",
    "lda_multicore_6_topics = gensim.models.ldamulticore.LdaMulticore(corpus=corpus,\n",
    "                                                        id2word=id2word,\n",
    "                                                        num_topics=num_topics, \n",
    "                                                        chunksize=100,\n",
    "                                                        passes=10,# runtime related parameter\n",
    "                                                        per_word_topics=True,\n",
    "                                                        workers=10, # runtime related parameter\n",
    "                                                        random_state=1234, \n",
    "                                                        iterations=20) # runtime related parameter"
   ]
  },
  {
   "cell_type": "code",
   "execution_count": 17,
   "metadata": {},
   "outputs": [],
   "source": [
    "from gensim import models\n",
    "#lda_multicore =  models.LdaModel.load('lda_multicore.model')"
   ]
  },
  {
   "cell_type": "markdown",
   "metadata": {},
   "source": [
    "# Part 3: Interpret LDA results & Select the appropriate number of topics"
   ]
  },
  {
   "cell_type": "code",
   "execution_count": 18,
   "metadata": {
    "colab": {},
    "colab_type": "code",
    "id": "CYXi480VLaHK"
   },
   "outputs": [
    {
     "data": {
      "text/html": [
       "\n",
       "<link rel=\"stylesheet\" type=\"text/css\" href=\"https://cdn.rawgit.com/bmabey/pyLDAvis/files/ldavis.v1.0.0.css\">\n",
       "\n",
       "\n",
       "<div id=\"ldavis_el799871402706895999208444218515\"></div>\n",
       "<script type=\"text/javascript\">\n",
       "\n",
       "var ldavis_el799871402706895999208444218515_data = {\"mdsDat\": {\"x\": [0.11672427505254744, -0.11672427505254744], \"y\": [0.0, 0.0], \"topics\": [1, 2], \"cluster\": [1, 1], \"Freq\": [59.58360179189426, 40.41639820810575]}, \"tinfo\": {\"Term\": [\"space\", \"nasa\", \"gun\", \"israel\", \"people\", \"larson\", \"right\", \"turkish\", \"israeli\", \"launch\", \"armenian\", \"satellite\", \"armenians\", \"orbit\", \"radar\", \"sci\", \"shuttle\", \"v\", \"universe\", \"star\", \"theory\", \"government\", \"radio\", \"earth\", \"detector\", \"jews\", \"gov\", \"physicist\", \"system\", \"datum\", \"firearm\", \"israel\", \"israeli\", \"israelis\", \"arabs\", \"teknikum\", \"palestinians\", \"kurds\", \"hasan\", \"arab\", \"frej\", \"mcrcim\", \"stratus\", \"ifas\", \"zionism\", \"handgun\", \"flygare\", \"gnv\", \"flax\", \"jonas\", \"crime\", \"territory\", \"lebanon\", \"lebanese\", \"occupation\", \"azerbaijan\", \"fbi\", \"karabakh\", \"brady\", \"religious\", \"jews\", \"armenians\", \"armenia\", \"weapon\", \"genocide\", \"turks\", \"peace\", \"serdar\", \"argic\", \"turkish\", \"attack\", \"jewish\", \"gun\", \"village\", \"citizen\", \"armenian\", \"child\", \"war\", \"right\", \"yalanci\", \"davidian\", \"people\", \"government\", \"human\", \"lie\", \"kill\", \"law\", \"say\", \"think\", \"t\", \"s\", \"state\", \"write\", \"edu\", \"article\", \"don\", \"go\", \"know\", \"apr\", \"like\", \"subject\", \"line\", \"com\", \"way\", \"organization\", \"time\", \"question\", \"radar\", \"physicist\", \"antenna\", \"electron\", \"detector\", \"unified\", \"larson\", \"baalke\", \"astronomer\", \"jpl\", \"galileo\", \"orbital\", \"star\", \"mu\", \"orbit\", \"kelvin\", \"fnal\", \"gamma\", \"tracking\", \"faq\", \"astro\", \"telemetry\", \"particle\", \"sequence\", \"satellite\", \"optical\", \"propulsion\", \"td\", \"mercury\", \"outward\", \"nasa\", \"shuttle\", \"solar\", \"sci\", \"output\", \"digital\", \"space\", \"spacecraft\", \"speed\", \"launch\", \"astronomy\", \"mission\", \"universe\", \"signal\", \"datum\", \"circuit\", \"project\", \"earth\", \"radio\", \"v\", \"gov\", \"theory\", \"henry\", \"list\", \"physical\", \"ground\", \"system\", \"power\", \"line\", \"organization\", \"m\", \"s\", \"subject\", \"edu\", \"e\", \"b\", \"university\", \"t\", \"d\", \"work\", \"use\", \"write\", \"com\", \"host\", \"time\", \"article\", \"nntp\", \"posting\", \"c\", \"like\", \"post\", \"know\"], \"Freq\": [1671.0, 640.0, 1252.0, 952.0, 1916.0, 423.0, 1343.0, 843.0, 696.0, 425.0, 883.0, 377.0, 721.0, 345.0, 339.0, 351.0, 303.0, 438.0, 330.0, 287.0, 419.0, 778.0, 340.0, 320.0, 246.0, 473.0, 362.0, 236.0, 824.0, 275.0, 311.68502922009293, 948.3821413948524, 693.6052384725085, 233.29201023678354, 241.10957133540873, 94.56675589226357, 176.61281191405726, 163.1916808368489, 172.7716945127418, 248.73370085563178, 85.38855904779821, 121.70685035442291, 135.23755500269033, 88.15643814065275, 97.06585531857947, 191.188125867481, 74.43301540939267, 88.11342031325741, 75.60342287392942, 75.01400877552084, 338.69466550597883, 180.92663488862766, 147.55318440089127, 184.8800980879577, 111.874415380702, 298.8350066246942, 276.81508156896507, 137.79952377972106, 71.12478245977375, 91.35904404069619, 469.74373489436056, 712.6376690619026, 443.584436491674, 450.73669284995316, 414.460624120632, 412.94548688966836, 322.9507055298104, 409.5429461978553, 410.08561891470043, 828.1314088229918, 474.3052596919152, 235.41433206119763, 1220.3250898313445, 255.51189238101384, 241.5311579354734, 861.6718172365419, 447.0563348830816, 411.58003504981434, 1265.779504050008, 287.51605599107035, 378.82322296970375, 1762.3393693294138, 741.3508053668495, 493.69684603304614, 350.7392409710235, 577.2058946629621, 559.7890555123886, 1136.731373079506, 1029.7571252550736, 2607.44495285936, 2936.0248101510806, 687.3383110014676, 1586.831628024221, 2129.2446325402766, 1366.8927438334315, 920.6809794123228, 713.0979925169058, 961.1877786299876, 776.9994737994522, 913.8882652824607, 1233.3190303966264, 1199.506839690023, 930.6053438102063, 683.4465502905681, 1028.1040753072564, 745.0511709341613, 624.8334375249883, 338.4960998229653, 235.74232785383566, 184.35548007093325, 148.85255841263725, 245.03313656007288, 137.4236936968004, 421.32139504567886, 139.87722009747927, 109.36169092591943, 162.22340916795974, 91.49392509290097, 169.43524702477774, 285.96935209142214, 91.49293697930068, 343.56726014430535, 99.35070872974273, 92.14617081421666, 108.2773269947315, 76.52895469935291, 156.88929971823325, 130.34827601357298, 68.81385445344202, 88.66927129018794, 64.0489286858561, 374.35748489674484, 74.57621536237028, 116.69263680273932, 69.28747343452632, 76.09094309765037, 65.98794534314494, 633.7389585498278, 300.1416033077444, 185.1011226930597, 344.80756453408543, 126.34193917283561, 129.3421545470608, 1609.024989070967, 196.44684470738673, 210.31862872688717, 410.4860639542753, 129.95173997610289, 193.9854738946566, 317.8746932901605, 169.27956871877342, 263.07711934607306, 187.46089929521344, 198.56132714966526, 297.80854610396574, 311.3896835658962, 385.9109527541362, 321.51335104367286, 361.00072988441417, 227.78440373205027, 338.2240660991313, 230.6905668239951, 288.9455905866526, 558.0586522740352, 409.6326161217993, 1095.8232257695483, 1006.2195519112038, 734.8049921585006, 1746.4784471692778, 1055.2787065355863, 1233.7155676310563, 384.70113872687926, 409.79293251204984, 548.0650729765738, 1031.2508489453364, 541.981923003871, 481.69303880248486, 485.5891102316637, 696.8278743762545, 581.965153381703, 466.8966224401204, 517.7006646891068, 598.3523923093614, 453.5125632274879, 465.2941038362924, 457.67627228325864, 471.1357104476844, 408.3019699171358, 429.30757115019895], \"Total\": [1671.0, 640.0, 1252.0, 952.0, 1916.0, 423.0, 1343.0, 843.0, 696.0, 425.0, 883.0, 377.0, 721.0, 345.0, 339.0, 351.0, 303.0, 438.0, 330.0, 287.0, 419.0, 778.0, 340.0, 320.0, 246.0, 473.0, 362.0, 236.0, 824.0, 275.0, 312.9939871819656, 952.4488291012333, 696.6379034217462, 234.33845656890946, 242.22056904001295, 95.05234338357697, 177.51989854491228, 164.03793609401177, 173.70799815979112, 250.09508177297684, 85.87074265160399, 122.40566360739368, 136.03751126130268, 88.6888674864539, 97.65850543837787, 192.40551474965113, 74.9117158418628, 88.68623643931593, 76.09516846974479, 75.502468838475, 340.9050997339941, 182.11157640139604, 148.52291462972798, 186.10801986409695, 112.62041806877765, 300.8339461016042, 278.72597416894064, 138.7684620367675, 71.64211325803998, 92.03224810519959, 473.39017404247517, 721.536384460824, 447.4842691172963, 455.04573306169004, 418.3396953325947, 417.02318878578507, 325.4059693215582, 414.127066711998, 414.7093978849337, 843.6004305840943, 481.090945830932, 237.24153575592422, 1252.266456845326, 258.3377914085191, 244.14644004493798, 883.8446780739027, 455.28053293386256, 420.15241584944937, 1343.990142393318, 292.5990538251174, 388.83871973592665, 1916.422870065674, 778.9589509438173, 518.5525940991564, 361.1957495996957, 614.025661704591, 602.4108920179083, 1344.3302292043963, 1248.101857942166, 3638.695801804696, 4682.503257320359, 816.4826613382179, 2283.6595024004755, 3362.960200171333, 1965.245136142793, 1271.9411677432836, 902.5367524249705, 1390.4953497801866, 1059.146741988215, 1385.0239757301451, 2288.5977369322127, 2295.3300654595714, 1512.5704971919092, 937.446595951821, 2034.3236272184602, 1262.751835623268, 914.6467935085293, 339.4194292504215, 236.57927509813172, 185.10681065318553, 149.46192924706727, 246.0422910427226, 138.01463268261483, 423.3763191925558, 140.58474967964065, 109.98952229278112, 163.1801163380245, 92.03744073071442, 170.46032520600178, 287.7647681798327, 92.0698969015309, 345.7854332950579, 100.00335943622817, 92.78047943965676, 109.03854611935986, 77.0726643884081, 158.0092550212075, 131.27924915544097, 69.30822043042745, 89.33606422123583, 64.54883232321714, 377.28185011608804, 75.17888788703179, 117.64439119518069, 69.85267084377134, 76.7218988520843, 66.5376721884328, 640.9347464893583, 303.0082309084926, 187.10015683071083, 351.9969403052356, 127.67680361313096, 130.90656453539123, 1671.5063023344464, 199.83802126609774, 214.49258383995664, 425.5394588513175, 131.6412614541594, 198.24432288405555, 330.7457361292239, 173.07273955373384, 275.00735159756886, 193.09755901695604, 206.62889499589815, 320.641032805473, 340.84091972356373, 438.37411041848543, 362.8023567651775, 419.1375435868383, 245.63980844376044, 398.2618917008915, 251.3051363226474, 342.4881813347105, 824.9074813187864, 550.6198292881597, 2295.3300654595714, 2034.3236272184602, 1305.407367891009, 4682.503257320359, 2288.5977369322127, 3362.960200171333, 553.2228086462466, 615.4505817740145, 1078.465490405109, 3638.695801804696, 1086.741792295493, 882.9966886567734, 966.6038131933619, 2283.6595024004755, 1512.5704971919092, 933.9184912632927, 1262.751835623268, 1965.245136142793, 907.216683485385, 1015.1326334524506, 990.0830982611462, 1385.0239757301451, 786.224761680101, 1390.4953497801866], \"Category\": [\"Default\", \"Default\", \"Default\", \"Default\", \"Default\", \"Default\", \"Default\", \"Default\", \"Default\", \"Default\", \"Default\", \"Default\", \"Default\", \"Default\", \"Default\", \"Default\", \"Default\", \"Default\", \"Default\", \"Default\", \"Default\", \"Default\", \"Default\", \"Default\", \"Default\", \"Default\", \"Default\", \"Default\", \"Default\", \"Default\", \"Topic1\", \"Topic1\", \"Topic1\", \"Topic1\", \"Topic1\", \"Topic1\", \"Topic1\", \"Topic1\", \"Topic1\", \"Topic1\", \"Topic1\", \"Topic1\", \"Topic1\", \"Topic1\", \"Topic1\", \"Topic1\", \"Topic1\", \"Topic1\", \"Topic1\", \"Topic1\", \"Topic1\", \"Topic1\", \"Topic1\", \"Topic1\", \"Topic1\", \"Topic1\", \"Topic1\", \"Topic1\", \"Topic1\", \"Topic1\", \"Topic1\", \"Topic1\", \"Topic1\", \"Topic1\", \"Topic1\", \"Topic1\", \"Topic1\", \"Topic1\", \"Topic1\", \"Topic1\", \"Topic1\", \"Topic1\", \"Topic1\", \"Topic1\", \"Topic1\", \"Topic1\", \"Topic1\", \"Topic1\", \"Topic1\", \"Topic1\", \"Topic1\", \"Topic1\", \"Topic1\", \"Topic1\", \"Topic1\", \"Topic1\", \"Topic1\", \"Topic1\", \"Topic1\", \"Topic1\", \"Topic1\", \"Topic1\", \"Topic1\", \"Topic1\", \"Topic1\", \"Topic1\", \"Topic1\", \"Topic1\", \"Topic1\", \"Topic1\", \"Topic1\", \"Topic1\", \"Topic1\", \"Topic1\", \"Topic1\", \"Topic1\", \"Topic1\", \"Topic2\", \"Topic2\", \"Topic2\", \"Topic2\", \"Topic2\", \"Topic2\", \"Topic2\", \"Topic2\", \"Topic2\", \"Topic2\", \"Topic2\", \"Topic2\", \"Topic2\", \"Topic2\", \"Topic2\", \"Topic2\", \"Topic2\", \"Topic2\", \"Topic2\", \"Topic2\", \"Topic2\", \"Topic2\", \"Topic2\", \"Topic2\", \"Topic2\", \"Topic2\", \"Topic2\", \"Topic2\", \"Topic2\", \"Topic2\", \"Topic2\", \"Topic2\", \"Topic2\", \"Topic2\", \"Topic2\", \"Topic2\", \"Topic2\", \"Topic2\", \"Topic2\", \"Topic2\", \"Topic2\", \"Topic2\", \"Topic2\", \"Topic2\", \"Topic2\", \"Topic2\", \"Topic2\", \"Topic2\", \"Topic2\", \"Topic2\", \"Topic2\", \"Topic2\", \"Topic2\", \"Topic2\", \"Topic2\", \"Topic2\", \"Topic2\", \"Topic2\", \"Topic2\", \"Topic2\", \"Topic2\", \"Topic2\", \"Topic2\", \"Topic2\", \"Topic2\", \"Topic2\", \"Topic2\", \"Topic2\", \"Topic2\", \"Topic2\", \"Topic2\", \"Topic2\", \"Topic2\", \"Topic2\", \"Topic2\", \"Topic2\", \"Topic2\", \"Topic2\", \"Topic2\", \"Topic2\", \"Topic2\", \"Topic2\"], \"logprob\": [30.0, 29.0, 28.0, 27.0, 26.0, 25.0, 24.0, 23.0, 22.0, 21.0, 20.0, 19.0, 18.0, 17.0, 16.0, 15.0, 14.0, 13.0, 12.0, 11.0, 10.0, 9.0, 8.0, 7.0, 6.0, 5.0, 4.0, 3.0, 2.0, 1.0, -6.708499908447266, -5.595699787139893, -5.908599853515625, -6.998199939727783, -6.965199947357178, -7.901199817657471, -7.276500225067139, -7.355500221252441, -7.298500061035156, -6.934100151062012, -8.003299713134766, -7.648900032043457, -7.543399810791016, -7.971399784088135, -7.875100135803223, -7.197199821472168, -8.140600204467773, -7.971799850463867, -8.125, -8.132800102233887, -6.625400066375732, -7.252399921417236, -7.456299781799316, -7.230800151824951, -7.733099937438965, -6.7505998611450195, -6.827099800109863, -7.524700164794922, -8.185999870300293, -7.935699939727783, -6.298299789428711, -5.881499767303467, -6.355599880218506, -6.339600086212158, -6.423500061035156, -6.427199840545654, -6.672999858856201, -6.435400009155273, -6.434100151062012, -5.731299877166748, -6.288599967956543, -6.989099979400635, -5.343599796295166, -6.907199859619141, -6.963500022888184, -5.6915998458862305, -6.347799777984619, -6.430500030517578, -5.307000160217285, -6.7891998291015625, -6.513400077819824, -4.976099967956543, -5.8420000076293945, -6.248499870300293, -6.590400218963623, -6.092299938201904, -6.122900009155273, -5.414599895477295, -5.513400077819824, -4.5843000411987305, -4.465700149536133, -5.917600154876709, -5.080999851226807, -4.786900043487549, -5.230199813842773, -5.625400066375732, -5.880799770355225, -5.582300186157227, -5.795000076293945, -5.632800102233887, -5.333000183105469, -5.360799789428711, -5.61460018157959, -5.923299789428711, -5.514999866485596, -5.836999893188477, -6.013000011444092, -6.237800121307373, -6.599599838256836, -6.8454999923706055, -7.0594000816345215, -6.5609002113342285, -7.1392998695373535, -6.018899917602539, -7.121600151062012, -7.367700099945068, -6.973299980163574, -7.54610013961792, -6.929900169372559, -6.406400203704834, -7.54610013961792, -6.222899913787842, -7.463699817657471, -7.538899898529053, -7.377600193023682, -7.724699974060059, -7.006800174713135, -7.1921000480651855, -7.830900192260742, -7.577400207519531, -7.902699947357178, -6.1371002197265625, -7.750500202178955, -7.302800178527832, -7.824100017547607, -7.730400085449219, -7.872900009155273, -5.6107001304626465, -6.358099937438965, -6.841400146484375, -6.219299793243408, -7.223299980163574, -7.199900150299072, -4.678899765014648, -6.781899929046631, -6.713699817657471, -6.045000076293945, -7.195199966430664, -6.79449987411499, -6.3007001876831055, -6.930799961090088, -6.4899001121521, -6.828800201416016, -6.771200180053711, -6.365900039672852, -6.321300029754639, -6.1066999435424805, -6.289299964904785, -6.173399925231934, -6.633900165557861, -6.23859977722168, -6.621200084686279, -6.396100044250488, -5.7378997802734375, -6.047100067138672, -5.0630998611450195, -5.148399829864502, -5.462699890136719, -4.5970001220703125, -5.100800037384033, -4.944499969482422, -6.109899997711182, -6.0467000007629395, -5.755899906158447, -5.123799800872803, -5.767099857330322, -5.885000228881836, -5.876999855041504, -5.5157999992370605, -5.695899963378906, -5.916200160980225, -5.812900066375732, -5.668099880218506, -5.945300102233887, -5.9197001457214355, -5.936200141906738, -5.907199859619141, -6.050300121307373, -6.000199794769287], \"loglift\": [30.0, 29.0, 28.0, 27.0, 26.0, 25.0, 24.0, 23.0, 22.0, 21.0, 20.0, 19.0, 18.0, 17.0, 16.0, 15.0, 14.0, 13.0, 12.0, 11.0, 10.0, 9.0, 8.0, 7.0, 6.0, 5.0, 4.0, 3.0, 2.0, 1.0, 0.5136, 0.5135, 0.5134, 0.5133, 0.5132, 0.5127, 0.5127, 0.5126, 0.5124, 0.5123, 0.5122, 0.5121, 0.5119, 0.5118, 0.5117, 0.5114, 0.5114, 0.5113, 0.5113, 0.5113, 0.5113, 0.5113, 0.5112, 0.5112, 0.5111, 0.5111, 0.5109, 0.5108, 0.5105, 0.5104, 0.5101, 0.5054, 0.509, 0.5083, 0.5085, 0.508, 0.5102, 0.5067, 0.5066, 0.4993, 0.5036, 0.5101, 0.492, 0.5068, 0.507, 0.4924, 0.4996, 0.4972, 0.4578, 0.5003, 0.4917, 0.434, 0.4683, 0.4687, 0.4884, 0.456, 0.4444, 0.3501, 0.3255, 0.1845, 0.051, 0.3456, 0.1537, 0.0607, 0.1547, 0.1946, 0.2822, 0.1485, 0.208, 0.102, -0.1004, -0.1312, 0.0321, 0.2018, -0.1647, -0.0098, 0.1367, 0.9032, 0.9024, 0.9019, 0.9018, 0.9018, 0.9016, 0.9011, 0.9009, 0.9002, 0.9001, 0.9, 0.8999, 0.8997, 0.8996, 0.8995, 0.8994, 0.8991, 0.8989, 0.8989, 0.8988, 0.8988, 0.8988, 0.8984, 0.8982, 0.8982, 0.8979, 0.8978, 0.8978, 0.8977, 0.8976, 0.8946, 0.8964, 0.8952, 0.8853, 0.8954, 0.8939, 0.8678, 0.8888, 0.8863, 0.8699, 0.893, 0.8842, 0.8662, 0.8838, 0.8616, 0.8763, 0.8661, 0.8321, 0.8156, 0.7785, 0.7851, 0.7566, 0.8305, 0.7425, 0.8203, 0.7359, 0.5151, 0.6102, 0.1666, 0.202, 0.3313, -0.0803, 0.1318, -0.0969, 0.5426, 0.4992, 0.229, -0.3549, 0.2102, 0.2999, 0.2175, -0.2811, -0.0492, 0.2127, 0.0143, -0.2833, 0.2126, 0.1258, 0.1343, -0.1724, 0.2507, -0.2693]}, \"token.table\": {\"Topic\": [1, 2, 1, 2, 1, 2, 1, 2, 1, 2, 1, 2, 1, 2, 1, 2, 1, 2, 1, 2, 1, 2, 1, 2, 1, 2, 1, 2, 1, 2, 1, 2, 1, 2, 1, 2, 1, 2, 1, 2, 1, 2, 1, 2, 1, 2, 1, 2, 1, 2, 1, 2, 1, 2, 1, 2, 1, 2, 1, 2, 1, 2, 1, 2, 1, 2, 1, 2, 1, 2, 1, 2, 1, 1, 1, 2, 1, 1, 2, 1, 2, 1, 2, 1, 2, 1, 2, 1, 2, 1, 2, 1, 2, 1, 2, 1, 2, 1, 2, 1, 2, 1, 2, 1, 2, 1, 2, 1, 2, 1, 2, 1, 2, 1, 2, 1, 2, 1, 1, 2, 1, 2, 1, 2, 1, 2, 1, 2, 1, 2, 1, 2, 1, 2, 1, 2, 1, 2, 1, 2, 1, 2, 1, 2, 1, 2, 1, 2, 1, 2, 1, 2, 1, 2, 1, 2, 1, 2, 1, 2, 1, 2, 1, 2, 1, 2, 1, 2, 1, 2, 1, 2, 1, 2, 1, 2, 1, 2, 1, 2, 1, 2, 1, 2, 1, 2, 1, 2, 1, 2, 1, 2, 1, 2, 1, 2, 1, 2, 1, 2, 1, 2, 1, 2, 1, 2, 1, 2, 1, 2, 1, 2, 1, 2, 1, 2, 2, 1, 2, 1, 2, 1, 2, 1, 2, 1, 2, 1, 2, 1, 2, 1, 2, 1, 2, 1, 2, 1, 2, 1, 2, 1, 2, 1, 2, 1, 2, 1, 2, 1, 2, 1, 2, 1, 2, 1, 2, 1, 2, 1, 2, 1, 2, 1, 2, 1, 2, 1, 2, 1, 2, 1, 2, 1, 2, 1, 2, 1, 2, 1, 2, 1, 2, 1, 2, 1, 2], \"Freq\": [0.00540228636899585, 0.9940206918952365, 0.7336093944276568, 0.2662520582092654, 0.9956213382317894, 0.003998479270007186, 0.9949609191124833, 0.0041284685440352, 0.9886441013660356, 0.012056635382512629, 0.9922136500481472, 0.00893886171214547, 0.9752844831045345, 0.02489125130893244, 0.9881691559224655, 0.01247338345484178, 0.6955875248637049, 0.3042877394795139, 0.007617350087186679, 0.9902555113342683, 0.009091775099614488, 0.9910034858579791, 0.015192804884329123, 0.9875323174813929, 0.9852606957325196, 0.014550263439087843, 0.9939037926890577, 0.0066481859042746335, 0.33471412019176633, 0.6661785887311854, 0.007113147068076467, 0.9958405895307054, 0.9910372094172148, 0.01395827055517204, 0.5373286352775195, 0.46258743412989467, 0.9818122402895152, 0.017571583718828013, 0.031072376215139703, 0.9684223920385208, 0.991208390978206, 0.012287707326176107, 0.6155085014076394, 0.38477545415601083, 0.994411642021546, 0.005866735351159564, 0.5014990716873162, 0.49873852633857874, 0.0436351971330576, 0.9563380704995124, 0.9746971707380159, 0.02571760344955187, 0.0040643419298447385, 0.9957637728119609, 0.015278072624534351, 0.9854356842824656, 0.7240900942250859, 0.27595615968838777, 0.3054827049042831, 0.6959221383914141, 0.07173130587423499, 0.9293882239357403, 0.6330732073164391, 0.3669386274440986, 0.006690667014922276, 0.9969093852234191, 0.006328743211059271, 0.9936126841363055, 0.9938076306878579, 0.007175506358757098, 0.9968242610955087, 0.003194949554793297, 0.9987493493784348, 0.9878294625664774, 0.010778129257786248, 0.9915878917163349, 0.9898598448701349, 0.010865143490091456, 0.9887280575983225, 0.009171068723764369, 0.9904754221665519, 0.9896263840581886, 0.009561607575441436, 0.9922621991092666, 0.011275706808059848, 0.7899955299153016, 0.20940975477418236, 0.11300918870970042, 0.8875355796225253, 0.9512696389227896, 0.048783058406296896, 0.15766967429228254, 0.8438247383420306, 0.9742335533552413, 0.02555366697325223, 0.992695039165172, 0.005197356225995664, 0.9959242051759768, 0.0057567873131559345, 0.07327802490173788, 0.9281883154220131, 0.5000436380355833, 0.5000436380355833, 0.9526516801216474, 0.04821111741506313, 0.9922327626231204, 0.011275372302535459, 0.9953290623440302, 0.004199700684995908, 0.9962133794202278, 0.0043063978937473825, 0.9942883614217376, 0.00426733202326926, 0.9905516723756571, 0.008430226998941763, 0.9928385204671126, 0.00844968953589032, 0.9933450012138021, 0.006128197616482384, 0.9927680138701463, 0.9944622717187435, 0.007206248345787996, 0.009999664067662615, 0.989966742698599, 0.9397001395645185, 0.06025806787502112, 0.6911206140688766, 0.30852314613480547, 0.9936725850207179, 0.006096150828347963, 0.004723929774377343, 0.9943872175064307, 0.03524937508848261, 0.9634829190851912, 0.9295980657390778, 0.07137985147639347, 0.9940463615436559, 0.005373223575911653, 0.9964792326421036, 0.006732967788122322, 0.9717722326162602, 0.02768581859305585, 0.6599163740238975, 0.3400663152792732, 0.5228006281352551, 0.4774912403635329, 0.1506546351792606, 0.8486877781765013, 0.43741135069774933, 0.5630426318088367, 0.9966859081888988, 0.00816955662449917, 0.013034088245494893, 0.9905907066576118, 0.020177122561736233, 0.9785904442442074, 0.010861313346201568, 0.9883795145043428, 0.010921548626192672, 0.9891802612865935, 0.5004317141256737, 0.5004317141256737, 0.9944910693867363, 0.00887938454809586, 0.013301606715739912, 0.9976205036804934, 0.0057839336404127955, 0.9948365861510008, 0.0058664677472103684, 0.9914330492785522, 0.5053276608725176, 0.49451325567874777, 0.007832276276511944, 0.9868668108405049, 0.015029080025042482, 0.9919192816528039, 0.9970713224310415, 0.005633171313169726, 0.011193687663736285, 0.9962382020725293, 0.9926062532701093, 0.00614616875089851, 0.9194212965845152, 0.08035804748809043, 0.08356375164986032, 0.9192012681484636, 0.004226912943178162, 0.9975514545900462, 0.4807785488620881, 0.5189355765495554, 0.5418011222134179, 0.45806822150770793, 0.2560750494261795, 0.744615391948465, 0.03871675353129489, 0.9630792440909604, 0.008500192740518556, 0.9945225506406711, 0.683323884624947, 0.3170622824659754, 0.0029462072993535274, 0.9958180671814922, 0.08508368074913134, 0.9124491280337879, 0.9887838434195408, 0.010865756521093855, 0.9419711946291239, 0.05803613995345313, 0.6270150470071804, 0.3728774768646243, 0.007951614950671263, 0.9913013305170174, 0.8457743308152054, 0.15472388813505955, 0.01988653649639659, 0.9801221558938319, 0.9914974089621179, 0.9900342985432823, 0.012073589006625394, 0.00990072114874658, 0.9900721148746582, 0.02311166975408118, 0.9764680471099298, 0.010689461911085463, 0.9887752267754053, 0.03709229209211478, 0.9626048060679464, 0.015012158251933944, 0.980794339126351, 0.018648663410127945, 0.9790548290317171, 0.006950121144608436, 0.9938673236790063, 0.8414140710275521, 0.15799478189600322, 0.9923733442953847, 0.007350913661447294, 0.5387578516322377, 0.4609809679416146, 0.3236726615367155, 0.676439494896956, 0.7164654980795585, 0.2833432790640678, 0.014315844876376242, 0.9877932964699607, 0.9994493204300525, 0.9955529022601749, 0.9938961793458644, 0.0054911391124080906, 0.1383793957078039, 0.8612924456985724, 0.825253158182325, 0.17466523153761832, 0.589981324107348, 0.4102152025336997, 0.012974768783916625, 0.9990571963615802, 0.9815073226393533, 0.0177809297579593, 0.9903526017402076, 0.009591792752931793, 0.007245608531231965, 0.9926483687787792, 0.03930511743595339, 0.96146364189486, 0.4914389980164443, 0.5081293790811537, 0.49761856247072295, 0.5027913126003563, 0.11862014376341522, 0.8805264517822745, 0.9909506410356267, 0.01161270282463625, 0.9805965274935594, 0.021420797930684552, 0.7285748361020258, 0.2709487677451165, 0.9911091726221251, 0.008790325256072063, 0.45413533838955467, 0.5458684117300882, 0.6949372261196646, 0.3052118756177733, 0.9842820618693245, 0.017088230240786883, 0.9932570600438547, 0.01023976350560675], \"Term\": [\"antenna\", \"antenna\", \"apr\", \"apr\", \"arab\", \"arab\", \"arabs\", \"arabs\", \"argic\", \"argic\", \"armenia\", \"armenia\", \"armenian\", \"armenian\", \"armenians\", \"armenians\", \"article\", \"article\", \"astro\", \"astro\", \"astronomer\", \"astronomer\", \"astronomy\", \"astronomy\", \"attack\", \"attack\", \"azerbaijan\", \"azerbaijan\", \"b\", \"b\", \"baalke\", \"baalke\", \"brady\", \"brady\", \"c\", \"c\", \"child\", \"child\", \"circuit\", \"circuit\", \"citizen\", \"citizen\", \"com\", \"com\", \"crime\", \"crime\", \"d\", \"d\", \"datum\", \"datum\", \"davidian\", \"davidian\", \"detector\", \"detector\", \"digital\", \"digital\", \"don\", \"don\", \"e\", \"e\", \"earth\", \"earth\", \"edu\", \"edu\", \"electron\", \"electron\", \"faq\", \"faq\", \"fbi\", \"fbi\", \"firearm\", \"firearm\", \"flax\", \"flygare\", \"fnal\", \"fnal\", \"frej\", \"galileo\", \"galileo\", \"gamma\", \"gamma\", \"genocide\", \"genocide\", \"gnv\", \"gnv\", \"go\", \"go\", \"gov\", \"gov\", \"government\", \"government\", \"ground\", \"ground\", \"gun\", \"gun\", \"handgun\", \"handgun\", \"hasan\", \"hasan\", \"henry\", \"henry\", \"host\", \"host\", \"human\", \"human\", \"ifas\", \"ifas\", \"israel\", \"israel\", \"israeli\", \"israeli\", \"israelis\", \"israelis\", \"jewish\", \"jewish\", \"jews\", \"jews\", \"jonas\", \"jpl\", \"jpl\", \"karabakh\", \"karabakh\", \"kelvin\", \"kelvin\", \"kill\", \"kill\", \"know\", \"know\", \"kurds\", \"kurds\", \"larson\", \"larson\", \"launch\", \"launch\", \"law\", \"law\", \"lebanese\", \"lebanese\", \"lebanon\", \"lebanon\", \"lie\", \"lie\", \"like\", \"like\", \"line\", \"line\", \"list\", \"list\", \"m\", \"m\", \"mcrcim\", \"mcrcim\", \"mercury\", \"mercury\", \"mission\", \"mission\", \"mu\", \"mu\", \"nasa\", \"nasa\", \"nntp\", \"nntp\", \"occupation\", \"occupation\", \"optical\", \"optical\", \"orbit\", \"orbit\", \"orbital\", \"orbital\", \"organization\", \"organization\", \"output\", \"output\", \"outward\", \"outward\", \"palestinians\", \"palestinians\", \"particle\", \"particle\", \"peace\", \"peace\", \"people\", \"people\", \"physical\", \"physical\", \"physicist\", \"physicist\", \"post\", \"post\", \"posting\", \"posting\", \"power\", \"power\", \"project\", \"project\", \"propulsion\", \"propulsion\", \"question\", \"question\", \"radar\", \"radar\", \"radio\", \"radio\", \"religious\", \"religious\", \"right\", \"right\", \"s\", \"s\", \"satellite\", \"satellite\", \"say\", \"say\", \"sci\", \"sci\", \"sequence\", \"serdar\", \"serdar\", \"shuttle\", \"shuttle\", \"signal\", \"signal\", \"solar\", \"solar\", \"space\", \"space\", \"spacecraft\", \"spacecraft\", \"speed\", \"speed\", \"star\", \"star\", \"state\", \"state\", \"stratus\", \"stratus\", \"subject\", \"subject\", \"system\", \"system\", \"t\", \"t\", \"td\", \"td\", \"teknikum\", \"telemetry\", \"territory\", \"territory\", \"theory\", \"theory\", \"think\", \"think\", \"time\", \"time\", \"tracking\", \"tracking\", \"turkish\", \"turkish\", \"turks\", \"turks\", \"unified\", \"unified\", \"universe\", \"universe\", \"university\", \"university\", \"use\", \"use\", \"v\", \"v\", \"village\", \"village\", \"war\", \"war\", \"way\", \"way\", \"weapon\", \"weapon\", \"work\", \"work\", \"write\", \"write\", \"yalanci\", \"yalanci\", \"zionism\", \"zionism\"]}, \"R\": 30, \"lambda.step\": 0.01, \"plot.opts\": {\"xlab\": \"PC1\", \"ylab\": \"PC2\"}, \"topic.order\": [1, 2]};\n",
       "\n",
       "function LDAvis_load_lib(url, callback){\n",
       "  var s = document.createElement('script');\n",
       "  s.src = url;\n",
       "  s.async = true;\n",
       "  s.onreadystatechange = s.onload = callback;\n",
       "  s.onerror = function(){console.warn(\"failed to load library \" + url);};\n",
       "  document.getElementsByTagName(\"head\")[0].appendChild(s);\n",
       "}\n",
       "\n",
       "if(typeof(LDAvis) !== \"undefined\"){\n",
       "   // already loaded: just create the visualization\n",
       "   !function(LDAvis){\n",
       "       new LDAvis(\"#\" + \"ldavis_el799871402706895999208444218515\", ldavis_el799871402706895999208444218515_data);\n",
       "   }(LDAvis);\n",
       "}else if(typeof define === \"function\" && define.amd){\n",
       "   // require.js is available: use it to load d3/LDAvis\n",
       "   require.config({paths: {d3: \"https://cdnjs.cloudflare.com/ajax/libs/d3/3.5.5/d3.min\"}});\n",
       "   require([\"d3\"], function(d3){\n",
       "      window.d3 = d3;\n",
       "      LDAvis_load_lib(\"https://cdn.rawgit.com/bmabey/pyLDAvis/files/ldavis.v1.0.0.js\", function(){\n",
       "        new LDAvis(\"#\" + \"ldavis_el799871402706895999208444218515\", ldavis_el799871402706895999208444218515_data);\n",
       "      });\n",
       "    });\n",
       "}else{\n",
       "    // require.js not available: dynamically load d3 & LDAvis\n",
       "    LDAvis_load_lib(\"https://cdnjs.cloudflare.com/ajax/libs/d3/3.5.5/d3.min.js\", function(){\n",
       "         LDAvis_load_lib(\"https://cdn.rawgit.com/bmabey/pyLDAvis/files/ldavis.v1.0.0.js\", function(){\n",
       "                 new LDAvis(\"#\" + \"ldavis_el799871402706895999208444218515\", ldavis_el799871402706895999208444218515_data);\n",
       "            })\n",
       "         });\n",
       "}\n",
       "</script>"
      ],
      "text/plain": [
       "PreparedData(topic_coordinates=              x    y  topics  cluster       Freq\n",
       "topic                                           \n",
       "0      0.116724  0.0       1        1  59.583602\n",
       "1     -0.116724  0.0       2        1  40.416398, topic_info=         Term         Freq        Total Category  logprob  loglift\n",
       "657     space  1671.000000  1671.000000  Default  30.0000  30.0000\n",
       "648      nasa   640.000000   640.000000  Default  29.0000  29.0000\n",
       "513       gun  1252.000000  1252.000000  Default  28.0000  28.0000\n",
       "1471   israel   952.000000   952.000000  Default  27.0000  27.0000\n",
       "67     people  1916.000000  1916.000000  Default  26.0000  26.0000\n",
       "...       ...          ...          ...      ...      ...      ...\n",
       "189   posting   465.294104  1015.132633   Topic2  -5.9197   0.1258\n",
       "240         c   457.676272   990.083098   Topic2  -5.9362   0.1343\n",
       "52       like   471.135710  1385.023976   Topic2  -5.9072  -0.1724\n",
       "72       post   408.301970   786.224762   Topic2  -6.0503   0.2507\n",
       "172      know   429.307571  1390.495350   Topic2  -6.0002  -0.2693\n",
       "\n",
       "[189 rows x 6 columns], token_table=       Topic      Freq     Term\n",
       "term                           \n",
       "3826       1  0.005402  antenna\n",
       "3826       2  0.994021  antenna\n",
       "10         1  0.733609      apr\n",
       "10         2  0.266252      apr\n",
       "3142       1  0.995621     arab\n",
       "...      ...       ...      ...\n",
       "212        2  0.305212    write\n",
       "27246      1  0.984282  yalanci\n",
       "27246      2  0.017088  yalanci\n",
       "5505       1  0.993257  zionism\n",
       "5505       2  0.010240  zionism\n",
       "\n",
       "[287 rows x 3 columns], R=30, lambda_step=0.01, plot_opts={'xlab': 'PC1', 'ylab': 'PC2'}, topic_order=[1, 2])"
      ]
     },
     "execution_count": 18,
     "metadata": {},
     "output_type": "execute_result"
    }
   ],
   "source": [
    "pyLDAvis.enable_notebook()\n",
    "vis = pyLDAvis.gensim.prepare(lda_multicore_2_topics, corpus, id2word)\n",
    "vis"
   ]
  },
  {
   "cell_type": "code",
   "execution_count": 19,
   "metadata": {},
   "outputs": [
    {
     "data": {
      "text/html": [
       "\n",
       "<link rel=\"stylesheet\" type=\"text/css\" href=\"https://cdn.rawgit.com/bmabey/pyLDAvis/files/ldavis.v1.0.0.css\">\n",
       "\n",
       "\n",
       "<div id=\"ldavis_el799871402706896012407579544029\"></div>\n",
       "<script type=\"text/javascript\">\n",
       "\n",
       "var ldavis_el799871402706896012407579544029_data = {\"mdsDat\": {\"x\": [0.09097377727917126, 0.13858823601969872, -0.07678730394950228, -0.019113832788315733, -0.1664118734176408, 0.03275099685658905], \"y\": [-0.05001251632364358, 0.07948712781612426, -0.02922578670031572, -0.1309820521192127, 0.07780333359331668, 0.05292989373373112], \"topics\": [1, 2, 3, 4, 5, 6], \"cluster\": [1, 1, 1, 1, 1, 1], \"Freq\": [27.450542605782136, 18.231423030372902, 17.496584297293612, 14.14175509667733, 13.644125077837208, 9.0355698920368]}, \"tinfo\": {\"Term\": [\"space\", \"israel\", \"turkish\", \"armenian\", \"c\", \"israeli\", \"armenians\", \"nasa\", \"m\", \"gun\", \"larson\", \"com\", \"jews\", \"t\", \"people\", \"turks\", \"armenia\", \"satellite\", \"say\", \"orbit\", \"v\", \"q\", \"w\", \"argic\", \"serdar\", \"genocide\", \"launch\", \"edu\", \"line\", \"theory\", \"jake\", \"bony\", \"hernlem\", \"judaism\", \"lebanese\", \"parole\", \"misisipi\", \"retaliation\", \"livni\", \"thomasp\", \"shelling\", \"oac\", \"uio\", \"questionnaire\", \"idf\", \"parsli\", \"shostack\", \"nile\", \"syrian\", \"hezbollah\", \"chess\", \"israel\", \"tclock\", \"gulf\", \"elias\", \"interim\", \"lebanon\", \"angmar\", \"garfiel\", \"ordnance\", \"palestinian\", \"israeli\", \"palestinians\", \"guerilla\", \"arab\", \"apc\", \"cpr\", \"israelis\", \"syria\", \"militia\", \"igc\", \"arabs\", \"tim\", \"gaza\", \"jews\", \"jewish\", \"ncsu\", \"citizen\", \"weapon\", \"law\", \"gun\", \"palestine\", \"state\", \"attack\", \"crime\", \"policy\", \"right\", \"death\", \"peace\", \"people\", \"government\", \"firearm\", \"s\", \"edu\", \"write\", \"t\", \"think\", \"subject\", \"question\", \"organization\", \"kill\", \"article\", \"line\", \"time\", \"com\", \"don\", \"control\", \"university\", \"like\", \"know\", \"apr\", \"posting\", \"yalanci\", \"vay\", \"hovig\", \"flygare\", \"jonas\", \"frej\", \"teknikum\", \"sumgait\", \"heghinian\", \"flax\", \"ahmet\", \"parlakbilek\", \"breaker\", \"asala\", \"greeks\", \"sdpa\", \"savage\", \"mamma\", \"karina\", \"azerbaijani\", \"wiring\", \"gfci\", \"illegitimate\", \"vedat\", \"dogan\", \"urartu\", \"greece\", \"submerge\", \"cbnewsd\", \"sarsak\", \"vd\", \"dbd\", \"balcony\", \"mutlu\", \"apartment\", \"azerbaijanis\", \"lyuda\", \"turkish\", \"greek\", \"azerbaijan\", \"outlet\", \"liar\", \"armenians\", \"davidian\", \"genocide\", \"turks\", \"armenian\", \"karabakh\", \"armenia\", \"page\", \"lie\", \"argic\", \"serdar\", \"turkey\", \"wire\", \"soviet\", \"say\", \"people\", \"quote\", \"ground\", \"t\", \"human\", \"book\", \"go\", \"s\", \"know\", \"right\", \"come\", \"tell\", \"like\", \"ask\", \"article\", \"write\", \"edu\", \"kill\", \"time\", \"don\", \"think\", \"gerald\", \"apl\", \"belton\", \"tektronix\", \"reprocess\", \"triad\", \"billboard\", \"pretense\", \"advertising\", \"bison\", \"nickh\", \"enzo\", \"morrow\", \"clarke\", \"jockey\", \"vulcan\", \"inqmind\", \"queensu\", \"qucdn\", \"saundrsg\", \"ozonehole\", \"extro\", \"disco\", \"catbyte\", \"dtmedin\", \"higgins\", \"victor\", \"yamauchi\", \"wingert\", \"sighting\", \"voltmeter\", \"plutonium\", \"tamu\", \"dseg\", \"mccall\", \"gary\", \"zv\", \"ke\", \"coffman\", \"revolver\", \"ti\", \"scope\", \"vandalize\", \"glock\", \"ozone\", \"shafer\", \"file\", \"commercial\", \"pyron\", \"hr\", \"fred\", \"fund\", \"fnal\", \"auto\", \"cmu\", \"bill\", \"economy\", \"launch\", \"moon\", \"space\", \"edu\", \"nasa\", \"s\", \"organization\", \"line\", \"research\", \"subject\", \"university\", \"t\", \"base\", \"apr\", \"lunar\", \"like\", \"write\", \"article\", \"com\", \"cs\", \"host\", \"nntp\", \"don\", \"posting\", \"year\", \"m\", \"use\", \"think\", \"d\", \"know\", \"new\", \"gun\", \"mcnc\", \"azerbadjan\", \"hilmi\", \"feustel\", \"wray\", \"xc\", \"sccsi\", \"yob\", \"shipment\", \"bv\", \"fpu\", \"lacin\", \"kolstad\", \"nicho\", \"elchibey\", \"eren\", \"rc\", \"dsv\", \"provable\", \"dev\", \"simms\", \"sr\", \"clutter\", \"sgs\", \"faustus\", \"askew\", \"jle\", \"foulston\", \"certification\", \"cyberman\", \"q\", \"zoology\", \"ic\", \"rethink\", \"ccwf\", \"kipling\", \"jmd\", \"handheld\", \"mask\", \"hfe\", \"audio\", \"stratus\", \"z\", \"arras\", \"c\", \"henry\", \"sw\", \"y\", \"v\", \"spencer\", \"f\", \"r\", \"w\", \"toronto\", \"m\", \"k\", \"jim\", \"j\", \"h\", \"u\", \"cdt\", \"n\", \"fbi\", \"d\", \"com\", \"g\", \"e\", \"gas\", \"t\", \"x\", \"edu\", \"line\", \"s\", \"l\", \"write\", \"subject\", \"organization\", \"article\", \"don\", \"host\", \"nntp\", \"posting\", \"use\", \"gun\", \"larson\", \"unified\", \"electron\", \"atom\", \"outward\", \"larsonian\", \"photon\", \"collider\", \"td\", \"dwarf\", \"quasar\", \"galaxy\", \"rotational\", \"uncharged\", \"egs\", \"gamma\", \"acceleration\", \"vibrational\", \"kyoto\", \"unc\", \"cosmic\", \"rotation\", \"deg\", \"theporch\", \"atmospheric\", \"relativity\", \"adl\", \"bullock\", \"raider\", \"edinburgh\", \"physicist\", \"universe\", \"particle\", \"dewey\", \"star\", \"tracking\", \"comprehensive\", \"probe\", \"faq\", \"theory\", \"shuttle\", \"solar\", \"space\", \"physical\", \"motion\", \"planetary\", \"mission\", \"ray\", \"astro\", \"orbit\", \"element\", \"nasa\", \"hole\", \"astronomy\", \"speed\", \"satellite\", \"sci\", \"list\", \"radar\", \"material\", \"system\", \"earth\", \"information\", \"launch\", \"s\", \"available\", \"post\", \"edu\", \"organization\", \"line\", \"high\", \"subject\", \"book\", \"time\", \"year\", \"etc\", \"university\", \"t\", \"article\", \"switchover\", \"tca\", \"tgc\", \"triumf\", \"ksu\", \"farid\", \"betz\", \"idbsu\", \"inverter\", \"telemetry\", \"hojali\", \"walker\", \"gozer\", \"vcd\", \"minnesota\", \"greig\", \"fujitsu\", \"smd\", \"kaan\", \"spence\", \"irgun\", \"dds\", \"readout\", \"fnald\", \"idc\", \"mpce\", \"reacquire\", \"mros\", \"radiate\", \"mgds\", \"weaver\", \"oscillator\", \"yassin\", \"reset\", \"levy\", \"neophytos\", \"cooper\", \"agc\", \"tower\", \"galileo\", \"steam\", \"up\", \"sequence\", \"detector\", \"cool\", \"timer\", \"battery\", \"command\", \"april\", \"tartar\", \"ac\", \"pin\", \"excerpt\", \"iran\", \"randy\", \"jupiter\", \"armenian\", \"power\", \"au\", \"s\", \"population\", \"world\", \"radar\", \"nuclear\", \"edu\", \"line\", \"subject\", \"write\", \"fire\", \"time\", \"t\", \"organization\", \"university\", \"work\", \"article\", \"think\", \"know\", \"host\", \"armenians\", \"like\", \"people\", \"say\", \"com\", \"way\", \"posting\", \"don\"], \"Freq\": [1443.0, 1044.0, 717.0, 718.0, 1084.0, 756.0, 603.0, 627.0, 1466.0, 1467.0, 239.0, 1611.0, 574.0, 3790.0, 1899.0, 341.0, 375.0, 331.0, 1299.0, 314.0, 483.0, 241.0, 460.0, 314.0, 314.0, 302.0, 434.0, 3417.0, 2379.0, 267.0, 87.18641568241777, 69.21373900619601, 127.86422673669256, 54.432101126194965, 193.7144285535567, 38.46826476261862, 35.48396175346512, 45.28575202131134, 53.55890205683876, 54.933773623513126, 45.52453721406199, 57.82600992112642, 63.01445944493152, 34.502263803992335, 62.580388594665514, 40.990289335606526, 44.06014645270944, 26.810045199336216, 38.88119875590985, 83.82301545635806, 54.346666861108694, 1013.028352762737, 35.67559733977763, 37.29675283835294, 47.589683127888875, 22.66696613818621, 155.91955056663434, 23.241018588713708, 28.418564124014647, 21.59703644879346, 140.1732118792345, 714.6763811427298, 164.65877976912955, 68.05031133906907, 289.30749237286796, 95.46864638288885, 120.55273007575856, 206.26141477411622, 71.26664040349256, 190.95545409566498, 98.75110131510705, 225.0666774854195, 147.06951807696856, 103.16775595217509, 493.8464981253891, 245.28031982792896, 89.07120151131201, 218.30878637052166, 420.98307826168235, 488.0796869441064, 1006.193228058673, 132.0213359730336, 624.0030243627717, 350.4789603314022, 275.4216627743735, 217.44491792408078, 690.6856204661364, 206.3959674926778, 219.87296172380016, 777.8881087885411, 378.6639472910898, 238.47264256360407, 1200.5535343147142, 974.3196832166744, 733.0575644744705, 990.6530464885154, 485.5196790316691, 686.853990749736, 369.9789418480393, 614.2470757021146, 326.4682304097291, 540.5063239023145, 591.6265503854331, 401.5290068338704, 424.5561761055696, 379.58077943487166, 269.73355068926907, 332.5767375623752, 348.3237610661358, 345.3748596387516, 304.0609843004419, 302.1102985931519, 169.2443099596454, 99.6104657878694, 63.22352168564653, 45.83951882520578, 46.50138385097127, 53.311142228090866, 58.842666639142955, 75.55015457965867, 32.023069924966315, 47.036889559897155, 52.176923862354855, 29.949311684556335, 45.05471021389959, 54.63108359230894, 75.50430827940156, 201.26698646149936, 28.864328060911923, 54.66751957557876, 37.88031228707131, 116.1782089292383, 89.87333927093945, 46.49819553187601, 22.674731859651324, 21.371857781317658, 21.371857781317658, 128.75765142181112, 92.37110756506668, 19.9781893806742, 19.9781893806742, 19.9781893806742, 75.45678822532552, 69.87662944039948, 26.213493160747685, 107.46161741743656, 97.97460793857601, 54.761236144705535, 31.85461206098584, 636.4467089384178, 156.9207516786267, 202.66815491661941, 109.95692056327616, 83.61620164519293, 497.7798072509734, 228.7722014061134, 251.50587168658635, 280.1461100361374, 544.8152732104757, 98.58340860074033, 293.0648515365654, 233.83767179523625, 211.18066671685995, 244.85477425571372, 244.11357420858067, 231.69033661045532, 179.7695471130786, 186.91085429015286, 653.0197826218405, 700.8074189931801, 170.52542296421117, 206.37581071312727, 943.5012861037987, 234.38260601412574, 246.17270984429553, 365.07612656078186, 899.2601885309205, 433.81082836174136, 383.34140174107574, 284.72873883445703, 246.25694332452986, 317.38411247283557, 220.8450668110606, 314.3593118484907, 328.0904970912133, 354.23391318140426, 235.7191166315022, 253.35657039291797, 252.58446047906395, 235.52321466278448, 49.72456932660038, 29.219089891203975, 29.932147881372284, 25.575491060809696, 23.410009706616226, 23.396450077044555, 49.9559887505923, 23.36658746454992, 31.809810656996156, 36.429471475695394, 26.51033072763554, 25.7651294533321, 22.174787033819513, 22.929499472725134, 29.874421790567403, 27.814776695258313, 33.259492850130925, 26.704021950049235, 25.97704858918256, 25.978272949747456, 20.26436552008671, 17.587089446231158, 17.570743905320644, 26.99298632059133, 26.999653738640816, 82.64384925933551, 24.333974170777395, 17.998992930500446, 18.817149507768935, 16.183578304666245, 35.58392283167106, 39.09380664764442, 24.96233521833868, 94.19846073202494, 52.38623753132961, 114.83465866302657, 85.54897534238104, 83.46946548796019, 39.20244955124619, 74.19632007153359, 108.73118851009934, 54.48500542073202, 31.261373510053602, 53.182914328420345, 58.966125803960445, 31.828245904218416, 254.876356607882, 116.07192193676478, 41.99602132784935, 51.16295073719497, 68.31672239280608, 142.75714198616055, 66.80874230411064, 73.57750510794888, 97.84338868110731, 208.69270787371383, 53.07899427020616, 220.8899580531723, 161.40553706975913, 468.11090529198395, 808.3767429996753, 251.1973386195417, 958.2793318111698, 570.2374695176119, 593.4520442155554, 200.8105146276031, 560.9764673136328, 316.7232653260094, 645.029147462977, 164.00362582354973, 288.7017070078592, 116.72563008521861, 326.6929911528094, 432.02316354400983, 376.94818656294746, 334.9211481007874, 165.70756907645574, 236.25835883969856, 230.692629592843, 255.25083197894682, 232.5577432182919, 221.20456415682844, 255.04142049067048, 208.85757969994307, 211.82925338075125, 203.03597873717206, 205.43546354906303, 174.03638112114152, 175.83130680404656, 22.956856444206085, 29.93529008222557, 26.65044491886523, 23.113828763833848, 27.06984803134297, 25.021628004319457, 21.91188723014146, 21.911604991487046, 18.620093703907738, 20.833827297838248, 22.020654951586703, 16.15992166488304, 36.43094215392679, 17.560305196494724, 26.05029088012525, 14.97406773449232, 34.467347859446484, 13.471034004269844, 18.85723062134735, 13.689837757113605, 23.368727312594125, 13.393181117436809, 12.259924124287942, 11.514636795477124, 11.5191288000613, 12.350808498992802, 11.938348457413673, 12.955980211810806, 12.886879369252025, 15.799675774370716, 215.63455144106317, 75.63971948040573, 49.760579884309415, 38.35235588150476, 22.316998482756254, 34.04578562126247, 42.038798426232425, 77.09195025283347, 38.60881556282227, 23.152317296338122, 74.14182249369361, 123.29069243035633, 153.6990850570453, 35.84954816574747, 654.8481503034656, 176.29076525424475, 70.76316472958885, 180.43974403381117, 301.59827866132093, 91.23673555296523, 219.77262169663643, 289.01551497018437, 262.50997490447907, 148.4268952164356, 672.594131490742, 237.75019381179328, 105.99323785671004, 217.4148564253831, 202.72982400490258, 328.73445277645146, 63.47256631982825, 212.94198056600985, 151.4151675297197, 429.9844371988249, 552.0282133659077, 188.7460840809801, 257.15079911057865, 114.6985575217266, 828.405053167516, 243.2566135117021, 713.5202040219427, 523.1190160237412, 757.2229404352796, 168.13157032955516, 464.73374500201527, 474.8254421054182, 427.4123116695432, 379.92551694486593, 262.75947387498206, 231.24155876198898, 229.18855478977312, 217.72977831597953, 207.6173225595444, 212.78888020792235, 237.14305358141797, 76.86195078341204, 84.86651840557644, 37.38091518688453, 37.41769365677881, 31.71127493305974, 32.914535079852705, 27.1958557315562, 40.916046055467824, 33.97716225467417, 23.302891284505435, 49.760357538369696, 29.372456977853936, 22.680244213204073, 22.658323496302714, 69.34848210427465, 32.96277767622583, 18.16430252256321, 18.146483430485787, 37.75388393114422, 28.983827174826676, 17.213486321209796, 26.90785018831744, 31.067221124399275, 19.810975543527675, 34.95389357685499, 50.403665906502, 24.556613330065886, 31.007170613906457, 14.228628417854093, 127.80057068209588, 182.43078226816547, 51.952017364104016, 63.40873709140121, 176.2957182215601, 47.2976841288332, 54.883327789519704, 85.22867996409673, 106.26888523665322, 212.48634528837698, 194.98287068827702, 125.15160862111615, 922.176185646297, 128.81872671307943, 112.1692546512169, 62.43393234154433, 149.69224603739687, 101.13251407518634, 76.13507478785036, 212.90745451386894, 106.94616050446854, 345.7221917645447, 125.22711936393289, 81.61114217685164, 113.50112881790393, 188.73283860843244, 164.6761861136999, 177.2837979397268, 142.9646282514971, 125.94843348815655, 270.87617766866316, 155.75459048836862, 178.8743297581738, 171.93255609889422, 496.0644619425034, 119.5824258390165, 178.4662231939494, 301.5669513263379, 251.24164177124422, 246.07014980900277, 151.77348876133567, 236.87624714141862, 152.0314043764055, 175.0331802355067, 153.85715501795053, 137.39044863517208, 149.63071826119983, 163.22741734144978, 147.1767552731774, 22.52392977131831, 18.758094150384085, 18.758094150384085, 18.75700089787642, 24.597092678214647, 18.06510279999956, 29.435907171651202, 23.462702318457005, 17.828520703211954, 40.36319365278085, 19.02621376435673, 14.353054075378017, 21.112696318815523, 13.210883589784896, 19.352695029207634, 15.115243801239977, 12.987224413876554, 11.833238911749566, 13.143791697747487, 13.93069005734712, 15.61548571800762, 10.640605242879953, 10.637295054617056, 10.637465241347629, 10.61747224523065, 16.723404715242037, 10.044532417896601, 10.043129222667691, 11.736853487828936, 9.432072075942681, 45.454211356155774, 37.131092922604246, 32.2102732204484, 19.157424352436475, 38.93187591194137, 14.743447783478574, 22.94263195698075, 16.67464001807797, 67.19454506668626, 58.31735724573454, 24.923087051227085, 38.013264293521345, 34.91687113854365, 130.52672144307593, 86.92093183604489, 53.11639215202174, 68.82110643475032, 96.624397648161, 137.51009386748154, 25.773058191067907, 98.67273357955337, 55.90040812656185, 33.102975881501195, 34.010001277468845, 23.992553345151315, 47.37896241747547, 159.54610617169337, 130.88148526300657, 58.01725154292939, 373.5348708138413, 75.84480973310882, 135.51209714227716, 74.34066559635667, 60.401817846586376, 265.1125519452505, 221.58817245691398, 214.55116078163744, 204.848253993484, 94.97617860980075, 142.8949102210504, 219.25013588163478, 170.62296762890264, 124.93774412842616, 113.03020011221747, 145.94891222827727, 117.54210956457335, 114.6903480006201, 98.89007668633495, 86.99999766070232, 105.85820218298419, 106.29854175178286, 99.24817661701063, 99.44643176042128, 90.7175430786021, 90.6307501001379, 91.60232473076431], \"Total\": [1443.0, 1044.0, 717.0, 718.0, 1084.0, 756.0, 603.0, 627.0, 1466.0, 1467.0, 239.0, 1611.0, 574.0, 3790.0, 1899.0, 341.0, 375.0, 331.0, 1299.0, 314.0, 483.0, 241.0, 460.0, 314.0, 314.0, 302.0, 434.0, 3417.0, 2379.0, 267.0, 88.65057146511411, 70.41135126447719, 130.21334550334646, 55.5242510119373, 197.69674391576476, 39.26347449779088, 36.25845939856752, 46.27993491944283, 54.75666152572267, 56.253672670054, 46.6188148252311, 59.23877782573959, 64.65210677455352, 35.410881062499826, 64.22959316824668, 42.106335526795675, 45.266574782772544, 27.559346983440413, 40.005403885268386, 86.24955241764513, 55.94667776567413, 1044.5457627729447, 36.81815361833503, 38.497459594258764, 49.227719736258244, 23.447544238699184, 161.36096830225395, 24.058019824537542, 29.468634023256183, 22.40824402401567, 145.54223188412996, 756.6820277827603, 172.75848070906784, 70.91191740220636, 308.09527726479905, 100.20151914530324, 127.41718462568828, 220.96558348843433, 74.57499470513942, 206.42375008879367, 104.88912941855074, 248.69273556618865, 159.57355224065904, 110.39880894021198, 574.9761856907085, 282.70757387545325, 96.23235590034906, 260.23540115928705, 543.5629047947724, 648.4720530380262, 1467.1505931864417, 151.6252397715432, 912.4742389847037, 467.82888792638664, 365.3705318511629, 277.23175960827194, 1299.7096570943568, 283.192282253782, 308.6526444831222, 1899.3204997836347, 781.812952303595, 392.9225887717971, 4684.915327848428, 3417.1300466912853, 2289.0878570560244, 3790.066086445892, 1271.0603250363386, 2400.713359311419, 818.6564901520919, 2165.4073618555212, 653.0422090030813, 1904.8650067600734, 2379.3092420851217, 1213.052023746343, 1611.0584326747432, 1311.5821265148745, 521.2359637284777, 1125.4357831485818, 1387.782447979734, 1397.533537921719, 1047.100999070208, 1052.6974885677882, 170.3051673238091, 100.53175128324001, 64.09448415417003, 46.81603853129065, 47.51218656777715, 54.49071934236861, 60.148402418591914, 77.43899106481402, 32.83249630730083, 48.22672864865331, 53.562839035039985, 30.745069610829276, 46.36448349487016, 56.25272388002825, 77.78365382154288, 207.60422344004866, 29.791240328191112, 56.46508584900045, 39.14097005886793, 120.2681540533867, 93.08733733935703, 48.1799954949705, 23.50198424450918, 22.160217099657984, 22.160217099657984, 133.70193088461608, 95.97027715463769, 20.761623021374884, 20.761623021374884, 20.761623021374884, 78.45119812385259, 73.28301797294374, 27.248434494067787, 113.73665584559906, 104.09882928202143, 57.54593616866926, 33.21237155554459, 717.040205683288, 169.83896162920755, 226.19596023777373, 119.58324888285567, 90.32158719534718, 603.7059244682217, 269.0567212089363, 302.3279132407871, 341.7556382260663, 718.9163824131156, 110.1414471569719, 375.59864821038855, 292.4324080460941, 262.4284083076729, 314.5085947403482, 314.3119066897903, 299.41907142972883, 228.32284964752907, 255.96287023739737, 1299.6149939551826, 1899.3204997836347, 256.85810961067915, 341.49322993196023, 3790.066086445892, 431.09804457494346, 470.98354292947334, 940.1856935298506, 4684.915327848428, 1397.533537921719, 1299.7096570943568, 720.1928244772946, 621.9819126401816, 1387.782447979734, 477.47124477981083, 1904.8650067600734, 2289.0878570560244, 3417.1300466912853, 653.0422090030813, 1213.052023746343, 1311.5821265148745, 1271.0603250363386, 50.68406378086483, 29.961247827557287, 30.82089074462841, 26.360263614823566, 24.149358239602957, 24.13786220718518, 51.54312197368733, 24.124330142718414, 32.84462143368089, 37.68273117186895, 27.430063325382914, 26.682346038494636, 22.975071232598275, 23.770547213785346, 30.98598402682929, 28.866715567578584, 34.51815761085026, 27.724662090627955, 26.98061406985561, 26.983341973498725, 21.091280267390243, 18.325900667617827, 18.311443843437118, 28.20982217408639, 28.221926669932817, 86.54951778652129, 25.516281352829132, 18.891689591651957, 19.76656852705497, 17.013746922320003, 37.56252624532628, 41.49640327567952, 26.321227586230993, 102.87814994831875, 56.26893049778747, 126.45952426061199, 93.74090243331493, 91.47223196895706, 42.00231168419917, 82.90621304172943, 126.37934732983696, 60.055010695524146, 33.16492232377032, 60.706316672845986, 68.38490898517811, 34.01008287056762, 374.236070716507, 152.1383906259798, 46.88000410151319, 59.425270000724495, 83.61692832387914, 224.20628467634532, 86.47568333125662, 98.02082960631063, 141.90382076230046, 393.4099689493536, 65.18117557358141, 434.8778185822802, 296.72372306495123, 1443.9679622582942, 3417.1300466912853, 627.2157066135563, 4684.915327848428, 2165.4073618555212, 2379.3092420851217, 474.88501011963365, 2400.713359311419, 1125.4357831485818, 3790.066086445892, 386.5988482409543, 1047.100999070208, 219.98743563957493, 1387.782447979734, 2289.0878570560244, 1904.8650067600734, 1611.0584326747432, 455.7352178331484, 993.560102966097, 965.5405816920753, 1311.5821265148745, 1052.6974885677882, 942.16482567367, 1466.8488898043654, 980.2587455143992, 1271.0603250363386, 1131.277424889312, 1397.533537921719, 622.4477438583451, 1467.1505931864417, 23.70012643644925, 31.006281817487995, 27.6281410320681, 24.02570590034292, 28.140895166871417, 26.103368066607757, 22.86838475661232, 22.868097656799225, 19.46201350340539, 21.779830952324463, 23.048824023857634, 16.936395875327566, 38.201928864445115, 18.443827085188403, 27.46300375652253, 15.814427960168864, 36.44311990791851, 14.286540073238235, 20.00036444780415, 14.540090174990308, 24.825253918186885, 14.228640620522928, 13.036122592556048, 12.257639882065442, 12.262532878990445, 13.171752636166278, 12.735143943102052, 13.841983943520045, 13.792931652477769, 16.931098631236917, 241.8075608091311, 83.28784843769857, 54.42873919449763, 41.84026467823415, 24.09974312225435, 37.81455199255243, 47.19511502110221, 89.38147006263907, 43.589199409193796, 25.40217472828365, 89.17204679357738, 156.08148112809818, 202.2883545891525, 41.167879858306435, 1084.7493200120193, 247.56281622690045, 88.55739164016947, 264.24278607103815, 483.1765430599643, 121.68028738194373, 350.2719285533336, 508.3596742895143, 460.2030420828027, 232.17486599016175, 1466.8488898043654, 416.4687425976978, 154.86647190498152, 377.6021708436707, 364.91002311941475, 682.0134928444705, 84.32479150953782, 417.908925690511, 269.4375315166559, 1131.277424889312, 1611.0584326747432, 375.0284898681367, 589.3529534266117, 193.83342284855726, 3790.066086445892, 603.6135285121215, 3417.1300466912853, 2379.3092420851217, 4684.915327848428, 356.61979768057995, 2289.0878570560244, 2400.713359311419, 2165.4073618555212, 1904.8650067600734, 1311.5821265148745, 993.560102966097, 965.5405816920753, 1052.6974885677882, 980.2587455143992, 1467.1505931864417, 239.1570991341099, 77.64692794382309, 85.89860278964099, 38.2221109739099, 38.26108902085891, 32.49011546121662, 33.73210212386369, 27.974096812308364, 42.099399241465534, 34.974411786807586, 24.086990941051663, 51.44731698737382, 30.375963284730776, 23.457886826568508, 23.460186164695255, 72.0232810642271, 34.23720724193398, 18.94134615218043, 18.941649913166675, 39.54055125024808, 30.45837346889316, 18.098769986516118, 28.328627525122258, 32.71639345853237, 20.871579836991305, 36.84668548854201, 53.17174331798893, 25.91682227052679, 32.73042763836925, 15.02391008658215, 135.2503077108108, 194.76012060436744, 55.103432279710646, 67.41634659879657, 191.52855771691492, 50.30108449087268, 59.77933718540969, 96.28413054200779, 122.24145963910092, 267.9985789111101, 248.5443624133108, 152.29359236707768, 1443.9679622582942, 159.86213101657532, 137.7089057918425, 71.20419443338987, 194.0457635495908, 124.17220737204802, 90.33553139148913, 314.8111580184589, 139.43410046656396, 627.2157066135563, 181.07186639864057, 104.79384944299808, 164.61853094522908, 331.25339309846174, 274.25207985248494, 306.26677550819477, 227.33525207180588, 204.7051817298892, 679.0563251419019, 295.5797143462721, 406.69168591146956, 434.8778185822802, 4684.915327848428, 213.09114523481855, 673.037247277261, 3417.1300466912853, 2165.4073618555212, 2379.3092420851217, 449.5574608655778, 2400.713359311419, 470.98354292947334, 1213.052023746343, 942.16482567367, 401.19610680975256, 1125.4357831485818, 3790.066086445892, 1904.8650067600734, 23.420852253974104, 19.52991167447849, 19.52991167447849, 19.529278313721736, 25.622515557273932, 18.85749929327626, 30.819808220845648, 24.571023501748286, 18.73790464646042, 42.617619370590404, 20.09264258291951, 15.22388486354935, 22.399655339275288, 14.0180810070735, 20.579474634502592, 16.07593857184472, 13.818364133570105, 12.645341377415361, 14.046865102210914, 14.936524744975653, 16.762463987984148, 11.433542598442774, 11.433483285130567, 11.434093202257207, 11.414751599765472, 18.01678527744604, 10.826751864412095, 10.827079631273842, 12.659371407582872, 10.20331316211485, 49.33277625349536, 40.256853580113, 35.103775776040536, 20.78210025987087, 42.99892303873814, 15.976276946504667, 25.316897995383332, 18.200115092361933, 79.00874509197024, 68.2420775249264, 28.16664431540426, 45.3892846063884, 41.36219868948717, 180.39895727938224, 115.32186947091938, 66.39368485551928, 91.28161335383655, 145.97726393042842, 262.58816641748325, 31.30767071964402, 228.38945041519736, 101.86052772284742, 48.6490794708391, 51.21313655316318, 29.164167206520077, 91.4460547684732, 718.9163824131156, 549.702009022572, 140.40190360934412, 4684.915327848428, 234.7509774615599, 718.3158115299566, 227.33525207180588, 165.12403971510076, 3417.1300466912853, 2379.3092420851217, 2400.713359311419, 2289.0878570560244, 449.7043035959622, 1213.052023746343, 3790.066086445892, 2165.4073618555212, 1125.4357831485818, 873.0091792158237, 1904.8650067600734, 1271.0603250363386, 1397.533537921719, 993.560102966097, 603.7059244682217, 1387.782447979734, 1899.3204997836347, 1299.6149939551826, 1611.0584326747432, 888.7217285356728, 1052.6974885677882, 1311.5821265148745], \"Category\": [\"Default\", \"Default\", \"Default\", \"Default\", \"Default\", \"Default\", \"Default\", \"Default\", \"Default\", \"Default\", \"Default\", \"Default\", \"Default\", \"Default\", \"Default\", \"Default\", \"Default\", \"Default\", \"Default\", \"Default\", \"Default\", \"Default\", \"Default\", \"Default\", \"Default\", \"Default\", \"Default\", \"Default\", \"Default\", \"Default\", \"Topic1\", \"Topic1\", \"Topic1\", \"Topic1\", \"Topic1\", \"Topic1\", \"Topic1\", \"Topic1\", \"Topic1\", \"Topic1\", \"Topic1\", \"Topic1\", \"Topic1\", \"Topic1\", \"Topic1\", \"Topic1\", \"Topic1\", \"Topic1\", \"Topic1\", \"Topic1\", \"Topic1\", \"Topic1\", \"Topic1\", \"Topic1\", \"Topic1\", \"Topic1\", \"Topic1\", \"Topic1\", \"Topic1\", \"Topic1\", \"Topic1\", \"Topic1\", \"Topic1\", \"Topic1\", \"Topic1\", \"Topic1\", \"Topic1\", \"Topic1\", \"Topic1\", \"Topic1\", \"Topic1\", \"Topic1\", \"Topic1\", \"Topic1\", \"Topic1\", \"Topic1\", \"Topic1\", \"Topic1\", \"Topic1\", \"Topic1\", \"Topic1\", \"Topic1\", \"Topic1\", \"Topic1\", \"Topic1\", \"Topic1\", \"Topic1\", \"Topic1\", \"Topic1\", \"Topic1\", \"Topic1\", \"Topic1\", \"Topic1\", \"Topic1\", \"Topic1\", \"Topic1\", \"Topic1\", \"Topic1\", \"Topic1\", \"Topic1\", \"Topic1\", \"Topic1\", \"Topic1\", \"Topic1\", \"Topic1\", \"Topic1\", \"Topic1\", \"Topic1\", \"Topic1\", \"Topic1\", \"Topic1\", \"Topic1\", \"Topic2\", \"Topic2\", \"Topic2\", \"Topic2\", \"Topic2\", \"Topic2\", \"Topic2\", \"Topic2\", \"Topic2\", \"Topic2\", \"Topic2\", \"Topic2\", \"Topic2\", \"Topic2\", \"Topic2\", \"Topic2\", \"Topic2\", \"Topic2\", \"Topic2\", \"Topic2\", \"Topic2\", \"Topic2\", \"Topic2\", \"Topic2\", \"Topic2\", \"Topic2\", \"Topic2\", \"Topic2\", \"Topic2\", \"Topic2\", \"Topic2\", \"Topic2\", \"Topic2\", \"Topic2\", \"Topic2\", \"Topic2\", \"Topic2\", \"Topic2\", \"Topic2\", \"Topic2\", \"Topic2\", \"Topic2\", \"Topic2\", \"Topic2\", \"Topic2\", \"Topic2\", \"Topic2\", \"Topic2\", \"Topic2\", \"Topic2\", \"Topic2\", \"Topic2\", \"Topic2\", \"Topic2\", \"Topic2\", \"Topic2\", \"Topic2\", \"Topic2\", \"Topic2\", \"Topic2\", \"Topic2\", \"Topic2\", \"Topic2\", \"Topic2\", \"Topic2\", \"Topic2\", \"Topic2\", \"Topic2\", \"Topic2\", \"Topic2\", \"Topic2\", \"Topic2\", \"Topic2\", \"Topic2\", \"Topic2\", \"Topic2\", \"Topic2\", \"Topic2\", \"Topic3\", \"Topic3\", \"Topic3\", \"Topic3\", \"Topic3\", \"Topic3\", \"Topic3\", \"Topic3\", \"Topic3\", \"Topic3\", \"Topic3\", \"Topic3\", \"Topic3\", \"Topic3\", \"Topic3\", \"Topic3\", \"Topic3\", \"Topic3\", \"Topic3\", \"Topic3\", \"Topic3\", \"Topic3\", \"Topic3\", \"Topic3\", \"Topic3\", \"Topic3\", \"Topic3\", \"Topic3\", \"Topic3\", \"Topic3\", \"Topic3\", \"Topic3\", \"Topic3\", \"Topic3\", \"Topic3\", \"Topic3\", \"Topic3\", \"Topic3\", \"Topic3\", \"Topic3\", \"Topic3\", \"Topic3\", \"Topic3\", \"Topic3\", \"Topic3\", \"Topic3\", \"Topic3\", \"Topic3\", \"Topic3\", \"Topic3\", \"Topic3\", \"Topic3\", \"Topic3\", \"Topic3\", \"Topic3\", \"Topic3\", \"Topic3\", \"Topic3\", \"Topic3\", \"Topic3\", \"Topic3\", \"Topic3\", \"Topic3\", \"Topic3\", \"Topic3\", \"Topic3\", \"Topic3\", \"Topic3\", \"Topic3\", \"Topic3\", \"Topic3\", \"Topic3\", \"Topic3\", \"Topic3\", \"Topic3\", \"Topic3\", \"Topic3\", \"Topic3\", \"Topic3\", \"Topic3\", \"Topic3\", \"Topic3\", \"Topic3\", \"Topic3\", \"Topic3\", \"Topic3\", \"Topic3\", \"Topic3\", \"Topic3\", \"Topic4\", \"Topic4\", \"Topic4\", \"Topic4\", \"Topic4\", \"Topic4\", \"Topic4\", \"Topic4\", \"Topic4\", \"Topic4\", \"Topic4\", \"Topic4\", \"Topic4\", \"Topic4\", \"Topic4\", \"Topic4\", \"Topic4\", \"Topic4\", \"Topic4\", \"Topic4\", \"Topic4\", \"Topic4\", \"Topic4\", \"Topic4\", \"Topic4\", \"Topic4\", \"Topic4\", \"Topic4\", \"Topic4\", \"Topic4\", \"Topic4\", \"Topic4\", \"Topic4\", \"Topic4\", \"Topic4\", \"Topic4\", \"Topic4\", \"Topic4\", \"Topic4\", \"Topic4\", \"Topic4\", \"Topic4\", \"Topic4\", \"Topic4\", \"Topic4\", \"Topic4\", \"Topic4\", \"Topic4\", \"Topic4\", \"Topic4\", \"Topic4\", \"Topic4\", \"Topic4\", \"Topic4\", \"Topic4\", \"Topic4\", \"Topic4\", \"Topic4\", \"Topic4\", \"Topic4\", \"Topic4\", \"Topic4\", \"Topic4\", \"Topic4\", \"Topic4\", \"Topic4\", \"Topic4\", \"Topic4\", \"Topic4\", \"Topic4\", \"Topic4\", \"Topic4\", \"Topic4\", \"Topic4\", \"Topic4\", \"Topic4\", \"Topic4\", \"Topic4\", \"Topic4\", \"Topic4\", \"Topic4\", \"Topic4\", \"Topic4\", \"Topic4\", \"Topic5\", \"Topic5\", \"Topic5\", \"Topic5\", \"Topic5\", \"Topic5\", \"Topic5\", \"Topic5\", \"Topic5\", \"Topic5\", \"Topic5\", \"Topic5\", \"Topic5\", \"Topic5\", \"Topic5\", \"Topic5\", \"Topic5\", \"Topic5\", \"Topic5\", \"Topic5\", \"Topic5\", \"Topic5\", \"Topic5\", \"Topic5\", \"Topic5\", \"Topic5\", \"Topic5\", \"Topic5\", \"Topic5\", \"Topic5\", \"Topic5\", \"Topic5\", \"Topic5\", \"Topic5\", \"Topic5\", \"Topic5\", \"Topic5\", \"Topic5\", \"Topic5\", \"Topic5\", \"Topic5\", \"Topic5\", \"Topic5\", \"Topic5\", \"Topic5\", \"Topic5\", \"Topic5\", \"Topic5\", \"Topic5\", \"Topic5\", \"Topic5\", \"Topic5\", \"Topic5\", \"Topic5\", \"Topic5\", \"Topic5\", \"Topic5\", \"Topic5\", \"Topic5\", \"Topic5\", \"Topic5\", \"Topic5\", \"Topic5\", \"Topic5\", \"Topic5\", \"Topic5\", \"Topic5\", \"Topic5\", \"Topic5\", \"Topic5\", \"Topic5\", \"Topic5\", \"Topic5\", \"Topic5\", \"Topic5\", \"Topic5\", \"Topic5\", \"Topic5\", \"Topic5\", \"Topic6\", \"Topic6\", \"Topic6\", \"Topic6\", \"Topic6\", \"Topic6\", \"Topic6\", \"Topic6\", \"Topic6\", \"Topic6\", \"Topic6\", \"Topic6\", \"Topic6\", \"Topic6\", \"Topic6\", \"Topic6\", \"Topic6\", \"Topic6\", \"Topic6\", \"Topic6\", \"Topic6\", \"Topic6\", \"Topic6\", \"Topic6\", \"Topic6\", \"Topic6\", \"Topic6\", \"Topic6\", \"Topic6\", \"Topic6\", \"Topic6\", \"Topic6\", \"Topic6\", \"Topic6\", \"Topic6\", \"Topic6\", \"Topic6\", \"Topic6\", \"Topic6\", \"Topic6\", \"Topic6\", \"Topic6\", \"Topic6\", \"Topic6\", \"Topic6\", \"Topic6\", \"Topic6\", \"Topic6\", \"Topic6\", \"Topic6\", \"Topic6\", \"Topic6\", \"Topic6\", \"Topic6\", \"Topic6\", \"Topic6\", \"Topic6\", \"Topic6\", \"Topic6\", \"Topic6\", \"Topic6\", \"Topic6\", \"Topic6\", \"Topic6\", \"Topic6\", \"Topic6\", \"Topic6\", \"Topic6\", \"Topic6\", \"Topic6\", \"Topic6\", \"Topic6\", \"Topic6\", \"Topic6\", \"Topic6\", \"Topic6\", \"Topic6\", \"Topic6\", \"Topic6\", \"Topic6\", \"Topic6\", \"Topic6\", \"Topic6\", \"Topic6\", \"Topic6\", \"Topic6\"], \"logprob\": [30.0, 29.0, 28.0, 27.0, 26.0, 25.0, 24.0, 23.0, 22.0, 21.0, 20.0, 19.0, 18.0, 17.0, 16.0, 15.0, 14.0, 13.0, 12.0, 11.0, 10.0, 9.0, 8.0, 7.0, 6.0, 5.0, 4.0, 3.0, 2.0, 1.0, -7.207399845123291, -7.438300132751465, -6.82450008392334, -7.678500175476074, -6.40910005569458, -8.02560043334961, -8.106399536132812, -7.862500190734863, -7.694699764251709, -7.669300079345703, -7.8572001457214355, -7.618000030517578, -7.532100200653076, -8.134400367736816, -7.539000034332275, -7.962100028991699, -7.889900207519531, -8.386699676513672, -8.015000343322754, -7.246799945831299, -7.680099964141846, -4.754799842834473, -8.10099983215332, -8.056599617004395, -7.812900066375732, -8.55459976196289, -6.626100063323975, -8.529600143432617, -8.328399658203125, -8.602899551391602, -6.732600212097168, -5.103600025177002, -6.571599960327148, -7.4552001953125, -6.007999897003174, -7.116700172424316, -6.883399963378906, -6.34630012512207, -7.408999919891357, -6.423399925231934, -7.082900047302246, -6.259099960327148, -6.684599876403809, -7.039100170135498, -5.473199844360352, -6.173099994659424, -7.185999870300293, -6.289599895477295, -5.632900238037109, -5.485000133514404, -4.761499881744385, -6.792500019073486, -5.239299774169922, -5.816199779510498, -6.057199954986572, -6.293499946594238, -5.137800216674805, -6.345699787139893, -6.282400131225586, -5.018899917602539, -5.738800048828125, -6.201200008392334, -4.58489990234375, -4.793700218200684, -5.078199863433838, -4.777100086212158, -5.490300178527832, -5.143400192260742, -5.76200008392334, -5.255099773406982, -5.8871002197265625, -5.382999897003174, -5.292600154876709, -5.680200099945068, -5.6244001388549805, -5.736400127410889, -6.078000068664551, -5.868599891662598, -5.822299957275391, -5.8308000564575195, -5.958199977874756, -5.964700222015381, -6.134900093078613, -6.664999961853027, -7.11959981918335, -7.441100120544434, -7.426799774169922, -7.29010009765625, -7.191400051116943, -6.941400051116943, -7.799799919128418, -7.415299892425537, -7.311600208282471, -7.866700172424316, -7.458399772644043, -7.265600204467773, -6.941999912261963, -5.961599826812744, -7.903600215911865, -7.264999866485596, -7.631800174713135, -6.511099815368652, -6.7677998542785645, -7.426799774169922, -8.145000457763672, -8.20419979095459, -8.20419979095459, -6.408299922943115, -6.7403998374938965, -8.271599769592285, -8.271599769592285, -8.271599769592285, -6.942699909210205, -7.019499778747559, -8.0, -6.589099884033203, -6.68149995803833, -7.263299942016602, -7.805099964141846, -4.810299873352051, -6.2104997634887695, -5.954699993133545, -6.566100120544434, -6.840000152587891, -5.056099891662598, -5.833499908447266, -5.738800048828125, -5.630899906158447, -4.965799808502197, -6.675300121307373, -5.5858001708984375, -5.811600208282471, -5.91349983215332, -5.765600204467773, -5.768599987030029, -5.820799827575684, -6.0746002197265625, -6.035600185394287, -4.784599781036377, -4.714000225067139, -6.127399921417236, -5.936500072479248, -4.416600227355957, -5.809299945831299, -5.760200023651123, -5.366099834442139, -4.464700222015381, -5.193600177764893, -5.317299842834473, -5.614699840545654, -5.759900093078613, -5.506100177764893, -5.868800163269043, -5.515699863433838, -5.472899913787842, -5.396299839019775, -5.803599834442139, -5.731400012969971, -5.734499931335449, -5.8043999671936035, -7.318600177764893, -7.850299835205078, -7.826200008392334, -7.983500003814697, -8.071900367736816, -8.072500228881836, -7.314000129699707, -8.073800086975098, -7.7652997970581055, -7.629700183868408, -7.9475998878479, -7.976099967956543, -8.126099586486816, -8.092700004577637, -7.828100204467773, -7.899499893188477, -7.720799922943115, -7.940299987792969, -7.967899799346924, -7.967800140380859, -8.21619987487793, -8.35789966583252, -8.35890007019043, -7.929500102996826, -7.929299831390381, -6.8105998039245605, -8.03320026397705, -8.334799766540527, -8.290300369262695, -8.441100120544434, -7.653200149536133, -7.559100151062012, -8.007699966430664, -6.679699897766113, -7.26639986038208, -6.481599807739258, -6.776000022888184, -6.800600051879883, -7.556399822235107, -6.918399810791016, -6.536200046539307, -7.227200031280518, -7.782700061798096, -7.251399993896484, -7.148099899291992, -7.764699935913086, -5.684299945831299, -6.470900058746338, -7.487500190734863, -7.29010009765625, -7.000899791717529, -6.263899803161621, -7.0233001708984375, -6.926799774169922, -6.64169979095459, -5.884200096130371, -7.253300189971924, -5.827400207519531, -6.141200065612793, -5.076399803161621, -4.530099868774414, -5.69890022277832, -4.360000133514404, -4.879000186920166, -4.839099884033203, -5.922699928283691, -4.895400047302246, -5.467100143432617, -4.755799770355225, -6.125199794769287, -5.559700012207031, -6.4653000831604, -5.436100006103516, -5.156599998474121, -5.293000221252441, -5.411200046539307, -6.1149001121521, -5.760200023651123, -5.783999919891357, -5.682799816131592, -5.776000022888184, -5.826000213623047, -5.683700084686279, -5.883399963378906, -5.86929988861084, -5.9116997718811035, -5.900000095367432, -6.065800189971924, -6.055600166320801, -7.878600120544434, -7.6132001876831055, -7.729400157928467, -7.871799945831299, -7.713799953460693, -7.792500019073486, -7.92519998550415, -7.92519998550415, -8.088000297546387, -7.975599765777588, -7.920199871063232, -8.229700088500977, -7.416800022125244, -8.146599769592285, -7.752200126647949, -8.305899620056152, -7.4721999168396, -8.411700248718262, -8.075300216674805, -8.395600318908691, -7.860799789428711, -8.417499542236328, -8.505900382995605, -8.568599700927734, -8.56820011138916, -8.498499870300293, -8.532500267028809, -8.450699806213379, -8.456000328063965, -8.25220012664795, -5.638599872589111, -6.686200141906738, -7.105000019073486, -7.3653998374938965, -7.906899929046631, -7.484499931335449, -7.273600101470947, -6.667200088500977, -7.358699798583984, -7.870100021362305, -6.706200122833252, -6.197700023651123, -5.977200031280518, -7.4328999519348145, -4.5278000831604, -5.840099811553955, -6.752900123596191, -5.816800117492676, -5.303100109100342, -6.498799800872803, -5.61959981918335, -5.345699787139893, -5.44189977645874, -6.0121002197265625, -4.501100063323975, -5.540999889373779, -6.348800182342529, -5.63040018081665, -5.700300216674805, -5.2170000076293945, -6.861599922180176, -5.651199817657471, -5.992199897766113, -4.948500156402588, -4.698599815368652, -5.7718000411987305, -5.462600231170654, -6.269899845123291, -4.292699813842773, -5.518099784851074, -4.441999912261963, -4.752399921417236, -4.382599830627441, -5.887499809265137, -4.870800018310547, -4.849299907684326, -4.954500198364258, -5.072199821472168, -5.440999984741211, -5.56879997253418, -5.577700138092041, -5.629000186920166, -5.676499843597412, -5.651899814605713, -5.507699966430664, -6.634399890899658, -6.535299777984619, -7.355199813842773, -7.354300022125244, -7.519700050354004, -7.482500076293945, -7.673299789428711, -7.264900207519531, -7.450699806213379, -7.8277997970581055, -7.069200038909912, -7.59630012512207, -7.854899883270264, -7.855899810791016, -6.737299919128418, -7.480999946594238, -8.076899528503418, -8.077899932861328, -7.345300197601318, -7.6097002029418945, -8.13070011138916, -7.684000015258789, -7.540200233459473, -7.990200042724609, -7.422399997711182, -7.056300163269043, -7.775400161743164, -7.542200088500977, -8.321100234985352, -6.125899791717529, -5.769999980926514, -7.026100158691406, -6.8267998695373535, -5.804200172424316, -7.119900226593018, -6.971199989318848, -6.531099796295166, -6.310400009155273, -5.617499828338623, -5.703499794006348, -6.146900177001953, -4.149700164794922, -6.118000030517578, -6.256400108337402, -6.842299938201904, -5.967800140380859, -6.360000133514404, -6.643899917602539, -5.615499973297119, -6.304100036621094, -5.130799770355225, -6.146299839019775, -6.574399948120117, -6.24459981918335, -5.736100196838379, -5.872399806976318, -5.798600196838379, -6.013800144195557, -6.140500068664551, -5.37470006942749, -5.928100109100342, -5.789700031280518, -5.8292999267578125, -4.769700050354004, -6.192399978637695, -5.791999816894531, -5.267399787902832, -5.449999809265137, -5.470799922943115, -5.953999996185303, -5.508900165557861, -5.952300071716309, -5.811399936676025, -5.940400123596191, -6.053599834442139, -5.968200206756592, -5.88129997253418, -5.984799861907959, -7.449699878692627, -7.632599830627441, -7.632599830627441, -7.632699966430664, -7.361599922180176, -7.670300006866455, -7.182000160217285, -7.40880012512207, -7.683499813079834, -6.866300106048584, -7.6184000968933105, -7.900300025939941, -7.514400005340576, -7.9832000732421875, -7.601399898529053, -7.848599910736084, -8.000300407409668, -8.093299865722656, -7.98829984664917, -7.930200099945068, -7.815999984741211, -8.199600219726562, -8.199899673461914, -8.199899673461914, -8.201800346374512, -7.747399806976318, -8.257200241088867, -8.257399559020996, -8.101499557495117, -8.320099830627441, -6.747600078582764, -6.94980001449585, -7.0920000076293945, -7.611599922180176, -6.902400016784668, -7.873499870300293, -7.431300163269043, -7.750400066375732, -6.3566999435424805, -6.4984002113342285, -7.348499774932861, -6.926300048828125, -7.011300086975098, -5.692699909210205, -6.099299907684326, -6.591800212860107, -6.332699775695801, -5.9934000968933105, -5.640600204467773, -7.314899921417236, -5.972400188446045, -6.5406999588012695, -7.064599990844727, -7.037600040435791, -7.386499881744385, -6.706099987030029, -5.4918999671936035, -5.690000057220459, -6.503499984741211, -4.641200065612793, -6.235599994659424, -5.655200004577637, -6.2555999755859375, -6.463200092315674, -4.984099864959717, -5.163400173187256, -5.195700168609619, -5.242000102996826, -6.0106000900268555, -5.602099895477295, -5.173999786376953, -5.424799919128418, -5.736400127410889, -5.836599826812744, -5.580999851226807, -5.797500133514404, -5.822000026702881, -5.970200061798096, -6.098299980163574, -5.902200222015381, -5.8979997634887695, -5.966599941253662, -5.964600086212158, -6.05649995803833, -6.057499885559082, -6.046800136566162], \"loglift\": [30.0, 29.0, 28.0, 27.0, 26.0, 25.0, 24.0, 23.0, 22.0, 21.0, 20.0, 19.0, 18.0, 17.0, 16.0, 15.0, 14.0, 13.0, 12.0, 11.0, 10.0, 9.0, 8.0, 7.0, 6.0, 5.0, 4.0, 3.0, 2.0, 1.0, 1.2761, 1.2756, 1.2746, 1.2729, 1.2724, 1.2723, 1.2712, 1.2711, 1.2707, 1.269, 1.269, 1.2686, 1.2671, 1.2668, 1.2668, 1.2659, 1.2658, 1.2652, 1.2643, 1.2642, 1.2638, 1.2621, 1.2613, 1.2611, 1.2589, 1.2589, 1.2585, 1.2582, 1.2565, 1.2559, 1.2552, 1.2357, 1.2448, 1.2516, 1.2299, 1.2444, 1.2374, 1.2239, 1.2474, 1.2149, 1.2325, 1.193, 1.2112, 1.225, 1.1407, 1.1508, 1.2155, 1.1171, 1.0372, 1.0086, 0.9156, 1.1543, 0.9128, 1.004, 1.0102, 1.0499, 0.6606, 0.9765, 0.9536, 0.4001, 0.5678, 0.7934, -0.0688, 0.038, 0.1541, -0.049, 0.3304, 0.0414, 0.4986, 0.0328, 0.5995, 0.0331, -0.0989, 0.1872, -0.0408, 0.0529, 0.634, 0.0737, -0.0895, -0.105, 0.0562, 0.0445, 1.6958, 1.6928, 1.6883, 1.6809, 1.6805, 1.6801, 1.6801, 1.6773, 1.6771, 1.677, 1.6758, 1.6758, 1.6734, 1.6728, 1.6723, 1.671, 1.6704, 1.6697, 1.6693, 1.6674, 1.6669, 1.6665, 1.6662, 1.6658, 1.6658, 1.6643, 1.6638, 1.6636, 1.6636, 1.6636, 1.6631, 1.6544, 1.6633, 1.6453, 1.6414, 1.6524, 1.6603, 1.5828, 1.6229, 1.5922, 1.6181, 1.6249, 1.5091, 1.5398, 1.518, 1.5032, 1.4247, 1.5912, 1.4539, 1.4784, 1.4848, 1.4517, 1.4493, 1.4456, 1.4629, 1.3876, 1.0138, 0.705, 1.2924, 1.1984, 0.3115, 1.0926, 1.0532, 0.7561, 0.0515, 0.5322, 0.4811, 0.774, 0.7755, 0.2267, 0.931, -0.0996, -0.2406, -0.5646, 0.683, 0.1359, 0.0548, 0.0162, 1.7241, 1.7181, 1.7139, 1.7129, 1.7121, 1.712, 1.7119, 1.7113, 1.7112, 1.7093, 1.7091, 1.7082, 1.7077, 1.7071, 1.7066, 1.706, 1.706, 1.7057, 1.7053, 1.7052, 1.7032, 1.702, 1.7019, 1.6991, 1.6989, 1.697, 1.6957, 1.6948, 1.6939, 1.6931, 1.6891, 1.6835, 1.6902, 1.655, 1.6717, 1.6467, 1.6517, 1.6516, 1.6742, 1.6322, 1.5928, 1.6458, 1.6841, 1.6109, 1.595, 1.6769, 1.3591, 1.4726, 1.6331, 1.5935, 1.5411, 1.2917, 1.4851, 1.4563, 1.3714, 1.1092, 1.5378, 1.0658, 1.1343, 0.6167, 0.3016, 0.8281, 0.1562, 0.4089, 0.3546, 0.8825, 0.2893, 0.4753, -0.0277, 0.8857, 0.4548, 1.1094, 0.2967, 0.0757, 0.1231, 0.1724, 0.7315, 0.3068, 0.3116, 0.1064, 0.2332, 0.2941, -0.0063, 0.197, -0.0487, 0.0254, -0.1742, 0.4688, -0.3784, 1.9242, 1.9209, 1.92, 1.9173, 1.9172, 1.9137, 1.9133, 1.9133, 1.9118, 1.9116, 1.9104, 1.9091, 1.9086, 1.9069, 1.9032, 1.9014, 1.9003, 1.8973, 1.8972, 1.8958, 1.8956, 1.8955, 1.8946, 1.8935, 1.8935, 1.8917, 1.8914, 1.8899, 1.8881, 1.8869, 1.8415, 1.8597, 1.8664, 1.869, 1.8792, 1.8511, 1.8403, 1.8081, 1.8347, 1.8633, 1.7715, 1.7202, 1.6813, 1.8177, 1.4513, 1.6165, 1.7317, 1.5746, 1.4848, 1.6681, 1.4899, 1.3913, 1.3947, 1.5086, 1.1763, 1.3954, 1.5769, 1.404, 1.3683, 1.2262, 1.672, 1.2818, 1.3797, 0.9887, 0.885, 1.2694, 1.1267, 1.4313, 0.4354, 1.0472, 0.3897, 0.4413, 0.1336, 1.2041, 0.3616, 0.3355, 0.3334, 0.3438, 0.3483, 0.4982, 0.5179, 0.3802, 0.4039, 0.0253, 1.9834, 1.9817, 1.9798, 1.9696, 1.9696, 1.9676, 1.9673, 1.9636, 1.9633, 1.9629, 1.9588, 1.9585, 1.9583, 1.9581, 1.9571, 1.954, 1.9539, 1.95, 1.949, 1.9456, 1.9422, 1.9417, 1.9404, 1.9401, 1.9397, 1.9391, 1.9384, 1.938, 1.9378, 1.9375, 1.9352, 1.9265, 1.933, 1.9306, 1.909, 1.9303, 1.9064, 1.8699, 1.8518, 1.7598, 1.7492, 1.7956, 1.5434, 1.776, 1.7867, 1.8604, 1.7323, 1.7866, 1.8208, 1.6007, 1.7266, 1.3962, 1.6231, 1.7418, 1.62, 1.4293, 1.4818, 1.4452, 1.528, 1.5062, 1.0728, 1.3512, 1.1705, 1.0639, -0.2535, 1.4141, 0.6645, -0.4357, -0.1621, -0.2771, 0.906, -0.3241, 0.8611, 0.0559, 0.1797, 0.9202, -0.0259, -1.1531, -0.5687, 2.365, 2.3637, 2.3637, 2.3637, 2.3632, 2.3611, 2.3581, 2.3578, 2.3543, 2.3497, 2.3495, 2.3451, 2.3448, 2.3447, 2.3425, 2.3424, 2.342, 2.3376, 2.3376, 2.3343, 2.3331, 2.3321, 2.3318, 2.3318, 2.3316, 2.3295, 2.329, 2.3288, 2.3283, 2.3254, 2.3221, 2.3232, 2.318, 2.3226, 2.3046, 2.3237, 2.3055, 2.3165, 2.242, 2.2468, 2.2817, 2.2267, 2.2346, 2.0804, 2.1213, 2.1809, 2.1216, 1.9914, 1.7571, 2.2095, 1.5648, 1.804, 2.019, 1.9947, 2.2088, 1.7464, 0.8986, 0.9689, 1.5202, -0.1251, 1.2742, 0.7362, 1.2862, 1.3983, -0.1524, 0.0303, -0.011, -0.0096, 0.849, 0.2652, -0.4459, -0.1369, 0.2059, 0.3597, -0.1649, 0.0232, -0.0962, 0.0967, 0.4668, -0.1694, -0.479, -0.1682, -0.381, 0.122, -0.0483, -0.2575]}, \"token.table\": {\"Topic\": [1, 2, 3, 4, 5, 6, 5, 1, 3, 5, 3, 4, 6, 2, 4, 1, 1, 2, 4, 6, 1, 2, 6, 3, 1, 2, 3, 4, 5, 6, 1, 2, 3, 4, 5, 6, 1, 2, 3, 4, 5, 6, 1, 2, 3, 4, 6, 1, 2, 3, 4, 5, 6, 1, 2, 3, 4, 6, 1, 2, 3, 4, 5, 6, 1, 2, 3, 4, 5, 6, 1, 4, 6, 1, 2, 3, 4, 5, 6, 2, 6, 1, 2, 3, 4, 5, 6, 4, 3, 5, 6, 1, 3, 5, 6, 5, 5, 1, 2, 3, 4, 5, 6, 1, 2, 3, 4, 5, 6, 1, 2, 3, 4, 5, 6, 1, 2, 3, 4, 6, 1, 2, 3, 4, 5, 6, 4, 1, 2, 3, 4, 6, 2, 6, 2, 6, 2, 1, 2, 3, 4, 5, 6, 1, 2, 3, 4, 5, 6, 3, 6, 1, 2, 3, 4, 5, 6, 3, 5, 3, 1, 1, 2, 3, 4, 5, 6, 2, 1, 5, 4, 1, 2, 3, 4, 5, 6, 3, 2, 1, 4, 1, 3, 4, 4, 1, 6, 1, 2, 3, 4, 5, 6, 3, 4, 1, 3, 4, 5, 6, 1, 3, 5, 1, 2, 3, 4, 5, 6, 1, 2, 3, 4, 5, 6, 1, 2, 3, 4, 5, 6, 1, 2, 3, 4, 5, 6, 1, 5, 1, 2, 3, 4, 5, 6, 1, 2, 3, 4, 5, 6, 2, 3, 6, 3, 5, 1, 2, 4, 1, 2, 3, 4, 6, 1, 2, 3, 4, 5, 6, 4, 1, 2, 3, 4, 5, 6, 1, 2, 3, 4, 6, 1, 2, 4, 6, 6, 1, 2, 3, 4, 5, 6, 5, 1, 2, 3, 4, 5, 6, 4, 1, 5, 6, 3, 2, 1, 2, 3, 4, 5, 6, 1, 3, 4, 4, 3, 5, 1, 2, 3, 4, 5, 6, 1, 2, 3, 4, 5, 6, 1, 2, 3, 4, 5, 1, 2, 3, 4, 5, 6, 5, 4, 6, 5, 1, 2, 3, 5, 6, 1, 6, 3, 4, 1, 2, 3, 4, 5, 6, 1, 2, 3, 4, 5, 6, 3, 1, 2, 3, 4, 5, 6, 2, 3, 4, 5, 6, 4, 1, 2, 3, 4, 5, 6, 4, 1, 2, 3, 4, 5, 6, 1, 2, 3, 4, 5, 6, 1, 2, 3, 4, 5, 6, 1, 2, 2, 2, 3, 6, 6, 4, 4, 1, 2, 3, 4, 5, 2, 6, 1, 2, 3, 4, 5, 6, 1, 2, 3, 4, 5, 6, 3, 5, 5, 6, 2, 3, 4, 5, 6, 1, 1, 2, 3, 4, 6, 1, 2, 3, 4, 5, 6, 1, 2, 6, 1, 2, 3, 4, 6, 3, 2, 1, 2, 3, 4, 1, 2, 3, 4, 5, 6, 1, 2, 3, 4, 5, 6, 6, 1, 2, 3, 6, 1, 2, 3, 4, 6, 1, 2, 6, 1, 2, 3, 4, 5, 6, 1, 4, 6, 1, 1, 2, 3, 4, 5, 6, 1, 2, 3, 4, 5, 6, 1, 3, 4, 5, 6, 2, 1, 2, 3, 4, 5, 6, 1, 4, 6, 1, 4, 1, 4, 1, 2, 3, 5, 6, 1, 2, 3, 4, 5, 6, 4, 6, 1, 2, 3, 4, 5, 6, 1, 2, 3, 4, 5, 6, 2, 1, 3, 4, 5, 1, 2, 3, 4, 5, 6, 1, 3, 4, 6, 6, 6, 1, 2, 1, 2, 4, 6, 2, 1, 2, 3, 4, 5, 6, 3, 1, 6, 1, 2, 4, 6, 6, 1, 2, 3, 4, 5, 6, 1, 2, 3, 4, 5, 6, 1, 2, 3, 4, 6, 1, 2, 3, 4, 5, 6, 1, 1, 2, 3, 4, 5, 6, 1, 2, 3, 4, 5, 6, 1, 2, 3, 4, 5, 6, 4, 1, 4, 6, 3, 2, 1, 2, 3, 4, 5, 6, 1, 2, 3, 4, 5, 6, 6, 2, 3, 4, 6, 2, 1, 3, 4, 1, 2, 3, 4, 5, 6, 4, 5, 1, 2, 3, 4, 5, 6, 1, 4, 6, 5, 1, 2, 3, 4, 5, 6, 4, 3, 5, 5, 1, 2, 3, 4, 5, 6, 1, 2, 3, 4, 5, 6, 1, 4, 6, 1, 2, 4, 6, 1, 2, 6, 1, 2, 1, 2, 3, 4, 6, 1, 2, 3, 4, 5, 6, 1, 2, 3, 4, 5, 6, 1, 2, 3, 4, 5, 6, 1, 1, 2, 3, 4, 5, 2, 1, 2, 3, 4, 5, 6, 2, 6, 2, 4, 6, 1, 2, 3, 4, 5, 6, 3, 4, 4, 6, 1, 2, 3, 4, 6, 6, 1, 1, 2, 3, 4, 5, 6, 1, 2, 3, 4, 5, 6, 3, 1, 2, 3, 4, 5, 6, 6, 6, 1, 2, 3, 6, 1, 2, 3, 4, 5, 6, 1, 2, 3, 4, 5, 6, 1, 4, 5, 6, 2, 6, 1, 2, 3, 4, 5, 6, 4, 3, 1, 1, 2, 3, 4, 5, 6, 1, 3, 4, 5, 6, 1, 1, 2, 3, 4, 5, 6, 1, 1, 2, 3, 4, 5, 6, 5, 6, 1, 2, 3, 4, 5, 5, 2, 3, 4, 5, 3, 1, 2, 3, 4, 5, 6, 1, 2, 4, 5, 6, 1, 2, 3, 6, 1, 2, 4, 6, 2, 1, 1, 3, 5, 1, 2, 3, 4, 5, 6, 1, 2, 3, 4, 5, 6, 5, 1, 2, 4, 5, 6, 3, 5, 1, 2, 3, 4, 5, 6, 2, 3, 5, 1, 3, 5, 1, 2, 3, 4, 5, 6, 1, 2, 3, 4, 5, 6, 1, 2, 3, 4, 5, 6, 1, 2, 3, 4, 5, 6, 1, 2, 3, 4, 5, 6, 3, 3, 4, 5, 6, 3, 4, 3, 4, 1, 2, 3, 4, 5, 6, 5, 3, 3, 1, 2, 3, 4, 5, 6, 1, 1, 2, 3, 4, 5, 6, 1, 2, 3, 4, 5, 6, 1, 2, 3, 4, 5, 6, 6, 1, 5, 1, 3, 6, 1, 2, 3, 4, 5, 6, 4, 6, 6, 6, 3, 5, 3, 1, 2, 3, 4, 5, 6, 2, 6, 1, 1, 3, 4, 6, 1, 2, 3, 4, 6, 1, 2, 3, 4, 5, 6, 5, 5, 1, 2, 3, 4, 5, 6, 2, 1, 2, 3, 4, 5, 6, 3, 2, 1, 2, 3, 4, 5, 6, 4, 1, 2, 3, 4, 5, 6, 1, 2, 3, 4, 6, 1, 2, 4, 6, 5, 6, 1, 2, 3, 4, 5, 6, 4, 1, 3, 5, 1, 4, 1, 1, 2, 3, 4, 5, 3, 3, 4, 6, 1, 2, 3, 4, 5, 6, 1, 2, 3, 4, 5, 6, 1, 2, 3, 4, 5, 6, 2, 3, 4, 5, 6, 6, 2, 3, 4, 5, 6, 4, 1, 2, 3, 4, 5, 6, 1, 2, 3, 4, 5, 6, 3, 5, 6, 1, 2, 3, 4, 1, 2, 3, 4, 5, 6, 2, 2, 6, 1, 3, 4, 5, 6, 1, 2, 4, 6, 1, 1, 2, 3, 4, 5, 6, 1, 2, 3, 4, 5, 6, 3, 4, 1, 2, 6, 6, 1, 3, 5, 1, 2, 3, 5, 6, 1, 2, 3, 4, 5, 6, 6, 1, 2, 3, 4, 5, 6, 1, 5, 1, 2, 3, 4, 5, 6, 1, 1, 3, 4, 5, 6, 1, 3, 4, 6, 1, 2, 3, 4, 5, 6, 3, 4, 5, 6, 1, 2, 3, 4, 5, 6, 3, 5, 6, 3, 5, 3, 6, 1, 2, 3, 4, 6, 1, 2, 3, 4, 5, 6, 1, 2, 3, 4, 5, 6, 1, 2, 3, 4, 5, 6, 1, 4, 3, 5, 5, 5, 1, 2, 5, 1, 2, 3, 4, 5, 6, 1, 4, 5, 6, 2, 4, 6, 1, 2, 3, 4, 5, 6, 1, 2, 3, 4, 5, 6, 3, 4, 2, 6, 2, 3, 4, 2, 5, 3, 3, 6, 3, 1, 2, 3, 4, 5, 6, 6, 1, 2, 3, 4, 5, 6, 1, 2, 3, 4, 5, 6, 1, 6, 3, 1, 2, 3, 4, 5, 6, 2, 3, 5, 1, 2, 3, 4, 5, 6, 1, 2, 3, 4, 5, 6, 4, 1, 2, 3, 4, 5, 6, 1, 2, 3, 4, 5, 6, 4, 1, 2, 3, 4, 5, 6, 2, 3, 1, 3, 4, 6, 1, 2, 3, 4, 5, 6, 4, 1, 2, 3, 4, 5, 6, 3, 4, 5, 1, 3, 4, 5], \"Freq\": [0.08756971902003917, 0.035027887608015666, 0.21016732564809398, 0.10508366282404699, 0.1269760925790568, 0.43347010914919387, 0.9638636634935971, 0.037613963266902424, 0.018806981633451212, 0.9403490816725606, 0.9742843303770046, 0.054944707488123044, 0.9340600272980918, 0.970822326389055, 0.01866966012286644, 0.9560221567587855, 0.02881876790249475, 0.9414130848148285, 0.009606255967498251, 0.009606255967498251, 0.9480894183075163, 0.029939665841289986, 0.00997988861376333, 0.9679169628351338, 0.29032538434204747, 0.1728582058089164, 0.27600011866727536, 0.14325265674772078, 0.05061593871752801, 0.06685123981560304, 0.10282260761542956, 0.049507181444466086, 0.15232978905989566, 0.11424734179492174, 0.05331542617096348, 0.52553777225664, 0.9380215190757786, 0.02272024440667976, 0.006491498401908502, 0.009737247602862754, 0.003245749200954251, 0.019474495205725507, 0.9047308900589783, 0.06835744502667837, 0.012063078534119712, 0.008042052356079807, 0.008042052356079807, 0.022256943425597177, 0.7789930198959012, 0.0031795633465138825, 0.006359126693027765, 0.0031795633465138825, 0.18759423744431908, 0.0026624163978350053, 0.7800880045656565, 0.007987249193505016, 0.06389799354804013, 0.1437704854830903, 0.005563929405216216, 0.7580853814607095, 0.00695491175652027, 0.008345894107824324, 0.001390982351304054, 0.22255717620864865, 0.0033128712489639933, 0.8249049409920344, 0.006625742497927987, 0.019877227493783962, 0.0016564356244819967, 0.1441098993299337, 0.04858156424094938, 0.8744681563370887, 0.04858156424094938, 0.2840096269709791, 0.16484107739165885, 0.1979142871868006, 0.1994892019389502, 0.07717082285533074, 0.07664585127128086, 0.9777304316374089, 0.01777691693886198, 0.261795870152651, 0.462855098429887, 0.08377467844884832, 0.05026480706930899, 0.11309581590594524, 0.025132403534654495, 0.9110404918363754, 0.143907937438942, 0.841307941950738, 0.011069841341457078, 0.009542544770663696, 0.1908508954132739, 0.7824886711944231, 0.009542544770663696, 0.9582408306511336, 0.9680260733180305, 0.7481367846935371, 0.15817749162091926, 0.006412601011658889, 0.025650404046635555, 0.002137533670552963, 0.05771340910493, 0.01424482110701877, 0.02848964221403754, 0.36324293822897863, 0.07122410553509385, 0.10683615830264077, 0.41309981210354435, 0.011214276625441607, 0.011214276625441607, 0.05607138312720803, 0.829856470282679, 0.07849993637809125, 0.011214276625441607, 0.1530286986984886, 0.05100956623282953, 0.7549415802458771, 0.010201913246565907, 0.03060573973969772, 0.08916372371579637, 0.09385655127978565, 0.11262786153574278, 0.07508524102382852, 0.5631393076787139, 0.07039241345983924, 0.9675458726908546, 0.00442094544459952, 0.8974519252537027, 0.00442094544459952, 0.01326283633379856, 0.08399796344739088, 0.9645113530927558, 0.024944259131709202, 0.9557581935724005, 0.03475484340263275, 0.9541832579651656, 0.2741860212008022, 0.0801864778983478, 0.4242123346880336, 0.054319872124687224, 0.1370930106004011, 0.028453266351026643, 0.010955108737218328, 0.010955108737218328, 0.14241641358383827, 0.054775543686091645, 0.032865326211654985, 0.7559025028680647, 0.9733657683215571, 0.94095329186329, 0.26689715128575553, 0.007625632893878729, 0.5312524249402181, 0.1296357591959384, 0.04067004210068655, 0.022876898681636185, 0.97006153460252, 0.0194012306920504, 0.9553447661690416, 0.9799556287568476, 0.05732684380448314, 0.5223112435519576, 0.055203627367280066, 0.03184824655804619, 0.3227288984548681, 0.008492865748812318, 0.9705705015559781, 0.03858497733872347, 0.9646244334680868, 0.9641948115193596, 0.11339025314958218, 0.05070295872542292, 0.0866559658216319, 0.6038261448209458, 0.0967965575667165, 0.04885921477177118, 0.9571134420266663, 0.9633158245580914, 0.04149421821332914, 0.912872800693241, 0.21346035581913125, 0.023717817313236807, 0.7471112453669594, 0.942511739167842, 0.9652047656193714, 0.017874162326284658, 0.8377030912353264, 0.08838151880005737, 0.03458407257393549, 0.02689872311306094, 0.003842674730437277, 0.007685349460874554, 0.9675839513976995, 0.9205191125505602, 0.035235133015730245, 0.6906086071083128, 0.007047026603146049, 0.22550485130067358, 0.0422821596188763, 0.04761642680615551, 0.9285203227200324, 0.965178614385871, 0.2638017289629887, 0.044070406485581644, 0.20793783341788522, 0.34263189267663474, 0.08007158361464833, 0.06145028509961384, 0.2610412012039243, 0.3957273528889278, 0.10552729410371407, 0.0833110216608269, 0.06803733435634197, 0.0888650897715487, 0.03425190927254918, 0.06850381854509836, 0.17810992821725574, 0.027401527418039345, 0.03425190927254918, 0.6644870398874541, 0.03943777750844312, 0.01971888875422156, 0.7624636984965669, 0.05915666626266468, 0.09202148085303394, 0.01971888875422156, 0.06691275260536475, 0.9200503483237653, 0.5179995602541508, 0.05371847291524528, 0.18801465520335847, 0.11319249649998112, 0.0652295742542264, 0.059474023584735844, 0.052028292877380165, 0.017342764292460056, 0.017342764292460056, 0.052028292877380165, 0.10405658575476033, 0.7544102467220124, 0.03949930991475951, 0.03949930991475951, 0.9084841280394688, 0.0328316940831161, 0.9521191284103669, 0.9496364274211524, 0.039241174686824476, 0.007848234937364895, 0.7526605898037333, 0.15874296075860556, 0.04105421398929454, 0.03558031879072194, 0.008210842797858909, 0.13604390789631524, 0.037302361842538045, 0.3642465921094892, 0.14920944737015218, 0.1579864736860435, 0.15579221710707067, 0.9450066028486129, 0.14408490474027488, 0.13170951414908563, 0.17944316357224419, 0.38010128244367, 0.09988708120031327, 0.06452882236834397, 0.04831694945804693, 0.8511216481455959, 0.003716688419849764, 0.059467014717596224, 0.03716688419849764, 0.013645726222263422, 0.9552008355584395, 0.013645726222263422, 0.027291452444526843, 0.9620815163183263, 0.7274209535674904, 0.18362082323062864, 0.014124678710048357, 0.03884286645263298, 0.017655848387560447, 0.014124678710048357, 0.953099474235241, 0.005543269290915628, 0.011086538581831257, 0.0776057700728188, 0.005543269290915628, 0.1773846173093001, 0.7261682771099474, 0.9628551014133812, 0.0148331977398765, 0.9344914576122195, 0.0444995932196295, 0.9829918467325699, 0.9476441456128203, 0.2897264245356354, 0.19289680370398885, 0.19442167962259743, 0.20052118329703186, 0.05337065715130126, 0.07014429225599594, 0.009720237003701506, 0.9137022783479415, 0.06804165902591054, 0.9099474003752523, 0.956702932290068, 0.972139294500583, 0.1696776090093054, 0.010180656540558324, 0.13913563938763043, 0.4360714551539149, 0.1544066241984679, 0.09162590886502492, 0.04398136735720124, 0.04059818525280115, 0.3112527536048088, 0.010149546313200287, 0.5277764082864149, 0.06766364208800191, 0.12273482227961657, 0.030683705569904143, 0.8131181976024598, 0.015341852784952072, 0.9318479623026629, 0.28503451337566094, 0.1035957060934127, 0.23645573594202673, 0.20894727161213747, 0.08837825774070801, 0.07755045795128351, 0.9803843771117307, 0.946728195885162, 0.03641262291866008, 0.9895387962032212, 0.10757770122092172, 0.007171846748061448, 0.05737477398449158, 0.767387602042575, 0.05737477398449158, 0.9750603980270495, 0.020313758292230196, 0.9744270598428558, 0.9485009535457034, 0.22183664918314835, 0.19441863636275925, 0.10717950466152112, 0.09720931818137962, 0.34147888694484635, 0.03489565268049525, 0.020555373521495165, 0.04111074704299033, 0.10277686760747583, 0.04111074704299033, 0.10277686760747583, 0.6783273262093404, 0.9822163901502697, 0.08850266742194796, 0.028549247555467082, 0.12847161399960186, 0.6280834462202758, 0.06280834462202758, 0.06280834462202758, 0.06544424472367041, 0.04908318354275281, 0.008180530590458802, 0.867136242588633, 0.9545274121483327, 0.9785906483121243, 0.20412894851881483, 0.003711435427614815, 0.00742287085522963, 0.5604267495698371, 0.01484574171045926, 0.21155181937404446, 0.9573079806854591, 0.09886807524769146, 0.07214697382939647, 0.6813880861665222, 0.008016330425488497, 0.12826128680781596, 0.016032660850976994, 0.375802496548573, 0.18456572315699146, 0.055592085288250444, 0.14231573833792113, 0.03113156776142025, 0.21124992409535168, 0.6057172756189552, 0.017815213988792798, 0.1959673538767208, 0.1730620787482729, 0.0025450305698275426, 0.005090061139655085, 0.020735389441098328, 0.9745633037316214, 0.9825692528267801, 0.011563944469445437, 0.7747842794528443, 0.2081510004500179, 0.96203518769888, 0.9391717295038324, 0.9544955515833691, 0.011959300826342627, 0.023918601652685254, 0.8132324561912987, 0.1315523090897689, 0.011959300826342627, 0.9726426929143231, 0.9407770611875841, 0.1873274875440241, 0.0267610696491463, 0.6378054933046535, 0.08474338722229662, 0.06244249584800803, 0.004460178274857717, 0.10132563532269544, 0.04532988948646901, 0.1599878452463612, 0.5039617125260378, 0.1386561325468464, 0.05332928174878707, 0.019437359585640194, 0.9718679792820096, 0.13188344092708226, 0.8499155081967524, 0.013884399394526962, 0.013884399394526962, 0.013884399394526962, 0.9580235582223603, 0.013884399394526962, 0.9501628062536879, 0.02372300558254118, 0.007907668527513727, 0.9093818806640785, 0.05535367969259609, 0.007907668527513727, 0.08770417273847637, 0.04127255187693006, 0.04643162086154632, 0.5932929332308696, 0.05674975883077883, 0.17540834547695275, 0.932981080038473, 0.027174206214712806, 0.027174206214712806, 0.019846000773409696, 0.8335320324832072, 0.0033076667955682826, 0.006615333591136565, 0.13561433861829958, 0.9865033754234385, 0.9547530988208982, 0.01647275036285147, 0.01647275036285147, 0.8730557692311279, 0.09883650217710882, 0.2946226494470747, 0.3882211806793584, 0.13507969848295484, 0.08615319352062474, 0.03722668855829464, 0.05956270169327142, 0.4847706844498862, 0.2596528995866145, 0.08314009100064011, 0.0882564042929872, 0.021744331492475108, 0.06267483783125179, 0.9375144251964829, 0.010419892800650058, 0.9586301376598054, 0.010419892800650058, 0.020839785601300117, 0.011775860973328372, 0.9244050864062772, 0.011775860973328372, 0.005887930486664186, 0.04710344389331349, 0.012856171584511513, 0.977069040422875, 0.9330714927133953, 0.05563799904257428, 0.6032330422510684, 0.1405591554759771, 0.04392473608624285, 0.12591757678056284, 0.03221147312991142, 0.9589361350125366, 0.01410200198547848, 0.01410200198547848, 0.9611023789610761, 0.6856828499214328, 0.03816922425009964, 0.11996041907174172, 0.1451793708084147, 0.0013631865803607013, 0.01022389935270526, 0.12605847218657176, 0.016442409415639795, 0.17538570043349114, 0.5563015185624797, 0.07673124393965237, 0.04932722824691938, 0.07831600884494692, 0.011188001263563846, 0.8614760972944162, 0.011188001263563846, 0.03356400379069154, 0.9746441361171886, 0.012118136502577145, 0.0040393788341923816, 0.05655130367869334, 0.7109306748178592, 0.21004769937800385, 0.0040393788341923816, 0.9830021608400379, 0.007679704381562796, 0.007679704381562796, 0.9739180974904988, 0.011594263065363082, 0.07873341638631953, 0.9054342884426747, 0.011554079393793389, 0.011554079393793389, 0.9589885896848512, 0.011554079393793389, 0.011554079393793389, 0.18685041916169387, 0.07118111206159766, 0.1890748289136188, 0.1646063216424446, 0.3381102822925889, 0.05116142429427332, 0.9772644481820542, 0.9456197671157327, 0.03313601455231394, 0.07179469819668022, 0.1656800727615697, 0.011045338184104648, 0.6903336365065404, 0.03313601455231394, 0.28684726686305456, 0.031200930781595408, 0.2375296665953715, 0.2324972584047916, 0.11171946183087388, 0.09964168217348211, 0.9829238947997864, 0.03365571582553376, 0.8582207535511109, 0.06731143165106752, 0.01682785791276688, 0.3525880061689211, 0.5427999568653128, 0.027835895223862196, 0.025516237288540345, 0.034794869029827744, 0.016237605547252947, 0.01837264678181436, 0.03674529356362872, 0.918632339090718, 0.01837264678181436, 0.9360619429778128, 0.9636652978261925, 0.9808562827881252, 0.015569147345843257, 0.9438537677717708, 0.03813550576855639, 0.009533876442139098, 0.009533876442139098, 0.978640771805195, 0.17457942333115606, 0.12540212098435152, 0.14507304192307335, 0.05163616746414475, 0.44013685600390046, 0.0663893581681861, 0.9560185793237977, 0.9809129589801336, 0.9606196818490156, 0.1757361607925987, 0.039052480176133046, 0.09763120044033262, 0.6638921629942618, 0.9545136091847413, 0.9697995397643464, 0.009573539385630271, 0.00670147756994119, 0.005744123631378163, 0.0009573539385630271, 0.00670147756994119, 0.9449147379581652, 0.040968331296088276, 0.002643118148134728, 0.005286236296269456, 0.001321559074067364, 0.005286236296269456, 0.9322718802984191, 0.05430709982320888, 0.004525591651934073, 0.004525591651934073, 0.004525591651934073, 0.0979867248043926, 0.007944869578734534, 0.17743542059173795, 0.5746788995284647, 0.074152116068189, 0.06885553634903263, 0.9813811525652303, 0.866619866745893, 0.03537223945901604, 0.014148895783606416, 0.010611671837704813, 0.003537223945901604, 0.06720725497213048, 0.8591660181657207, 0.03304484685252772, 0.003478404931845023, 0.010435214795535068, 0.0017392024659225115, 0.09043852822797059, 0.07102893134124642, 0.006457175576476947, 0.122686335953062, 0.6844606111065564, 0.07102893134124642, 0.04520022903533863, 0.9422743907421447, 0.04237726720457712, 0.8899226112961196, 0.04237726720457712, 0.9681796767862666, 0.98921989062645, 0.9725480130905395, 0.010935408887041002, 0.185901951079697, 0.021870817774082004, 0.26244981328898404, 0.513964217690927, 0.09844676396184034, 0.040819389935397216, 0.14887071623497808, 0.571471459095561, 0.06723193636418365, 0.0720342175330539, 0.9254733996095583, 0.8988441913143443, 0.009079234255700447, 0.06355463978990314, 0.027237702767101343, 0.9708497245430577, 0.021864558860646803, 0.9073791927168424, 0.06559367658194042, 0.4992020354973132, 0.36138552262995677, 0.024500713398641138, 0.035219775510546635, 0.01378165128673564, 0.06584566725884805, 0.8991247604016648, 0.07933453768249983, 0.24686348530358113, 0.3105471090485629, 0.1466869985137221, 0.13523825716630966, 0.07871009676346065, 0.08228782843452703, 0.02617668870983918, 0.9423607935542105, 0.9757043544033597, 0.9502868061925209, 0.13740123324249293, 0.09253552442861768, 0.08973141762775047, 0.47108994254569, 0.16263819445029773, 0.044865708813875235, 0.9447110304801224, 0.004181351938205436, 0.9909804093546883, 0.9849149363041917, 0.018395971599748023, 0.004598992899937006, 0.5081887154430391, 0.04828942544933856, 0.3955133893945825, 0.02529446094965353, 0.7525382130405917, 0.09560936313220632, 0.04163633555757372, 0.06014137358316204, 0.02775755703838248, 0.02158921102985304, 0.9813009367653527, 0.010116504502735595, 0.005058252251367797, 0.9667765485131942, 0.00619728556739227, 0.01239457113478454, 0.00619728556739227, 0.046512792848280894, 0.023256396424140447, 0.9069994605414774, 0.06642930207839709, 0.9300102290975593, 0.09145351356878342, 0.804028806792221, 0.01905281532682988, 0.022863378392195856, 0.05715844598048964, 0.25075976462060134, 0.22842196949635238, 0.23562770985901332, 0.13474734478175993, 0.07349855169914177, 0.07638084784420615, 0.24881170952002746, 0.08531888012257699, 0.24923199956989237, 0.21981169607934858, 0.10339135226676817, 0.0933043910700103, 0.12080970891669571, 0.12080970891669571, 0.1142794543806581, 0.032651272680188026, 0.5779275264393281, 0.032651272680188026, 0.9861813794954023, 0.004545714154504666, 0.004545714154504666, 0.531848556077046, 0.004545714154504666, 0.45457141545046664, 0.963496387076213, 0.1533900332637593, 0.10430522261935632, 0.1738420376989272, 0.45880663282893336, 0.0654464141925373, 0.043630942795024864, 0.9740532432215121, 0.017710058967663856, 0.09176585150027608, 0.8947170521276918, 0.02294146287506902, 0.019540296763362077, 0.1270119289618535, 0.16120744829773714, 0.06839103867176727, 0.6155193480459055, 0.009770148381681039, 0.9241334345610971, 0.05331539045544791, 0.9704589577474785, 0.8820664285221804, 0.9252811264103132, 0.024222019015976787, 0.03875523042556286, 0.004844403803195357, 0.004844403803195357, 0.9232500021232555, 0.9652919782185441, 0.005153423510554703, 0.005153423510554703, 0.08760819967942995, 0.015460270531664108, 0.7730135265832054, 0.11337531723220347, 0.003370138355203589, 0.016850691776017945, 0.5425922751877779, 0.026961106841628713, 0.4044166026244307, 0.003370138355203589, 0.9575595991530685, 0.007261694472480785, 0.08714033366976942, 0.06535525025232707, 0.021785083417442355, 0.813309780917848, 0.007261694472480785, 0.9435645559522273, 0.9236100906762673, 0.008792240219877135, 0.9407697035268535, 0.01758448043975427, 0.026376720659631408, 0.15075054904822885, 0.052643048873984674, 0.1651077441956792, 0.509680427734488, 0.09810750017424416, 0.023928658579083942, 0.003188695657508863, 0.009566086972526588, 0.40018130501736227, 0.004783043486263294, 0.5516443487490332, 0.030292608746334198, 0.9248448629082889, 0.01039151531357628, 0.0519575765678814, 0.01039151531357628, 0.06259280577999636, 0.9388920866999455, 0.22973816101186403, 0.18957414684895074, 0.27954153857387654, 0.06265586209414474, 0.1670822989177193, 0.07229522549324394, 0.975936280299178, 0.9843214607169737, 0.9797039101188969, 0.28688592199259755, 0.030034988223051732, 0.2392442165353431, 0.2371728380372016, 0.11703288514499467, 0.08906927542008444, 0.24829818886904634, 0.20590581515969697, 0.024224213548199643, 0.15745738806329768, 0.36336320322299465, 0.9790883966346562, 0.0031765074856125817, 0.0031765074856125817, 0.28270916621951975, 0.006353014971225163, 0.6765960944354799, 0.03176507485612581, 0.9817815254252792, 0.2835494192990404, 0.06095850708057545, 0.26322991693884856, 0.19719153426822514, 0.11591352482745787, 0.07896897508165457, 0.04968098155062982, 0.9190981586866517, 0.050174251461236254, 0.9198612767893314, 0.008362375243539376, 0.008362375243539376, 0.008362375243539376, 0.9670399078245944, 0.01462310932104541, 0.8627634499416791, 0.01462310932104541, 0.10236176524731785, 0.948259173764928, 0.061552685354773616, 0.800184909612057, 0.03419593630820757, 0.023937155415745297, 0.06497227898559438, 0.013678374523283026, 0.8705674609246261, 0.11211853663423216, 0.006595208037307774, 0.006595208037307774, 0.006595208037307774, 0.9619201120363313, 0.020612573829349955, 0.006870857943116652, 0.006870857943116652, 0.9550905942375505, 0.03473056706318365, 0.005788427843863942, 0.005788427843863942, 0.9757662083624998, 0.9678206140961374, 0.9737252004252038, 0.03629537974781309, 0.9436798734431404, 0.7127753606920095, 0.2656708162579308, 0.006479776006290996, 0.003239888003145498, 0.003239888003145498, 0.006479776006290996, 0.40962017736797324, 0.3690793628983923, 0.062127481914422675, 0.08897919019946976, 0.01421561026855434, 0.0558094329061763, 0.9782965757314672, 0.11885241288338627, 0.02502156060702869, 0.037532340910543034, 0.8069453295766752, 0.006255390151757172, 0.05175588964253778, 0.946393410606405, 0.1668948745902372, 0.0098173455641316, 0.1668948745902372, 0.0883561100771844, 0.0196346911282632, 0.5497713515913696, 0.01404411647315918, 0.08426469883895508, 0.8707352213358692, 0.024098474110070316, 0.9398404902927424, 0.024098474110070316, 0.7827386021955806, 0.13706943264254406, 0.01803545166349264, 0.010821270998095585, 0.02164254199619117, 0.028856722661588223, 0.40894398412343075, 0.2129916583976202, 0.008519666335904808, 0.025558999007714422, 0.025558999007714422, 0.3237473207643827, 0.27338754392028514, 0.13966537569840654, 0.1619524037353863, 0.09063391401705105, 0.2644727327054932, 0.06983268784920327, 0.28688203712813626, 0.08549464682626577, 0.22133614122799916, 0.20708703342362153, 0.11399286243502102, 0.0864445873465576, 0.16554423761668174, 0.07276669785348648, 0.23103426568481958, 0.10733087933389256, 0.18555507952639053, 0.23831093547016824, 0.9533943476951721, 0.041543710032826656, 0.020771855016413328, 0.8828038381975664, 0.041543710032826656, 0.0499990888970921, 0.9499826890447499, 0.8959043584777402, 0.08532422461692764, 0.05376175979154534, 0.0041355199839650265, 0.016542079935860106, 0.8932723165364457, 0.01240655995189508, 0.02067759991982513, 0.9548722817344903, 0.9636548646625797, 0.9738621849291025, 0.45196001552648846, 0.1783409790996414, 0.12703740976960756, 0.07573384043957374, 0.12581589621413056, 0.040309947330740864, 0.9883967568676243, 0.11679600089508997, 0.6657372051020128, 0.04671840035803599, 0.03114560023869066, 0.07397080056689032, 0.06618440050721765, 0.11212533739947694, 0.03540800128404535, 0.15343467223086318, 0.5684951317271726, 0.10228978148724213, 0.02950666773670446, 0.004398789852812361, 0.004398789852812361, 0.03519031882249889, 0.004398789852812361, 0.6290269489521676, 0.3255104491081147, 0.9479143642797372, 0.03055261028205202, 0.9471309187436127, 0.10286595803528743, 0.06857730535685828, 0.8229276642822995, 0.08858665101314912, 0.016106663820572565, 0.016106663820572565, 0.056373323372003986, 0.8133865229389147, 0.008053331910286282, 0.9329607367840189, 0.027440021670118206, 0.9236380518584103, 0.9620865072943852, 0.02713948315136687, 0.9498819102978405, 0.9524062615577873, 0.38114490064532097, 0.018951956385678943, 0.42326035928016303, 0.02105772931742105, 0.14529833229020522, 0.010528864658710524, 0.048118332001840396, 0.9142483080349675, 0.9723436318207718, 0.023900422420611814, 0.023900422420611814, 0.908216051983249, 0.04780084484122363, 0.036185466564369564, 0.024123644376246374, 0.8925748419211159, 0.024123644376246374, 0.012061822188123187, 0.5316572022283855, 0.29468119891964056, 0.09002010515299726, 0.04462535127242599, 0.0076940260814527565, 0.0315455069339563, 0.9392903502649783, 0.9547022337420839, 0.25635468646806164, 0.19189247554936503, 0.2044860862917594, 0.16158242935580572, 0.10587171064792554, 0.07983068504500837, 0.9633158245580914, 0.0030188370016266067, 0.0030188370016266067, 0.41358066922284514, 0.00905651100487982, 0.5705601933074287, 0.0030188370016266067, 0.9635574431638416, 0.9734405040047168, 0.21006221170868888, 0.5024564990687687, 0.07848478239665299, 0.07463748914191509, 0.057709398821068375, 0.07617640644381025, 0.9620268433536292, 0.0036462804604358197, 0.0036462804604358197, 0.36462804604358195, 0.021877682762614918, 0.6016362759719103, 0.007292560920871639, 0.01665139991515361, 0.01665139991515361, 0.8991755954182951, 0.03330279983030722, 0.01665139991515361, 0.004816857689259761, 0.968188395541212, 0.004816857689259761, 0.019267430757039045, 0.14505998689873784, 0.846183256909304, 0.025452424263060415, 0.7762989400233427, 0.003181553032882552, 0.006363106065765104, 0.003181553032882552, 0.18134852287430545, 0.9789812815073476, 0.029403045085356187, 0.940897442731398, 0.029403045085356187, 0.9867260712750642, 0.9762607551718865, 0.9720196460887389, 0.004023426603968085, 0.004023426603968085, 0.1850776237825319, 0.020117133019840423, 0.7845681877737766, 0.9404160102446283, 0.040281561803780945, 0.9264759214869617, 0.9489660770591813, 0.006566264440001329, 0.013132528880002659, 0.13789155324002791, 0.013132528880002659, 0.8207830550001661, 0.006566264440001329, 0.03516134973659574, 0.7305747111937113, 0.04688179964879431, 0.007813633274799052, 0.09767041593498815, 0.08204314938539005, 0.011080578252565101, 0.011773114393350421, 0.3241069138875292, 0.011080578252565101, 0.638518321804064, 0.003462680703926594, 0.018223950747064694, 0.13364230547847442, 0.07897045323728034, 0.6925101283884584, 0.07897045323728034, 0.9372996891200759, 0.008218258039291836, 0.016436516078583673, 0.7478614815755571, 0.21367470902158775, 0.008218258039291836, 0.913650175495277, 0.005221153502748299, 0.005221153502748299, 0.04176922802198639, 0.005221153502748299, 0.9189230164837006, 0.020884614010993195, 0.6838549225173912, 0.07671449451316888, 0.07671449451316888, 0.05370014615921822, 0.05260422480903009, 0.0569879102097826, 0.03550298675277774, 0.07100597350555549, 0.8875746688194437, 0.19220729956668334, 0.006406909985556111, 0.006406909985556111, 0.7880499282234017, 0.2861649423224136, 0.09455522839474219, 0.23368054242048622, 0.19785785677313894, 0.09872065695838722, 0.08955671411836816, 0.9633158245580914, 0.9814177451820153, 0.012913391383973885, 0.15808957039843105, 0.022584224342633005, 0.8017399641634717, 0.011292112171316503, 0.9820308736244774, 0.9520617504664329, 0.013409320429104688, 0.013409320429104688, 0.013409320429104688, 0.9748682980891334, 0.05743264373813203, 0.1649347717607894, 0.21794951982675745, 0.08835791344328005, 0.39908324238548154, 0.07215896264534537, 0.2614730132395405, 0.24907217406470858, 0.17018172910141635, 0.2184658475906554, 0.043007165648885064, 0.05778263360187625, 0.9498037246970142, 0.03799214898788057, 0.0319410539658113, 0.09582316189743391, 0.8304674031110939, 0.9728666630289489, 0.9777785266796323, 0.023753308076070036, 0.9738856311188715, 0.016625545480670977, 0.9809071833595876, 0.9863330799688599, 0.023464473491686413, 0.9385789396674565, 0.2524189157423698, 0.39550989345619725, 0.10932793802854233, 0.11736675700122927, 0.02893974830167297, 0.09485806387770584, 0.9728666630289489, 0.07089589831855761, 0.048507719902171, 0.007462726138795539, 0.0037313630693977693, 0.791048970712327, 0.07835862445735316, 0.030565716275159967, 0.9475372045299589, 0.38235793410207, 0.1856717540084126, 0.16678988071942147, 0.14004056022668407, 0.03383002297610907, 0.0928358770042063, 0.9777139409651135, 0.023738055808836485, 0.8624826943877256, 0.09495222323534594, 0.007912685269612162, 0.007912685269612162, 0.9212052870660147, 0.012533405266204282, 0.025066810532408564, 0.03760021579861284, 0.33139551489183355, 0.20856483897421366, 0.11870884115528366, 0.07996359438932302, 0.14426421668176834, 0.1178844742028164, 0.0753083672171624, 0.10543171410402737, 0.01506167344343248, 0.7982686925019215, 0.01292129527977039, 0.1421342480774743, 0.02153549213295065, 0.6374505671353393, 0.1722839370636052, 0.01722839370636052, 0.012656826770706819, 0.1265682677070682, 0.8480073936373569, 0.039760574155471885, 0.9343734926535893, 0.952859859857578, 0.9728982144030457, 0.03005820556795169, 0.7748337435294214, 0.016699003093306495, 0.03673780680527429, 0.14027162598377454, 0.012551597426009945, 0.8869795514380362, 0.004183865808669982, 0.018130085170903254, 0.0013946219362233273, 0.07530958455605967, 0.011704269228044335, 0.8192988459631034, 0.00877820192103325, 0.0058521346140221675, 0.0029260673070110837, 0.15215549996457636, 0.23020072424843213, 0.057183619399292056, 0.10410351223973682, 0.48239514826582275, 0.08064356581951444, 0.04691989284044477, 0.9744462035813538, 0.015467400056846886, 0.025290492124682405, 0.9610387007379313, 0.9804804742237095, 0.9916683381950264, 0.02053808545398026, 0.03594164954446545, 0.9344828881561018, 0.2958853850091568, 0.03909596678799669, 0.2816686698135216, 0.13950151785717002, 0.13328170495907962, 0.11106808746589969, 0.04406326333062553, 0.08812652666125106, 0.022031631665312766, 0.8372020032818851, 0.9648327376163789, 0.007479323547413789, 0.02243797064224137, 0.24993401091406142, 0.1275173525071742, 0.21320901339199524, 0.21218887457193786, 0.12445693604700202, 0.07344999504413234, 0.04139273788694232, 0.08485511266823176, 0.13659603502690965, 0.625030342092829, 0.05381055925302501, 0.06001946993606636, 0.9347225269326607, 0.030152339578472923, 0.9947106135479342, 0.9273737249371168, 0.9560083439592074, 0.012746777919456099, 0.025493555838912198, 0.9476441456128203, 0.9503020458726971, 0.9405759275083, 0.9584019925837469, 0.02662227757177075, 0.9699752621475223, 0.006518861732035705, 0.008691815642714274, 0.23467902235328542, 0.5714868785084636, 0.13472314246207126, 0.04563203212424994, 0.9196075854146989, 0.32181051820487827, 0.25654824528221065, 0.1474027198770596, 0.10239425579246127, 0.06976311933112746, 0.10239425579246127, 0.7745193726178808, 0.025755988638124304, 0.04783255032794513, 0.13061965666477324, 0.0018397134741517359, 0.020236848215669095, 0.040540998335934816, 0.9121724625585333, 0.9612189376215831, 0.017519052544127566, 0.7883573644857405, 0.09197502585666972, 0.017519052544127566, 0.06131668390444648, 0.03065834195222324, 0.9668339708965795, 0.010742599676628661, 0.010742599676628661, 0.15692847596752602, 0.19816515578381022, 0.16723764592159707, 0.22107442234841257, 0.12600096610531286, 0.1294373560900032, 0.22552754289920565, 0.23248826953189716, 0.20464536300113104, 0.08213657426576008, 0.0654308303473004, 0.18933176440920968, 0.9594577514287987, 0.3202148828584958, 0.14328851511266932, 0.18872145892888156, 0.2031376814859489, 0.05504375885425712, 0.08955532194541833, 0.06792425627215984, 0.13750520172168942, 0.20542945799384926, 0.40257547010084976, 0.13750520172168942, 0.046387296966353055, 0.9577308160467147, 0.12110075160726327, 0.04919718034045071, 0.09082556370544746, 0.6811917277908559, 0.03027518790181582, 0.02649078941408884, 0.9923363022724524, 0.9527999024477946, 0.028486964091268278, 0.028486964091268278, 0.028486964091268278, 0.9115828509205849, 0.3078017689661076, 0.20697015499445165, 0.23456617566037855, 0.05519204133185378, 0.16345335317510543, 0.03184156230683872, 0.9620389212155949, 0.13841627243875693, 0.004943438301384176, 0.03460406810968923, 0.7612894984131632, 0.04943438301384176, 0.01483031490415253, 0.012006553401941046, 0.9124980585475195, 0.06003276700970523, 0.010667701868043958, 0.9174223606517803, 0.021335403736087916, 0.05333850934021979], \"Term\": [\"ac\", \"ac\", \"ac\", \"ac\", \"ac\", \"ac\", \"acceleration\", \"adl\", \"adl\", \"adl\", \"advertising\", \"agc\", \"agc\", \"ahmet\", \"ahmet\", \"angmar\", \"apartment\", \"apartment\", \"apartment\", \"apartment\", \"apc\", \"apc\", \"apc\", \"apl\", \"apr\", \"apr\", \"apr\", \"apr\", \"apr\", \"apr\", \"april\", \"april\", \"april\", \"april\", \"april\", \"april\", \"arab\", \"arab\", \"arab\", \"arab\", \"arab\", \"arab\", \"arabs\", \"arabs\", \"arabs\", \"arabs\", \"arabs\", \"argic\", \"argic\", \"argic\", \"argic\", \"argic\", \"argic\", \"armenia\", \"armenia\", \"armenia\", \"armenia\", \"armenia\", \"armenian\", \"armenian\", \"armenian\", \"armenian\", \"armenian\", \"armenian\", \"armenians\", \"armenians\", \"armenians\", \"armenians\", \"armenians\", \"armenians\", \"arras\", \"arras\", \"arras\", \"article\", \"article\", \"article\", \"article\", \"article\", \"article\", \"asala\", \"asala\", \"ask\", \"ask\", \"ask\", \"ask\", \"ask\", \"ask\", \"askew\", \"astro\", \"astro\", \"astro\", \"astronomy\", \"astronomy\", \"astronomy\", \"astronomy\", \"atmospheric\", \"atom\", \"attack\", \"attack\", \"attack\", \"attack\", \"attack\", \"attack\", \"au\", \"au\", \"au\", \"au\", \"au\", \"au\", \"audio\", \"audio\", \"audio\", \"audio\", \"audio\", \"audio\", \"auto\", \"auto\", \"auto\", \"auto\", \"auto\", \"available\", \"available\", \"available\", \"available\", \"available\", \"available\", \"azerbadjan\", \"azerbaijan\", \"azerbaijan\", \"azerbaijan\", \"azerbaijan\", \"azerbaijan\", \"azerbaijani\", \"azerbaijani\", \"azerbaijanis\", \"azerbaijanis\", \"balcony\", \"base\", \"base\", \"base\", \"base\", \"base\", \"base\", \"battery\", \"battery\", \"battery\", \"battery\", \"battery\", \"battery\", \"belton\", \"betz\", \"bill\", \"bill\", \"bill\", \"bill\", \"bill\", \"bill\", \"billboard\", \"billboard\", \"bison\", \"bony\", \"book\", \"book\", \"book\", \"book\", \"book\", \"book\", \"breaker\", \"bullock\", \"bullock\", \"bv\", \"c\", \"c\", \"c\", \"c\", \"c\", \"c\", \"catbyte\", \"cbnewsd\", \"ccwf\", \"ccwf\", \"cdt\", \"cdt\", \"cdt\", \"certification\", \"chess\", \"chess\", \"citizen\", \"citizen\", \"citizen\", \"citizen\", \"citizen\", \"citizen\", \"clarke\", \"clutter\", \"cmu\", \"cmu\", \"cmu\", \"cmu\", \"cmu\", \"coffman\", \"coffman\", \"collider\", \"com\", \"com\", \"com\", \"com\", \"com\", \"com\", \"come\", \"come\", \"come\", \"come\", \"come\", \"come\", \"command\", \"command\", \"command\", \"command\", \"command\", \"command\", \"commercial\", \"commercial\", \"commercial\", \"commercial\", \"commercial\", \"commercial\", \"comprehensive\", \"comprehensive\", \"control\", \"control\", \"control\", \"control\", \"control\", \"control\", \"cool\", \"cool\", \"cool\", \"cool\", \"cool\", \"cool\", \"cooper\", \"cooper\", \"cooper\", \"cosmic\", \"cosmic\", \"cpr\", \"cpr\", \"cpr\", \"crime\", \"crime\", \"crime\", \"crime\", \"crime\", \"cs\", \"cs\", \"cs\", \"cs\", \"cs\", \"cs\", \"cyberman\", \"d\", \"d\", \"d\", \"d\", \"d\", \"d\", \"davidian\", \"davidian\", \"davidian\", \"davidian\", \"davidian\", \"dbd\", \"dbd\", \"dbd\", \"dbd\", \"dds\", \"death\", \"death\", \"death\", \"death\", \"death\", \"death\", \"deg\", \"detector\", \"detector\", \"detector\", \"detector\", \"detector\", \"detector\", \"dev\", \"dewey\", \"dewey\", \"dewey\", \"disco\", \"dogan\", \"don\", \"don\", \"don\", \"don\", \"don\", \"don\", \"dseg\", \"dseg\", \"dseg\", \"dsv\", \"dtmedin\", \"dwarf\", \"e\", \"e\", \"e\", \"e\", \"e\", \"e\", \"earth\", \"earth\", \"earth\", \"earth\", \"earth\", \"earth\", \"economy\", \"economy\", \"economy\", \"economy\", \"edinburgh\", \"edu\", \"edu\", \"edu\", \"edu\", \"edu\", \"edu\", \"egs\", \"elchibey\", \"elchibey\", \"electron\", \"element\", \"element\", \"element\", \"element\", \"element\", \"elias\", \"elias\", \"enzo\", \"eren\", \"etc\", \"etc\", \"etc\", \"etc\", \"etc\", \"etc\", \"excerpt\", \"excerpt\", \"excerpt\", \"excerpt\", \"excerpt\", \"excerpt\", \"extro\", \"f\", \"f\", \"f\", \"f\", \"f\", \"f\", \"faq\", \"faq\", \"faq\", \"faq\", \"farid\", \"faustus\", \"fbi\", \"fbi\", \"fbi\", \"fbi\", \"fbi\", \"fbi\", \"feustel\", \"file\", \"file\", \"file\", \"file\", \"file\", \"file\", \"fire\", \"fire\", \"fire\", \"fire\", \"fire\", \"fire\", \"firearm\", \"firearm\", \"firearm\", \"firearm\", \"firearm\", \"firearm\", \"flax\", \"flax\", \"flygare\", \"fnal\", \"fnal\", \"fnal\", \"fnald\", \"foulston\", \"fpu\", \"fred\", \"fred\", \"fred\", \"fred\", \"fred\", \"frej\", \"fujitsu\", \"fund\", \"fund\", \"fund\", \"fund\", \"fund\", \"fund\", \"g\", \"g\", \"g\", \"g\", \"g\", \"g\", \"galaxy\", \"galaxy\", \"galileo\", \"galileo\", \"gamma\", \"gamma\", \"gamma\", \"gamma\", \"gamma\", \"garfiel\", \"gary\", \"gary\", \"gary\", \"gary\", \"gary\", \"gas\", \"gas\", \"gas\", \"gas\", \"gas\", \"gas\", \"gaza\", \"gaza\", \"gaza\", \"genocide\", \"genocide\", \"genocide\", \"genocide\", \"genocide\", \"gerald\", \"gfci\", \"glock\", \"glock\", \"glock\", \"glock\", \"go\", \"go\", \"go\", \"go\", \"go\", \"go\", \"government\", \"government\", \"government\", \"government\", \"government\", \"government\", \"gozer\", \"greece\", \"greece\", \"greece\", \"greece\", \"greek\", \"greek\", \"greek\", \"greek\", \"greek\", \"greeks\", \"greeks\", \"greig\", \"ground\", \"ground\", \"ground\", \"ground\", \"ground\", \"ground\", \"guerilla\", \"guerilla\", \"guerilla\", \"gulf\", \"gun\", \"gun\", \"gun\", \"gun\", \"gun\", \"gun\", \"h\", \"h\", \"h\", \"h\", \"h\", \"h\", \"handheld\", \"handheld\", \"handheld\", \"handheld\", \"handheld\", \"heghinian\", \"henry\", \"henry\", \"henry\", \"henry\", \"henry\", \"henry\", \"hernlem\", \"hernlem\", \"hernlem\", \"hezbollah\", \"hezbollah\", \"hfe\", \"hfe\", \"higgins\", \"higgins\", \"higgins\", \"higgins\", \"higgins\", \"high\", \"high\", \"high\", \"high\", \"high\", \"high\", \"hilmi\", \"hojali\", \"hole\", \"hole\", \"hole\", \"hole\", \"hole\", \"hole\", \"host\", \"host\", \"host\", \"host\", \"host\", \"host\", \"hovig\", \"hr\", \"hr\", \"hr\", \"hr\", \"human\", \"human\", \"human\", \"human\", \"human\", \"human\", \"ic\", \"ic\", \"ic\", \"ic\", \"idbsu\", \"idc\", \"idf\", \"idf\", \"igc\", \"igc\", \"igc\", \"igc\", \"illegitimate\", \"information\", \"information\", \"information\", \"information\", \"information\", \"information\", \"inqmind\", \"interim\", \"inverter\", \"iran\", \"iran\", \"iran\", \"iran\", \"irgun\", \"israel\", \"israel\", \"israel\", \"israel\", \"israel\", \"israel\", \"israeli\", \"israeli\", \"israeli\", \"israeli\", \"israeli\", \"israeli\", \"israelis\", \"israelis\", \"israelis\", \"israelis\", \"israelis\", \"j\", \"j\", \"j\", \"j\", \"j\", \"j\", \"jake\", \"jewish\", \"jewish\", \"jewish\", \"jewish\", \"jewish\", \"jewish\", \"jews\", \"jews\", \"jews\", \"jews\", \"jews\", \"jews\", \"jim\", \"jim\", \"jim\", \"jim\", \"jim\", \"jim\", \"jle\", \"jmd\", \"jmd\", \"jmd\", \"jockey\", \"jonas\", \"judaism\", \"jupiter\", \"jupiter\", \"jupiter\", \"jupiter\", \"jupiter\", \"k\", \"k\", \"k\", \"k\", \"k\", \"k\", \"kaan\", \"karabakh\", \"karabakh\", \"karabakh\", \"karabakh\", \"karina\", \"ke\", \"ke\", \"ke\", \"kill\", \"kill\", \"kill\", \"kill\", \"kill\", \"kill\", \"kipling\", \"kipling\", \"know\", \"know\", \"know\", \"know\", \"know\", \"know\", \"kolstad\", \"kolstad\", \"ksu\", \"kyoto\", \"l\", \"l\", \"l\", \"l\", \"l\", \"l\", \"lacin\", \"larson\", \"larson\", \"larsonian\", \"launch\", \"launch\", \"launch\", \"launch\", \"launch\", \"launch\", \"law\", \"law\", \"law\", \"law\", \"law\", \"law\", \"lebanese\", \"lebanese\", \"lebanese\", \"lebanon\", \"lebanon\", \"lebanon\", \"lebanon\", \"levy\", \"levy\", \"levy\", \"liar\", \"liar\", \"lie\", \"lie\", \"lie\", \"lie\", \"lie\", \"like\", \"like\", \"like\", \"like\", \"like\", \"like\", \"line\", \"line\", \"line\", \"line\", \"line\", \"line\", \"list\", \"list\", \"list\", \"list\", \"list\", \"list\", \"livni\", \"lunar\", \"lunar\", \"lunar\", \"lunar\", \"lunar\", \"lyuda\", \"m\", \"m\", \"m\", \"m\", \"m\", \"m\", \"mamma\", \"mamma\", \"mask\", \"mask\", \"mask\", \"material\", \"material\", \"material\", \"material\", \"material\", \"material\", \"mccall\", \"mccall\", \"mcnc\", \"mgds\", \"militia\", \"militia\", \"militia\", \"militia\", \"militia\", \"minnesota\", \"misisipi\", \"mission\", \"mission\", \"mission\", \"mission\", \"mission\", \"mission\", \"moon\", \"moon\", \"moon\", \"moon\", \"moon\", \"moon\", \"morrow\", \"motion\", \"motion\", \"motion\", \"motion\", \"motion\", \"motion\", \"mpce\", \"mros\", \"mutlu\", \"mutlu\", \"mutlu\", \"mutlu\", \"n\", \"n\", \"n\", \"n\", \"n\", \"n\", \"nasa\", \"nasa\", \"nasa\", \"nasa\", \"nasa\", \"nasa\", \"ncsu\", \"ncsu\", \"ncsu\", \"ncsu\", \"neophytos\", \"neophytos\", \"new\", \"new\", \"new\", \"new\", \"new\", \"new\", \"nicho\", \"nickh\", \"nile\", \"nntp\", \"nntp\", \"nntp\", \"nntp\", \"nntp\", \"nntp\", \"nuclear\", \"nuclear\", \"nuclear\", \"nuclear\", \"nuclear\", \"oac\", \"orbit\", \"orbit\", \"orbit\", \"orbit\", \"orbit\", \"orbit\", \"ordnance\", \"organization\", \"organization\", \"organization\", \"organization\", \"organization\", \"organization\", \"oscillator\", \"oscillator\", \"outlet\", \"outlet\", \"outlet\", \"outlet\", \"outlet\", \"outward\", \"ozone\", \"ozone\", \"ozone\", \"ozone\", \"ozonehole\", \"page\", \"page\", \"page\", \"page\", \"page\", \"page\", \"palestine\", \"palestine\", \"palestine\", \"palestine\", \"palestine\", \"palestinian\", \"palestinian\", \"palestinian\", \"palestinian\", \"palestinians\", \"palestinians\", \"palestinians\", \"palestinians\", \"parlakbilek\", \"parole\", \"parsli\", \"particle\", \"particle\", \"peace\", \"peace\", \"peace\", \"peace\", \"peace\", \"peace\", \"people\", \"people\", \"people\", \"people\", \"people\", \"people\", \"photon\", \"physical\", \"physical\", \"physical\", \"physical\", \"physical\", \"physicist\", \"physicist\", \"pin\", \"pin\", \"pin\", \"pin\", \"pin\", \"pin\", \"planetary\", \"planetary\", \"planetary\", \"plutonium\", \"plutonium\", \"plutonium\", \"policy\", \"policy\", \"policy\", \"policy\", \"policy\", \"policy\", \"population\", \"population\", \"population\", \"population\", \"population\", \"population\", \"post\", \"post\", \"post\", \"post\", \"post\", \"post\", \"posting\", \"posting\", \"posting\", \"posting\", \"posting\", \"posting\", \"power\", \"power\", \"power\", \"power\", \"power\", \"power\", \"pretense\", \"probe\", \"probe\", \"probe\", \"probe\", \"provable\", \"provable\", \"pyron\", \"pyron\", \"q\", \"q\", \"q\", \"q\", \"q\", \"q\", \"quasar\", \"qucdn\", \"queensu\", \"question\", \"question\", \"question\", \"question\", \"question\", \"question\", \"questionnaire\", \"quote\", \"quote\", \"quote\", \"quote\", \"quote\", \"quote\", \"r\", \"r\", \"r\", \"r\", \"r\", \"r\", \"radar\", \"radar\", \"radar\", \"radar\", \"radar\", \"radar\", \"radiate\", \"raider\", \"raider\", \"randy\", \"randy\", \"randy\", \"ray\", \"ray\", \"ray\", \"ray\", \"ray\", \"ray\", \"rc\", \"rc\", \"reacquire\", \"readout\", \"relativity\", \"relativity\", \"reprocess\", \"research\", \"research\", \"research\", \"research\", \"research\", \"research\", \"reset\", \"reset\", \"retaliation\", \"rethink\", \"rethink\", \"rethink\", \"rethink\", \"revolver\", \"revolver\", \"revolver\", \"revolver\", \"revolver\", \"right\", \"right\", \"right\", \"right\", \"right\", \"right\", \"rotation\", \"rotational\", \"s\", \"s\", \"s\", \"s\", \"s\", \"s\", \"sarsak\", \"satellite\", \"satellite\", \"satellite\", \"satellite\", \"satellite\", \"satellite\", \"saundrsg\", \"savage\", \"say\", \"say\", \"say\", \"say\", \"say\", \"say\", \"sccsi\", \"sci\", \"sci\", \"sci\", \"sci\", \"sci\", \"sci\", \"scope\", \"scope\", \"scope\", \"scope\", \"scope\", \"sdpa\", \"sdpa\", \"sdpa\", \"sdpa\", \"sequence\", \"sequence\", \"serdar\", \"serdar\", \"serdar\", \"serdar\", \"serdar\", \"serdar\", \"sgs\", \"shafer\", \"shafer\", \"shafer\", \"shelling\", \"shipment\", \"shostack\", \"shuttle\", \"shuttle\", \"shuttle\", \"shuttle\", \"shuttle\", \"sighting\", \"simms\", \"simms\", \"smd\", \"solar\", \"solar\", \"solar\", \"solar\", \"solar\", \"solar\", \"soviet\", \"soviet\", \"soviet\", \"soviet\", \"soviet\", \"soviet\", \"space\", \"space\", \"space\", \"space\", \"space\", \"space\", \"speed\", \"speed\", \"speed\", \"speed\", \"speed\", \"spence\", \"spencer\", \"spencer\", \"spencer\", \"spencer\", \"spencer\", \"sr\", \"star\", \"star\", \"star\", \"star\", \"star\", \"star\", \"state\", \"state\", \"state\", \"state\", \"state\", \"state\", \"steam\", \"steam\", \"steam\", \"stratus\", \"stratus\", \"stratus\", \"stratus\", \"subject\", \"subject\", \"subject\", \"subject\", \"subject\", \"subject\", \"submerge\", \"sumgait\", \"sumgait\", \"sw\", \"sw\", \"sw\", \"sw\", \"switchover\", \"syria\", \"syria\", \"syria\", \"syria\", \"syrian\", \"system\", \"system\", \"system\", \"system\", \"system\", \"system\", \"t\", \"t\", \"t\", \"t\", \"t\", \"t\", \"tamu\", \"tamu\", \"tartar\", \"tartar\", \"tartar\", \"tca\", \"tclock\", \"td\", \"td\", \"teknikum\", \"teknikum\", \"tektronix\", \"telemetry\", \"telemetry\", \"tell\", \"tell\", \"tell\", \"tell\", \"tell\", \"tell\", \"tgc\", \"theory\", \"theory\", \"theory\", \"theory\", \"theory\", \"theory\", \"theporch\", \"theporch\", \"think\", \"think\", \"think\", \"think\", \"think\", \"think\", \"thomasp\", \"ti\", \"ti\", \"ti\", \"ti\", \"ti\", \"tim\", \"tim\", \"tim\", \"tim\", \"time\", \"time\", \"time\", \"time\", \"time\", \"time\", \"timer\", \"timer\", \"timer\", \"timer\", \"toronto\", \"toronto\", \"toronto\", \"toronto\", \"toronto\", \"toronto\", \"tower\", \"tower\", \"tower\", \"tracking\", \"tracking\", \"triad\", \"triumf\", \"turkey\", \"turkey\", \"turkey\", \"turkey\", \"turkey\", \"turkish\", \"turkish\", \"turkish\", \"turkish\", \"turkish\", \"turkish\", \"turks\", \"turks\", \"turks\", \"turks\", \"turks\", \"turks\", \"u\", \"u\", \"u\", \"u\", \"u\", \"u\", \"uio\", \"uio\", \"unc\", \"unc\", \"uncharged\", \"unified\", \"universe\", \"universe\", \"universe\", \"university\", \"university\", \"university\", \"university\", \"university\", \"university\", \"up\", \"up\", \"up\", \"up\", \"urartu\", \"urartu\", \"urartu\", \"use\", \"use\", \"use\", \"use\", \"use\", \"use\", \"v\", \"v\", \"v\", \"v\", \"v\", \"v\", \"vandalize\", \"vandalize\", \"vay\", \"vcd\", \"vd\", \"vd\", \"vd\", \"vedat\", \"vibrational\", \"victor\", \"voltmeter\", \"voltmeter\", \"vulcan\", \"w\", \"w\", \"w\", \"w\", \"w\", \"w\", \"walker\", \"way\", \"way\", \"way\", \"way\", \"way\", \"way\", \"weapon\", \"weapon\", \"weapon\", \"weapon\", \"weapon\", \"weapon\", \"weaver\", \"weaver\", \"wingert\", \"wire\", \"wire\", \"wire\", \"wire\", \"wire\", \"wire\", \"wiring\", \"wiring\", \"wiring\", \"work\", \"work\", \"work\", \"work\", \"work\", \"work\", \"world\", \"world\", \"world\", \"world\", \"world\", \"world\", \"wray\", \"write\", \"write\", \"write\", \"write\", \"write\", \"write\", \"x\", \"x\", \"x\", \"x\", \"x\", \"x\", \"xc\", \"y\", \"y\", \"y\", \"y\", \"y\", \"y\", \"yalanci\", \"yamauchi\", \"yassin\", \"yassin\", \"yassin\", \"yassin\", \"year\", \"year\", \"year\", \"year\", \"year\", \"year\", \"yob\", \"z\", \"z\", \"z\", \"z\", \"z\", \"z\", \"zoology\", \"zoology\", \"zoology\", \"zv\", \"zv\", \"zv\", \"zv\"]}, \"R\": 30, \"lambda.step\": 0.01, \"plot.opts\": {\"xlab\": \"PC1\", \"ylab\": \"PC2\"}, \"topic.order\": [5, 4, 6, 1, 3, 2]};\n",
       "\n",
       "function LDAvis_load_lib(url, callback){\n",
       "  var s = document.createElement('script');\n",
       "  s.src = url;\n",
       "  s.async = true;\n",
       "  s.onreadystatechange = s.onload = callback;\n",
       "  s.onerror = function(){console.warn(\"failed to load library \" + url);};\n",
       "  document.getElementsByTagName(\"head\")[0].appendChild(s);\n",
       "}\n",
       "\n",
       "if(typeof(LDAvis) !== \"undefined\"){\n",
       "   // already loaded: just create the visualization\n",
       "   !function(LDAvis){\n",
       "       new LDAvis(\"#\" + \"ldavis_el799871402706896012407579544029\", ldavis_el799871402706896012407579544029_data);\n",
       "   }(LDAvis);\n",
       "}else if(typeof define === \"function\" && define.amd){\n",
       "   // require.js is available: use it to load d3/LDAvis\n",
       "   require.config({paths: {d3: \"https://cdnjs.cloudflare.com/ajax/libs/d3/3.5.5/d3.min\"}});\n",
       "   require([\"d3\"], function(d3){\n",
       "      window.d3 = d3;\n",
       "      LDAvis_load_lib(\"https://cdn.rawgit.com/bmabey/pyLDAvis/files/ldavis.v1.0.0.js\", function(){\n",
       "        new LDAvis(\"#\" + \"ldavis_el799871402706896012407579544029\", ldavis_el799871402706896012407579544029_data);\n",
       "      });\n",
       "    });\n",
       "}else{\n",
       "    // require.js not available: dynamically load d3 & LDAvis\n",
       "    LDAvis_load_lib(\"https://cdnjs.cloudflare.com/ajax/libs/d3/3.5.5/d3.min.js\", function(){\n",
       "         LDAvis_load_lib(\"https://cdn.rawgit.com/bmabey/pyLDAvis/files/ldavis.v1.0.0.js\", function(){\n",
       "                 new LDAvis(\"#\" + \"ldavis_el799871402706896012407579544029\", ldavis_el799871402706896012407579544029_data);\n",
       "            })\n",
       "         });\n",
       "}\n",
       "</script>"
      ],
      "text/plain": [
       "PreparedData(topic_coordinates=              x         y  topics  cluster       Freq\n",
       "topic                                                \n",
       "4      0.090974 -0.050013       1        1  27.450543\n",
       "3      0.138588  0.079487       2        1  18.231423\n",
       "5     -0.076787 -0.029226       3        1  17.496584\n",
       "0     -0.019114 -0.130982       4        1  14.141755\n",
       "2     -0.166412  0.077803       5        1  13.644125\n",
       "1      0.032751  0.052930       6        1   9.035570, topic_info=          Term         Freq        Total Category  logprob  loglift\n",
       "657      space  1443.000000  1443.000000  Default  30.0000  30.0000\n",
       "1471    israel  1044.000000  1044.000000  Default  29.0000  29.0000\n",
       "1012   turkish   717.000000   717.000000  Default  28.0000  28.0000\n",
       "963   armenian   718.000000   718.000000  Default  27.0000  27.0000\n",
       "240          c  1084.000000  1084.000000  Default  26.0000  26.0000\n",
       "...        ...          ...          ...      ...      ...      ...\n",
       "465        say    99.248177  1299.614994   Topic6  -5.9666  -0.1682\n",
       "315        com    99.446432  1611.058433   Topic6  -5.9646  -0.3810\n",
       "371        way    90.717543   888.721729   Topic6  -6.0565   0.1220\n",
       "189    posting    90.630750  1052.697489   Topic6  -6.0575  -0.0483\n",
       "155        don    91.602325  1311.582127   Topic6  -6.0468  -0.2575\n",
       "\n",
       "[528 rows x 6 columns], token_table=       Topic      Freq     Term\n",
       "term                           \n",
       "0          1  0.087570       ac\n",
       "0          2  0.035028       ac\n",
       "0          3  0.210167       ac\n",
       "0          4  0.105084       ac\n",
       "0          5  0.126976       ac\n",
       "...      ...       ...      ...\n",
       "1053       5  0.060033  zoology\n",
       "11873      1  0.010668       zv\n",
       "11873      3  0.917422       zv\n",
       "11873      4  0.021335       zv\n",
       "11873      5  0.053339       zv\n",
       "\n",
       "[1397 rows x 3 columns], R=30, lambda_step=0.01, plot_opts={'xlab': 'PC1', 'ylab': 'PC2'}, topic_order=[5, 4, 6, 1, 3, 2])"
      ]
     },
     "execution_count": 19,
     "metadata": {},
     "output_type": "execute_result"
    }
   ],
   "source": [
    "pyLDAvis.enable_notebook()\n",
    "vis = pyLDAvis.gensim.prepare(lda_multicore_6_topics, corpus, id2word)\n",
    "vis"
   ]
  },
  {
   "cell_type": "markdown",
   "metadata": {},
   "source": [
    "## What is topic coherence?\n",
    "Topic Coherence measures score a single topic by **measuring the degree of semantic similarity between high scoring words in the topic**. These measurements help distinguish between topics that are semantically interpretable topics and topics that are artifacts of statistical inference.\n",
    "\n",
    "\n",
    "A set of statements or facts is said to be coherent, if they support each other. Thus, a coherent fact set can be interpreted in a context that covers all or most of the facts. An example of a coherent fact set is **“the game is a team sport”**, **“the game is played with a ball”**, **“the game demands great physical efforts”**\n"
   ]
  },
  {
   "cell_type": "code",
   "execution_count": 20,
   "metadata": {
    "colab": {},
    "colab_type": "code",
    "id": "rjtXk8J3LaXC"
   },
   "outputs": [],
   "source": [
    "def compute_coherence_values(dictionary, corpus, texts, limit, start=2, step=3):\n",
    "    \"\"\"\n",
    "    Compute c_v coherence for various number of topics\n",
    "\n",
    "    Parameters:\n",
    "    ----------\n",
    "    dictionary : Gensim dictionary\n",
    "    corpus : Gensim corpus\n",
    "    texts : List of input texts\n",
    "    limit : Max num of topics\n",
    "\n",
    "    Returns:\n",
    "    -------\n",
    "    model_list : List of LDA topic models\n",
    "    coherence_values : Coherence values corresponding to the LDA model with respective number of topics\n",
    "    \"\"\"\n",
    "    coherence_values = []\n",
    "    model_list = []\n",
    "    for num_topics in range(start, limit, step):\n",
    "        model = gensim.models.ldamulticore.LdaMulticore(corpus=corpus,\n",
    "                                                        id2word=id2word,\n",
    "                                                        num_topics=num_topics, \n",
    "                                                        chunksize=100,\n",
    "                                                        passes=10,\n",
    "                                                        random_state=1234,\n",
    "                                                        per_word_topics=True,\n",
    "                                                        workers=10)\n",
    "        model_list.append(model)\n",
    "        coherencemodel = CoherenceModel(model=model, texts=texts, dictionary=dictionary, coherence='c_v')\n",
    "        coherence_values.append(coherencemodel.get_coherence())\n",
    "\n",
    "    return model_list, coherence_values"
   ]
  },
  {
   "cell_type": "code",
   "execution_count": 21,
   "metadata": {},
   "outputs": [
    {
     "name": "stdout",
     "output_type": "stream",
     "text": [
      "CPU times: user 53.9 s, sys: 8.11 s, total: 1min 1s\n",
      "Wall time: 1min 8s\n"
     ]
    }
   ],
   "source": [
    "%%time\n",
    "model_list, coherence_values = compute_coherence_values(dictionary=id2word, corpus=corpus, texts=df['lemmas'], start=2, limit=10, step=1)"
   ]
  },
  {
   "cell_type": "code",
   "execution_count": 22,
   "metadata": {},
   "outputs": [
    {
     "data": {
      "image/png": "[encoded data removed]",
      "text/plain": [
       "<Figure size 1440x360 with 1 Axes>"
      ]
     },
     "metadata": {
      "needs_background": "light"
     },
     "output_type": "display_data"
    }
   ],
   "source": [
    "start=2; limit=10;  step=1;\n",
    "x = range(start, limit, step)\n",
    "\n",
    "plt.figure(figsize=(20,5))\n",
    "plt.grid()\n",
    "plt.title(\"Coherence Score vs. Number of Topics\")\n",
    "plt.xticks(x)\n",
    "plt.plot(x, coherence_values, \"-o\")\n",
    "\n",
    "plt.xlabel(\"Num Topics\")\n",
    "plt.ylabel(\"Coherence score\")\n",
    "\n",
    "plt.show();"
   ]
  },
  {
   "cell_type": "markdown",
   "metadata": {},
   "source": [
    "### Index for Model \n",
    "\n",
    "Due to the probabilistic nature of this model, the modeling results can and usually do vary. Despite this, we will select 8 as the number of topics even if this particular model run doesn't show 8 as having the highest coherence score. Also, even if it doesn't, we  need to ask ourselves how many topics we actually want for our corpus. "
   ]
  },
  {
   "cell_type": "code",
   "execution_count": 28,
   "metadata": {},
   "outputs": [],
   "source": [
    "lda_trained_model = model_list[-2]"
   ]
  },
  {
   "cell_type": "code",
   "execution_count": 29,
   "metadata": {},
   "outputs": [
    {
     "data": {
      "text/plain": [
       "<gensim.models.ldamulticore.LdaMulticore at 0x7f934e13d550>"
      ]
     },
     "execution_count": 29,
     "metadata": {},
     "output_type": "execute_result"
    }
   ],
   "source": [
    "lda_trained_model"
   ]
  },
  {
   "cell_type": "code",
   "execution_count": 30,
   "metadata": {},
   "outputs": [
    {
     "data": {
      "text/html": [
       "\n",
       "<link rel=\"stylesheet\" type=\"text/css\" href=\"https://cdn.rawgit.com/bmabey/pyLDAvis/files/ldavis.v1.0.0.css\">\n",
       "\n",
       "\n",
       "<div id=\"ldavis_el799871402706621080482589167502\"></div>\n",
       "<script type=\"text/javascript\">\n",
       "\n",
       "var ldavis_el799871402706621080482589167502_data = {\"mdsDat\": {\"x\": [0.10315433553579868, -0.07572843288852375, -0.09920368474175816, 0.1250739442831215, 0.09853628714869643, -0.05608639143246562, -0.0027486304346609073, -0.09299742747020819], \"y\": [-0.06170420651067124, -0.07927317511014678, 0.0035511125920690656, 0.09654397067405038, -0.03869699982758584, -0.055004958182531836, 0.020864433649138255, 0.11371982271567793], \"topics\": [1, 2, 3, 4, 5, 6, 7, 8], \"cluster\": [1, 1, 1, 1, 1, 1, 1, 1], \"Freq\": [24.825206814537204, 17.856137070581248, 14.07434524929676, 13.912036657658136, 12.909097812925504, 8.756820934279288, 4.85448635674856, 2.8118691039733092]}, \"tinfo\": {\"Term\": [\"space\", \"turkish\", \"israel\", \"armenian\", \"line\", \"subject\", \"s\", \"armenians\", \"gun\", \"organization\", \"edu\", \"say\", \"c\", \"israeli\", \"nasa\", \"armenia\", \"t\", \"launch\", \"file\", \"turks\", \"know\", \"mission\", \"go\", \"turkey\", \"orbit\", \"satellite\", \"jews\", \"host\", \"argic\", \"serdar\", \"bony\", \"jake\", \"livni\", \"angmar\", \"cosmo\", \"shostack\", \"ordnance\", \"omran\", \"bubblejet\", \"bedouin\", \"interim\", \"anas\", \"thomasp\", \"garfiel\", \"hays\", \"parsli\", \"judaism\", \"fid\", \"barlow\", \"tangible\", \"alaa\", \"uio\", \"billing\", \"maler\", \"oldham\", \"israelis\", \"pisga\", \"kaufman\", \"een\", \"arafat\", \"israel\", \"palestinians\", \"shelling\", \"syrian\", \"lebanese\", \"israeli\", \"hernlem\", \"adam\", \"militia\", \"lebanon\", \"palestinian\", \"hezbollah\", \"oac\", \"rutledge\", \"ucsu\", \"arabs\", \"veal\", \"arab\", \"peace\", \"palestine\", \"weapon\", \"cpr\", \"gun\", \"tim\", \"jews\", \"state\", \"occupy\", \"right\", \"policy\", \"law\", \"criminal\", \"jewish\", \"citizen\", \"firearm\", \"people\", \"edu\", \"government\", \"write\", \"country\", \"t\", \"s\", \"think\", \"attack\", \"subject\", \"organization\", \"article\", \"com\", \"don\", \"line\", \"kill\", \"time\", \"case\", \"question\", \"posting\", \"know\", \"like\", \"apr\", \"university\", \"year\", \"host\", \"catbyte\", \"dtmedin\", \"mccall\", \"gfci\", \"wiring\", \"medin\", \"shafer\", \"amehdi\", \"prong\", \"honeywell\", \"breaker\", \"mpce\", \"src\", \"cmkrnl\", \"dseg\", \"mary\", \"covington\", \"skndiv\", \"pyron\", \"zoology\", \"mksol\", \"spacewalk\", \"jeh\", \"zoo\", \"tommy\", \"hossien\", \"johnh\", \"receptacle\", \"ross\", \"plier\", \"spencer\", \"outlet\", \"wire\", \"henry\", \"kipling\", \"insulation\", \"nec\", \"toronto\", \"fred\", \"fuse\", \"weaver\", \"ground\", \"circuit\", \"ti\", \"hp\", \"fnal\", \"alaska\", \"cable\", \"switch\", \"connect\", \"neutral\", \"digex\", \"com\", \"electrical\", \"use\", \"edu\", \"subject\", \"line\", \"t\", \"organization\", \"write\", \"article\", \"s\", \"nasa\", \"nntp\", \"like\", \"posting\", \"need\", \"host\", \"power\", \"don\", \"space\", \"work\", \"apr\", \"d\", \"m\", \"think\", \"time\", \"university\", \"bullock\", \"gerard\", \"astronomical\", \"yamauchi\", \"unified\", \"geode\", \"tele\", \"mcdonnell\", \"ariane\", \"ltm\", \"gurvitz\", \"misfire\", \"projection\", \"payne\", \"advertising\", \"diaspar\", \"pacastro\", \"enzo\", \"baden\", \"dnd\", \"dres\", \"sensing\", \"arianespace\", \"xxxxx\", \"pegasus\", \"gao\", \"initiative\", \"rotational\", \"pmp\", \"stsci\", \"larson\", \"aerospace\", \"cad\", \"liguori\", \"satellite\", \"clipper\", \"delta\", \"physicist\", \"astronomer\", \"advanced\", \"esa\", \"vandalize\", \"format\", \"marketing\", \"gif\", \"revolver\", \"space\", \"launch\", \"booster\", \"faq\", \"datum\", \"planetary\", \"orbital\", \"sky\", \"adl\", \"star\", \"telescope\", \"billboard\", \"commercial\", \"observatory\", \"astronomy\", \"nasa\", \"program\", \"solar\", \"earth\", \"mission\", \"project\", \"shuttle\", \"information\", \"orbit\", \"system\", \"available\", \"vehicle\", \"dc\", \"s\", \"science\", \"rocket\", \"new\", \"include\", \"edu\", \"year\", \"technology\", \"organization\", \"m\", \"subject\", \"university\", \"t\", \"center\", \"research\", \"line\", \"time\", \"d\", \"e\", \"write\", \"yalanci\", \"erzurum\", \"mutlu\", \"ottoman\", \"kurdish\", \"vay\", \"istanbul\", \"yalcin\", \"kpc\", \"erzincan\", \"kurds\", \"onur\", \"ankara\", \"hilmi\", \"azerbadjan\", \"karabag\", \"azeris\", \"vd\", \"heartless\", \"undeniable\", \"askew\", \"quayle\", \"ohanus\", \"cosar\", \"jle\", \"oy\", \"kars\", \"bayonet\", \"genocide\", \"appressian\", \"henrik\", \"sahak\", \"melkonian\", \"sera\", \"zuma\", \"turks\", \"argic\", \"turkish\", \"serdar\", \"extermination\", \"armenia\", \"azeri\", \"tartar\", \"turkey\", \"armenian\", \"q\", \"armenians\", \"cyprus\", \"y\", \"sdpa\", \"z\", \"c\", \"muslim\", \"escape\", \"soviet\", \"m\", \"j\", \"p\", \"k\", \"f\", \"w\", \"n\", \"massacre\", \"r\", \"x\", \"l\", \"g\", \"today\", \"s\", \"u\", \"b\", \"d\", \"e\", \"people\", \"t\", \"edu\", \"write\", \"article\", \"line\", \"karina\", \"sumgait\", \"mamma\", \"lyuda\", \"marina\", \"anania\", \"balcony\", \"igor\", \"microdistrict\", \"shirak\", \"entryway\", \"courtyard\", \"knox\", \"vancouver\", \"shagen\", \"aunt\", \"orbeli\", \"tulkarm\", \"apartment\", \"pkk\", \"pogrom\", \"emma\", \"shabak\", \"ambulance\", \"smash\", \"newshost\", \"kiss\", \"precinct\", \"procuracy\", \"koc\", \"overhead\", \"prelude\", \"papa\", \"crowd\", \"kratz\", \"azerbaijanis\", \"azerbaijani\", \"shout\", \"manes\", \"file\", \"father\", \"bed\", \"homicide\", \"beat\", \"handgun\", \"didn\", \"say\", \"afraid\", \"baku\", \"tell\", \"go\", \"woman\", \"floor\", \"come\", \"t\", \"know\", \"see\", \"take\", \"s\", \"city\", \"people\", \"gun\", \"home\", \"kill\", \"leave\", \"happen\", \"don\", \"thing\", \"time\", \"like\", \"live\", \"want\", \"right\", \"think\", \"get\", \"look\", \"armenians\", \"armenian\", \"m\", \"work\", \"egalon\", \"feustel\", \"gec\", \"oliveira\", \"claudio\", \"td\", \"arcade\", \"aej\", \"cmuvm\", \"ualberta\", \"gunduz\", \"paj\", \"gypsy\", \"rimsat\", \"fegmania\", \"dartmouth\", \"sanders\", \"joystick\", \"gerrit\", \"heuvel\", \"uwa\", \"dafco\", \"clesun\", \"myi\", \"cam\", \"choke\", \"rhea\", \"sternberg\", \"orhan\", \"beckman\", \"ist\", \"alee\", \"uv\", \"proton\", \"ecs\", \"centaur\", \"rubin\", \"rs\", \"amplifier\", \"ham\", \"adcom\", \"atari\", \"trader\", \"amp\", \"green\", \"ke\", \"zv\", \"bulb\", \"phone\", \"larc\", \"sun\", \"line\", \"atf\", \"band\", \"mhz\", \"chip\", \"subject\", \"organization\", \"thank\", \"edu\", \"good\", \"look\", \"host\", \"nntp\", \"university\", \"write\", \"know\", \"run\", \"s\", \"like\", \"t\", \"posting\", \"need\", \"com\", \"distribution\", \"article\", \"use\", \"work\", \"find\", \"system\", \"go\", \"don\", \"m\", \"d\", \"think\", \"farid\", \"yassin\", \"idbsu\", \"betz\", \"gozer\", \"irgun\", \"gazan\", \"anneser\", \"skybridge\", \"scl\", \"cranston\", \"casper\", \"steam\", \"switchover\", \"cain\", \"starve\", \"foz\", \"lesher\", \"semtex\", \"vxcrna\", \"fete\", \"spook\", \"dir\", \"fodder\", \"neptunium\", \"fujitsu\", \"deir\", \"poer\", \"gehrel\", \"repress\", \"belton\", \"kaan\", \"iranian\", \"gazans\", \"ghetto\", \"tower\", \"forge\", \"sq\", \"galileo\", \"fossil\", \"msb\", \"cool\", \"plant\", \"comet\", \"iran\", \"nuclear\", \"somalia\", \"jupiter\", \"command\", \"warsaw\", \"baalke\", \"brown\", \"gaza\", \"water\", \"jpl\", \"loss\", \"s\", \"world\", \"edu\", \"subject\", \"organization\", \"help\", \"line\", \"write\", \"t\", \"april\", \"power\", \"know\", \"host\", \"article\", \"university\", \"posting\", \"like\", \"time\", \"think\", \"apr\", \"work\", \"people\", \"nntp\", \"say\", \"send\", \"mont\", \"farzin\", \"pierce\", \"populist\", \"mokhtarian\", \"ilhan\", \"compariator\", \"musone\", \"dublin\", \"swastika\", \"malaysia\", \"namaki\", \"phobos\", \"venusian\", \"ucr\", \"sawyer\", \"enroute\", \"rubinoff\", \"ordularinin\", \"hagoromo\", \"nihat\", \"knell\", \"taurah\", \"effendi\", \"curvature\", \"ranger\", \"venera\", \"gibbons\", \"mimi\", \"mariner\", \"lander\", \"probe\", \"mjm\", \"flyby\", \"rti\", \"dong\", \"gritz\", \"redesign\", \"hiten\", \"clementine\", \"ireland\", \"arens\", \"surface\", \"yigal\", \"option\", \"duke\", \"mission\", \"venus\", \"station\", \"mars\", \"atmosphere\", \"space\", \"lunar\", \"acceleration\", \"orbit\", \"moon\", \"earth\", \"dr\", \"orbiter\", \"s\", \"gravity\", \"edu\", \"subject\", \"line\", \"organization\", \"article\", \"o\", \"russian\", \"planet\", \"write\", \"year\", \"university\", \"help\", \"c\", \"know\", \"nntp\", \"posting\", \"go\", \"e\", \"host\", \"t\"], \"Freq\": [1337.0, 668.0, 955.0, 654.0, 2362.0, 2424.0, 4636.0, 571.0, 1528.0, 2203.0, 3301.0, 1349.0, 1178.0, 687.0, 696.0, 352.0, 3934.0, 450.0, 453.0, 308.0, 1432.0, 244.0, 1006.0, 330.0, 329.0, 300.0, 628.0, 1008.0, 244.0, 242.0, 82.42334535995633, 104.77916869618751, 64.69553106825143, 28.862271275427656, 25.757500188116506, 53.451256018020615, 24.635478746641724, 31.66836069411707, 18.02960805024431, 20.929995341742863, 20.023500835950095, 44.13308593221407, 52.74799182197643, 21.227328438066934, 17.20117281076485, 35.72036369907376, 33.109945772730875, 13.707167528048139, 20.301396530867923, 15.053742514269654, 13.24080304839425, 61.604213189544616, 14.991759282590811, 13.83252591619985, 24.068155592772797, 146.58590083788798, 14.128211617662025, 20.330616113418394, 20.046748612126194, 25.02572553249811, 892.1145075211241, 117.68565277564399, 28.8417996073224, 33.63607166862486, 156.9915528119934, 617.3785407212699, 85.44480998059048, 115.48701234281683, 204.54138833009708, 130.73871783852664, 133.8748745849031, 66.27044674943791, 47.33274169933873, 35.02827515727126, 38.973987130959934, 176.17101925128958, 53.87803657188575, 266.45784477810867, 208.1765323096426, 116.88153828662567, 435.14168972420345, 114.20053320637881, 998.4176031695583, 111.11822026048853, 424.9867018840844, 579.7433220305788, 116.12190345887856, 644.5207211916099, 202.23243437366054, 368.0991597873477, 190.82080630103064, 200.24440036817788, 164.81195917710997, 265.0661553262049, 771.9164165575306, 1013.5282520285217, 349.4265955084142, 698.0716569852028, 224.55138950833958, 997.5432204771449, 1076.7686937155413, 462.084696439812, 223.35389446729903, 656.2670181497555, 599.8743881515294, 516.9994274505042, 474.9251608605173, 416.2633868839459, 551.5433901946261, 299.19755094205595, 365.71957842111766, 245.2222065954705, 261.02508334354616, 299.1291530892184, 321.3603627712533, 314.4850779861913, 287.21026364982737, 293.7774979821423, 282.6400930286667, 275.2702181922099, 32.62997896756071, 32.62247961403511, 53.70531395619656, 70.6277978490659, 128.4584778928597, 23.297947815788422, 40.474209208317475, 25.142958058665094, 39.38488968762151, 22.32293831042993, 52.815739616426214, 24.956403008888472, 18.6385117143052, 20.905905727174762, 109.41033375959638, 34.644897343596725, 20.834233111463284, 40.34380464929838, 55.97394523989579, 74.34386004596313, 32.98926860717146, 18.037287183497952, 16.07399340384345, 87.60404010151173, 21.745523725921686, 14.96131830813426, 15.946055590897888, 19.443282330936025, 13.977566610144935, 15.995870497722063, 106.38133440224517, 143.97594331382436, 268.8629827172786, 212.68792027335894, 32.075868729930534, 30.926950842249653, 46.415857691516855, 168.79487005373122, 85.45049839172853, 36.3664722811465, 62.99133110604265, 286.90661884857127, 199.01032891789345, 110.35506966438462, 125.80930620269856, 57.179436807276836, 108.45002450171904, 77.20392683203329, 104.0568243596358, 82.34787306759902, 98.73099597114427, 91.28848340246314, 597.1689552582216, 81.08112155980565, 363.6915351719465, 837.9505274020371, 664.7433379752563, 648.7702807025078, 852.6355935366921, 583.9880184458373, 546.0751714493936, 468.7284205765298, 831.392613362085, 251.31088722479183, 302.7580649830666, 367.90553484261414, 309.31744013852597, 240.82973550010823, 300.54426116785163, 217.98150611904185, 331.17644086576115, 317.8206334730375, 246.98717916171037, 253.14995054936932, 268.8854518228225, 276.3189482397152, 238.8975349711866, 215.19198715701984, 202.23942982580618, 35.2145363362319, 25.71965456011844, 46.72474679310973, 21.27200933706927, 15.035723349822963, 15.894350971228489, 12.732802062413995, 21.03598698497969, 26.507897342524142, 10.658639401878563, 10.621694032619562, 14.104191627620626, 17.727813528414366, 10.837783493808116, 36.03562256790451, 9.861424711867638, 12.45223705505395, 29.21537696286633, 15.147934956985285, 12.056358325134177, 12.053401923136878, 32.8519849121007, 11.734050817602053, 9.000489376432748, 16.3977398566783, 8.002930172568648, 10.950627988690167, 9.168065053302206, 8.146786165717497, 9.454824635749823, 47.447738061598805, 44.42892859506007, 22.56673083124025, 13.510695682246018, 257.20761981959237, 25.76557008139953, 44.47350987315948, 26.433574730555232, 27.582793494597865, 22.765203015681237, 23.4779890794136, 29.261406597051113, 32.818074068288446, 19.845784132678773, 43.131917820482634, 81.53357840062205, 831.6943919148466, 304.6178867147836, 31.545185005969255, 87.52351569578583, 175.56747050041682, 71.01527592550066, 71.3724177135734, 76.3445381310923, 57.40552497609693, 82.36834413607313, 63.59576728449338, 40.166432436049575, 97.5331695583886, 52.52379953413676, 64.96255195514009, 329.8892952556845, 175.778660129079, 91.91936946080513, 158.99566457602347, 135.3995739080337, 143.36785676966545, 125.85222126321756, 175.28597327841274, 151.90470980733832, 215.44061170696952, 112.84245138328465, 90.51252940537792, 101.02465925020091, 641.3097435865996, 126.90500935688749, 117.85260475381394, 182.37153489571088, 144.07641012246225, 394.29245522340693, 197.75462845788394, 110.30703119913562, 265.3324585627628, 227.2076674874868, 235.68136166633852, 179.4890640153421, 270.3109271688935, 135.7515753486907, 133.05981697531158, 217.16443985303349, 163.55179605882506, 156.27246019755194, 129.06919393156574, 141.04250966330548, 29.635993993310493, 35.44781923567996, 29.426080646750343, 93.55717284947116, 36.64016258385042, 17.427342200973946, 66.30418574595195, 38.01274500998725, 41.78869330364298, 19.742396751022813, 64.81253141257353, 37.93771943522797, 36.044744046172774, 19.983376106727167, 18.203374649484402, 23.386294549436208, 74.32119438973012, 21.886019060129495, 14.435286566331333, 14.563896755287873, 14.712354865124029, 21.457343881888747, 66.32074086422007, 16.6415623625985, 13.335101778524034, 20.777291206574407, 18.071987053107726, 42.304494563947365, 187.54294625767724, 66.10144281329997, 110.41385804133849, 62.563811867861865, 62.36755909687893, 64.66577046266048, 72.85613930717074, 281.34380211843575, 223.2014493296984, 595.0957649315386, 220.26838214974433, 91.09465974389666, 307.35295494409354, 72.2493334858374, 37.62053100469527, 278.24224062366403, 482.45632286296757, 205.47211851799366, 409.5955050863156, 83.4540804769234, 210.8402249426815, 87.93631106985809, 175.78430041022207, 580.8724402775028, 113.08320947569838, 103.4045389695596, 157.14338995001506, 582.9830547349766, 227.54301347747446, 260.78974470787915, 231.88418890968535, 194.62416382632034, 235.9903024865372, 220.0631125659185, 108.53357838029687, 225.69504579779053, 252.2103201720442, 181.9344053732113, 190.54682908399244, 171.14638229207335, 668.4822649793355, 250.39224194278475, 220.62902689806214, 305.27513142108455, 224.13750417610984, 336.588558022544, 439.09229725918635, 351.8500031242551, 292.6038369573228, 240.2632583370546, 218.5541465071897, 53.59070909194916, 102.94418950599825, 76.26015207194732, 45.123726444073824, 41.42543676738011, 21.567461379367792, 35.14343909853334, 34.194982073015964, 32.63818494513777, 17.118953850366168, 23.441962578268694, 22.53489501688297, 24.71408154196125, 60.92656006647489, 22.469121773754054, 17.26775882855378, 13.501222588745692, 18.88415234053471, 133.1654802983147, 12.820322910522421, 14.558909862448983, 15.327634138319958, 13.282240376439429, 19.510246887009885, 15.406439008169132, 16.570646505621145, 17.140769305550407, 11.817045456030483, 10.92025682571714, 10.458407794760667, 26.592672736150607, 16.85569985441395, 19.19579709963992, 63.10930359926663, 59.849210220934076, 52.665490968795154, 95.77212835066578, 75.5289253237465, 52.248214835310996, 320.3040584842991, 95.9494924455605, 36.05681877863195, 101.11053190177908, 86.01357349772789, 159.52754170957118, 239.08056509059583, 612.3906275845005, 52.61028569380723, 58.79471926244637, 277.0415439749074, 394.4472354358805, 145.36554334658544, 59.47729116905824, 319.25519046421584, 978.2849296132556, 433.4209357992379, 196.05717682542323, 198.49444044296854, 815.4568454380898, 132.03280279997418, 410.52358346761093, 358.3756926742101, 140.99378280791385, 206.7596575043739, 149.81025394295315, 154.16995704669563, 254.85892959157826, 195.73246340420735, 222.4307675147369, 229.5146908818376, 145.64544072493982, 177.43740564489661, 194.61851615200672, 198.05273383369052, 158.73609219609943, 153.89152820208264, 147.10893765321032, 148.38640742569953, 153.0323329083842, 147.17538236406966, 32.016780100620664, 26.955357003745245, 16.71030710793508, 16.937509784483204, 16.936300614689504, 13.956772983105294, 13.734671320953362, 19.863570702217487, 19.815356831671902, 9.760690556035813, 10.381237149539738, 9.741340562453688, 10.822823336693007, 11.230872811853502, 8.722282407645272, 8.228185810304574, 8.083516891310241, 18.77532225706382, 9.112671122363622, 7.374213193459743, 7.219742025388018, 7.283505251487559, 10.817333465524857, 7.2742628032405845, 8.382245729571123, 8.284070863741903, 7.2939563233810825, 8.430112796675424, 6.953415551485982, 10.84205863937329, 7.991914906450845, 10.249632070412309, 42.96857281028735, 43.51475491533151, 19.49678264436237, 44.421193158297335, 12.597981808039034, 28.110652657821184, 28.606661316339725, 35.50949162634776, 27.319746383310417, 10.808955568218908, 17.31651624641451, 66.61635561894104, 39.5421635487677, 26.838005272980965, 25.667288607931702, 22.885999284856258, 80.17491742167523, 35.71861355529414, 72.48605246974894, 439.4549898923069, 59.552532051576556, 35.59186372434467, 43.47004512491076, 64.47375043627504, 369.73008702327, 346.39403190123306, 92.4850392659179, 337.3795804287651, 145.26562626466801, 124.6906814207482, 155.32084196433863, 152.35041314430052, 158.93114552557674, 213.204907575228, 171.71406477439382, 88.43996761856745, 295.27210690950415, 161.5717189427413, 260.09586116754724, 139.60097053128953, 111.53560439528121, 151.05764351380577, 93.03725957387046, 144.03182304984009, 112.60319537057177, 103.9459241352675, 94.56751146260123, 88.88072147746163, 104.43883723173063, 111.37393610004536, 109.4413179434139, 99.29102020923372, 96.20618011469568, 22.27104549140715, 43.11618624638646, 20.378554787760397, 28.280600569874505, 22.60658483070065, 19.827929575276542, 11.516661002218056, 10.580156224367068, 10.704793910670963, 10.69410265280347, 11.936359481942883, 12.335259177954946, 32.50690760720975, 7.889255753303667, 8.601471190116094, 9.64772727664216, 7.427741109410546, 7.421842630542895, 9.03540570702175, 9.810328132449031, 7.3979750149954855, 9.012187826391187, 23.0917048951561, 9.001518367644856, 8.993488419152513, 6.533918405262881, 21.313654733358746, 6.509377439084035, 16.965989566392146, 6.6021956748656745, 14.254990305617726, 15.769805179827836, 14.599157252642085, 31.8612927242641, 33.43667403449722, 59.100343395658875, 24.06829583469875, 24.474200314977413, 33.87712527756792, 17.091608213148316, 11.432815526919, 67.10237448016765, 48.45349276009781, 46.452900214610544, 36.198763168900776, 70.74127755443251, 19.453442472840933, 45.96320960108487, 47.29788259332672, 19.06831618821616, 37.577036825590454, 24.112196842593693, 38.671732981462235, 46.108018740837, 43.32096234632965, 34.41546910740177, 201.2017416445585, 77.68096964524709, 146.17089694134555, 123.3898077236215, 113.84660783848048, 63.43103431361429, 107.27878453343756, 96.17670527278278, 110.4824318218419, 45.506270956042265, 59.027781387685536, 77.24080663500064, 69.17842105036904, 80.07528822865739, 66.53302503366825, 62.57141261397579, 66.03548673652439, 63.60311657606418, 62.19492241451788, 58.50554710839013, 55.73156534233062, 60.32310938835522, 53.593076400624035, 54.454417808709735, 46.987710164691634, 12.48321610196226, 7.3752924460270535, 7.291951837101221, 5.900400910215616, 5.209194568334338, 6.044123230456609, 5.343529969073445, 4.953556653858741, 5.231143678505413, 4.4195120296908526, 4.411179441916451, 4.41002374562834, 9.090785568583795, 5.182443794374418, 3.7709713992726903, 3.661336332280969, 4.499756985979699, 3.7357487927959174, 3.5802744968858966, 4.4266359590710715, 3.820790853222092, 3.8223853282830187, 3.5503400339404894, 3.814726165963298, 3.8110833551443846, 9.55384764240409, 10.187021194985833, 7.4248404253400375, 4.896229909059346, 16.431735420876677, 13.95956111438005, 69.54971984330496, 8.286678396998019, 18.482170021531008, 5.88564166900053, 9.038342561300533, 12.16998487844479, 26.697940927060234, 6.8023855612452975, 10.500711891079153, 11.145715985632968, 19.873725157325705, 31.230669454637468, 16.88430959472517, 29.836137217145204, 14.606100057782658, 48.40192142669301, 21.446781079884133, 41.4827470559697, 30.34507289264138, 19.102089017897963, 106.03612422930127, 36.07043228857941, 13.14205628367037, 40.45768127636984, 36.259807944253815, 34.467070817590646, 22.51676994918999, 16.9354927352203, 106.4513134696271, 16.82536662883454, 75.90614342688491, 64.16164839228317, 59.90466794682194, 58.14372211349849, 45.83222529357073, 31.858021384460464, 24.111961927631654, 20.051132078512858, 41.28641547653632, 33.67416285161318, 29.753216096158848, 25.32520522678447, 28.771827569173823, 28.817595246637563, 26.395704777060125, 26.232025914360577, 26.108789056154002, 24.94682991131452, 25.483092630573765, 26.158830179315572], \"Total\": [1337.0, 668.0, 955.0, 654.0, 2362.0, 2424.0, 4636.0, 571.0, 1528.0, 2203.0, 3301.0, 1349.0, 1178.0, 687.0, 696.0, 352.0, 3934.0, 450.0, 453.0, 308.0, 1432.0, 244.0, 1006.0, 330.0, 329.0, 300.0, 628.0, 1008.0, 244.0, 242.0, 84.19262021062123, 107.08016953055643, 66.42373481675247, 29.703044187964124, 26.559238938810854, 55.405057519999076, 25.64748740580343, 32.97405843110013, 18.825403617664577, 21.8684054128032, 20.97055593295284, 46.22162630251003, 55.26356411257402, 22.3000564459304, 18.08939217014181, 37.60238925423901, 34.86103279716151, 14.489818146862637, 21.465035299247578, 15.932599341055734, 14.044666630609997, 65.3776401000664, 15.916094842845089, 14.687500554729692, 25.568395923870654, 155.86081811284043, 15.026543759082916, 21.62707335370665, 21.325372503906173, 26.668152848759732, 955.8982416832358, 126.26309712699742, 30.736696699201513, 35.91501966409141, 170.39525183936772, 687.8899293122057, 93.0669115991121, 127.17688641091986, 228.84850013554794, 147.24055900149497, 151.0972039486356, 72.7492952486309, 51.624390280526185, 37.68878517020367, 42.24907606661511, 206.82960321761846, 59.69165322495471, 329.2885848736563, 253.4010947287532, 136.53240423371614, 578.305775508409, 137.11318633051854, 1528.449898045453, 135.2912971692095, 628.387919600141, 941.2339895484208, 148.10508270535206, 1158.4312659434602, 289.96587354248595, 623.9227402811907, 276.1208852626256, 298.84021259351596, 235.00334875113134, 443.87479362371676, 1874.298889413659, 3301.7794572063303, 754.1193240722681, 2163.015749133044, 387.6438353929852, 3934.604091223877, 4636.335323105341, 1247.495770861524, 385.9570141651636, 2424.51309104403, 2203.23131595264, 1739.7371177030939, 1632.4367527578063, 1320.4355867606223, 2362.1415875150037, 698.396984239846, 1181.452197795739, 502.73649740061376, 641.5102802516076, 1051.5410235081972, 1432.4947127263763, 1373.3419304887511, 970.2519545500188, 1127.2082960655805, 994.4497903999796, 1008.9657074233373, 33.631980180526156, 33.633006410791985, 55.54247842311224, 73.20542134912526, 133.65593196830991, 24.244686588913318, 42.152991296360995, 26.21737027371708, 41.09918340276617, 23.315869839702774, 55.26154690419407, 26.201733347456607, 19.57913937834983, 21.979323819736784, 115.11560922509919, 36.48377125242442, 21.97843630311446, 42.60079196578195, 59.175190899681695, 78.60656400399576, 34.926521962195395, 19.145711703225725, 17.084702679815177, 93.12779058452946, 23.123236995237903, 15.915175695327571, 16.992784535808305, 20.77216587855656, 14.93537683166864, 17.148194198777073, 114.45057866226392, 155.7179391202034, 295.490592219695, 233.70200355007466, 34.59688006426342, 33.48869525335434, 51.12175103517214, 198.39466310227738, 97.1262033161599, 39.746223230543045, 72.14407600324206, 389.02897764705597, 260.1841272027792, 144.2165015646524, 169.35016050255894, 68.75190389405121, 147.86724792503415, 101.22384123637485, 149.25267392294697, 112.85844656576579, 144.76285430943474, 131.185393782527, 1632.4367527578063, 114.15528509738695, 974.5841695513814, 3301.7794572063303, 2424.51309104403, 2362.1415875150037, 3934.604091223877, 2203.23131595264, 2163.015749133044, 1739.7371177030939, 4636.335323105341, 696.1456994006338, 979.6486210958907, 1373.3419304887511, 1051.5410235081972, 673.4485719386275, 1008.9657074233373, 578.4248959160142, 1320.4355867606223, 1337.397593977711, 878.28504544333, 970.2519545500188, 1175.329455187183, 1632.6375893254926, 1247.495770861524, 1181.452197795739, 1127.2082960655805, 36.46633952672035, 26.78234446103869, 49.01251279594579, 22.367446095626704, 15.853464372589412, 16.786649212824067, 13.56126377578165, 22.525067984872475, 28.408920111923848, 11.453466376814182, 11.422572865672135, 15.17642689334628, 19.07838891185279, 11.69023801409507, 38.93039153352045, 10.671639193663305, 13.480087368010508, 31.718949664481308, 16.48949746233517, 13.139307771523798, 13.143833526957609, 35.84822206750359, 12.819648969355129, 9.888486026389913, 18.018649179813025, 8.795824174148864, 12.071720172995228, 10.11157947455675, 8.99131996467756, 10.436835340545029, 52.51616362003739, 49.273345464217485, 25.036384969789548, 14.926243553772592, 300.350767187922, 28.732147216934212, 50.35175219229684, 29.615108511779727, 30.964651608320604, 25.602436607654738, 26.586998424330012, 33.61422518074675, 38.02760546277524, 22.255886799540214, 51.61783399435363, 103.57176232205855, 1337.397593977711, 450.30155252191116, 37.102841382300916, 116.00805971010274, 265.3294913073097, 94.30015507311907, 94.99280364133324, 103.17459382923002, 74.566447298969, 114.07015771537397, 85.16947747136906, 49.35436199045183, 150.18928654192996, 69.37100658353124, 91.06147149969858, 696.1456994006338, 317.70906112404276, 144.6050453668363, 299.8546675840679, 244.53498630941488, 264.6611081633986, 227.6716846013791, 398.2423895433956, 329.5506562255704, 554.6840698332527, 216.65750844018254, 158.07558733528165, 196.05380227205737, 4636.335323105341, 305.1662075977894, 268.60946266604986, 652.3267893522154, 418.3253270804168, 3301.7794572063303, 994.4497903999796, 260.8638385893785, 2203.23131595264, 1632.6375893254926, 2424.51309104403, 1127.2082960655805, 3934.604091223877, 493.2300182952024, 465.6808064409389, 2362.1415875150037, 1181.452197795739, 1175.329455187183, 623.6959722561, 2163.015749133044, 30.54303390177334, 36.82470972488601, 30.650720707509485, 97.47593828129783, 38.22970168738932, 18.26665668561646, 69.49757024588325, 39.887010396987996, 43.84964631381036, 20.729333687093582, 68.06949351681519, 39.895685752326216, 38.06567933327694, 21.128310568342247, 19.277736334498023, 24.77353874297515, 78.77685022099952, 23.22721174022574, 15.321270818182983, 15.477694145805254, 15.639099409892316, 22.817102908461404, 70.58178166961842, 17.71156056442613, 14.203472029355323, 22.13624864226623, 19.266962153058632, 45.114404307973516, 200.28204324684245, 70.60857082102189, 118.33858803206071, 66.86927822505757, 66.87490824914131, 69.57252386503704, 78.56181491992471, 308.72516122336765, 244.13675942211992, 668.0512235873786, 242.95174655503934, 99.19945417540825, 352.96407145306165, 79.6654437002705, 40.51930468932706, 330.3215076710959, 654.356216853663, 258.3192775437216, 571.2787048322856, 97.83067658187086, 297.3918630896504, 110.13997490898096, 261.6862130011704, 1178.900235509501, 154.23124720229603, 141.15261638062995, 244.1913697575429, 1632.6375893254926, 432.695461624998, 557.0375959387702, 487.62612006392516, 374.7975649152644, 513.118767416577, 484.1118417250859, 156.3214501420401, 534.3302705237601, 650.7413718314394, 372.0124666519664, 423.566372955815, 354.90681018835164, 4636.335323105341, 732.3726666697452, 576.4146209522283, 1175.329455187183, 623.6959722561, 1874.298889413659, 3934.604091223877, 3301.7794572063303, 2163.015749133044, 1739.7371177030939, 2362.1415875150037, 55.000249730364224, 106.11071713866217, 78.73596367351811, 46.71673012709013, 43.036228303497744, 22.445742766765115, 36.629123093566186, 35.7065658573118, 34.12266144476232, 17.940567444105856, 24.713581614548982, 23.7832858241363, 26.108453222857072, 64.42887282556134, 23.804383947877348, 18.31717016788119, 14.324452820877484, 20.04581561213027, 142.41211606715402, 13.739672478576724, 15.644664546121005, 16.47943059808196, 14.301875261780197, 21.02902923327386, 16.636799832892027, 17.913335463608735, 18.553981062920478, 12.81241065796079, 11.900118649471356, 11.398183996971527, 29.05271369386587, 18.43161055509682, 21.09314425960052, 72.31348207311925, 69.20205860324789, 61.302574794059026, 117.89405806142567, 91.55238474005571, 61.75413787846558, 453.1979051011444, 121.7493482691583, 42.234920955153136, 134.5908614459699, 114.7310892664607, 249.14157386638996, 428.36942277170124, 1349.6602349281372, 70.00513499339556, 82.3851054515201, 627.6577836522166, 1006.1734083083174, 272.62154789611077, 83.98567380470426, 834.753968466279, 3934.604091223877, 1432.4947127263763, 468.5603836939494, 526.880731584735, 4636.335323105341, 290.38150424017476, 1874.298889413659, 1528.449898045453, 346.748162817681, 698.396984239846, 420.75476070889096, 447.28466295225195, 1320.4355867606223, 773.9200021928042, 1181.452197795739, 1373.3419304887511, 463.2465274005681, 852.4241392496727, 1158.4312659434602, 1247.495770861524, 666.0758864922635, 656.271176108487, 571.2787048322856, 654.356216853663, 1632.6375893254926, 878.28504544333, 33.14499777996929, 27.976245634737314, 17.5774278136563, 17.896678452568537, 17.896385015351647, 14.79756503543215, 14.714490258374829, 21.42507483067328, 21.426097741714482, 10.593224176730306, 11.269968531678636, 10.579963108579966, 11.839073303297395, 12.313185128968204, 9.570267374257936, 9.05646004369264, 8.923080063596117, 20.780524482155336, 10.100774890963498, 8.203908745781538, 8.049419556074149, 8.125632398129731, 12.08338176305791, 8.126045447847625, 9.387629562010884, 9.296418164941665, 8.185635989237028, 9.461819699354335, 7.807240015232773, 12.182690769220317, 8.982808396935335, 11.558185825627355, 50.273900650533704, 51.072665842649016, 22.393332814836697, 54.9354316163893, 14.554277022700472, 35.753597107672384, 36.856092369556066, 47.13264406336611, 37.68806374612057, 12.722810706859649, 23.12864992848675, 132.5578920804392, 68.46173578456731, 41.94601094005973, 39.67183026527987, 34.02534024246439, 197.66430317486677, 64.35035756305551, 176.13705307585843, 2362.1415875150037, 139.26251464198165, 66.16507656728459, 88.97372008717365, 163.10993250134777, 2424.51309104403, 2203.23131595264, 294.94222154053915, 3301.7794572063303, 783.9101543719653, 656.271176108487, 1008.9657074233373, 979.6486210958907, 1127.2082960655805, 2163.015749133044, 1432.4947127263763, 393.621911813425, 4636.335323105341, 1373.3419304887511, 3934.604091223877, 1051.5410235081972, 673.4485719386275, 1632.4367527578063, 565.4378109475498, 1739.7371177030939, 974.5841695513814, 878.28504544333, 666.7019207030553, 554.6840698332527, 1006.1734083083174, 1320.4355867606223, 1632.6375893254926, 1175.329455187183, 1247.495770861524, 23.185330138408396, 45.91502829069945, 21.751678671210584, 30.194609997149538, 24.421749611159182, 21.443511983722704, 12.553301189077567, 11.53956610701582, 11.683906063856298, 11.685414694019055, 13.054157341631244, 13.664069393617506, 36.086879310565266, 8.778881867270371, 9.577540069088256, 10.751502048503705, 8.356928135694604, 8.357144114141702, 10.18434772672593, 11.061603669929445, 8.358142659426282, 10.189049728052002, 26.1305050601503, 10.194152477408576, 10.191110988064882, 7.4182682128087745, 24.214338161162647, 7.412675566063847, 19.35311236075907, 7.561937231563474, 16.37689555741257, 18.479373068429545, 17.55423890489067, 41.12078890799094, 43.981564388008515, 83.9729806914504, 31.68798449592471, 32.41817908437249, 47.98569899401512, 21.889136882119946, 13.541849259771038, 120.35943963617575, 81.8376800299315, 81.21982044366943, 60.08581049331578, 161.66948704716012, 27.46973319159226, 99.19542668447977, 116.63067011644243, 27.96456170250797, 93.2368488632423, 44.090287685678305, 115.16056357130988, 175.50525948039802, 157.37227358287194, 98.53006045881327, 4636.335323105341, 687.2203546932599, 3301.7794572063303, 2424.51309104403, 2203.23131595264, 459.8771181120332, 2362.1415875150037, 2163.015749133044, 3934.604091223877, 233.69162958823748, 578.4248959160142, 1432.4947127263763, 1008.9657074233373, 1739.7371177030939, 1127.2082960655805, 1051.5410235081972, 1373.3419304887511, 1181.452197795739, 1247.495770861524, 970.2519545500188, 878.28504544333, 1874.298889413659, 979.6486210958907, 1349.6602349281372, 344.0054146883917, 13.483157515909424, 8.320754838459269, 8.26997869235399, 6.846142700828295, 6.129933391271197, 7.122274948255781, 6.333250080855513, 5.884674517448158, 6.215504125654393, 5.29278572342508, 5.2908507387997705, 5.2907695805791075, 11.034047351452521, 6.377886495891885, 4.6462161597084375, 4.512724040671364, 5.58410690181657, 4.652469679631892, 4.459770995929293, 5.523181287698742, 4.788014476424145, 4.790331466554019, 4.449618276861713, 4.7912920339150915, 4.793155443724776, 12.037109006317806, 12.847755632642944, 9.384357953980542, 6.20367634242364, 20.862284895304644, 18.52283146981098, 115.58183544882371, 11.280342989542177, 28.005434595871897, 7.801014119768033, 12.965351986324935, 18.578020340426797, 48.05203022238884, 9.471609513861141, 17.376611755928096, 19.377743286666824, 45.43134676299644, 87.37383293685961, 37.31422928195872, 95.50107539987717, 33.97259446275304, 244.53498630941488, 67.27869765841783, 210.56960076799317, 127.92444490148317, 59.379732859249444, 1337.397593977711, 206.60192759482354, 31.556693307408736, 329.5506562255704, 285.7784856795344, 299.8546675840679, 113.17669563419007, 57.680876558418596, 4636.335323105341, 56.98830759206983, 3301.7794572063303, 2424.51309104403, 2362.1415875150037, 2203.23131595264, 1739.7371177030939, 512.0382698088406, 201.98220265897015, 106.89428037655992, 2163.015749133044, 994.4497903999796, 1127.2082960655805, 459.8771181120332, 1178.900235509501, 1432.4947127263763, 979.6486210958907, 1051.5410235081972, 1006.1734083083174, 623.6959722561, 1008.9657074233373, 3934.604091223877], \"Category\": [\"Default\", \"Default\", \"Default\", \"Default\", \"Default\", \"Default\", \"Default\", \"Default\", \"Default\", \"Default\", \"Default\", \"Default\", \"Default\", \"Default\", \"Default\", \"Default\", \"Default\", \"Default\", \"Default\", \"Default\", \"Default\", \"Default\", \"Default\", \"Default\", \"Default\", \"Default\", \"Default\", \"Default\", \"Default\", \"Default\", \"Topic1\", \"Topic1\", \"Topic1\", \"Topic1\", \"Topic1\", \"Topic1\", \"Topic1\", \"Topic1\", \"Topic1\", \"Topic1\", \"Topic1\", \"Topic1\", \"Topic1\", \"Topic1\", \"Topic1\", \"Topic1\", \"Topic1\", \"Topic1\", \"Topic1\", \"Topic1\", \"Topic1\", \"Topic1\", \"Topic1\", \"Topic1\", \"Topic1\", \"Topic1\", \"Topic1\", \"Topic1\", \"Topic1\", \"Topic1\", \"Topic1\", \"Topic1\", \"Topic1\", \"Topic1\", \"Topic1\", \"Topic1\", \"Topic1\", \"Topic1\", \"Topic1\", \"Topic1\", \"Topic1\", \"Topic1\", \"Topic1\", \"Topic1\", \"Topic1\", \"Topic1\", \"Topic1\", \"Topic1\", \"Topic1\", \"Topic1\", \"Topic1\", \"Topic1\", \"Topic1\", \"Topic1\", \"Topic1\", \"Topic1\", \"Topic1\", \"Topic1\", \"Topic1\", \"Topic1\", \"Topic1\", \"Topic1\", \"Topic1\", \"Topic1\", \"Topic1\", \"Topic1\", \"Topic1\", \"Topic1\", \"Topic1\", \"Topic1\", \"Topic1\", \"Topic1\", \"Topic1\", \"Topic1\", \"Topic1\", \"Topic1\", \"Topic1\", \"Topic1\", \"Topic1\", \"Topic1\", \"Topic1\", \"Topic1\", \"Topic1\", \"Topic1\", \"Topic1\", \"Topic1\", \"Topic1\", \"Topic1\", \"Topic1\", \"Topic1\", \"Topic2\", \"Topic2\", \"Topic2\", \"Topic2\", \"Topic2\", \"Topic2\", \"Topic2\", \"Topic2\", \"Topic2\", \"Topic2\", \"Topic2\", \"Topic2\", \"Topic2\", \"Topic2\", \"Topic2\", \"Topic2\", \"Topic2\", \"Topic2\", \"Topic2\", \"Topic2\", \"Topic2\", \"Topic2\", \"Topic2\", \"Topic2\", \"Topic2\", \"Topic2\", \"Topic2\", \"Topic2\", \"Topic2\", \"Topic2\", \"Topic2\", \"Topic2\", \"Topic2\", \"Topic2\", \"Topic2\", \"Topic2\", \"Topic2\", \"Topic2\", \"Topic2\", \"Topic2\", \"Topic2\", \"Topic2\", \"Topic2\", \"Topic2\", \"Topic2\", \"Topic2\", \"Topic2\", \"Topic2\", \"Topic2\", \"Topic2\", \"Topic2\", \"Topic2\", \"Topic2\", \"Topic2\", \"Topic2\", \"Topic2\", \"Topic2\", \"Topic2\", \"Topic2\", \"Topic2\", \"Topic2\", \"Topic2\", \"Topic2\", \"Topic2\", \"Topic2\", \"Topic2\", \"Topic2\", \"Topic2\", \"Topic2\", \"Topic2\", \"Topic2\", \"Topic2\", \"Topic2\", \"Topic2\", \"Topic2\", \"Topic2\", \"Topic2\", \"Topic2\", \"Topic2\", \"Topic3\", \"Topic3\", \"Topic3\", \"Topic3\", \"Topic3\", \"Topic3\", \"Topic3\", \"Topic3\", \"Topic3\", \"Topic3\", \"Topic3\", \"Topic3\", \"Topic3\", \"Topic3\", \"Topic3\", \"Topic3\", \"Topic3\", \"Topic3\", \"Topic3\", \"Topic3\", \"Topic3\", \"Topic3\", \"Topic3\", \"Topic3\", \"Topic3\", \"Topic3\", \"Topic3\", \"Topic3\", \"Topic3\", \"Topic3\", \"Topic3\", \"Topic3\", \"Topic3\", \"Topic3\", \"Topic3\", \"Topic3\", \"Topic3\", \"Topic3\", \"Topic3\", \"Topic3\", \"Topic3\", \"Topic3\", \"Topic3\", \"Topic3\", \"Topic3\", \"Topic3\", \"Topic3\", \"Topic3\", \"Topic3\", \"Topic3\", \"Topic3\", \"Topic3\", \"Topic3\", \"Topic3\", \"Topic3\", \"Topic3\", \"Topic3\", \"Topic3\", \"Topic3\", \"Topic3\", \"Topic3\", \"Topic3\", \"Topic3\", \"Topic3\", \"Topic3\", \"Topic3\", \"Topic3\", \"Topic3\", \"Topic3\", \"Topic3\", \"Topic3\", \"Topic3\", \"Topic3\", \"Topic3\", \"Topic3\", \"Topic3\", \"Topic3\", \"Topic3\", \"Topic3\", \"Topic3\", \"Topic3\", \"Topic3\", \"Topic3\", \"Topic3\", \"Topic3\", \"Topic3\", \"Topic3\", \"Topic3\", \"Topic3\", \"Topic3\", \"Topic3\", \"Topic3\", \"Topic3\", \"Topic3\", \"Topic4\", \"Topic4\", \"Topic4\", \"Topic4\", \"Topic4\", \"Topic4\", \"Topic4\", \"Topic4\", \"Topic4\", \"Topic4\", \"Topic4\", \"Topic4\", \"Topic4\", \"Topic4\", \"Topic4\", \"Topic4\", \"Topic4\", \"Topic4\", \"Topic4\", \"Topic4\", \"Topic4\", \"Topic4\", \"Topic4\", \"Topic4\", \"Topic4\", \"Topic4\", \"Topic4\", \"Topic4\", \"Topic4\", \"Topic4\", \"Topic4\", \"Topic4\", \"Topic4\", \"Topic4\", \"Topic4\", \"Topic4\", \"Topic4\", \"Topic4\", \"Topic4\", \"Topic4\", \"Topic4\", \"Topic4\", \"Topic4\", \"Topic4\", \"Topic4\", \"Topic4\", \"Topic4\", \"Topic4\", \"Topic4\", \"Topic4\", \"Topic4\", \"Topic4\", \"Topic4\", \"Topic4\", \"Topic4\", \"Topic4\", \"Topic4\", \"Topic4\", \"Topic4\", \"Topic4\", \"Topic4\", \"Topic4\", \"Topic4\", \"Topic4\", \"Topic4\", \"Topic4\", \"Topic4\", \"Topic4\", \"Topic4\", \"Topic4\", \"Topic4\", \"Topic4\", \"Topic4\", \"Topic4\", \"Topic4\", \"Topic4\", \"Topic4\", \"Topic4\", \"Topic4\", \"Topic5\", \"Topic5\", \"Topic5\", \"Topic5\", \"Topic5\", \"Topic5\", \"Topic5\", \"Topic5\", \"Topic5\", \"Topic5\", \"Topic5\", \"Topic5\", \"Topic5\", \"Topic5\", \"Topic5\", \"Topic5\", \"Topic5\", \"Topic5\", \"Topic5\", \"Topic5\", \"Topic5\", \"Topic5\", \"Topic5\", \"Topic5\", \"Topic5\", \"Topic5\", \"Topic5\", \"Topic5\", \"Topic5\", \"Topic5\", \"Topic5\", \"Topic5\", \"Topic5\", \"Topic5\", \"Topic5\", \"Topic5\", \"Topic5\", \"Topic5\", \"Topic5\", \"Topic5\", \"Topic5\", \"Topic5\", \"Topic5\", \"Topic5\", \"Topic5\", \"Topic5\", \"Topic5\", \"Topic5\", \"Topic5\", \"Topic5\", \"Topic5\", \"Topic5\", \"Topic5\", \"Topic5\", \"Topic5\", \"Topic5\", \"Topic5\", \"Topic5\", \"Topic5\", \"Topic5\", \"Topic5\", \"Topic5\", \"Topic5\", \"Topic5\", \"Topic5\", \"Topic5\", \"Topic5\", \"Topic5\", \"Topic5\", \"Topic5\", \"Topic5\", \"Topic5\", \"Topic5\", \"Topic5\", \"Topic5\", \"Topic5\", \"Topic5\", \"Topic5\", \"Topic5\", \"Topic5\", \"Topic6\", \"Topic6\", \"Topic6\", \"Topic6\", \"Topic6\", \"Topic6\", \"Topic6\", \"Topic6\", \"Topic6\", \"Topic6\", \"Topic6\", \"Topic6\", \"Topic6\", \"Topic6\", \"Topic6\", \"Topic6\", \"Topic6\", \"Topic6\", \"Topic6\", \"Topic6\", \"Topic6\", \"Topic6\", \"Topic6\", \"Topic6\", \"Topic6\", \"Topic6\", \"Topic6\", \"Topic6\", \"Topic6\", \"Topic6\", \"Topic6\", \"Topic6\", \"Topic6\", \"Topic6\", \"Topic6\", \"Topic6\", \"Topic6\", \"Topic6\", \"Topic6\", \"Topic6\", \"Topic6\", \"Topic6\", \"Topic6\", \"Topic6\", \"Topic6\", \"Topic6\", \"Topic6\", \"Topic6\", \"Topic6\", \"Topic6\", \"Topic6\", \"Topic6\", \"Topic6\", \"Topic6\", \"Topic6\", \"Topic6\", \"Topic6\", \"Topic6\", \"Topic6\", \"Topic6\", \"Topic6\", \"Topic6\", \"Topic6\", \"Topic6\", \"Topic6\", \"Topic6\", \"Topic6\", \"Topic6\", \"Topic6\", \"Topic6\", \"Topic6\", \"Topic6\", \"Topic6\", \"Topic6\", \"Topic6\", \"Topic6\", \"Topic6\", \"Topic6\", \"Topic6\", \"Topic6\", \"Topic6\", \"Topic6\", \"Topic6\", \"Topic6\", \"Topic6\", \"Topic7\", \"Topic7\", \"Topic7\", \"Topic7\", \"Topic7\", \"Topic7\", \"Topic7\", \"Topic7\", \"Topic7\", \"Topic7\", \"Topic7\", \"Topic7\", \"Topic7\", \"Topic7\", \"Topic7\", \"Topic7\", \"Topic7\", \"Topic7\", \"Topic7\", \"Topic7\", \"Topic7\", \"Topic7\", \"Topic7\", \"Topic7\", \"Topic7\", \"Topic7\", \"Topic7\", \"Topic7\", \"Topic7\", \"Topic7\", \"Topic7\", \"Topic7\", \"Topic7\", \"Topic7\", \"Topic7\", \"Topic7\", \"Topic7\", \"Topic7\", \"Topic7\", \"Topic7\", \"Topic7\", \"Topic7\", \"Topic7\", \"Topic7\", \"Topic7\", \"Topic7\", \"Topic7\", \"Topic7\", \"Topic7\", \"Topic7\", \"Topic7\", \"Topic7\", \"Topic7\", \"Topic7\", \"Topic7\", \"Topic7\", \"Topic7\", \"Topic7\", \"Topic7\", \"Topic7\", \"Topic7\", \"Topic7\", \"Topic7\", \"Topic7\", \"Topic7\", \"Topic7\", \"Topic7\", \"Topic7\", \"Topic7\", \"Topic7\", \"Topic7\", \"Topic7\", \"Topic7\", \"Topic7\", \"Topic7\", \"Topic7\", \"Topic7\", \"Topic7\", \"Topic7\", \"Topic7\", \"Topic7\", \"Topic8\", \"Topic8\", \"Topic8\", \"Topic8\", \"Topic8\", \"Topic8\", \"Topic8\", \"Topic8\", \"Topic8\", \"Topic8\", \"Topic8\", \"Topic8\", \"Topic8\", \"Topic8\", \"Topic8\", \"Topic8\", \"Topic8\", \"Topic8\", \"Topic8\", \"Topic8\", \"Topic8\", \"Topic8\", \"Topic8\", \"Topic8\", \"Topic8\", \"Topic8\", \"Topic8\", \"Topic8\", \"Topic8\", \"Topic8\", \"Topic8\", \"Topic8\", \"Topic8\", \"Topic8\", \"Topic8\", \"Topic8\", \"Topic8\", \"Topic8\", \"Topic8\", \"Topic8\", \"Topic8\", \"Topic8\", \"Topic8\", \"Topic8\", \"Topic8\", \"Topic8\", \"Topic8\", \"Topic8\", \"Topic8\", \"Topic8\", \"Topic8\", \"Topic8\", \"Topic8\", \"Topic8\", \"Topic8\", \"Topic8\", \"Topic8\", \"Topic8\", \"Topic8\", \"Topic8\", \"Topic8\", \"Topic8\", \"Topic8\", \"Topic8\", \"Topic8\", \"Topic8\", \"Topic8\", \"Topic8\", \"Topic8\", \"Topic8\", \"Topic8\", \"Topic8\", \"Topic8\", \"Topic8\", \"Topic8\", \"Topic8\", \"Topic8\", \"Topic8\", \"Topic8\", \"Topic8\", \"Topic8\"], \"logprob\": [30.0, 29.0, 28.0, 27.0, 26.0, 25.0, 24.0, 23.0, 22.0, 21.0, 20.0, 19.0, 18.0, 17.0, 16.0, 15.0, 14.0, 13.0, 12.0, 11.0, 10.0, 9.0, 8.0, 7.0, 6.0, 5.0, 4.0, 3.0, 2.0, 1.0, -7.163099765777588, -6.923099994659424, -7.405300140380859, -8.212400436401367, -8.326199531555176, -7.596199989318848, -8.370800018310547, -8.119600296020508, -8.682900428771973, -8.53380012512207, -8.57800006866455, -7.787700176239014, -7.609399795532227, -8.519700050354004, -8.729999542236328, -7.999199867248535, -8.07509994506836, -8.956999778747559, -8.564299583435059, -8.863300323486328, -8.991600036621094, -7.45419979095459, -8.867400169372559, -8.94789981842041, -8.394100189208984, -6.587299823760986, -8.926799774169922, -8.562800407409668, -8.576899528503418, -8.354999542236328, -4.781400203704834, -6.8069000244140625, -8.21310043334961, -8.059300422668457, -6.518799781799316, -5.149499893188477, -7.127099990844727, -6.825799942016602, -6.254199981689453, -6.701700210571289, -6.677999973297119, -7.381199836730957, -7.717700004577637, -8.018799781799316, -7.912099838256836, -6.403500080108643, -7.588200092315674, -5.989699840545654, -6.236599922180176, -6.813799858093262, -5.499300003051758, -6.836999893188477, -4.668799877166748, -6.8643999099731445, -5.522900104522705, -5.212399959564209, -6.820300102233887, -5.106400012969971, -6.265500068664551, -5.666600227355957, -6.323599815368652, -6.275400161743164, -6.470099925994873, -5.994999885559082, -4.92609977722168, -4.653800010681152, -5.718699932098389, -5.026599884033203, -6.160799980163574, -4.6697001457214355, -4.593200206756592, -5.439199924468994, -6.166200160980225, -5.088399887084961, -5.178199768066406, -5.326900005340576, -5.411799907684326, -5.543600082397461, -5.262199878692627, -5.873799800872803, -5.673099994659424, -6.072800159454346, -6.010300159454346, -5.874100208282471, -5.8024001121521, -5.823999881744385, -5.914700031280518, -5.892099857330322, -5.930799961090088, -5.957200050354004, -7.760200023651123, -7.76039981842041, -7.261899948120117, -6.98799991607666, -6.389800071716309, -8.097100257873535, -7.5447998046875, -8.020899772644043, -7.5721001625061035, -8.139800071716309, -7.278600215911865, -8.028300285339355, -8.320199966430664, -8.205400466918945, -6.550300121307373, -7.700300216674805, -8.208800315856934, -7.547999858856201, -7.2204999923706055, -6.936699867248535, -7.749300003051758, -8.352999687194824, -8.468199729919434, -6.772600173950195, -8.166000366210938, -8.539999961853027, -8.476200103759766, -8.277899742126465, -8.607999801635742, -8.473099708557129, -6.578400135040283, -6.2758002281188965, -5.651199817657471, -5.8856000900268555, -7.777299880981445, -7.813799858093262, -7.407800197601318, -6.116799831390381, -6.797500133514404, -7.651800155639648, -7.102399826049805, -5.586299896240234, -5.952099800109863, -6.5416998863220215, -6.410699844360352, -7.19920015335083, -6.559100151062012, -6.89900016784668, -6.600500106811523, -6.834499835968018, -6.6529998779296875, -6.731400012969971, -4.8531999588012695, -6.849999904632568, -5.349100112915039, -4.514500141143799, -4.745999813079834, -4.770400047302246, -4.497099876403809, -4.8755998611450195, -4.942699909210205, -5.095399856567383, -4.522299766540527, -5.718699932098389, -5.53249979019165, -5.337600231170654, -5.511099815368652, -5.761300086975098, -5.53980016708374, -5.861000061035156, -5.442800045013428, -5.48390007019043, -5.736100196838379, -5.71150016784668, -5.651199817657471, -5.623899936676025, -5.769400119781494, -5.873899936676025, -5.935999870300293, -7.446000099182129, -7.760200023651123, -7.1631999015808105, -7.949999809265137, -8.29699993133545, -8.241499900817871, -8.463299751281738, -7.96120023727417, -7.730000019073486, -8.64109992980957, -8.644499778747559, -8.361000061035156, -8.13230037689209, -8.62440013885498, -7.422900199890137, -8.718799591064453, -8.48550033569336, -7.632699966430664, -8.289600372314453, -8.517800331115723, -8.518099784851074, -7.515399932861328, -8.544899940490723, -8.810199737548828, -8.21030044555664, -8.927599906921387, -8.61400032043457, -8.79170036315918, -8.909799575805664, -8.760899543762207, -7.147799968719482, -7.213600158691406, -7.890999794006348, -8.404000282287598, -5.457600116729736, -7.758399963378906, -7.212500095367432, -7.732800006866455, -7.690199851989746, -7.882199764251709, -7.851399898529053, -7.631199836730957, -7.516499996185303, -8.019399642944336, -7.243199825286865, -6.606400012969971, -4.283999919891357, -5.288400173187256, -7.556000232696533, -6.5355000495910645, -5.839399814605713, -6.744500160217285, -6.739500045776367, -6.6722002029418945, -6.957300186157227, -6.596199989318848, -6.854899883270264, -7.3144001960754395, -6.427199840545654, -7.046199798583984, -6.833600044250488, -5.208700180053711, -5.838200092315674, -6.486499786376953, -5.938600063323975, -6.0991997718811035, -6.041999816894531, -6.172299861907959, -5.841000080108643, -5.9842000007629395, -5.634799957275391, -6.281400203704834, -6.501999855041504, -6.392099857330322, -4.543900012969971, -6.164000034332275, -6.23799991607666, -5.801400184631348, -6.037099838256836, -5.030300140380859, -5.720399856567383, -6.304200172424316, -5.426499843597412, -5.581600189208984, -5.545000076293945, -5.817299842834473, -5.407899856567383, -6.09660005569458, -6.116600036621094, -5.626800060272217, -5.910299777984619, -5.9558000564575195, -6.14709997177124, -6.0584001541137695, -7.606900215148926, -7.427800178527832, -7.613999843597412, -6.457300186157227, -7.394700050354004, -8.137800216674805, -6.801599979400635, -7.357900142669678, -7.263199806213379, -8.013099670410156, -6.8242998123168945, -7.359899997711182, -7.411099910736084, -8.000900268554688, -8.094200134277344, -7.843699932098389, -6.687399864196777, -7.909999847412109, -8.326199531555176, -8.317299842834473, -8.30720043182373, -7.929800033569336, -6.801300048828125, -8.183899879455566, -8.405400276184082, -7.961999893188477, -8.101499557495117, -7.250899791717529, -5.7617998123168945, -6.804699897766113, -6.291600227355957, -6.8597002029418945, -6.862800121307373, -6.826600074768066, -6.707399845123291, -5.356299877166748, -5.587800025939941, -4.607100009918213, -5.60099983215332, -6.48390007019043, -5.2677998542785645, -6.715700149536133, -7.368299961090088, -5.367400169372559, -4.816999912261963, -5.670499801635742, -4.9807000160217285, -6.571499824523926, -5.644700050354004, -6.519199848175049, -5.826600074768066, -4.63129997253418, -6.2677001953125, -6.3572001457214355, -5.938700199127197, -4.627699851989746, -5.56850004196167, -5.43209981918335, -5.549600124359131, -5.724800109863281, -5.532100200653076, -5.601900100708008, -6.308800220489502, -5.576700210571289, -5.46560001373291, -5.792200088500977, -5.7459001541137695, -5.853300094604492, -4.490799903869629, -5.472799777984619, -5.599400043487549, -5.274600028991699, -5.583600044250488, -5.177000045776367, -4.911099910736084, -5.132599830627441, -5.316999912261963, -5.514100074768066, -5.608799934387207, -6.939599990844727, -6.286799907684326, -6.586900234222412, -7.111599922180176, -7.1971001625061035, -7.849800109863281, -7.361599922180176, -7.388899803161621, -7.435500144958496, -8.08080005645752, -7.766499996185303, -7.806000232696533, -7.713600158691406, -6.811399936676025, -7.808899879455566, -8.072199821472168, -8.31820011138916, -7.982699871063232, -6.029399871826172, -8.369999885559082, -8.242799758911133, -8.191399574279785, -8.334600448608398, -7.950099945068359, -8.186200141906738, -8.11340045928955, -8.07960033416748, -8.451499938964844, -8.530400276184082, -8.573599815368652, -7.640399932861328, -8.09630012512207, -7.966300010681152, -6.776199817657471, -6.82919979095459, -6.957099914550781, -6.359000205993652, -6.596499919891357, -6.965000152587891, -5.151700019836426, -6.3572001457214355, -7.335899829864502, -6.304800033569336, -6.4664998054504395, -5.848800182342529, -5.444200038909912, -4.503600120544434, -6.958099842071533, -6.8470001220703125, -5.296899795532227, -4.94350004196167, -5.941800117492676, -6.835400104522705, -5.15500020980835, -4.035200119018555, -4.849299907684326, -5.642600059509277, -5.630300045013428, -4.217299938201904, -6.038000106811523, -4.903600215911865, -5.039400100708008, -5.972300052642822, -5.5894999504089355, -5.9116997718811035, -5.882999897003174, -5.380300045013428, -5.6442999839782715, -5.51639986038208, -5.485099792480469, -5.939799785614014, -5.742400169372559, -5.650000095367432, -5.632500171661377, -5.853799819946289, -5.884799957275391, -5.929800033569336, -5.921199798583984, -5.890399932861328, -5.9293999671936035, -7.066699981689453, -7.238699913024902, -7.716899871826172, -7.703400135040283, -7.703499794006348, -7.896999835968018, -7.913000106811523, -7.544000148773193, -7.546500205993652, -8.254599571228027, -8.192899703979492, -8.256500244140625, -8.151300430297852, -8.114299774169922, -8.366999626159668, -8.425399780273438, -8.443099975585938, -7.600399971008301, -8.3233003616333, -8.534899711608887, -8.556099891662598, -8.547300338745117, -8.151800155639648, -8.548600196838379, -8.406800270080566, -8.418600082397461, -8.545900344848633, -8.401100158691406, -8.593700408935547, -8.149499893188477, -8.454500198364258, -8.205699920654297, -6.772500038146973, -6.759799957275391, -7.562699794769287, -6.739200115203857, -7.9994001388549805, -7.196800231933594, -7.179299831390381, -6.963099956512451, -7.225299835205078, -8.15250015258789, -7.681300163269043, -6.334000110626221, -6.855599880218506, -7.243100166320801, -7.287700176239014, -7.402400016784668, -6.14870023727417, -6.957200050354004, -6.249499797821045, -4.447400093078613, -6.446100234985352, -6.9608001708984375, -6.760799884796143, -6.366700172424316, -4.620100021362305, -4.685299873352051, -6.005899906158447, -4.711699962615967, -5.5543999671936035, -5.707099914550781, -5.487400054931641, -5.506700038909912, -5.464399814605713, -5.1707000732421875, -5.3871002197265625, -6.050600051879883, -4.84499979019165, -5.447999954223633, -4.97189998626709, -5.594099998474121, -5.818600177764893, -5.5152997970581055, -5.999899864196777, -5.562900066375732, -5.809100151062012, -5.889100074768066, -5.98360013961792, -6.045599937438965, -5.884300231933594, -5.820000171661377, -5.837500095367432, -5.934899806976318, -5.966400146484375, -6.839700222015381, -6.179100036621094, -6.928500175476074, -6.600800037384033, -6.82480001449585, -6.955900192260742, -7.499199867248535, -7.584000110626221, -7.572299957275391, -7.573299884796143, -7.463399887084961, -7.430500030517578, -6.46150016784668, -7.877500057220459, -7.791100025177002, -7.676300048828125, -7.93779993057251, -7.938600063323975, -7.741799831390381, -7.659599781036377, -7.941800117492676, -7.7444000244140625, -6.803500175476074, -7.74560022354126, -7.746500015258789, -8.065999984741211, -6.883600234985352, -8.069700241088867, -7.111800193786621, -8.0556001663208, -7.285900115966797, -7.184899806976318, -7.26200008392334, -6.481599807739258, -6.433300018310547, -5.863800048828125, -6.7621002197265625, -6.7453999519348145, -6.420300006866455, -7.104400157928467, -7.506499767303467, -5.736800193786621, -6.062399864196777, -6.104599952697754, -6.354000091552734, -5.684000015258789, -6.974999904632568, -6.115200042724609, -6.08650016784668, -6.994999885559082, -6.3165998458862305, -6.760300159454346, -6.287899971008301, -6.111999988555908, -6.1743998527526855, -6.4045000076293945, -4.638700008392334, -5.590400218963623, -4.958199977874756, -5.127600193023682, -5.208099842071533, -5.793000221252441, -5.267600059509277, -5.376800060272217, -5.238100051879883, -6.125100135803223, -5.864999771118164, -5.596099853515625, -5.706299781799316, -5.559999942779541, -5.745299816131592, -5.806700229644775, -5.752799987792969, -5.790299892425537, -5.812699794769287, -5.873899936676025, -5.922399997711182, -5.843299865722656, -5.961599826812744, -5.9456000328063965, -6.093100070953369, -6.872600078582764, -7.398799896240234, -7.410200119018555, -7.6219000816345215, -7.746500015258789, -7.597899913787842, -7.721099853515625, -7.796800136566162, -7.742300033569336, -7.910900115966797, -7.912799835205078, -7.913099765777588, -7.189700126647949, -7.751699924468994, -8.069600105285645, -8.099100112915039, -7.892899990081787, -8.079000473022461, -8.121500015258789, -7.909299850463867, -8.056500434875488, -8.056099891662598, -8.129899978637695, -8.058099746704102, -8.059000015258789, -7.139999866485596, -7.075799942016602, -7.392099857330322, -7.808499813079834, -6.597700119018555, -6.760799884796143, -5.154900074005127, -7.282299995422363, -6.480100154876709, -7.6244001388549805, -7.195499897003174, -6.8979997634887695, -6.112400054931641, -7.479700088500977, -7.045499801635742, -6.985899925231934, -6.40749979019165, -5.95550012588501, -6.5706000328063965, -6.001200199127197, -6.7154998779296875, -5.517399787902832, -6.331399917602539, -5.6717000007629395, -5.984300136566162, -6.4471001625061035, -4.7332000732421875, -5.811500072479248, -6.821100234985352, -5.696700096130371, -5.80620002746582, -5.856900215148926, -6.282700061798096, -6.567500114440918, -4.7291998863220215, -6.573999881744385, -5.067399978637695, -5.235499858856201, -5.304200172424316, -5.334000110626221, -5.572000026702881, -5.9355998039245605, -6.214200019836426, -6.39870023727417, -5.676400184631348, -5.880199909210205, -6.004000186920166, -6.16510009765625, -6.037499904632568, -6.035999774932861, -6.123700141906738, -6.130000114440918, -6.134699821472168, -6.180200099945068, -6.158899784088135, -6.132800102233887], \"loglift\": [30.0, 29.0, 28.0, 27.0, 26.0, 25.0, 24.0, 23.0, 22.0, 21.0, 20.0, 19.0, 18.0, 17.0, 16.0, 15.0, 14.0, 13.0, 12.0, 11.0, 10.0, 9.0, 8.0, 7.0, 6.0, 5.0, 4.0, 3.0, 2.0, 1.0, 1.3721, 1.3716, 1.3669, 1.3646, 1.3627, 1.3574, 1.3531, 1.3529, 1.3501, 1.3495, 1.3471, 1.3471, 1.3467, 1.344, 1.343, 1.342, 1.3418, 1.3378, 1.3376, 1.3366, 1.3344, 1.3339, 1.3335, 1.3333, 1.3328, 1.332, 1.3317, 1.3315, 1.3315, 1.3297, 1.3243, 1.323, 1.3297, 1.3278, 1.3114, 1.2852, 1.3079, 1.2969, 1.281, 1.2744, 1.2723, 1.3, 1.3065, 1.3201, 1.3126, 1.2329, 1.2908, 1.1816, 1.1967, 1.2379, 1.1089, 1.2105, 0.9675, 1.1965, 1.0022, 0.9087, 1.15, 0.807, 1.033, 0.8656, 1.0238, 0.9929, 1.0385, 0.8777, 0.5062, 0.2123, 0.6241, 0.2624, 0.8473, 0.021, -0.0666, 0.4002, 0.8463, 0.0865, 0.0924, 0.1799, 0.1586, 0.2389, -0.0613, 0.5456, 0.2207, 0.6754, 0.4941, 0.1362, -0.1013, -0.0808, 0.176, 0.0486, 0.1353, 0.0944, 1.6926, 1.6923, 1.6892, 1.687, 1.6832, 1.683, 1.6822, 1.681, 1.6802, 1.6793, 1.6776, 1.6741, 1.6736, 1.6728, 1.672, 1.6711, 1.6694, 1.6684, 1.6672, 1.6671, 1.6658, 1.6632, 1.6618, 1.6617, 1.6614, 1.661, 1.6592, 1.6567, 1.6565, 1.6533, 1.6497, 1.6444, 1.6284, 1.6286, 1.6472, 1.6432, 1.6263, 1.5612, 1.5947, 1.634, 1.5872, 1.4183, 1.4548, 1.4552, 1.4256, 1.5385, 1.4128, 1.4519, 1.3621, 1.4076, 1.3401, 1.3602, 0.7172, 1.3807, 0.7371, 0.3516, 0.4288, 0.4306, 0.1936, 0.395, 0.3463, 0.4114, 0.0042, 0.704, 0.5486, 0.4056, 0.4992, 0.6945, 0.5117, 0.7469, 0.3398, 0.2858, 0.4542, 0.3792, 0.2478, -0.0536, 0.07, 0.0199, 0.0048, 1.9259, 1.9203, 1.913, 1.9106, 1.9079, 1.9062, 1.8978, 1.8924, 1.8916, 1.8889, 1.8881, 1.8875, 1.8874, 1.8851, 1.8835, 1.8819, 1.8815, 1.8786, 1.876, 1.8748, 1.8742, 1.8735, 1.8723, 1.8667, 1.8666, 1.8663, 1.8633, 1.8629, 1.8622, 1.862, 1.8593, 1.8573, 1.857, 1.8612, 1.8057, 1.8518, 1.8367, 1.8472, 1.8452, 1.8434, 1.8365, 1.8221, 1.8135, 1.8462, 1.7812, 1.7216, 1.4858, 1.57, 1.7985, 1.6791, 1.5479, 1.6772, 1.6749, 1.6597, 1.6993, 1.6352, 1.6687, 1.7548, 1.5291, 1.6826, 1.6231, 1.214, 1.3689, 1.5077, 1.3264, 1.3697, 1.3478, 1.368, 1.1402, 1.1863, 1.0151, 1.3085, 1.4032, 1.2978, -0.0174, 1.0834, 1.137, 0.6863, 0.8949, -0.1643, 0.3457, 1.1001, -0.1559, -0.0113, -0.3701, 0.1234, -0.7172, 0.6707, 0.7081, -0.4259, -0.0166, -0.0569, 0.3855, -0.7694, 1.9423, 1.9343, 1.9316, 1.9314, 1.9299, 1.9254, 1.9254, 1.9243, 1.9243, 1.9236, 1.9234, 1.9221, 1.9179, 1.9167, 1.9151, 1.9148, 1.9142, 1.9129, 1.9128, 1.9116, 1.9113, 1.911, 1.9101, 1.9101, 1.9093, 1.9091, 1.9084, 1.9081, 1.9067, 1.9065, 1.9031, 1.9059, 1.9026, 1.8993, 1.897, 1.8795, 1.8828, 1.8568, 1.8744, 1.8872, 1.834, 1.8747, 1.8982, 1.8008, 1.6677, 1.7435, 1.6397, 1.8135, 1.6285, 1.7473, 1.5745, 1.2646, 1.6621, 1.6612, 1.5316, 0.9426, 1.3297, 1.2135, 1.2291, 1.3171, 1.1957, 1.184, 1.6076, 1.1106, 1.0246, 1.2571, 1.1736, 1.2431, 0.0357, 0.8992, 1.0121, 0.6243, 0.949, 0.2553, -0.2204, -0.2666, -0.028, -0.0073, -0.4079, 2.0213, 2.0169, 2.0153, 2.0125, 2.0091, 2.0073, 2.0058, 2.004, 2.0028, 2.0004, 1.9944, 1.9933, 1.9924, 1.9913, 1.9895, 1.9882, 1.9881, 1.9875, 1.9801, 1.978, 1.9753, 1.9748, 1.9733, 1.9723, 1.9704, 1.9693, 1.968, 1.9664, 1.9613, 1.9612, 1.9588, 1.9579, 1.953, 1.9111, 1.902, 1.8954, 1.8394, 1.8548, 1.8801, 1.7002, 1.8091, 1.8891, 1.7612, 1.7592, 1.6014, 1.4641, 1.257, 1.7616, 1.7099, 1.2294, 1.1108, 1.4184, 1.7022, 1.0861, 0.6555, 0.8518, 1.176, 1.071, 0.3093, 1.2591, 0.5287, 0.5968, 1.1474, 0.83, 1.0146, 0.9821, 0.4022, 0.6725, 0.3774, 0.2582, 0.8902, 0.4778, 0.2635, 0.2069, 0.6131, 0.5969, 0.6905, 0.5634, -0.3201, 0.2609, 2.4007, 2.3982, 2.3847, 2.3803, 2.3802, 2.3768, 2.3664, 2.3597, 2.3572, 2.3535, 2.3532, 2.3528, 2.3456, 2.3433, 2.3426, 2.3394, 2.3365, 2.3339, 2.3324, 2.3287, 2.3266, 2.3259, 2.3247, 2.3246, 2.3221, 2.32, 2.32, 2.3199, 2.3195, 2.3188, 2.3185, 2.3152, 2.2783, 2.2752, 2.2968, 2.2229, 2.291, 2.1948, 2.182, 2.1522, 2.1136, 2.2723, 2.1459, 1.7473, 1.8864, 1.9888, 1.9999, 2.0388, 1.533, 1.8467, 1.5475, 0.7535, 1.5858, 1.8153, 1.7191, 1.5072, 0.5547, 0.5852, 1.2756, 0.1543, 0.7496, 0.7746, 0.5641, 0.5743, 0.4763, 0.1183, 0.314, 0.9423, -0.3184, 0.2953, -0.2812, 0.4161, 0.6373, 0.0552, 0.6307, -0.0561, 0.2772, 0.3012, 0.4823, 0.6042, 0.17, -0.0375, -0.2672, -0.0359, -0.1271, 2.985, 2.9624, 2.9601, 2.9598, 2.948, 2.9469, 2.9391, 2.9385, 2.9377, 2.9366, 2.9357, 2.923, 2.9208, 2.9184, 2.9178, 2.9169, 2.9074, 2.9066, 2.9056, 2.9052, 2.9032, 2.9025, 2.9016, 2.9008, 2.9003, 2.8983, 2.8977, 2.8953, 2.8936, 2.8895, 2.8865, 2.8667, 2.8409, 2.7701, 2.7511, 2.674, 2.7502, 2.7442, 2.6771, 2.7779, 2.856, 2.441, 2.5011, 2.4665, 2.5185, 2.1987, 2.6802, 2.256, 2.1227, 2.6424, 2.1165, 2.4217, 1.934, 1.6886, 1.7353, 1.9734, -0.1121, 0.8452, -0.0922, 0.0472, 0.0624, 1.0443, -0.0666, -0.0878, -0.5474, 1.3891, 0.743, 0.105, 0.3453, -0.0533, 0.1955, 0.2036, -0.0095, 0.1034, 0.0266, 0.2168, 0.2678, -0.411, 0.1195, -0.185, 1.0345, 3.4943, 3.4507, 3.4455, 3.4227, 3.4086, 3.4072, 3.4014, 3.3991, 3.3989, 3.391, 3.3895, 3.3892, 3.3776, 3.3638, 3.3626, 3.3622, 3.3554, 3.3519, 3.3517, 3.35, 3.3457, 3.3456, 3.3455, 3.3434, 3.342, 3.3403, 3.3393, 3.3371, 3.3346, 3.3326, 3.2885, 3.0634, 3.2629, 3.1557, 3.2896, 3.2105, 3.1483, 2.9836, 3.2403, 3.0676, 3.0183, 2.7445, 2.5425, 2.7783, 2.4079, 2.7272, 1.9515, 2.4281, 1.9468, 2.1325, 2.4372, 1.0366, 1.826, 2.6954, 1.4738, 1.5068, 1.408, 1.9566, 2.3458, -0.2027, 2.3514, -0.2014, -0.0607, -0.1032, -0.0634, -0.0652, 0.7942, 1.4458, 1.8978, -0.3874, 0.1859, -0.0632, 0.6722, -0.1416, -0.3349, -0.0427, -0.1197, -0.0803, 0.3524, -0.1073, -1.4421]}, \"token.table\": {\"Topic\": [2, 3, 6, 8, 1, 2, 3, 4, 5, 2, 6, 2, 3, 6, 8, 2, 3, 8, 3, 8, 2, 6, 2, 3, 5, 6, 1, 2, 3, 5, 6, 7, 1, 1, 2, 3, 5, 7, 8, 2, 6, 5, 2, 1, 2, 3, 4, 6, 7, 2, 3, 6, 5, 1, 2, 1, 1, 4, 7, 1, 2, 4, 5, 6, 7, 1, 4, 5, 8, 1, 2, 3, 4, 5, 6, 7, 8, 1, 2, 3, 4, 5, 6, 7, 8, 1, 2, 3, 4, 5, 6, 7, 8, 1, 2, 3, 4, 5, 7, 1, 6, 1, 3, 8, 1, 2, 3, 4, 5, 6, 8, 2, 3, 3, 1, 2, 3, 4, 5, 6, 7, 8, 1, 2, 3, 4, 5, 6, 7, 8, 1, 2, 3, 4, 5, 6, 7, 1, 2, 3, 4, 5, 6, 7, 8, 4, 2, 3, 5, 7, 3, 7, 2, 3, 5, 6, 7, 8, 6, 8, 1, 2, 3, 4, 5, 6, 7, 2, 3, 4, 7, 8, 1, 2, 3, 4, 5, 6, 7, 8, 5, 1, 2, 3, 4, 5, 6, 7, 8, 4, 4, 5, 7, 4, 5, 7, 3, 4, 5, 6, 1, 2, 3, 4, 5, 6, 1, 2, 3, 4, 5, 6, 7, 8, 2, 3, 5, 6, 7, 2, 3, 1, 3, 4, 5, 6, 7, 5, 1, 2, 3, 4, 5, 6, 8, 1, 4, 5, 1, 2, 3, 4, 5, 6, 7, 6, 1, 3, 5, 7, 8, 1, 2, 3, 7, 1, 7, 2, 3, 5, 1, 1, 2, 2, 3, 6, 2, 6, 1, 2, 3, 4, 5, 6, 7, 1, 2, 5, 6, 7, 3, 1, 2, 3, 4, 5, 6, 7, 8, 1, 2, 3, 4, 5, 6, 3, 7, 7, 6, 1, 2, 3, 4, 5, 6, 7, 8, 7, 2, 2, 3, 6, 8, 1, 2, 3, 4, 5, 6, 7, 8, 1, 2, 3, 4, 6, 7, 8, 6, 1, 2, 3, 4, 5, 6, 7, 8, 1, 2, 3, 4, 5, 6, 7, 1, 2, 3, 4, 5, 6, 7, 8, 6, 2, 3, 6, 7, 8, 6, 2, 3, 2, 2, 6, 1, 2, 3, 4, 5, 6, 7, 8, 1, 2, 3, 4, 5, 6, 7, 8, 2, 3, 5, 7, 8, 1, 2, 3, 4, 5, 6, 7, 8, 1, 2, 3, 4, 5, 6, 7, 8, 8, 1, 2, 3, 4, 5, 6, 7, 8, 1, 2, 3, 4, 5, 6, 7, 8, 4, 1, 1, 2, 3, 4, 5, 6, 7, 8, 5, 2, 1, 2, 3, 4, 5, 6, 7, 7, 1, 2, 3, 4, 5, 6, 7, 1, 4, 5, 8, 1, 2, 3, 4, 5, 6, 7, 8, 1, 2, 3, 4, 5, 6, 7, 8, 6, 6, 1, 2, 3, 4, 5, 6, 7, 8, 1, 2, 3, 4, 5, 6, 7, 1, 2, 4, 7, 1, 2, 3, 6, 3, 1, 2, 3, 4, 5, 6, 7, 8, 1, 2, 3, 4, 5, 6, 7, 2, 3, 7, 1, 2, 3, 4, 5, 6, 7, 8, 3, 1, 2, 3, 4, 5, 6, 7, 8, 2, 8, 1, 2, 3, 4, 5, 6, 7, 8, 3, 2, 3, 4, 2, 8, 1, 3, 4, 6, 7, 8, 1, 2, 3, 4, 5, 6, 7, 8, 1, 2, 3, 4, 5, 6, 7, 8, 3, 6, 1, 2, 3, 4, 5, 6, 7, 8, 1, 8, 6, 1, 2, 3, 4, 5, 6, 7, 8, 5, 8, 5, 3, 6, 4, 4, 2, 3, 1, 2, 3, 4, 5, 6, 7, 8, 1, 3, 4, 5, 6, 8, 1, 2, 3, 4, 5, 6, 7, 8, 2, 3, 4, 5, 6, 7, 8, 7, 8, 1, 2, 3, 4, 5, 6, 7, 8, 6, 7, 6, 1, 1, 2, 3, 4, 5, 6, 7, 8, 1, 2, 3, 4, 5, 6, 7, 8, 1, 2, 3, 4, 5, 6, 7, 8, 1, 2, 3, 5, 6, 7, 2, 3, 6, 7, 8, 2, 3, 5, 6, 7, 7, 1, 3, 4, 5, 7, 1, 2, 3, 2, 7, 7, 1, 2, 3, 4, 5, 6, 7, 1, 2, 3, 6, 1, 2, 3, 4, 5, 6, 7, 8, 2, 3, 6, 7, 8, 3, 1, 1, 3, 4, 5, 7, 7, 1, 7, 6, 2, 3, 7, 1, 3, 4, 5, 6, 7, 3, 3, 6, 1, 2, 3, 4, 5, 6, 7, 8, 2, 6, 1, 3, 5, 7, 5, 8, 2, 3, 4, 1, 2, 3, 4, 5, 6, 7, 8, 1, 2, 3, 4, 5, 6, 7, 8, 1, 2, 3, 4, 5, 6, 7, 8, 1, 7, 1, 2, 3, 6, 7, 8, 1, 2, 3, 4, 6, 1, 2, 8, 1, 2, 3, 4, 5, 6, 7, 8, 1, 2, 3, 4, 5, 6, 7, 8, 6, 3, 6, 8, 1, 2, 3, 5, 6, 7, 8, 1, 2, 3, 4, 5, 6, 7, 1, 2, 3, 4, 5, 6, 7, 8, 1, 4, 1, 2, 3, 4, 5, 6, 7, 8, 1, 3, 4, 6, 7, 1, 2, 3, 4, 5, 6, 7, 1, 2, 4, 6, 1, 2, 4, 5, 7, 4, 2, 8, 1, 2, 3, 4, 5, 6, 7, 8, 1, 4, 5, 7, 2, 2, 1, 2, 3, 4, 5, 6, 7, 8, 1, 2, 3, 4, 5, 6, 7, 7, 5, 8, 1, 2, 3, 4, 5, 6, 7, 8, 1, 2, 3, 4, 5, 6, 7, 8, 3, 2, 3, 1, 1, 4, 5, 6, 7, 8, 2, 7, 1, 8, 2, 7, 1, 2, 3, 4, 5, 6, 7, 8, 1, 2, 3, 4, 5, 6, 7, 8, 1, 2, 3, 4, 5, 6, 7, 6, 1, 4, 5, 1, 2, 3, 4, 5, 6, 7, 8, 1, 2, 2, 1, 2, 3, 4, 5, 6, 7, 8, 1, 2, 3, 4, 5, 6, 7, 8, 4, 2, 5, 6, 1, 2, 3, 4, 5, 6, 7, 8, 1, 3, 1, 2, 3, 5, 6, 7, 8, 1, 2, 3, 4, 5, 6, 7, 8, 6, 7, 4, 5, 4, 1, 1, 2, 3, 4, 5, 6, 1, 2, 3, 4, 5, 6, 7, 8, 2, 6, 3, 5, 8, 1, 2, 3, 4, 5, 6, 7, 8, 5, 5, 3, 4, 1, 3, 5, 4, 1, 4, 1, 2, 3, 4, 5, 6, 7, 8, 2, 3, 8, 2, 3, 5, 6, 1, 3, 5, 1, 2, 3, 4, 5, 6, 7, 8, 1, 2, 3, 4, 5, 6, 7, 8, 1, 2, 3, 4, 5, 6, 7, 8, 1, 2, 4, 7, 1, 2, 4, 5, 7, 3, 6, 1, 2, 3, 4, 5, 6, 7, 8, 1, 2, 3, 4, 5, 6, 7, 8, 1, 2, 3, 4, 5, 6, 7, 8, 1, 1, 2, 3, 4, 5, 6, 7, 8, 1, 2, 3, 4, 5, 6, 7, 8, 3, 1, 2, 3, 4, 5, 6, 7, 8, 5, 1, 2, 3, 4, 5, 6, 7, 8, 8, 1, 5, 7, 1, 4, 5, 5, 7, 3, 8, 2, 3, 6, 2, 3, 4, 5, 6, 7, 8, 2, 3, 1, 2, 3, 4, 5, 6, 7, 2, 3, 2, 4, 5, 6, 8, 2, 3, 4, 6, 5, 1, 2, 3, 4, 5, 6, 8, 3, 1, 2, 3, 4, 5, 6, 7, 8, 3, 8, 2, 3, 8, 8, 1, 2, 3, 4, 5, 6, 7, 8, 2, 2, 7, 1, 2, 3, 4, 5, 6, 7, 8, 8, 4, 6, 1, 2, 3, 4, 5, 6, 7, 8, 8, 1, 2, 3, 4, 5, 6, 7, 8, 1, 2, 6, 1, 2, 3, 4, 5, 6, 7, 8, 7, 1, 2, 3, 4, 5, 6, 7, 1, 2, 3, 4, 5, 6, 7, 8, 5, 8, 1, 2, 3, 4, 5, 6, 7, 8, 1, 2, 3, 4, 6, 7, 8, 1, 2, 3, 4, 5, 6, 7, 8, 1, 3, 4, 2, 3, 4, 5, 7, 8, 1, 2, 3, 4, 5, 6, 7, 1, 4, 5, 8, 1, 6, 1, 4, 6, 1, 2, 3, 4, 5, 6, 7, 8, 5, 1, 2, 3, 4, 5, 6, 7, 8, 2, 3, 6, 7, 8, 2, 3, 7, 8, 1, 8, 1, 2, 3, 4, 5, 6, 7, 8, 6, 1, 4, 6, 7, 1, 2, 4, 5, 6, 2, 5, 4, 1, 2, 3, 4, 5, 6, 7, 8, 3, 6, 1, 2, 4, 5, 6, 7, 1, 2, 3, 4, 5, 6, 7, 1, 2, 3, 4, 5, 6, 7, 5, 1, 4, 3, 1, 2, 3, 4, 5, 6, 7, 3, 8, 1, 2, 3, 4, 5, 6, 7, 8, 3, 8, 1, 2, 3, 4, 5, 6, 7, 8, 2, 3, 8, 8, 1, 5, 1, 2, 3, 4, 6, 7, 8, 2, 3, 5, 6, 7, 8, 1, 2, 4, 5, 6, 7, 2, 3, 7, 5, 1, 2, 3, 4, 5, 6, 7, 8, 8, 1, 2, 3, 4, 5, 6, 7, 8, 1, 2, 3, 4, 5, 6, 7, 8, 5, 5, 6, 2, 3, 4, 6, 7, 8, 5, 1, 2, 3, 4, 5, 6, 7, 8, 1, 2, 3, 4, 5, 6, 7, 8, 3, 2, 2, 3, 6, 2, 3, 4, 1, 2, 3, 4, 5, 6, 7, 8, 4, 1, 2, 3, 4, 5, 6, 7, 8, 1, 2, 3, 4, 5, 6, 7, 8, 3, 8, 2, 2, 3, 8, 7, 1, 2, 3, 4, 5, 6, 7, 8, 1, 2, 3, 4, 5, 6, 1, 2, 3, 4, 5, 6, 7, 8, 6, 1, 2, 3, 4, 5, 6, 7, 8, 2, 3, 2, 4, 6, 8, 4, 8, 1, 6, 8, 1, 2, 3, 4, 5, 6, 7, 8, 1, 2, 3, 4, 5, 6, 7, 8, 1, 3, 1, 2, 3, 4, 5, 6, 7, 8, 4, 5, 6, 8, 6, 1, 2, 3, 4, 5, 6, 7, 8, 8, 1, 2, 3, 4, 5, 6, 7, 8, 1, 2, 3, 4, 5, 6, 7, 8, 7, 1, 3, 4, 5, 6, 7, 1, 2, 3, 4, 5, 6, 7, 8, 7, 1, 2, 3, 4, 5, 6, 7, 8, 2, 3, 4, 5, 6, 8, 1, 2, 3, 4, 5, 6, 8, 5, 2, 5, 1, 4, 5, 1, 4, 1, 2, 4, 5, 6, 7, 1, 2, 3, 4, 5, 6, 7, 8, 2, 3, 4, 1, 2, 3, 4, 5, 6, 8, 7, 5, 2, 3, 5, 6, 7, 8, 2, 4, 7, 1, 2, 3, 4, 5, 6, 7, 8, 1, 2, 3, 4, 5, 6, 7, 8, 2, 2, 3, 4, 5, 6, 7, 7, 2, 3, 4, 6, 7, 2, 1, 2, 3, 5, 6, 7, 8, 7, 1, 2, 3, 4, 5, 6, 7, 8, 1, 2, 3, 4, 5, 6, 7, 8, 2, 3, 7, 8, 6, 3, 1, 2, 3, 4, 5, 6, 7, 8, 5, 7, 1, 2, 3, 4, 5, 6, 7, 8, 1, 2, 3, 4, 6, 8, 8, 1, 2, 3, 4, 5, 6, 7, 1, 4, 1, 2, 3, 4, 5, 6, 7, 8, 1, 2, 3, 4, 5, 6, 7, 8, 1, 2, 3, 4, 5, 6, 7, 8, 1, 1, 4, 5, 6, 8, 6, 1, 2, 3, 4, 5, 6, 7, 8, 3, 2, 3, 5, 6, 7, 8, 1, 2, 3, 4, 5, 6, 7, 8, 1, 2, 3, 4, 5, 6, 7, 8, 1, 2, 3, 4, 5, 6, 7, 8, 1, 2, 3, 4, 5, 6, 7, 8, 1, 4, 1, 2, 3, 4, 8, 1, 2, 3, 4, 5, 7, 1, 2, 3, 4, 5, 6, 7, 8, 1, 2, 3, 4, 5, 6, 7, 8, 2, 1, 2, 3, 4, 5, 6, 7, 8, 2, 3, 6, 7, 8, 1, 4, 6, 5, 1, 2, 3, 4, 5, 6, 7, 1, 2, 3, 4, 5, 6, 7, 8, 1, 2, 3, 4, 5, 6, 7, 8, 1, 2, 3, 4, 5, 6, 7, 8, 6, 8, 1, 2, 3, 6, 1, 2, 3, 4, 4, 3, 1, 2, 3, 4, 5, 6, 7, 8, 1, 2, 3, 4, 5, 6, 7, 8, 2, 3, 4, 6, 6, 1, 5, 8, 2, 3, 4, 5, 6, 4, 4, 1, 2, 3, 4, 5, 6, 1, 2, 3, 4, 5, 6, 8, 3, 8, 2, 3, 5, 6, 8, 8, 7, 1, 2, 3, 4, 5, 6, 7, 8, 1, 2, 3, 4, 5, 6, 7, 8, 1, 5, 7, 1, 2, 3, 4, 5, 6, 7, 8, 1, 2, 3, 4, 5, 6, 7, 8, 1, 2, 7, 8, 1, 2, 3, 4, 5, 6, 7, 8, 1, 2, 5, 6, 1, 2, 3, 4, 5, 6, 7, 8, 1, 2, 3, 4, 5, 6, 7, 8, 1, 2, 3, 4, 5, 6, 7, 8, 1, 2, 3, 4, 5, 6, 7, 8, 1, 2, 3, 4, 5, 6, 7, 8, 3, 1, 2, 3, 4, 5, 6, 7, 4, 4, 6, 3, 1, 2, 4, 7, 1, 2, 3, 4, 5, 6, 7, 8, 1, 2, 3, 8, 1, 2, 3, 4, 5, 6, 7, 8, 2, 3, 4, 5, 6, 2, 4, 6, 7, 1, 4, 5, 6, 8, 1, 2, 3, 4, 5, 6], \"Freq\": [0.03168899828187083, 0.5070239725099333, 0.03168899828187083, 0.4119569776643207, 0.9042523625592213, 0.007863064022254097, 0.05504144815577868, 0.007863064022254097, 0.015726128044508195, 0.23880239803846165, 0.7164071941153849, 0.04023257253992145, 0.7644188782585075, 0.01341085751330715, 0.1609302901596858, 0.039058782385619314, 0.8983519948692442, 0.039058782385619314, 0.9247274065816349, 0.05137374481009083, 0.046674282722613716, 0.9334856544522744, 0.02029494832507779, 0.8929777263034228, 0.02029494832507779, 0.04058989665015558, 0.14284666404747912, 0.028569332809495824, 0.014284666404747912, 0.7570873194516393, 0.028569332809495824, 0.028569332809495824, 0.9256182679100996, 0.006762822829481352, 0.730384865583986, 0.04057693697688811, 0.08791669678325757, 0.006762822829481352, 0.12173081093066433, 0.08651876817750696, 0.8651876817750696, 0.9510662512349526, 0.9535662707202371, 0.060350989853892784, 0.3696498128550933, 0.037719368658682986, 0.007543873731736598, 0.505439540026352, 0.015087747463473196, 0.13566278133517237, 0.05426511253406895, 0.7868441317439998, 0.9801413225039219, 0.9519353497436461, 0.021634894312355595, 0.976330904552571, 0.026270383650444984, 0.9457338114160194, 0.9532420801603818, 0.021065623367223604, 0.014043748911482403, 0.007021874455741202, 0.9339093026135799, 0.007021874455741202, 0.007021874455741202, 0.014162586614800533, 0.9347307165768352, 0.028325173229601066, 0.014162586614800533, 0.2957994556507791, 0.2607570114273418, 0.10409667254609298, 0.12058723453359287, 0.068023568198437, 0.07729950931640568, 0.0608089473289058, 0.013398581614843651, 0.08986201190432798, 0.07702458163228112, 0.18828231065668719, 0.2396320317448746, 0.11553687244842169, 0.06846629478424988, 0.1968405975047184, 0.02567486054409371, 0.807802068517075, 0.024294799053145116, 0.024294799053145116, 0.021257949171501974, 0.04858959810629023, 0.006073699763286279, 0.06377384751450593, 0.0030368498816431395, 0.8509420182700796, 0.014504693493239993, 0.009669795662159995, 0.01933959132431999, 0.03867918264863998, 0.06285367180403997, 0.9374477543225378, 0.9514430846173436, 0.22011233900168992, 0.30815727460236586, 0.44022467800337983, 0.024576389127971575, 0.004096064854661929, 0.004096064854661929, 0.9134224625896102, 0.024576389127971575, 0.008192129709323858, 0.020480324273309647, 0.03520021162579418, 0.9504057138964429, 0.9360630722951566, 0.0028331495494237106, 0.0028331495494237106, 0.005666299098847421, 0.8697769116730791, 0.09916023422982988, 0.005666299098847421, 0.008499448648271131, 0.0028331495494237106, 0.004584658818441249, 0.0030564392122941655, 0.006112878424588331, 0.7366018501628939, 0.22617650170976827, 0.012225756849176662, 0.009169317636882498, 0.0015282196061470828, 0.0017504590868542478, 0.0035009181737084955, 0.007001836347416991, 0.7176882256102416, 0.2573174857675744, 0.007001836347416991, 0.005251377260562743, 0.297171333955658, 0.2695809586560998, 0.06610194082185816, 0.13795187649779095, 0.07414913361756263, 0.08277112589867457, 0.04598395883259698, 0.026440776328743264, 0.9591345132387827, 0.03229488943228694, 0.9042569041040344, 0.03229488943228694, 0.03229488943228694, 0.9589387958066035, 0.02040295310226816, 0.043926371209729906, 0.7138035321581109, 0.010981592802432476, 0.010981592802432476, 0.05490796401216238, 0.15374229923405466, 0.8645888281643005, 0.07859898437857278, 0.208239812950051, 0.15079434730865762, 0.007180683205174173, 0.14361366410348345, 0.014361366410348346, 0.43084099231045037, 0.03590341602587086, 0.16840762863826733, 0.4547005973233218, 0.01684076286382673, 0.01684076286382673, 0.3199744944127079, 0.5777845506509464, 0.031091545326508322, 0.0077728863316270805, 0.2098679309539312, 0.11659329497440621, 0.0077728863316270805, 0.04404635587922012, 0.0025909621105423605, 0.9280909575109575, 0.08308043478202215, 0.15692971014381962, 0.5215605072426946, 0.018462318840449368, 0.07846485507190981, 0.09692717391235918, 0.013846739130337026, 0.027693478260674052, 0.933719586556878, 0.1526794504827509, 0.8142904025746714, 0.025446575080458483, 0.0652501141010418, 0.8645640118388037, 0.048937585575781345, 0.012552493949099847, 0.903779564335189, 0.06276246974549923, 0.012552493949099847, 0.01269408458442567, 0.01269408458442567, 0.01269408458442567, 0.9393622592474996, 0.01269408458442567, 0.01269408458442567, 0.12664494852577662, 0.18563026701723423, 0.15960733238865, 0.38340457019447444, 0.06245504310860217, 0.045106420022879345, 0.02775779693715652, 0.010409173851433695, 0.39683880838005114, 0.17160597119137347, 0.010725373199460842, 0.010725373199460842, 0.40756418157951196, 0.06064466199071081, 0.9096699298606622, 0.012138116404893777, 0.012138116404893777, 0.23062421169298178, 0.7161488678887329, 0.012138116404893777, 0.036414349214681334, 0.9555238303301796, 0.07556856667301519, 0.1209097066768243, 0.16625084668063342, 0.045341140003809115, 0.030227426669206074, 0.5440936800457093, 0.045341140003809115, 0.9317478271606228, 0.9309665204329635, 0.044331739068236356, 0.07844430012424686, 0.00871603334713854, 0.01743206669427708, 0.06972826677710832, 0.7495788678539144, 0.06972826677710832, 0.00871603334713854, 0.9029203981596253, 0.023677089417589847, 0.023677089417589847, 0.8523752190332345, 0.04735417883517969, 0.023677089417589847, 0.9602894954428284, 0.06106163384228071, 0.06106163384228071, 0.8548628737919299, 0.03311849366805542, 0.9273178227055519, 0.14183143531172038, 0.8104653446384023, 0.020261633615960055, 0.9424422352410831, 0.9739570973663008, 0.011877525577637814, 0.05390422742539754, 0.8624676388063607, 0.05390422742539754, 0.9590755773066781, 0.018095765609559965, 0.04536146405435347, 0.06804219608153021, 0.13608439216306042, 0.022680732027176735, 0.11340366013588368, 0.06804219608153021, 0.5443375686522417, 0.9561547983550233, 0.14694930203107529, 0.05877972081243012, 0.6759667893429463, 0.08816958121864518, 0.9597892317750757, 0.12554073325469892, 0.14505044180103727, 0.10263803191769304, 0.49283220284445994, 0.032233431511341615, 0.06277036662734946, 0.014420219360337038, 0.02459919773233965, 0.009879095554819247, 0.7606903577210821, 0.09879095554819248, 0.019758191109638494, 0.019758191109638494, 0.08891185999337323, 0.9186629790104771, 0.03994186865262944, 0.9396984961772928, 0.8521853090980247, 0.4873328299551878, 0.19891135916538277, 0.08354277084946075, 0.059673407749614826, 0.08951011162442224, 0.059673407749614826, 0.015912908733230622, 0.005967340774961483, 0.8782156804330346, 0.9812089512085259, 0.05460956456934412, 0.09101594094890687, 0.8009402803503805, 0.036406376379562747, 0.3203373560800504, 0.08515296807191212, 0.2757334204233345, 0.05676864538127475, 0.15003141993622612, 0.046631387277475685, 0.054741193760514936, 0.012164709724558874, 0.006130834490975815, 0.3617192349675731, 0.11648585532854049, 0.030654172454879076, 0.39237340742245214, 0.030654172454879076, 0.055177510418782334, 0.8605464876966623, 0.003843431998527073, 0.7648429677068875, 0.026904023989689514, 0.015373727994108292, 0.015373727994108292, 0.08455550396759562, 0.026904023989689514, 0.06149491197643317, 0.7021176543945128, 0.008510517022963791, 0.02978680958037327, 0.07659465320667412, 0.12340249683297498, 0.04680784362630085, 0.008510517022963791, 0.2376184398539724, 0.06198741909234063, 0.02754996404104028, 0.17563102076163178, 0.4545744066771646, 0.02066247303078021, 0.02066247303078021, 0.003443745505130035, 0.9499125094491025, 0.05754861845600287, 0.1726458553680086, 0.11509723691200574, 0.05754861845600287, 0.6330348030160315, 0.9103411789595117, 0.06960844189261413, 0.9049097446039838, 0.955443405458298, 0.04667205442888928, 0.9334410885777856, 0.2909760511073672, 0.36571095265494363, 0.04165551889537046, 0.11700300160317292, 0.06125811602260362, 0.09249975519413146, 0.02266550292836334, 0.008576136243164507, 0.23120584901753177, 0.1293794388284634, 0.05271014174492952, 0.0946386635874871, 0.38214852765073903, 0.05630401504572018, 0.04073056407562736, 0.01317753543623238, 0.07387359350494183, 0.2954943740197673, 0.012312265584156972, 0.5663642168712207, 0.03693679675247091, 0.04287037016085109, 0.04287037016085109, 0.1028888883860426, 0.12861111048255325, 0.2486481469329363, 0.02572222209651065, 0.4029814795120002, 0.008574074032170217, 0.0532661162736568, 0.1664566133551775, 0.6525099243522958, 0.0133165290684142, 0.0266330581368284, 0.0732409098762781, 0.0133165290684142, 0.0066582645342071, 0.7894840620796371, 0.04430328568350761, 0.7265738852095248, 0.07088525709361218, 0.017721314273403045, 0.017721314273403045, 0.09746722850371674, 0.008860657136701523, 0.017721314273403045, 0.04154223395451218, 0.1827858293998536, 0.008308446790902438, 0.016616893581804876, 0.02492534037270731, 0.0913929146999268, 0.5566659349904632, 0.0664675743272195, 0.9598250779857701, 0.9789437137073367, 0.5804297126817449, 0.043854689402620724, 0.03869531417878299, 0.20379532134159042, 0.04127500179070186, 0.025796876119188662, 0.06707187790989053, 0.002579687611918866, 0.967065701941765, 0.9554819874525918, 0.8314298795828214, 0.007293244557744048, 0.007293244557744048, 0.007293244557744048, 0.08751893469292858, 0.029172978230976192, 0.03646622278872024, 0.9192473850250439, 0.6917260163726298, 0.01448640871984565, 0.0289728174396913, 0.10502646321888096, 0.1376208828385337, 0.01448640871984565, 0.0036216021799614123, 0.04148603986413726, 0.0691433997735621, 0.8712068371468824, 0.8345233212156349, 0.020443485314407227, 0.010221742657203613, 0.010221742657203613, 0.8484046405479, 0.040886970628814454, 0.020443485314407227, 0.010221742657203613, 0.040886970628814454, 0.14719277155565547, 0.2288719973900076, 0.13272874198082227, 0.25950170707788967, 0.09614325540918535, 0.08423170164167566, 0.03488383603342123, 0.01531485484394103, 0.861471410103561, 0.8833473522109325, 0.015075595179003767, 0.14698705299528672, 0.6633261878761657, 0.011306696384252825, 0.03768898794750942, 0.06030238071601507, 0.04145788674226036, 0.02261339276850565, 0.051006406833790104, 0.3213403630528776, 0.51516470902128, 0.03060384410027406, 0.02040256273351604, 0.03060384410027406, 0.025503203416895052, 0.04129784565427021, 0.04129784565427021, 0.04129784565427021, 0.8672547587396743, 0.01986028204502061, 0.03972056409004122, 0.8738524099809067, 0.01986028204502061, 0.9370631651356695, 0.13072828503411904, 0.11438724940485416, 0.04902310688779464, 0.035016504919853315, 0.5579296450563295, 0.0560264078717653, 0.042019805903823974, 0.014006601967941325, 0.007622799849636867, 0.6936747863169549, 0.03811399924818434, 0.03049119939854747, 0.12196479759418988, 0.10671919789491614, 0.007622799849636867, 0.03826944782345696, 0.03826944782345696, 0.8801972999395101, 0.17508556747221715, 0.21576201244051005, 0.13440912250392428, 0.14325182793181404, 0.10080684187794321, 0.16447432095874945, 0.04775060931060468, 0.01945395194135746, 0.9132901221788132, 0.3150475526190248, 0.2506748555694644, 0.05528478687785771, 0.06058606781135092, 0.19311809114868106, 0.0840631690882494, 0.03180768560095923, 0.00833058432406075, 0.23138592790725757, 0.6941577837217727, 0.123700377728387, 0.07952167139682022, 0.2297292729241473, 0.14137186026101373, 0.13253611899470036, 0.05301444759788015, 0.05301444759788015, 0.20322204912520722, 0.9129756532132243, 0.9468741965901374, 0.026060757704315707, 0.017373838469543806, 0.9811790119782788, 0.8044399776620823, 0.02943549104253379, 0.02943549104253379, 0.2943549104253379, 0.17661294625520274, 0.02943549104253379, 0.44153236563800685, 0.12666427797221894, 0.1042174439011928, 0.206831542511598, 0.3591493451364182, 0.033670251106539206, 0.08337395512095423, 0.04649701343283986, 0.040083632269689536, 0.01667474460306071, 0.16674744603060712, 0.5302568783773306, 0.010004846761836427, 0.01667474460306071, 0.08337372301530356, 0.06336402949163071, 0.11338826330081284, 0.08931229739393239, 0.8484668252423576, 0.3071071260640636, 0.2538025361357843, 0.11932959336217067, 0.10660917985655857, 0.04391571329318464, 0.10206617503312568, 0.0442185802814135, 0.023017891105393328, 0.9378499717337456, 0.8348478806313742, 0.9654548843970281, 0.008759997394311533, 0.7095597889392342, 0.05255998436586921, 0.008759997394311533, 0.008759997394311533, 0.13139996091467301, 0.05255998436586921, 0.026279992182934604, 0.9102256240422438, 0.7163186647982611, 0.9306623523342246, 0.9142799590389347, 0.031526895139273606, 0.9648163468202706, 0.9504487682722212, 0.07522473835067374, 0.865084491032748, 0.04250718232399245, 0.007084530387332074, 0.021253591161996224, 0.7297066298952036, 0.04959171271132452, 0.09918342542264905, 0.04250718232399245, 0.007084530387332074, 0.04032280251186713, 0.010080700627966782, 0.9173437571449772, 0.020161401255933565, 0.010080700627966782, 0.010080700627966782, 0.09338374438988932, 0.1360734561109816, 0.07470699551191146, 0.520280861600812, 0.02134485586054613, 0.09338374438988932, 0.04535781870366053, 0.018676748877977864, 0.1982620867677266, 0.7585679841547801, 0.008620090729031592, 0.008620090729031592, 0.008620090729031592, 0.008620090729031592, 0.017240181458063185, 0.9488758567882197, 0.8412698289877953, 0.10677675227681836, 0.008213596328986028, 0.008213596328986028, 0.016427192657972055, 0.7885052475826586, 0.04106798164493014, 0.016427192657972055, 0.016427192657972055, 0.9404125974795815, 0.8375066429508028, 0.9651044801549377, 0.966195700877813, 0.044130830647896344, 0.013239249194368903, 0.15887099033242683, 0.02868503992113262, 0.7060932903663415, 0.011032707661974086, 0.017652332259158535, 0.019858873791553353, 0.18149040259611404, 0.1634913544047639, 0.13649278211773866, 0.10199460641765086, 0.19798953010485168, 0.1424924648481887, 0.043497699795762866, 0.03299825501747528, 0.5970152029507826, 0.00225288755830484, 0.04280486360779196, 0.056322188957621, 0.28836960746301954, 0.00901155023321936, 0.00225288755830484, 0.00225288755830484, 0.03572037782272293, 0.11906792607574308, 0.05953396303787154, 0.7025007638468842, 0.02381358521514862, 0.03572037782272293, 0.07141471035392563, 0.10712206553088846, 0.035707355176962816, 0.10712206553088846, 0.6427323931853307, 0.8290679497085455, 0.07272525874636364, 0.043635155247818184, 0.014545051749272727, 0.029090103498545454, 0.8828590723892981, 0.031557702892987934, 0.06311540578597587, 0.09467310867896381, 0.06311540578597587, 0.7573848694317105, 0.052593371990192116, 0.052593371990192116, 0.8677906378381699, 0.18273904638366, 0.7766409471305551, 0.8376283589302614, 0.010295882736658147, 0.8751500326159425, 0.04118353094663259, 0.020591765473316294, 0.03088764820997444, 0.010295882736658147, 0.9436164613074288, 0.025159623197394728, 0.9057464351062102, 0.025159623197394728, 0.025159623197394728, 0.0661053421323436, 0.15109792487392823, 0.20303783654934107, 0.45093286954562956, 0.05430081675156796, 0.028330860913861545, 0.0165263355330859, 0.030691765990016672, 0.06251862665112301, 0.145876795519287, 0.06251862665112301, 0.708544435379394, 0.020839542217041002, 0.909522500860373, 0.9417016522320215, 0.6252140295876206, 0.008683528188716953, 0.008683528188716953, 0.017367056377433906, 0.33865759935996115, 0.9559238497711673, 0.1945487966658483, 0.7781951866633932, 0.9671494703447063, 0.05167127547027676, 0.05167127547027676, 0.8784116829947048, 0.01997183539350107, 0.004992958848375267, 0.9386762634945502, 0.024964794241876337, 0.004992958848375267, 0.004992958848375267, 0.9531384016636798, 0.9707887984871229, 0.8910207481261374, 0.21769291298565, 0.2582288347140124, 0.08107184345672483, 0.09458381736617896, 0.23871153906702308, 0.07356519128480586, 0.03002660868767586, 0.004503991303151379, 0.9698735242761961, 0.013660190482763325, 0.15915759471958518, 0.022736799245655026, 0.022736799245655026, 0.7503143751066159, 0.10656030011896896, 0.7459221008327827, 0.01937314921252581, 0.8330454161386098, 0.11623889527515485, 0.20672380951680194, 0.148085805855786, 0.04770549450387737, 0.0556564102545236, 0.39158260071932677, 0.10336190475840097, 0.02087115384544635, 0.025840476189600243, 0.3048818779385201, 0.20155371010161582, 0.10205251144385612, 0.04975059932887985, 0.0892959475133741, 0.1849701769919892, 0.03826969179144604, 0.02678878425401223, 0.4627914825407059, 0.0914974564335493, 0.05038990354311411, 0.24797136743585102, 0.08221510578087039, 0.04375965307691489, 0.01326050093239845, 0.00795630055943907, 0.04094710722703765, 0.9417834662218659, 0.01754745915878285, 0.3334017240168742, 0.2807593465405256, 0.0350949183175657, 0.0350949183175657, 0.29830680569930845, 0.11685359578340351, 0.17528039367510526, 0.10224689631047808, 0.01460669947292544, 0.5842679789170175, 0.26913524198914374, 0.053827048397828745, 0.6459245807739449, 0.05141005207623601, 0.7377342472939866, 0.07197407290673041, 0.028275528641929802, 0.056551057283859604, 0.0411280416609888, 0.007711507811435401, 0.0051410052076236, 0.6529491096019697, 0.017664955870995175, 0.028787335493473617, 0.0438352608650621, 0.234224229696899, 0.015702182996440155, 0.005234060998813385, 0.0013085152497033462, 0.8873139238934967, 0.9630054567704199, 0.9291267752296374, 0.724220298346683, 0.04243343524948777, 0.021216717624743885, 0.08486687049897554, 0.04243343524948777, 0.7638018344907799, 0.021216717624743885, 0.04243343524948777, 0.2930060963616958, 0.028096474993587264, 0.02408269285164623, 0.012041346425823114, 0.6422051427105661, 0.0040137821419410375, 0.0040137821419410375, 0.32417834102100407, 0.08048565708107687, 0.031299977753752116, 0.11849277292491874, 0.34429975529127327, 0.044714253933931594, 0.040242828540538435, 0.011178563483482899, 0.9397772926864867, 0.9137623220774268, 0.17395951407286753, 0.21962388651699524, 0.11742267199918557, 0.07175829955505786, 0.1087246962955422, 0.11742267199918557, 0.13699311733238317, 0.0543623481477711, 0.008450328980848382, 0.02535098694254514, 0.9295361878933219, 0.008450328980848382, 0.016900657961696763, 0.012836860422367747, 0.91141708998811, 0.02139476737061291, 0.004278953474122582, 0.017115813896490327, 0.017115813896490327, 0.012836860422367747, 0.9133213785597559, 0.03223487218446197, 0.042979829579282626, 0.8532518116561706, 0.9072252834125164, 0.041237512882387105, 0.013745837627462369, 0.013745837627462369, 0.013745837627462369, 0.9465972177617997, 0.21115735367606933, 0.7390507378662426, 0.2509025550215944, 0.17015230742843762, 0.034607248968495784, 0.04902693603870236, 0.40663517537982546, 0.04037512379657841, 0.04325906121061973, 0.0028839374140413156, 0.22289774861158154, 0.007429924953719385, 0.7504224203256579, 0.007429924953719385, 0.9435633391012467, 0.9424966640113026, 0.272556339602746, 0.2983253026197329, 0.09712916829479676, 0.057484609807124616, 0.0267600769791787, 0.15362266413972958, 0.06838686339123445, 0.024777849054795093, 0.20076745070156723, 0.7440205525999256, 0.00590492502063433, 0.01180985004126866, 0.00590492502063433, 0.02361970008253732, 0.01180985004126866, 0.919469264984637, 0.9522058249978038, 0.84242746083109, 0.24382936771215868, 0.10279081187865513, 0.3442296955936358, 0.07888597190687487, 0.09561935988712106, 0.07649548790969685, 0.03107629196331434, 0.02629532396895829, 0.14061787863468464, 0.08286410705258201, 0.4394308707333895, 0.05775377158210262, 0.09290824124077378, 0.08537514059962996, 0.05524273803505468, 0.04519860384686292, 0.9112205917933142, 0.9256855116472458, 0.029860822956362765, 0.9537181591152897, 0.16642864459841888, 0.06657145783936755, 0.016642864459841887, 0.016642864459841887, 0.599143120554308, 0.11650005121889322, 0.11393259547372306, 0.8544944660529229, 0.36123917509096454, 0.5676615608572301, 0.046634152127649514, 0.9326830425529903, 0.9331537198240706, 0.014645910400826221, 0.008369091657614984, 0.019876592686835587, 0.006276818743211237, 0.002092272914403746, 0.014645910400826221, 0.001046136457201873, 0.8969458247730334, 0.014537209477682875, 0.00581488379107315, 0.018898372320987736, 0.03779674464197547, 0.002907441895536575, 0.020352093268756026, 0.0014537209477682876, 0.9431491620528685, 0.019247942082711602, 0.006415980694237201, 0.019247942082711602, 0.006415980694237201, 0.006415980694237201, 0.006415980694237201, 0.8905900745616884, 0.014388992254865713, 0.9496734888211371, 0.014388992254865713, 0.09937705340960241, 0.14328784445105464, 0.1294212788590171, 0.5269294924974267, 0.03466641398009387, 0.03697750824543346, 0.01848875412271673, 0.011555471326697955, 0.9805737183675001, 0.009338797317785714, 0.9365102981220326, 0.6692539744376406, 0.003346269872188203, 0.026770158977505624, 0.18739111284253937, 0.010038809616564608, 0.013385079488752812, 0.08700301667689328, 0.003346269872188203, 0.6763338166501326, 0.017505110548591666, 0.006365494744942424, 0.20687857921062877, 0.011139615803649241, 0.009548242117413636, 0.06683769482189546, 0.003182747372471212, 0.9152691660976963, 0.9415761122777586, 0.048121980793060376, 0.9143176350681471, 0.006354359489337885, 0.34948977191358366, 0.3367810529349079, 0.006354359489337885, 0.006354359489337885, 0.019063078468013653, 0.27323745804152905, 0.006354359489337885, 0.9466156723471186, 0.02868532340445814, 0.010081109920327215, 0.12097331904392658, 0.1310544289642538, 0.02016221984065443, 0.10081109920327215, 0.4637310563350519, 0.14113553888458102, 0.1066390783028257, 0.12099433884359069, 0.13329884787853213, 0.4757743493510685, 0.022558266564059282, 0.09843607227953141, 0.032812024093177135, 0.010253757529117856, 0.10822877987223667, 0.8658302389778934, 0.9284099554215661, 0.981813723841839, 0.9342417272119102, 0.9247668268796163, 0.04768033849173339, 0.023840169245866696, 0.09536067698346679, 0.1668811847210669, 0.023840169245866696, 0.6436845696384008, 0.4281232690680067, 0.04152366154840199, 0.017182204778649096, 0.1403213390256343, 0.2963930324316969, 0.02147775597331137, 0.04581921274306426, 0.008591102389324548, 0.9249388945061017, 0.028904340453315677, 0.053896788867509794, 0.9162454107476665, 0.8350152860878012, 0.22408459671663364, 0.13193765974904598, 0.07469486557221122, 0.07260061700476604, 0.30226987656792015, 0.12007025120018999, 0.053752379897759474, 0.020244402818636684, 0.9575442783455798, 0.8773327402555511, 0.022805201046400502, 0.9578184439488211, 0.07225218585860584, 0.043351311515163506, 0.8670262303032701, 0.9678338665196815, 0.029381737642956617, 0.95490647339609, 0.15053258968439462, 0.0725782128835474, 0.12096368813924568, 0.4892309164742826, 0.07795437680084721, 0.03225698350379885, 0.037633147421098655, 0.016128491751899426, 0.053987426362423444, 0.16196227908727034, 0.7558239690739282, 0.27971872545326876, 0.13985936272663438, 0.015539929191848264, 0.5594374509065375, 0.05712526950189025, 0.8949625555296139, 0.019041756500630082, 0.011103670356003726, 0.16433432126885514, 0.6773238917162273, 0.013324404427204471, 0.00888293628480298, 0.0688427562072231, 0.00444146814240149, 0.05107688363761714, 0.5898166170929257, 0.04327458875410053, 0.019233150557378013, 0.05609668912568587, 0.21477018122405447, 0.049685638939893195, 0.020835913103826178, 0.006411050185792671, 0.2804484013471236, 0.07605380375515217, 0.05228699008166711, 0.11645738700007675, 0.35650220510227576, 0.05941703418371263, 0.05228699008166711, 0.007130044102045515, 0.9213871766098537, 0.03521224878763772, 0.029343540656364766, 0.005868708131272954, 0.8897005070367189, 0.05433285539155535, 0.04074964154366651, 0.006791606923944419, 0.8376067116223131, 0.9379453008095607, 0.06699609291496862, 0.2286393454019512, 0.2679594876048345, 0.08592179222111541, 0.07572768127962715, 0.16747467975302158, 0.11796042660864997, 0.04805795158130184, 0.008737809378418516, 0.23368624595476067, 0.2747506768562313, 0.09186578871772294, 0.09271247801466048, 0.05037801316778355, 0.18584830067778974, 0.04529787738615832, 0.02540067890812616, 0.360499194537071, 0.06476033434797683, 0.03669752279718687, 0.13383802431915212, 0.31516696049348725, 0.053966945289980695, 0.023745455927591506, 0.012952066869595366, 0.9785658722641806, 0.1112345058834833, 0.24075413602178578, 0.1493285147476899, 0.044189050282479665, 0.2346590946035127, 0.19047004432103304, 0.022856405318523964, 0.0060950414182730575, 0.11164105602673542, 0.24358048587651365, 0.06089512146912841, 0.07104430838064982, 0.09134268220369261, 0.020298373823042802, 0.34507235499172767, 0.05074593455760701, 0.960407935737939, 0.004840225895477343, 0.15972745455075232, 0.46466168596582497, 0.004840225895477343, 0.05324248485025078, 0.13552632507336562, 0.004840225895477343, 0.17424813223718436, 0.9632523483039188, 0.1482264046731766, 0.1690516020239535, 0.1390388176066574, 0.35709088398538, 0.09371338807849595, 0.06676313268337293, 0.018987679937473037, 0.006125058044346141, 0.7560220836824061, 0.9531914533607762, 0.9652514105896652, 0.012700676455127175, 0.11335272810020049, 0.01619324687145721, 0.842048837315775, 0.9526857165749293, 0.02323623698963242, 0.14380016451003375, 0.76693421072018, 0.044931932347025555, 0.8986386469405111, 0.044931932347025555, 0.3048674553955233, 0.3674043693228101, 0.007817114240910854, 0.007817114240910854, 0.04690268544546512, 0.031268456963643415, 0.23451342722732563, 0.9593306502730082, 0.02740944715065738, 0.038382448439085955, 0.012794149479695318, 0.006397074739847659, 0.6972811466433948, 0.10235319583756254, 0.019191224219542977, 0.1279414947969532, 0.9722288513781843, 0.9322946334325521, 0.9486614692110521, 0.9271040757023558, 0.029906583087172766, 0.014953291543586383, 0.014953291543586383, 0.3371782136411397, 0.06743564272822794, 0.10115346409234191, 0.4832887728856336, 0.9670992414650984, 0.8957891350766015, 0.017478812391738565, 0.0524364371752157, 0.008739406195869283, 0.013109109293803925, 0.008739406195869283, 0.8059737039805996, 0.9224832760956365, 0.004089394385205398, 0.1676651697934213, 0.5520682420027287, 0.01635757754082159, 0.008178788770410795, 0.01635757754082159, 0.03271515508164318, 0.1962909304898591, 0.1772995734131637, 0.7091982936526549, 0.9448407154803256, 0.02863153683273714, 0.8156695482400868, 0.8899992443046537, 0.003499213727101128, 0.39891036488952863, 0.24144574716997785, 0.003499213727101128, 0.06648506081492143, 0.15746461771955078, 0.003499213727101128, 0.1259716941756406, 0.9541353493098861, 0.07384515813292311, 0.8122967394621542, 0.12967540860100274, 0.006483770430050138, 0.019451311290150413, 0.7326660585956656, 0.04538639301035096, 0.006483770430050138, 0.04538639301035096, 0.012967540860100275, 0.8496646645748914, 0.9461441470410497, 0.8614276212120023, 0.14046340977260244, 0.08469117353936323, 0.16731670869971763, 0.45444044338194906, 0.03511585244315061, 0.07849425840233666, 0.026853298927115174, 0.012393830274053157, 0.7560336807489876, 0.004309442696525934, 0.3605567056093365, 0.4740386966178528, 0.0014364808988419782, 0.028729617976839563, 0.06751460224557297, 0.0330390606733655, 0.03016609887568154, 0.01956114530020681, 0.8998126838095132, 0.03912229060041362, 0.23312841773210807, 0.3578595456906882, 0.08909366282755722, 0.03118278198964503, 0.08760876844709795, 0.16630817061144015, 0.016333838185052157, 0.019303626945970733, 0.883122557544528, 0.24177472989850352, 0.6838770931414814, 0.006907849425671529, 0.013815698851343058, 0.013815698851343058, 0.027631397702686116, 0.013815698851343058, 0.20388554045446133, 0.1808909306287702, 0.27900126588505236, 0.13030278901224973, 0.0904454653143851, 0.06745085548869398, 0.02299460982569113, 0.02452758381407054, 0.9490136571458625, 0.8354193621794015, 0.27867134615532524, 0.30929457100755875, 0.09186967455670063, 0.057163353057502614, 0.025519354043527953, 0.15515767258464994, 0.055121804734020376, 0.02654012820526907, 0.2412329049366219, 0.18556377302817068, 0.08659642741314631, 0.012370918201878045, 0.02474183640375609, 0.4391675961666706, 0.006185459100939023, 0.12303767846008817, 0.05858937069528008, 0.1542853428309042, 0.35153622417168046, 0.15233236380772822, 0.06640128678798408, 0.031247664370816042, 0.062495328741632085, 0.9104223748620116, 0.01937068882685131, 0.058112066480553934, 0.043245732586965284, 0.7640079423697199, 0.014415244195655093, 0.014415244195655093, 0.14415244195655094, 0.014415244195655093, 0.7832276778155981, 0.027007850959158558, 0.0067519627397896395, 0.14854318027537206, 0.02025588821936892, 0.0067519627397896395, 0.0067519627397896395, 0.014167961991677025, 0.9350854914506836, 0.02833592398335405, 0.014167961991677025, 0.9386588064210004, 0.9498969345096634, 0.9704598560976215, 0.9524839411435437, 0.02506536687219852, 0.33507476084443294, 0.19895063925138207, 0.06282651765833118, 0.01047108627638853, 0.01047108627638853, 0.04188434510555412, 0.01047108627638853, 0.3141325882916559, 0.977349723236576, 0.003034434861860877, 0.2366859192251484, 0.4612340990028533, 0.003034434861860877, 0.006068869723721754, 0.08192974127024368, 0.08799861099396543, 0.12137739447443507, 0.1579066984551365, 0.7474250393543127, 0.010527113230342434, 0.0631626793820546, 0.010527113230342434, 0.12135737904243657, 0.5374398214736477, 0.017336768434633797, 0.2947250633887745, 0.9747543532994613, 0.8969070393190696, 0.2723272838651397, 0.26506522296206936, 0.12027788370710338, 0.05809648722456314, 0.04856503228928325, 0.15704206702889725, 0.051742183934376546, 0.026324970773630173, 0.8966036635664127, 0.010258942028484834, 0.9643405506775744, 0.010258942028484834, 0.010258942028484834, 0.0513749414177936, 0.9247489455202849, 0.0064218676772242, 0.0064218676772242, 0.0064218676772242, 0.06884038513835201, 0.9293451993677522, 0.9486702258983162, 0.061037172801056847, 0.06462759473053079, 0.18311151840317055, 0.46855006179634817, 0.105917446919481, 0.04128985218895022, 0.03769943025947629, 0.03769943025947629, 0.8902019454619491, 0.945182879880778, 0.8569394251618058, 0.029297074364506178, 0.07324268591126545, 0.0073242685911265445, 0.014648537182253089, 0.021972805773379636, 0.8868463247377649, 0.00661825615475944, 0.00661825615475944, 0.01323651230951888, 0.04632779308331608, 0.00661825615475944, 0.0330912807737972, 0.934556514809024, 0.015839940928966508, 0.007919970464483254, 0.007919970464483254, 0.007919970464483254, 0.007919970464483254, 0.015839940928966508, 0.900766607678804, 0.9573859723805086, 0.026594054788347463, 0.9409560341489334, 0.8208330758106959, 0.019731564322372497, 0.003946312864474499, 0.13417463739213298, 0.007892625728948999, 0.003946312864474499, 0.003946312864474499, 0.88796889491169, 0.05549805593198062, 0.4118873485762489, 0.07789579390172584, 0.03894789695086292, 0.17980056537590142, 0.21928199516170765, 0.03521316710625962, 0.03201197009659966, 0.004801795514489948, 0.09062857609255774, 0.8156571848330196, 0.030354494481950073, 0.31872219206047575, 0.131536142755117, 0.005059082413658346, 0.09106348344585022, 0.4047265930926677, 0.010118164827316692, 0.010118164827316692, 0.06753309714210497, 0.8779302628473645, 0.033766548571052483, 0.8464350708027641, 0.9316846391597926, 0.9461652030112041, 0.1122604498362982, 0.19645578721352186, 0.31807127453617823, 0.009355037486358183, 0.15903563726808911, 0.018710074972716366, 0.18710074972716367, 0.042417745727973126, 0.752914986671523, 0.021208872863986563, 0.010604436431993281, 0.021208872863986563, 0.14846211004790594, 0.03665793066106924, 0.15885103286463337, 0.012219310220356414, 0.17107034308498978, 0.02443862044071283, 0.5865268905771078, 0.9330428507242496, 0.8897470039357998, 0.9443283923077482, 0.9587933289192292, 0.6966337022084181, 0.02069209016460648, 0.0344868169410108, 0.11380649590533565, 0.08276836065842592, 0.02069209016460648, 0.02069209016460648, 0.01034604508230324, 0.8764059211436065, 0.28434458886108227, 0.2938544413313526, 0.09890246569081124, 0.07702980500918952, 0.02852955741081093, 0.13313793458378434, 0.05991207056270296, 0.02472561642270281, 0.17288329168756897, 0.37688557587890037, 0.10891647376316844, 0.07261098250877897, 0.015559496251881208, 0.14349313210068224, 0.10200114209566569, 0.008644164584378448, 0.9365918967438019, 0.9223285154155483, 0.05425461855385578, 0.10382254230002474, 0.21629696312505156, 0.008651878525002063, 0.017303757050004125, 0.043259392625010315, 0.6056314967501444, 0.9243605315219826, 0.015737668866950747, 0.16367175621628777, 0.5539659441166663, 0.0188852026403409, 0.0377704052806818, 0.0755408105613636, 0.08498341188153404, 0.050360540374242396, 0.007556833770850925, 0.20781292869840046, 0.5403136146158412, 0.0037784168854254627, 0.03400575196882916, 0.1209093403336148, 0.07934675459393473, 0.007556833770850925, 0.9434758921817124, 0.9489239632283086, 0.03915989046199091, 0.07831978092398181, 0.8615175901637999, 0.9463425322097478, 0.016898973789459783, 0.016898973789459783, 0.08129474578778063, 0.02709824859592688, 0.046454140450160365, 0.7935915660235728, 0.007742356741693394, 0.007742356741693394, 0.02709824859592688, 0.011613535112540091, 0.9203622424919004, 0.4068524044503743, 0.20888207738065193, 0.11379396752826561, 0.0701469662845473, 0.043647001243718314, 0.10288221721733602, 0.04832346566268813, 0.007794107364949699, 0.13287661941818218, 0.13849112446402087, 0.13100511773623597, 0.4229593801198475, 0.09170358241536518, 0.052402047094494385, 0.020586518501408507, 0.011229010091677368, 0.0830764263640995, 0.8307642636409949, 0.9146855513807544, 0.3745939540263853, 0.04162155044737614, 0.5618909310395779, 0.9256887204487824, 0.33499340716286335, 0.16749670358143168, 0.2856033535426976, 0.012884361813956283, 0.05368484089148451, 0.09233792633335336, 0.038653085441868844, 0.015031755449615663, 0.09655141300873873, 0.02896542390262162, 0.7917215866716576, 0.009655141300873873, 0.07724113040699099, 0.8551565216440147, 0.5567874581446947, 0.059563309475944085, 0.051794182152994854, 0.08977658239852442, 0.16833109199723328, 0.03452945476866324, 0.03452945476866324, 0.006042654584516066, 0.893351304701918, 0.1898667287957983, 0.21592686804228042, 0.4392994901549843, 0.07445754070423463, 0.011168631105635195, 0.03350589331690558, 0.0037228770352117314, 0.03350589331690558, 0.9373717287343372, 0.8900686606524965, 0.027969213754590567, 0.13984606877295283, 0.7831379851285359, 0.027969213754590567, 0.12818846173678447, 0.7691307704207069, 0.06870832528749375, 0.8932082287374187, 0.8597584241143262, 0.10162035902858939, 0.30486107708576815, 0.0660532333685831, 0.03302661668429155, 0.2057812270328935, 0.22356478986289666, 0.04826967053857996, 0.012702544878573674, 0.009901862509029228, 0.02970558752708768, 0.08416583132674843, 0.5446024379966075, 0.1435770063809238, 0.04455838129063152, 0.024754656272573068, 0.11882235010835072, 0.928658216016753, 0.026533091886192944, 0.23229553622507254, 0.17923638867505595, 0.1382557462583765, 0.1440793112333783, 0.1757853872083882, 0.06362783954168653, 0.04335320592501354, 0.022862884716673804, 0.9421366832757639, 0.02990910105637346, 0.01495455052818673, 0.01495455052818673, 0.8965514085924156, 0.0033294404717612225, 0.039953285661134666, 0.8556662012426342, 0.006658880943522445, 0.006658880943522445, 0.039953285661134666, 0.006658880943522445, 0.039953285661134666, 0.8863825848754792, 0.17337696847270553, 0.10372981019734519, 0.06890623105966502, 0.11484371843277504, 0.45344745600553754, 0.03704636078476614, 0.040010069647547435, 0.008891126588343875, 0.08192256998831969, 0.16384513997663938, 0.416166655540664, 0.05570734759205739, 0.06553805599065575, 0.07209186158972132, 0.09830708398598363, 0.049153541992991816, 0.9413444270514532, 0.009079355618397355, 0.009079355618397355, 0.7989832944189672, 0.11803162303916562, 0.027238066855192065, 0.04539677809198678, 0.14939376532037768, 0.1557963552626796, 0.05762330948071711, 0.07683107930762281, 0.41830254289705754, 0.07256268601275488, 0.038415539653811406, 0.029878753064075537, 0.8837090250151274, 0.1424396184123595, 0.13081189446033015, 0.21801982410055026, 0.1511604113763815, 0.11046337754427879, 0.07267327470018342, 0.13662575643634484, 0.037790102844095376, 0.05579077244706648, 0.9205477453765969, 0.9342768723769856, 0.028746980688522637, 0.014373490344261318, 0.014373490344261318, 0.024696262056468625, 0.004116043676078104, 0.004116043676078104, 0.9055296087371829, 0.024696262056468625, 0.008232087352156208, 0.024696262056468625, 0.9089717090975279, 0.9489243531681022, 0.9241995108200124, 0.9434976140670761, 0.03253440048507159, 0.9475731496767753, 0.9565913722022409, 0.01804889381513662, 0.06553625027939768, 0.021845416759799226, 0.010922708379899613, 0.8301258368723706, 0.05461354189949807, 0.010922708379899613, 0.004392289720835766, 0.3645600468293686, 0.5534285048253066, 0.008784579441671532, 0.013176869162507298, 0.013176869162507298, 0.004392289720835766, 0.03953060748752189, 0.9389496803751682, 0.023473742009379208, 0.023473742009379208, 0.009692308570219868, 0.08723077713197881, 0.7366154513367099, 0.05815385142131921, 0.04846154285109934, 0.009692308570219868, 0.03876923428087947, 0.9414659737832081, 0.9016157043822834, 0.18671547684595644, 0.6362156988825182, 0.020746164093995156, 0.020746164093995156, 0.027661552125326876, 0.1037308204699758, 0.2184222161224499, 0.03640370268707498, 0.6916703510544248, 0.04095148821159805, 0.004095148821159806, 0.11056901817131475, 0.6429383649220894, 0.13104476227711379, 0.008190297642319612, 0.008190297642319612, 0.05323693467507747, 0.005981766406657172, 0.2377752146646226, 0.6221037062923459, 0.005981766406657172, 0.01719757841913937, 0.029161111232453713, 0.0037386040041607325, 0.07925840488820753, 0.9401583121596523, 0.9261639498809262, 0.017474791507187285, 0.017474791507187285, 0.008737395753593643, 0.017474791507187285, 0.008737395753593643, 0.883301214559944, 0.12338755947980559, 0.030846889869951398, 0.030846889869951398, 0.030846889869951398, 0.7403253568788335, 0.9704205906522005, 0.017533069472827137, 0.026299604209240702, 0.7188558483859125, 0.09643188210054925, 0.026299604209240702, 0.017533069472827137, 0.09643188210054925, 0.9301025991425736, 0.6162123408635813, 0.06799584450908483, 0.054184188593176974, 0.09561915634090054, 0.07543289000226598, 0.048872013240904726, 0.029748181972724615, 0.012749220845453406, 0.07123535375140445, 0.2801923914221908, 0.24220020275477513, 0.02374511791713482, 0.13297266033595498, 0.02374511791713482, 0.02849414150056178, 0.19470996692050552, 0.027710902663374025, 0.027710902663374025, 0.9144597878913429, 0.027710902663374025, 0.8455033232715174, 0.8623303622542353, 0.2705697908677891, 0.2742818764132313, 0.0973391320804851, 0.08166588199972902, 0.046607296292774644, 0.15260796131262494, 0.05073183578771045, 0.026397052767589177, 0.9706842322571698, 0.009424118759778348, 0.01703219139648013, 0.3122568422688024, 0.09651575124672074, 0.039741779925120305, 0.011354794264320086, 0.40877259351552314, 0.05677397132160043, 0.05109657418944039, 0.057225370937008475, 0.1831211869984271, 0.34335222562205087, 0.011445074187401694, 0.03433522256220509, 0.35479729980945257, 0.7557456902697943, 0.040200284807611245, 0.6968049366652616, 0.0938006645510929, 0.020100142403805622, 0.07370052214728728, 0.06700047467935208, 0.9112777824048167, 0.9466791419856555, 0.02784350417604869, 0.09194423055151278, 0.18929694525311455, 0.3876080307563774, 0.08293009030136447, 0.025239592700415273, 0.16045169645263996, 0.03425373295056358, 0.028845248800474597, 0.2536468668413262, 0.21679436614794714, 0.06862189784284377, 0.11157412278892005, 0.24856376329741187, 0.06608034607088659, 0.02795706949152894, 0.0066080346070886585, 0.1897962745747471, 0.11387776474484826, 0.07402054708415137, 0.14044924318531285, 0.37579662365799926, 0.05693888237242413, 0.03416332942345448, 0.01708166471172724, 0.9414659641473204, 0.024679594274069662, 0.9378245824146471, 0.024679594274069662, 0.024679594274069662, 0.8989535171590436, 0.9461016029649193, 0.09583543711994552, 0.20317112669428453, 0.4216759233277603, 0.0076668349695956425, 0.015333669939191285, 0.11883594202873245, 0.08433518466555207, 0.053667844787169496, 0.9586127233374826, 0.15263684110742767, 0.7514429100673362, 0.011741295469802128, 0.011741295469802128, 0.011741295469802128, 0.05870647734901064, 0.21827180920600406, 0.10196639262178292, 0.05257642119560682, 0.06054254561918361, 0.4413232930661542, 0.054169646080322174, 0.054169646080322174, 0.01752547373186894, 0.14579126642297208, 0.24072511432630275, 0.11527681531118723, 0.06102890222356971, 0.037295440247737045, 0.3119255002538007, 0.05763840765559362, 0.030514451111784854, 0.21966094624551188, 0.2390427944436453, 0.07752739279253361, 0.05297705174156463, 0.2532561497889431, 0.10983047312275594, 0.03747157318305791, 0.010336985705671148, 0.3703419368555787, 0.19158381581922793, 0.056914020599017505, 0.07935898646905258, 0.15871797293810516, 0.0769541686972631, 0.04969956728364908, 0.01603211847859648, 0.959040569515874, 0.01809510508520517, 0.013868038527500947, 0.7627421190125521, 0.1594824430662609, 0.05547215411000379, 0.006934019263750473, 0.820451886577536, 0.036957292188177296, 0.007391458437635459, 0.05913166750108367, 0.007391458437635459, 0.05913166750108367, 0.3097882425398625, 0.18197943209308862, 0.13881221796868157, 0.0660204451314461, 0.1879043438356543, 0.045706462014078075, 0.054170621646314754, 0.016081903301249693, 0.22259364354849692, 0.06198810326667003, 0.05071753903636639, 0.48181662084548066, 0.0535351800939423, 0.047899897978790476, 0.045082256921214564, 0.03381169269091092, 0.9514238860472162, 0.005040458167387674, 0.8518374302885169, 0.010080916334775349, 0.03528320717171372, 0.020161832669550697, 0.03528320717171372, 0.040323665339101394, 0.005040458167387674, 0.13099451644354873, 0.09526873923167181, 0.023817184807917953, 0.7026069518335796, 0.035725777211876926, 0.1297092571021625, 0.08647283806810832, 0.7350191235789207, 0.9478287323217012, 0.021191475085449062, 0.01816412150181348, 0.0151367679181779, 0.8416042962506913, 0.05146501092180487, 0.012109414334542322, 0.03632824300362696, 0.008981347220323177, 0.0044906736101615885, 0.005987564813548785, 0.8906502660153818, 0.056881865728713454, 0.008981347220323177, 0.01197512962709757, 0.01197512962709757, 0.016195634914196122, 0.0032391269828392247, 0.006478253965678449, 0.9101946821778221, 0.038869523794070694, 0.012956507931356899, 0.0032391269828392247, 0.009717380948517674, 0.2048137605709427, 0.19389036000715906, 0.08329092929885003, 0.3413562676182378, 0.1065031554968902, 0.030039351550404925, 0.013654250704729512, 0.027308501409459025, 0.9439996580046501, 0.8609156058402179, 0.9230971095914093, 0.023669156656189985, 0.023669156656189985, 0.023669156656189985, 0.9483364634315858, 0.015295749410186868, 0.015295749410186868, 0.030591498820373736, 0.9691366077333479, 0.9461654340949572, 0.2608213593052683, 0.17920379108729317, 0.1587993990327994, 0.124200647288223, 0.0496802589152892, 0.1410564494201961, 0.059438881202221, 0.026614424418904926, 0.25857181747165064, 0.3734926252368287, 0.12312943689126221, 0.04104314563042074, 0.05848648252334955, 0.11594688640593857, 0.02052157281521037, 0.011286865048365702, 0.01989103664247672, 0.03978207328495344, 0.059673109927430155, 0.8553145756264988, 0.8696279217695579, 0.015520991694320975, 0.9467804933535795, 0.015520991694320975, 0.029749309841976393, 0.8627299854173154, 0.029749309841976393, 0.029749309841976393, 0.029749309841976393, 0.9306574428251092, 0.9471649135526495, 0.9046490938439068, 0.016752760997109387, 0.016752760997109387, 0.016752760997109387, 0.03350552199421877, 0.016752760997109387, 0.050608700146922946, 0.18345653803259568, 0.5756739641712485, 0.012652175036730736, 0.04428261262855758, 0.10121740029384589, 0.03163043759182684, 0.1556692123656601, 0.7783460618283005, 0.07431772870196762, 0.4310428264714122, 0.014863545740393523, 0.14863545740393524, 0.312134460548264, 0.783958761765452, 0.9040280503978483, 0.013642065822778665, 0.17150025605778893, 0.22022191971056987, 0.4599325048822521, 0.01753979891500114, 0.07990352839056075, 0.029232998191668566, 0.005846599638333713, 0.2264131095230174, 0.17010311337221515, 0.10675436770256261, 0.12787061625911347, 0.20764311080608333, 0.09971561818371233, 0.048098121712143595, 0.012904374117892184, 0.1787977245340334, 0.10727863472042003, 0.6794313532293269, 0.12535236872748623, 0.4558267953726772, 0.017093504826475394, 0.017093504826475394, 0.08546752413237697, 0.02279133976863386, 0.26210040733928935, 0.01139566988431693, 0.7521972257973321, 0.025937835372321794, 0.02247945732267889, 0.07089675001767957, 0.09856377441482282, 0.013833512198571624, 0.013833512198571624, 0.001729189024821453, 0.041583455859427514, 0.8732525730479778, 0.041583455859427514, 0.013861151953142505, 0.006768404993797621, 0.9103504716657801, 0.010152607490696432, 0.01692101248449405, 0.006768404993797621, 0.04399463245968454, 0.0033842024968988105, 0.0033842024968988105, 0.007481897625292845, 0.9576828960374841, 0.007481897625292845, 0.01496379525058569, 0.1357192792922582, 0.007336177259040983, 0.011004265888561475, 0.23842576091883194, 0.5318728512804712, 0.01834044314760246, 0.04034897492472541, 0.014672354518081967, 0.11613541700293176, 0.2812298823502367, 0.11385825196365859, 0.11727399952256835, 0.16737163038657812, 0.11841258204220494, 0.0637606210996488, 0.021633067873095133, 0.21245005186897725, 0.1324174980827187, 0.1091353006176253, 0.259014446799164, 0.050929806954891806, 0.09458392720194192, 0.1135007126423303, 0.029102746831366745, 0.3226976041574198, 0.25242534651855475, 0.06518676530973667, 0.13545902294860174, 0.06241286040293936, 0.09847362419130433, 0.04438247850875688, 0.018955016863114918, 0.07990885818993153, 0.21360252477693237, 0.1859417661727253, 0.38725062045889896, 0.030734176226896743, 0.05839493483110381, 0.010756961679413861, 0.03380759384958642, 0.9101494380414995, 0.08070160276296823, 0.10760213701729096, 0.057163635290435826, 0.7095015909577623, 0.006725133563580685, 0.016812833908951712, 0.016812833908951712, 0.9822206954449992, 0.9526911047429494, 0.025070818545867086, 0.9388644510517422, 0.021779361512504175, 0.021779361512504175, 0.021779361512504175, 0.9365125450376794, 0.28457947573821096, 0.16491531456207278, 0.19910507489811227, 0.11161951168530537, 0.13675904134415792, 0.04625673457228871, 0.023128367286144355, 0.03418976033603948, 0.1875959958091503, 0.08039828391820726, 0.2411948517546218, 0.4555902755365078, 0.15667619447653752, 0.038213705969887206, 0.08789152373074056, 0.6725612250700148, 0.007642741193977441, 0.030570964775909763, 0.007642741193977441, 0.0038213705969887203, 0.9449381269291993, 0.010737933260559083, 0.010737933260559083, 0.021475866521118166, 0.010737933260559083, 0.941397209477804, 0.012721583911862216, 0.02544316782372443, 0.012721583911862216, 0.012728830170474863, 0.9292046024446651, 0.025457660340949727, 0.012728830170474863, 0.025457660340949727, 0.025206802744243022, 0.1260340137212151, 0.10082721097697209, 0.050413605488486044, 0.050413605488486044, 0.6553768713503185], \"Term\": [\"acceleration\", \"acceleration\", \"acceleration\", \"acceleration\", \"adam\", \"adam\", \"adam\", \"adam\", \"adam\", \"adcom\", \"adcom\", \"adl\", \"adl\", \"adl\", \"adl\", \"advanced\", \"advanced\", \"advanced\", \"advertising\", \"advertising\", \"aej\", \"aej\", \"aerospace\", \"aerospace\", \"aerospace\", \"aerospace\", \"afraid\", \"afraid\", \"afraid\", \"afraid\", \"afraid\", \"afraid\", \"alaa\", \"alaska\", \"alaska\", \"alaska\", \"alaska\", \"alaska\", \"alaska\", \"alee\", \"alee\", \"ambulance\", \"amehdi\", \"amp\", \"amp\", \"amp\", \"amp\", \"amp\", \"amp\", \"amplifier\", \"amplifier\", \"amplifier\", \"anania\", \"anas\", \"anas\", \"angmar\", \"ankara\", \"ankara\", \"anneser\", \"apartment\", \"apartment\", \"apartment\", \"apartment\", \"apartment\", \"apartment\", \"appressian\", \"appressian\", \"appressian\", \"appressian\", \"apr\", \"apr\", \"apr\", \"apr\", \"apr\", \"apr\", \"apr\", \"apr\", \"april\", \"april\", \"april\", \"april\", \"april\", \"april\", \"april\", \"april\", \"arab\", \"arab\", \"arab\", \"arab\", \"arab\", \"arab\", \"arab\", \"arab\", \"arabs\", \"arabs\", \"arabs\", \"arabs\", \"arabs\", \"arabs\", \"arafat\", \"arcade\", \"arens\", \"arens\", \"arens\", \"argic\", \"argic\", \"argic\", \"argic\", \"argic\", \"argic\", \"argic\", \"ariane\", \"ariane\", \"arianespace\", \"armenia\", \"armenia\", \"armenia\", \"armenia\", \"armenia\", \"armenia\", \"armenia\", \"armenia\", \"armenian\", \"armenian\", \"armenian\", \"armenian\", \"armenian\", \"armenian\", \"armenian\", \"armenian\", \"armenians\", \"armenians\", \"armenians\", \"armenians\", \"armenians\", \"armenians\", \"armenians\", \"article\", \"article\", \"article\", \"article\", \"article\", \"article\", \"article\", \"article\", \"askew\", \"astronomer\", \"astronomer\", \"astronomer\", \"astronomer\", \"astronomical\", \"astronomical\", \"astronomy\", \"astronomy\", \"astronomy\", \"astronomy\", \"astronomy\", \"astronomy\", \"atari\", \"atari\", \"atf\", \"atf\", \"atf\", \"atf\", \"atf\", \"atf\", \"atf\", \"atmosphere\", \"atmosphere\", \"atmosphere\", \"atmosphere\", \"atmosphere\", \"attack\", \"attack\", \"attack\", \"attack\", \"attack\", \"attack\", \"attack\", \"attack\", \"aunt\", \"available\", \"available\", \"available\", \"available\", \"available\", \"available\", \"available\", \"available\", \"azerbadjan\", \"azerbaijani\", \"azerbaijani\", \"azerbaijani\", \"azerbaijanis\", \"azerbaijanis\", \"azerbaijanis\", \"azeri\", \"azeri\", \"azeri\", \"azeri\", \"azeris\", \"azeris\", \"azeris\", \"azeris\", \"azeris\", \"azeris\", \"b\", \"b\", \"b\", \"b\", \"b\", \"b\", \"b\", \"b\", \"baalke\", \"baalke\", \"baalke\", \"baalke\", \"baalke\", \"baden\", \"baden\", \"baku\", \"baku\", \"baku\", \"baku\", \"baku\", \"baku\", \"balcony\", \"band\", \"band\", \"band\", \"band\", \"band\", \"band\", \"band\", \"barlow\", \"bayonet\", \"bayonet\", \"beat\", \"beat\", \"beat\", \"beat\", \"beat\", \"beat\", \"beat\", \"beckman\", \"bed\", \"bed\", \"bed\", \"bed\", \"bed\", \"bedouin\", \"belton\", \"belton\", \"belton\", \"betz\", \"betz\", \"billboard\", \"billboard\", \"billboard\", \"billing\", \"bony\", \"bony\", \"booster\", \"booster\", \"booster\", \"breaker\", \"breaker\", \"brown\", \"brown\", \"brown\", \"brown\", \"brown\", \"brown\", \"brown\", \"bubblejet\", \"bulb\", \"bulb\", \"bulb\", \"bulb\", \"bullock\", \"c\", \"c\", \"c\", \"c\", \"c\", \"c\", \"c\", \"c\", \"cable\", \"cable\", \"cable\", \"cable\", \"cable\", \"cable\", \"cad\", \"cad\", \"cain\", \"cam\", \"case\", \"case\", \"case\", \"case\", \"case\", \"case\", \"case\", \"case\", \"casper\", \"catbyte\", \"centaur\", \"centaur\", \"centaur\", \"centaur\", \"center\", \"center\", \"center\", \"center\", \"center\", \"center\", \"center\", \"center\", \"chip\", \"chip\", \"chip\", \"chip\", \"chip\", \"chip\", \"chip\", \"choke\", \"circuit\", \"circuit\", \"circuit\", \"circuit\", \"circuit\", \"circuit\", \"circuit\", \"circuit\", \"citizen\", \"citizen\", \"citizen\", \"citizen\", \"citizen\", \"citizen\", \"citizen\", \"city\", \"city\", \"city\", \"city\", \"city\", \"city\", \"city\", \"city\", \"claudio\", \"clementine\", \"clementine\", \"clementine\", \"clementine\", \"clementine\", \"clesun\", \"clipper\", \"clipper\", \"cmkrnl\", \"cmuvm\", \"cmuvm\", \"com\", \"com\", \"com\", \"com\", \"com\", \"com\", \"com\", \"com\", \"come\", \"come\", \"come\", \"come\", \"come\", \"come\", \"come\", \"come\", \"comet\", \"comet\", \"comet\", \"comet\", \"comet\", \"command\", \"command\", \"command\", \"command\", \"command\", \"command\", \"command\", \"command\", \"commercial\", \"commercial\", \"commercial\", \"commercial\", \"commercial\", \"commercial\", \"commercial\", \"commercial\", \"compariator\", \"connect\", \"connect\", \"connect\", \"connect\", \"connect\", \"connect\", \"connect\", \"connect\", \"cool\", \"cool\", \"cool\", \"cool\", \"cool\", \"cool\", \"cool\", \"cool\", \"cosar\", \"cosmo\", \"country\", \"country\", \"country\", \"country\", \"country\", \"country\", \"country\", \"country\", \"courtyard\", \"covington\", \"cpr\", \"cpr\", \"cpr\", \"cpr\", \"cpr\", \"cpr\", \"cpr\", \"cranston\", \"criminal\", \"criminal\", \"criminal\", \"criminal\", \"criminal\", \"criminal\", \"criminal\", \"crowd\", \"crowd\", \"crowd\", \"curvature\", \"cyprus\", \"cyprus\", \"cyprus\", \"cyprus\", \"cyprus\", \"cyprus\", \"cyprus\", \"cyprus\", \"d\", \"d\", \"d\", \"d\", \"d\", \"d\", \"d\", \"d\", \"dafco\", \"dartmouth\", \"datum\", \"datum\", \"datum\", \"datum\", \"datum\", \"datum\", \"datum\", \"datum\", \"dc\", \"dc\", \"dc\", \"dc\", \"dc\", \"dc\", \"dc\", \"deir\", \"deir\", \"deir\", \"deir\", \"delta\", \"delta\", \"delta\", \"delta\", \"diaspar\", \"didn\", \"didn\", \"didn\", \"didn\", \"didn\", \"didn\", \"didn\", \"didn\", \"digex\", \"digex\", \"digex\", \"digex\", \"digex\", \"digex\", \"digex\", \"dir\", \"dir\", \"dir\", \"distribution\", \"distribution\", \"distribution\", \"distribution\", \"distribution\", \"distribution\", \"distribution\", \"distribution\", \"dnd\", \"don\", \"don\", \"don\", \"don\", \"don\", \"don\", \"don\", \"don\", \"dong\", \"dong\", \"dr\", \"dr\", \"dr\", \"dr\", \"dr\", \"dr\", \"dr\", \"dr\", \"dres\", \"dseg\", \"dseg\", \"dseg\", \"dtmedin\", \"dublin\", \"duke\", \"duke\", \"duke\", \"duke\", \"duke\", \"duke\", \"e\", \"e\", \"e\", \"e\", \"e\", \"e\", \"e\", \"e\", \"earth\", \"earth\", \"earth\", \"earth\", \"earth\", \"earth\", \"earth\", \"earth\", \"ecs\", \"ecs\", \"edu\", \"edu\", \"edu\", \"edu\", \"edu\", \"edu\", \"edu\", \"edu\", \"een\", \"effendi\", \"egalon\", \"electrical\", \"electrical\", \"electrical\", \"electrical\", \"electrical\", \"electrical\", \"electrical\", \"electrical\", \"emma\", \"enroute\", \"entryway\", \"enzo\", \"enzo\", \"erzincan\", \"erzurum\", \"esa\", \"esa\", \"escape\", \"escape\", \"escape\", \"escape\", \"escape\", \"escape\", \"escape\", \"escape\", \"extermination\", \"extermination\", \"extermination\", \"extermination\", \"extermination\", \"extermination\", \"f\", \"f\", \"f\", \"f\", \"f\", \"f\", \"f\", \"f\", \"faq\", \"faq\", \"faq\", \"faq\", \"faq\", \"faq\", \"faq\", \"farid\", \"farzin\", \"father\", \"father\", \"father\", \"father\", \"father\", \"father\", \"father\", \"father\", \"fegmania\", \"fete\", \"feustel\", \"fid\", \"file\", \"file\", \"file\", \"file\", \"file\", \"file\", \"file\", \"file\", \"find\", \"find\", \"find\", \"find\", \"find\", \"find\", \"find\", \"find\", \"firearm\", \"firearm\", \"firearm\", \"firearm\", \"firearm\", \"firearm\", \"firearm\", \"firearm\", \"floor\", \"floor\", \"floor\", \"floor\", \"floor\", \"floor\", \"flyby\", \"flyby\", \"flyby\", \"flyby\", \"flyby\", \"fnal\", \"fnal\", \"fnal\", \"fnal\", \"fnal\", \"fodder\", \"forge\", \"forge\", \"forge\", \"forge\", \"forge\", \"format\", \"format\", \"format\", \"fossil\", \"fossil\", \"foz\", \"fred\", \"fred\", \"fred\", \"fred\", \"fred\", \"fred\", \"fujitsu\", \"fuse\", \"fuse\", \"fuse\", \"fuse\", \"g\", \"g\", \"g\", \"g\", \"g\", \"g\", \"g\", \"g\", \"galileo\", \"galileo\", \"galileo\", \"galileo\", \"galileo\", \"gao\", \"garfiel\", \"gaza\", \"gaza\", \"gaza\", \"gaza\", \"gaza\", \"gazan\", \"gazans\", \"gazans\", \"gec\", \"gehrel\", \"gehrel\", \"gehrel\", \"genocide\", \"genocide\", \"genocide\", \"genocide\", \"genocide\", \"genocide\", \"geode\", \"gerard\", \"gerrit\", \"get\", \"get\", \"get\", \"get\", \"get\", \"get\", \"get\", \"get\", \"gfci\", \"gfci\", \"ghetto\", \"ghetto\", \"ghetto\", \"ghetto\", \"gibbons\", \"gibbons\", \"gif\", \"gif\", \"gif\", \"go\", \"go\", \"go\", \"go\", \"go\", \"go\", \"go\", \"go\", \"good\", \"good\", \"good\", \"good\", \"good\", \"good\", \"good\", \"good\", \"government\", \"government\", \"government\", \"government\", \"government\", \"government\", \"government\", \"government\", \"gozer\", \"gozer\", \"gravity\", \"gravity\", \"gravity\", \"gravity\", \"gravity\", \"gravity\", \"green\", \"green\", \"green\", \"green\", \"green\", \"gritz\", \"gritz\", \"gritz\", \"ground\", \"ground\", \"ground\", \"ground\", \"ground\", \"ground\", \"ground\", \"ground\", \"gun\", \"gun\", \"gun\", \"gun\", \"gun\", \"gun\", \"gun\", \"gun\", \"gunduz\", \"gurvitz\", \"gypsy\", \"hagoromo\", \"ham\", \"ham\", \"ham\", \"ham\", \"ham\", \"ham\", \"ham\", \"handgun\", \"handgun\", \"handgun\", \"handgun\", \"handgun\", \"handgun\", \"handgun\", \"happen\", \"happen\", \"happen\", \"happen\", \"happen\", \"happen\", \"happen\", \"happen\", \"hays\", \"heartless\", \"help\", \"help\", \"help\", \"help\", \"help\", \"help\", \"help\", \"help\", \"henrik\", \"henrik\", \"henrik\", \"henrik\", \"henrik\", \"henry\", \"henry\", \"henry\", \"henry\", \"henry\", \"henry\", \"henry\", \"hernlem\", \"hernlem\", \"hernlem\", \"heuvel\", \"hezbollah\", \"hezbollah\", \"hezbollah\", \"hezbollah\", \"hezbollah\", \"hilmi\", \"hiten\", \"hiten\", \"home\", \"home\", \"home\", \"home\", \"home\", \"home\", \"home\", \"home\", \"homicide\", \"homicide\", \"homicide\", \"homicide\", \"honeywell\", \"hossien\", \"host\", \"host\", \"host\", \"host\", \"host\", \"host\", \"host\", \"host\", \"hp\", \"hp\", \"hp\", \"hp\", \"hp\", \"hp\", \"hp\", \"idbsu\", \"igor\", \"ilhan\", \"include\", \"include\", \"include\", \"include\", \"include\", \"include\", \"include\", \"include\", \"information\", \"information\", \"information\", \"information\", \"information\", \"information\", \"information\", \"information\", \"initiative\", \"insulation\", \"insulation\", \"interim\", \"iran\", \"iran\", \"iran\", \"iran\", \"iran\", \"iran\", \"iranian\", \"iranian\", \"ireland\", \"ireland\", \"irgun\", \"irgun\", \"israel\", \"israel\", \"israel\", \"israel\", \"israel\", \"israel\", \"israel\", \"israel\", \"israeli\", \"israeli\", \"israeli\", \"israeli\", \"israeli\", \"israeli\", \"israeli\", \"israeli\", \"israelis\", \"israelis\", \"israelis\", \"israelis\", \"israelis\", \"israelis\", \"israelis\", \"ist\", \"istanbul\", \"istanbul\", \"istanbul\", \"j\", \"j\", \"j\", \"j\", \"j\", \"j\", \"j\", \"j\", \"jake\", \"jake\", \"jeh\", \"jewish\", \"jewish\", \"jewish\", \"jewish\", \"jewish\", \"jewish\", \"jewish\", \"jewish\", \"jews\", \"jews\", \"jews\", \"jews\", \"jews\", \"jews\", \"jews\", \"jews\", \"jle\", \"johnh\", \"joystick\", \"joystick\", \"jpl\", \"jpl\", \"jpl\", \"jpl\", \"jpl\", \"jpl\", \"jpl\", \"jpl\", \"judaism\", \"judaism\", \"jupiter\", \"jupiter\", \"jupiter\", \"jupiter\", \"jupiter\", \"jupiter\", \"jupiter\", \"k\", \"k\", \"k\", \"k\", \"k\", \"k\", \"k\", \"k\", \"kaan\", \"kaan\", \"karabag\", \"karina\", \"kars\", \"kaufman\", \"ke\", \"ke\", \"ke\", \"ke\", \"ke\", \"ke\", \"kill\", \"kill\", \"kill\", \"kill\", \"kill\", \"kill\", \"kill\", \"kill\", \"kipling\", \"kipling\", \"kiss\", \"kiss\", \"knell\", \"know\", \"know\", \"know\", \"know\", \"know\", \"know\", \"know\", \"know\", \"knox\", \"koc\", \"kpc\", \"kpc\", \"kratz\", \"kratz\", \"kratz\", \"kurdish\", \"kurds\", \"kurds\", \"l\", \"l\", \"l\", \"l\", \"l\", \"l\", \"l\", \"l\", \"lander\", \"lander\", \"lander\", \"larc\", \"larc\", \"larc\", \"larc\", \"larson\", \"larson\", \"larson\", \"launch\", \"launch\", \"launch\", \"launch\", \"launch\", \"launch\", \"launch\", \"launch\", \"law\", \"law\", \"law\", \"law\", \"law\", \"law\", \"law\", \"law\", \"leave\", \"leave\", \"leave\", \"leave\", \"leave\", \"leave\", \"leave\", \"leave\", \"lebanese\", \"lebanese\", \"lebanese\", \"lebanese\", \"lebanon\", \"lebanon\", \"lebanon\", \"lebanon\", \"lesher\", \"liguori\", \"liguori\", \"like\", \"like\", \"like\", \"like\", \"like\", \"like\", \"like\", \"like\", \"line\", \"line\", \"line\", \"line\", \"line\", \"line\", \"line\", \"line\", \"live\", \"live\", \"live\", \"live\", \"live\", \"live\", \"live\", \"live\", \"livni\", \"look\", \"look\", \"look\", \"look\", \"look\", \"look\", \"look\", \"look\", \"loss\", \"loss\", \"loss\", \"loss\", \"loss\", \"loss\", \"loss\", \"loss\", \"ltm\", \"lunar\", \"lunar\", \"lunar\", \"lunar\", \"lunar\", \"lunar\", \"lunar\", \"lunar\", \"lyuda\", \"m\", \"m\", \"m\", \"m\", \"m\", \"m\", \"m\", \"m\", \"malaysia\", \"maler\", \"mamma\", \"mamma\", \"manes\", \"manes\", \"manes\", \"marina\", \"marina\", \"mariner\", \"mariner\", \"marketing\", \"marketing\", \"marketing\", \"mars\", \"mars\", \"mars\", \"mars\", \"mars\", \"mars\", \"mars\", \"mary\", \"mary\", \"massacre\", \"massacre\", \"massacre\", \"massacre\", \"massacre\", \"massacre\", \"massacre\", \"mccall\", \"mcdonnell\", \"medin\", \"melkonian\", \"melkonian\", \"melkonian\", \"melkonian\", \"mhz\", \"mhz\", \"mhz\", \"mhz\", \"microdistrict\", \"militia\", \"militia\", \"militia\", \"militia\", \"militia\", \"militia\", \"mimi\", \"misfire\", \"mission\", \"mission\", \"mission\", \"mission\", \"mission\", \"mission\", \"mission\", \"mission\", \"mjm\", \"mjm\", \"mksol\", \"mksol\", \"mokhtarian\", \"mont\", \"moon\", \"moon\", \"moon\", \"moon\", \"moon\", \"moon\", \"moon\", \"moon\", \"mpce\", \"msb\", \"msb\", \"muslim\", \"muslim\", \"muslim\", \"muslim\", \"muslim\", \"muslim\", \"muslim\", \"muslim\", \"musone\", \"mutlu\", \"myi\", \"n\", \"n\", \"n\", \"n\", \"n\", \"n\", \"n\", \"n\", \"namaki\", \"nasa\", \"nasa\", \"nasa\", \"nasa\", \"nasa\", \"nasa\", \"nasa\", \"nasa\", \"nec\", \"nec\", \"nec\", \"need\", \"need\", \"need\", \"need\", \"need\", \"need\", \"need\", \"need\", \"neptunium\", \"neutral\", \"neutral\", \"neutral\", \"neutral\", \"neutral\", \"neutral\", \"neutral\", \"new\", \"new\", \"new\", \"new\", \"new\", \"new\", \"new\", \"new\", \"newshost\", \"nihat\", \"nntp\", \"nntp\", \"nntp\", \"nntp\", \"nntp\", \"nntp\", \"nntp\", \"nntp\", \"nuclear\", \"nuclear\", \"nuclear\", \"nuclear\", \"nuclear\", \"nuclear\", \"nuclear\", \"o\", \"o\", \"o\", \"o\", \"o\", \"o\", \"o\", \"o\", \"oac\", \"oac\", \"oac\", \"observatory\", \"observatory\", \"observatory\", \"observatory\", \"observatory\", \"observatory\", \"occupy\", \"occupy\", \"occupy\", \"occupy\", \"occupy\", \"occupy\", \"occupy\", \"ohanus\", \"ohanus\", \"ohanus\", \"ohanus\", \"oldham\", \"oliveira\", \"omran\", \"onur\", \"onur\", \"option\", \"option\", \"option\", \"option\", \"option\", \"option\", \"option\", \"option\", \"orbeli\", \"orbit\", \"orbit\", \"orbit\", \"orbit\", \"orbit\", \"orbit\", \"orbit\", \"orbit\", \"orbital\", \"orbital\", \"orbital\", \"orbital\", \"orbital\", \"orbiter\", \"orbiter\", \"orbiter\", \"orbiter\", \"ordnance\", \"ordularinin\", \"organization\", \"organization\", \"organization\", \"organization\", \"organization\", \"organization\", \"organization\", \"organization\", \"orhan\", \"ottoman\", \"ottoman\", \"ottoman\", \"ottoman\", \"outlet\", \"outlet\", \"outlet\", \"outlet\", \"outlet\", \"overhead\", \"overhead\", \"oy\", \"p\", \"p\", \"p\", \"p\", \"p\", \"p\", \"p\", \"p\", \"pacastro\", \"paj\", \"palestine\", \"palestine\", \"palestine\", \"palestine\", \"palestine\", \"palestine\", \"palestinian\", \"palestinian\", \"palestinian\", \"palestinian\", \"palestinian\", \"palestinian\", \"palestinian\", \"palestinians\", \"palestinians\", \"palestinians\", \"palestinians\", \"palestinians\", \"palestinians\", \"palestinians\", \"papa\", \"parsli\", \"parsli\", \"payne\", \"peace\", \"peace\", \"peace\", \"peace\", \"peace\", \"peace\", \"peace\", \"pegasus\", \"pegasus\", \"people\", \"people\", \"people\", \"people\", \"people\", \"people\", \"people\", \"people\", \"phobos\", \"phobos\", \"phone\", \"phone\", \"phone\", \"phone\", \"phone\", \"phone\", \"phone\", \"phone\", \"physicist\", \"physicist\", \"physicist\", \"pierce\", \"pisga\", \"pkk\", \"planet\", \"planet\", \"planet\", \"planet\", \"planet\", \"planet\", \"planet\", \"planetary\", \"planetary\", \"planetary\", \"planetary\", \"planetary\", \"planetary\", \"plant\", \"plant\", \"plant\", \"plant\", \"plant\", \"plant\", \"plier\", \"pmp\", \"poer\", \"pogrom\", \"policy\", \"policy\", \"policy\", \"policy\", \"policy\", \"policy\", \"policy\", \"policy\", \"populist\", \"posting\", \"posting\", \"posting\", \"posting\", \"posting\", \"posting\", \"posting\", \"posting\", \"power\", \"power\", \"power\", \"power\", \"power\", \"power\", \"power\", \"power\", \"precinct\", \"prelude\", \"prelude\", \"probe\", \"probe\", \"probe\", \"probe\", \"probe\", \"probe\", \"procuracy\", \"program\", \"program\", \"program\", \"program\", \"program\", \"program\", \"program\", \"program\", \"project\", \"project\", \"project\", \"project\", \"project\", \"project\", \"project\", \"project\", \"projection\", \"prong\", \"proton\", \"proton\", \"proton\", \"pyron\", \"pyron\", \"pyron\", \"q\", \"q\", \"q\", \"q\", \"q\", \"q\", \"q\", \"q\", \"quayle\", \"question\", \"question\", \"question\", \"question\", \"question\", \"question\", \"question\", \"question\", \"r\", \"r\", \"r\", \"r\", \"r\", \"r\", \"r\", \"r\", \"ranger\", \"ranger\", \"receptacle\", \"redesign\", \"redesign\", \"redesign\", \"repress\", \"research\", \"research\", \"research\", \"research\", \"research\", \"research\", \"research\", \"research\", \"revolver\", \"revolver\", \"revolver\", \"revolver\", \"revolver\", \"rhea\", \"right\", \"right\", \"right\", \"right\", \"right\", \"right\", \"right\", \"right\", \"rimsat\", \"rocket\", \"rocket\", \"rocket\", \"rocket\", \"rocket\", \"rocket\", \"rocket\", \"rocket\", \"ross\", \"rotational\", \"rs\", \"rs\", \"rs\", \"rs\", \"rti\", \"rti\", \"rubin\", \"rubin\", \"rubinoff\", \"run\", \"run\", \"run\", \"run\", \"run\", \"run\", \"run\", \"run\", \"russian\", \"russian\", \"russian\", \"russian\", \"russian\", \"russian\", \"russian\", \"russian\", \"rutledge\", \"rutledge\", \"s\", \"s\", \"s\", \"s\", \"s\", \"s\", \"s\", \"s\", \"sahak\", \"sahak\", \"sahak\", \"sahak\", \"sanders\", \"satellite\", \"satellite\", \"satellite\", \"satellite\", \"satellite\", \"satellite\", \"satellite\", \"satellite\", \"sawyer\", \"say\", \"say\", \"say\", \"say\", \"say\", \"say\", \"say\", \"say\", \"science\", \"science\", \"science\", \"science\", \"science\", \"science\", \"science\", \"science\", \"scl\", \"sdpa\", \"sdpa\", \"sdpa\", \"sdpa\", \"sdpa\", \"sdpa\", \"see\", \"see\", \"see\", \"see\", \"see\", \"see\", \"see\", \"see\", \"semtex\", \"send\", \"send\", \"send\", \"send\", \"send\", \"send\", \"send\", \"send\", \"sensing\", \"sensing\", \"sera\", \"sera\", \"sera\", \"sera\", \"serdar\", \"serdar\", \"serdar\", \"serdar\", \"serdar\", \"serdar\", \"serdar\", \"shabak\", \"shafer\", \"shagen\", \"shelling\", \"shelling\", \"shirak\", \"shostack\", \"shostack\", \"shout\", \"shout\", \"shout\", \"shout\", \"shout\", \"shout\", \"shuttle\", \"shuttle\", \"shuttle\", \"shuttle\", \"shuttle\", \"shuttle\", \"shuttle\", \"shuttle\", \"skndiv\", \"skndiv\", \"skndiv\", \"sky\", \"sky\", \"sky\", \"sky\", \"sky\", \"sky\", \"sky\", \"skybridge\", \"smash\", \"solar\", \"solar\", \"solar\", \"solar\", \"solar\", \"solar\", \"somalia\", \"somalia\", \"somalia\", \"soviet\", \"soviet\", \"soviet\", \"soviet\", \"soviet\", \"soviet\", \"soviet\", \"soviet\", \"space\", \"space\", \"space\", \"space\", \"space\", \"space\", \"space\", \"space\", \"spacewalk\", \"spencer\", \"spencer\", \"spencer\", \"spencer\", \"spencer\", \"spencer\", \"spook\", \"sq\", \"sq\", \"sq\", \"sq\", \"sq\", \"src\", \"star\", \"star\", \"star\", \"star\", \"star\", \"star\", \"star\", \"starve\", \"state\", \"state\", \"state\", \"state\", \"state\", \"state\", \"state\", \"state\", \"station\", \"station\", \"station\", \"station\", \"station\", \"station\", \"station\", \"station\", \"steam\", \"steam\", \"steam\", \"steam\", \"sternberg\", \"stsci\", \"subject\", \"subject\", \"subject\", \"subject\", \"subject\", \"subject\", \"subject\", \"subject\", \"sumgait\", \"sumgait\", \"sun\", \"sun\", \"sun\", \"sun\", \"sun\", \"sun\", \"sun\", \"sun\", \"surface\", \"surface\", \"surface\", \"surface\", \"surface\", \"surface\", \"swastika\", \"switch\", \"switch\", \"switch\", \"switch\", \"switch\", \"switch\", \"switchover\", \"syrian\", \"syrian\", \"system\", \"system\", \"system\", \"system\", \"system\", \"system\", \"system\", \"system\", \"t\", \"t\", \"t\", \"t\", \"t\", \"t\", \"t\", \"t\", \"take\", \"take\", \"take\", \"take\", \"take\", \"take\", \"take\", \"take\", \"tangible\", \"tartar\", \"tartar\", \"tartar\", \"tartar\", \"taurah\", \"td\", \"technology\", \"technology\", \"technology\", \"technology\", \"technology\", \"technology\", \"technology\", \"technology\", \"tele\", \"telescope\", \"telescope\", \"telescope\", \"telescope\", \"telescope\", \"telescope\", \"tell\", \"tell\", \"tell\", \"tell\", \"tell\", \"tell\", \"tell\", \"tell\", \"thank\", \"thank\", \"thank\", \"thank\", \"thank\", \"thank\", \"thank\", \"thank\", \"thing\", \"thing\", \"thing\", \"thing\", \"thing\", \"thing\", \"thing\", \"thing\", \"think\", \"think\", \"think\", \"think\", \"think\", \"think\", \"think\", \"think\", \"thomasp\", \"thomasp\", \"ti\", \"ti\", \"ti\", \"ti\", \"ti\", \"tim\", \"tim\", \"tim\", \"tim\", \"tim\", \"tim\", \"time\", \"time\", \"time\", \"time\", \"time\", \"time\", \"time\", \"time\", \"today\", \"today\", \"today\", \"today\", \"today\", \"today\", \"today\", \"today\", \"tommy\", \"toronto\", \"toronto\", \"toronto\", \"toronto\", \"toronto\", \"toronto\", \"toronto\", \"toronto\", \"tower\", \"tower\", \"tower\", \"tower\", \"tower\", \"trader\", \"trader\", \"trader\", \"tulkarm\", \"turkey\", \"turkey\", \"turkey\", \"turkey\", \"turkey\", \"turkey\", \"turkey\", \"turkish\", \"turkish\", \"turkish\", \"turkish\", \"turkish\", \"turkish\", \"turkish\", \"turkish\", \"turks\", \"turks\", \"turks\", \"turks\", \"turks\", \"turks\", \"turks\", \"turks\", \"u\", \"u\", \"u\", \"u\", \"u\", \"u\", \"u\", \"u\", \"ualberta\", \"ucr\", \"ucsu\", \"ucsu\", \"ucsu\", \"ucsu\", \"uio\", \"uio\", \"uio\", \"uio\", \"undeniable\", \"unified\", \"university\", \"university\", \"university\", \"university\", \"university\", \"university\", \"university\", \"university\", \"use\", \"use\", \"use\", \"use\", \"use\", \"use\", \"use\", \"use\", \"uv\", \"uv\", \"uv\", \"uv\", \"uwa\", \"vancouver\", \"vancouver\", \"vancouver\", \"vandalize\", \"vandalize\", \"vandalize\", \"vandalize\", \"vandalize\", \"vay\", \"vd\", \"veal\", \"veal\", \"veal\", \"veal\", \"veal\", \"veal\", \"vehicle\", \"vehicle\", \"vehicle\", \"vehicle\", \"vehicle\", \"vehicle\", \"vehicle\", \"venera\", \"venera\", \"venus\", \"venus\", \"venus\", \"venus\", \"venus\", \"venusian\", \"vxcrna\", \"w\", \"w\", \"w\", \"w\", \"w\", \"w\", \"w\", \"w\", \"want\", \"want\", \"want\", \"want\", \"want\", \"want\", \"want\", \"want\", \"warsaw\", \"warsaw\", \"warsaw\", \"water\", \"water\", \"water\", \"water\", \"water\", \"water\", \"water\", \"water\", \"weapon\", \"weapon\", \"weapon\", \"weapon\", \"weapon\", \"weapon\", \"weapon\", \"weapon\", \"weaver\", \"weaver\", \"weaver\", \"weaver\", \"wire\", \"wire\", \"wire\", \"wire\", \"wire\", \"wire\", \"wire\", \"wire\", \"wiring\", \"wiring\", \"wiring\", \"wiring\", \"woman\", \"woman\", \"woman\", \"woman\", \"woman\", \"woman\", \"woman\", \"woman\", \"work\", \"work\", \"work\", \"work\", \"work\", \"work\", \"work\", \"work\", \"world\", \"world\", \"world\", \"world\", \"world\", \"world\", \"world\", \"world\", \"write\", \"write\", \"write\", \"write\", \"write\", \"write\", \"write\", \"write\", \"x\", \"x\", \"x\", \"x\", \"x\", \"x\", \"x\", \"x\", \"xxxxx\", \"y\", \"y\", \"y\", \"y\", \"y\", \"y\", \"y\", \"yalanci\", \"yalcin\", \"yalcin\", \"yamauchi\", \"yassin\", \"yassin\", \"yassin\", \"yassin\", \"year\", \"year\", \"year\", \"year\", \"year\", \"year\", \"year\", \"year\", \"yigal\", \"yigal\", \"yigal\", \"yigal\", \"z\", \"z\", \"z\", \"z\", \"z\", \"z\", \"z\", \"z\", \"zoo\", \"zoo\", \"zoo\", \"zoo\", \"zoo\", \"zoology\", \"zoology\", \"zoology\", \"zoology\", \"zuma\", \"zuma\", \"zuma\", \"zuma\", \"zuma\", \"zv\", \"zv\", \"zv\", \"zv\", \"zv\", \"zv\"]}, \"R\": 30, \"lambda.step\": 0.01, \"plot.opts\": {\"xlab\": \"PC1\", \"ylab\": \"PC2\"}, \"topic.order\": [5, 7, 6, 1, 4, 8, 2, 3]};\n",
       "\n",
       "function LDAvis_load_lib(url, callback){\n",
       "  var s = document.createElement('script');\n",
       "  s.src = url;\n",
       "  s.async = true;\n",
       "  s.onreadystatechange = s.onload = callback;\n",
       "  s.onerror = function(){console.warn(\"failed to load library \" + url);};\n",
       "  document.getElementsByTagName(\"head\")[0].appendChild(s);\n",
       "}\n",
       "\n",
       "if(typeof(LDAvis) !== \"undefined\"){\n",
       "   // already loaded: just create the visualization\n",
       "   !function(LDAvis){\n",
       "       new LDAvis(\"#\" + \"ldavis_el799871402706621080482589167502\", ldavis_el799871402706621080482589167502_data);\n",
       "   }(LDAvis);\n",
       "}else if(typeof define === \"function\" && define.amd){\n",
       "   // require.js is available: use it to load d3/LDAvis\n",
       "   require.config({paths: {d3: \"https://cdnjs.cloudflare.com/ajax/libs/d3/3.5.5/d3.min\"}});\n",
       "   require([\"d3\"], function(d3){\n",
       "      window.d3 = d3;\n",
       "      LDAvis_load_lib(\"https://cdn.rawgit.com/bmabey/pyLDAvis/files/ldavis.v1.0.0.js\", function(){\n",
       "        new LDAvis(\"#\" + \"ldavis_el799871402706621080482589167502\", ldavis_el799871402706621080482589167502_data);\n",
       "      });\n",
       "    });\n",
       "}else{\n",
       "    // require.js not available: dynamically load d3 & LDAvis\n",
       "    LDAvis_load_lib(\"https://cdnjs.cloudflare.com/ajax/libs/d3/3.5.5/d3.min.js\", function(){\n",
       "         LDAvis_load_lib(\"https://cdn.rawgit.com/bmabey/pyLDAvis/files/ldavis.v1.0.0.js\", function(){\n",
       "                 new LDAvis(\"#\" + \"ldavis_el799871402706621080482589167502\", ldavis_el799871402706621080482589167502_data);\n",
       "            })\n",
       "         });\n",
       "}\n",
       "</script>"
      ],
      "text/plain": [
       "PreparedData(topic_coordinates=              x         y  topics  cluster       Freq\n",
       "topic                                                \n",
       "4      0.103154 -0.061704       1        1  24.825207\n",
       "6     -0.075728 -0.079273       2        1  17.856137\n",
       "5     -0.099204  0.003551       3        1  14.074345\n",
       "0      0.125074  0.096544       4        1  13.912037\n",
       "3      0.098536 -0.038697       5        1  12.909098\n",
       "7     -0.056086 -0.055005       6        1   8.756821\n",
       "1     -0.002749  0.020864       7        1   4.854486\n",
       "2     -0.092997  0.113720       8        1   2.811869, topic_info=          Term         Freq        Total Category  logprob  loglift\n",
       "657      space  1337.000000  1337.000000  Default  30.0000  30.0000\n",
       "1012   turkish   668.000000   668.000000  Default  29.0000  29.0000\n",
       "1471    israel   955.000000   955.000000  Default  28.0000  28.0000\n",
       "963   armenian   654.000000   654.000000  Default  27.0000  27.0000\n",
       "53        line  2362.000000  2362.000000  Default  26.0000  26.0000\n",
       "...        ...          ...          ...      ...      ...      ...\n",
       "189    posting    26.232026  1051.541024   Topic8  -6.1300  -0.1197\n",
       "422         go    26.108789  1006.173408   Topic8  -6.1347  -0.0803\n",
       "249          e    24.946830   623.695972   Topic8  -6.1802   0.3524\n",
       "168       host    25.483093  1008.965707   Topic8  -6.1589  -0.1073\n",
       "100          t    26.158830  3934.604091   Topic8  -6.1328  -1.4421\n",
       "\n",
       "[699 rows x 6 columns], token_table=       Topic      Freq          Term\n",
       "term                                \n",
       "4708       2  0.031689  acceleration\n",
       "4708       3  0.507024  acceleration\n",
       "4708       6  0.031689  acceleration\n",
       "4708       8  0.411957  acceleration\n",
       "6750       1  0.904252          adam\n",
       "...      ...       ...           ...\n",
       "11873      2  0.126034            zv\n",
       "11873      3  0.100827            zv\n",
       "11873      4  0.050414            zv\n",
       "11873      5  0.050414            zv\n",
       "11873      6  0.655377            zv\n",
       "\n",
       "[2223 rows x 3 columns], R=30, lambda_step=0.01, plot_opts={'xlab': 'PC1', 'ylab': 'PC2'}, topic_order=[5, 7, 6, 1, 4, 8, 2, 3])"
      ]
     },
     "execution_count": 30,
     "metadata": {},
     "output_type": "execute_result"
    }
   ],
   "source": [
    "# visualize the 3 topics \n",
    "pyLDAvis.enable_notebook()\n",
    "vis = pyLDAvis.gensim.prepare(lda_trained_model, corpus, id2word)\n",
    "vis"
   ]
  },
  {
   "cell_type": "markdown",
   "metadata": {},
   "source": [
    "## Create a Topic id/name dictionary \n",
    "\n",
    "When populating your topic id/name dictionary, use the index ordering as shown in the viz tool. \n",
    "\n",
    "We'll use a function to map the the viz tool index ordering with the train LDA model ordering. "
   ]
  },
  {
   "cell_type": "code",
   "execution_count": 25,
   "metadata": {
    "nbgrader": {
     "grade": false,
     "grade_id": "cell-777be73d0d1455f0",
     "locked": false,
     "schema_version": 3,
     "solution": true,
     "task": false
    }
   },
   "outputs": [],
   "source": [
    "# keys - use topic ids from pyLDAvis visualization \n",
    "# values - topic names that you create \n",
    "# save dictionary to `vis_topic_name_dict`\n",
    "###BEGIN SOLUTION\n",
    "# this is the results from a model run however these topic names might not make sense in future model runs\n",
    "# thus these names will likely have to be thought through during each lecture \n",
    "vis_topic_name_dict = {1:\"Guns\", \n",
    "                       2:\"Armenian_Turkish_Conflict\", \n",
    "                       3:\"Armenian_Turkish_Conflict\", \n",
    "                       4:\"Isreal\", \n",
    "                       5:\"Space\", \n",
    "                       6:\"Space\", \n",
    "                       7:\"Space\", \n",
    "                       8:\"Space\"}\n",
    "###END SOLUTION"
   ]
  },
  {
   "cell_type": "code",
   "execution_count": 31,
   "metadata": {},
   "outputs": [],
   "source": [
    "def get_topic_id_lookup_dict(vis, vis_topic_name_dict):\n",
    "    \"\"\"\n",
    "    Both the starting index and the ordering of topic ids bewteen the trained LDA model \n",
    "    and the viz tool are different. So we need to create a look up dictionary that maps \n",
    "    the correct association between topic ids from both sources. \n",
    "    \"\"\"\n",
    "    # value is order of topic ids accoridng to pyLDAvis tool \n",
    "    # key is order of topic ids according to lda model\n",
    "    model_vis_tool_topic_id_lookup = vis.topic_coordinates.topics.to_dict()\n",
    "\n",
    "    # invert dictionary so that \n",
    "    # key is order of topic ids accoridng to pyLDAvis tool \n",
    "    # value is order of topic ids according to lda model\n",
    "    topic_id_lookup =  {v:k for k, v in model_vis_tool_topic_id_lookup.items()}\n",
    "    \n",
    "    # iterate through topic_id_lookup and index vis_topic_name_dict using the keys \n",
    "    # in order to swap the viz topic ids in vis_topic_name_dict for the lda model topic ids \n",
    "    return {v:vis_topic_name_dict[k]  for k, v in topic_id_lookup.items()}"
   ]
  },
  {
   "cell_type": "code",
   "execution_count": 32,
   "metadata": {
    "nbgrader": {
     "grade": false,
     "grade_id": "cell-0718245fd125b36e",
     "locked": false,
     "schema_version": 3,
     "solution": true,
     "task": false
    }
   },
   "outputs": [],
   "source": [
    "###BEING SOLTUION\n",
    "# now we have an updated topic id/name dict\n",
    "# the topic ids correspond to how the lda model has index the topics \n",
    "# now we can use this dictionary with lda model to label our docs \n",
    "topic_name_dict = get_topic_id_lookup_dict(vis, vis_topic_name_dict)\n",
    "###END SOLTUION"
   ]
  },
  {
   "cell_type": "code",
   "execution_count": 33,
   "metadata": {},
   "outputs": [
    {
     "data": {
      "text/plain": [
       "{4: 'Guns',\n",
       " 6: 'Armenian_Turkish_Conflict',\n",
       " 5: 'Armenian_Turkish_Conflict',\n",
       " 0: 'Isreal',\n",
       " 3: 'Space',\n",
       " 7: 'Space',\n",
       " 1: 'Space',\n",
       " 2: 'Space'}"
      ]
     },
     "execution_count": 33,
     "metadata": {},
     "output_type": "execute_result"
    }
   ],
   "source": [
    "topic_name_dict"
   ]
  },
  {
   "cell_type": "markdown",
   "metadata": {},
   "source": [
    "## Assign Each Document a Topic Name\n",
    "\n",
    "Now that we have a topic id/name look up dict that is aligned with the index ordering of the trained LDA model, we can move forward to giving each topic a topic name. \n",
    "\n",
    "The function below has been given to you. However, you highly encouraged to read through it and make sure that you understand what it is doing each step of the way. In fact, a good way to do this is to copy and paste the code inside of the function into a new cell, comment out all the lines of code and line by line, uncomment the code and see the output. "
   ]
  },
  {
   "cell_type": "code",
   "execution_count": 34,
   "metadata": {},
   "outputs": [],
   "source": [
    "def get_topic_ids_for_docs(lda_model, corpus):\n",
    "    \n",
    "    \"\"\"\n",
    "    Passes a Bag-of-Words vector into a trained LDA model in order to get the topic id of that document. \n",
    "    \n",
    "    Parameters\n",
    "    ----------\n",
    "    lda_model: Gensim object\n",
    "        Must be a trained model \n",
    "        \n",
    "    corpus: nested lists of tuples, \n",
    "        i.e. [[(),(), ..., ()], [(),(), ..., ()], ..., [(),(), ..., ()]]\n",
    "        \n",
    "    Returns\n",
    "    -------\n",
    "    topic_id_list: list\n",
    "        Contains topic ids for all document vectors in corpus \n",
    "    \"\"\"\n",
    "    \n",
    "    # store topic ids for each document\n",
    "    doc_topic_ids = []\n",
    "\n",
    "    # iterature through the bow vectors for each doc\n",
    "    for doc_bow in corpus:\n",
    "        \n",
    "        # store the topic ids for the doc\n",
    "        topic_ids = []\n",
    "        # store the topic probabilities for the doc\n",
    "        topic_probs = []\n",
    "\n",
    "        # list of tuples\n",
    "        # each tuple has a topic id and the prob that the doc belongs to that topic \n",
    "        topic_id_prob_tuples = lda_trained_model.get_document_topics(doc_bow)\n",
    "        \n",
    "        # iterate through the topic id/prob pairs \n",
    "        for topic_id_prob in topic_id_prob_tuples:\n",
    "            \n",
    "            # index for topic id\n",
    "            topic_id = topic_id_prob[0]\n",
    "            # index for prob that doc belongs that the corresponding topic\n",
    "            topic_prob = topic_id_prob[1]\n",
    "\n",
    "            # store all topic ids for doc\n",
    "            topic_ids.append(topic_id)\n",
    "            # store all topic probs for doc\n",
    "            topic_probs.append(topic_prob)\n",
    "\n",
    "        # get index for largest prob score\n",
    "        max_topic_prob_ind = np.argmax(topic_probs)\n",
    "        # get corresponding topic id\n",
    "        max_prob_topic_id = topic_ids[max_topic_prob_ind]\n",
    "        # store topic id that had the highest prob for doc being a memebr of that topic\n",
    "        doc_topic_ids.append(max_prob_topic_id)\n",
    "        \n",
    "    return doc_topic_ids"
   ]
  },
  {
   "cell_type": "code",
   "execution_count": 35,
   "metadata": {},
   "outputs": [],
   "source": [
    "# get the topic id for each doc in the corpus \n",
    "topic_id_list = get_topic_ids_for_docs(lda_trained_model, corpus)\n",
    "\n",
    "# creat a feature for document's topic id\n",
    "df[\"topic_id\"] = topic_id_list\n",
    "\n",
    "# iterate through the topic id and use the lookup table to assign each document with a topic name\n",
    "df[\"new_topic_name\"] = df[\"topic_id\"].apply(lambda topic_id: topic_name_dict[topic_id])"
   ]
  },
  {
   "cell_type": "code",
   "execution_count": 36,
   "metadata": {},
   "outputs": [
    {
     "data": {
      "text/html": [
       "<div>\n",
       "<style scoped>\n",
       "    .dataframe tbody tr th:only-of-type {\n",
       "        vertical-align: middle;\n",
       "    }\n",
       "\n",
       "    .dataframe tbody tr th {\n",
       "        vertical-align: top;\n",
       "    }\n",
       "\n",
       "    .dataframe thead th {\n",
       "        text-align: right;\n",
       "    }\n",
       "</style>\n",
       "<table border=\"1\" class=\"dataframe\">\n",
       "  <thead>\n",
       "    <tr style=\"text-align: right;\">\n",
       "      <th></th>\n",
       "      <th>content</th>\n",
       "      <th>target</th>\n",
       "      <th>target_names</th>\n",
       "      <th>clean_data</th>\n",
       "      <th>lemmas</th>\n",
       "      <th>topic_id</th>\n",
       "      <th>new_topic_name</th>\n",
       "    </tr>\n",
       "  </thead>\n",
       "  <tbody>\n",
       "    <tr>\n",
       "      <th>0</th>\n",
       "      <td>From: webb@itu1 (90-29265  Webber  AH)\\nSubjec...</td>\n",
       "      <td>0</td>\n",
       "      <td>sci.electronics</td>\n",
       "      <td>webber ah subject re adcom cheap products arti...</td>\n",
       "      <td>[webber, ah, subject, adcom, cheap, product, a...</td>\n",
       "      <td>7</td>\n",
       "      <td>Space</td>\n",
       "    </tr>\n",
       "    <tr>\n",
       "      <th>1</th>\n",
       "      <td>From: nate@psygate.psych.indiana.edu (Nathan E...</td>\n",
       "      <td>2</td>\n",
       "      <td>talk.politics.guns</td>\n",
       "      <td>nathan engle subject re atf burns dividian ran...</td>\n",
       "      <td>[nathan, engle, subject, atf, burns, dividian,...</td>\n",
       "      <td>7</td>\n",
       "      <td>Space</td>\n",
       "    </tr>\n",
       "    <tr>\n",
       "      <th>2</th>\n",
       "      <td>From: ab4z@Virginia.EDU (\"Andi Beyer\")\\nSubjec...</td>\n",
       "      <td>3</td>\n",
       "      <td>talk.politics.mideast</td>\n",
       "      <td>andi beyer subject re israeli terrorism organi...</td>\n",
       "      <td>[andi, beyer, subject, israeli, terrorism, org...</td>\n",
       "      <td>4</td>\n",
       "      <td>Guns</td>\n",
       "    </tr>\n",
       "    <tr>\n",
       "      <th>3</th>\n",
       "      <td>From: levy@levy.fnal.gov (Mark E. Levy, ext. 8...</td>\n",
       "      <td>0</td>\n",
       "      <td>sci.electronics</td>\n",
       "      <td>mark e levy ext subject sources for intel d c ...</td>\n",
       "      <td>[mark, e, levy, ext, subject, source, intel, d...</td>\n",
       "      <td>6</td>\n",
       "      <td>Armenian_Turkish_Conflict</td>\n",
       "    </tr>\n",
       "    <tr>\n",
       "      <th>4</th>\n",
       "      <td>From: wolfone@ccwf.cc.utexas.edu (I am an andr...</td>\n",
       "      <td>2</td>\n",
       "      <td>talk.politics.guns</td>\n",
       "      <td>i am an android subject re atf burns dividian ...</td>\n",
       "      <td>[android, subject, atf, burns, dividian, ranch...</td>\n",
       "      <td>6</td>\n",
       "      <td>Armenian_Turkish_Conflict</td>\n",
       "    </tr>\n",
       "  </tbody>\n",
       "</table>\n",
       "</div>"
      ],
      "text/plain": [
       "                                             content  target  \\\n",
       "0  From: webb@itu1 (90-29265  Webber  AH)\\nSubjec...       0   \n",
       "1  From: nate@psygate.psych.indiana.edu (Nathan E...       2   \n",
       "2  From: ab4z@Virginia.EDU (\"Andi Beyer\")\\nSubjec...       3   \n",
       "3  From: levy@levy.fnal.gov (Mark E. Levy, ext. 8...       0   \n",
       "4  From: wolfone@ccwf.cc.utexas.edu (I am an andr...       2   \n",
       "\n",
       "            target_names                                         clean_data  \\\n",
       "0        sci.electronics  webber ah subject re adcom cheap products arti...   \n",
       "1     talk.politics.guns  nathan engle subject re atf burns dividian ran...   \n",
       "2  talk.politics.mideast  andi beyer subject re israeli terrorism organi...   \n",
       "3        sci.electronics  mark e levy ext subject sources for intel d c ...   \n",
       "4     talk.politics.guns  i am an android subject re atf burns dividian ...   \n",
       "\n",
       "                                              lemmas  topic_id  \\\n",
       "0  [webber, ah, subject, adcom, cheap, product, a...         7   \n",
       "1  [nathan, engle, subject, atf, burns, dividian,...         7   \n",
       "2  [andi, beyer, subject, israeli, terrorism, org...         4   \n",
       "3  [mark, e, levy, ext, subject, source, intel, d...         6   \n",
       "4  [android, subject, atf, burns, dividian, ranch...         6   \n",
       "\n",
       "              new_topic_name  \n",
       "0                      Space  \n",
       "1                      Space  \n",
       "2                       Guns  \n",
       "3  Armenian_Turkish_Conflict  \n",
       "4  Armenian_Turkish_Conflict  "
      ]
     },
     "execution_count": 36,
     "metadata": {},
     "output_type": "execute_result"
    }
   ],
   "source": [
    "# cool! so now all of our documents have topic ids and names \n",
    "df.head()"
   ]
  },
  {
   "cell_type": "code",
   "execution_count": 37,
   "metadata": {},
   "outputs": [
    {
     "data": {
      "text/html": [
       "<div>\n",
       "<style scoped>\n",
       "    .dataframe tbody tr th:only-of-type {\n",
       "        vertical-align: middle;\n",
       "    }\n",
       "\n",
       "    .dataframe tbody tr th {\n",
       "        vertical-align: top;\n",
       "    }\n",
       "\n",
       "    .dataframe thead th {\n",
       "        text-align: right;\n",
       "    }\n",
       "</style>\n",
       "<table border=\"1\" class=\"dataframe\">\n",
       "  <thead>\n",
       "    <tr style=\"text-align: right;\">\n",
       "      <th></th>\n",
       "      <th>content</th>\n",
       "      <th>target</th>\n",
       "      <th>target_names</th>\n",
       "      <th>clean_data</th>\n",
       "      <th>lemmas</th>\n",
       "      <th>topic_id</th>\n",
       "      <th>new_topic_name</th>\n",
       "    </tr>\n",
       "  </thead>\n",
       "  <tbody>\n",
       "    <tr>\n",
       "      <th>6</th>\n",
       "      <td>From: fcrary@ucsu.Colorado.EDU (Frank Crary)\\n...</td>\n",
       "      <td>2</td>\n",
       "      <td>talk.politics.guns</td>\n",
       "      <td>frank crary subject re gun control was re we r...</td>\n",
       "      <td>[frank, crary, subject, gun, control, mad, hel...</td>\n",
       "      <td>3</td>\n",
       "      <td>Space</td>\n",
       "    </tr>\n",
       "    <tr>\n",
       "      <th>40</th>\n",
       "      <td>From: eldar@fraser.sfu.ca (Danny Eldar)\\nSubje...</td>\n",
       "      <td>3</td>\n",
       "      <td>talk.politics.mideast</td>\n",
       "      <td>danny eldar subject pbs frontline documentary ...</td>\n",
       "      <td>[danny, eldar, subject, pbs, frontline, docume...</td>\n",
       "      <td>3</td>\n",
       "      <td>Space</td>\n",
       "    </tr>\n",
       "    <tr>\n",
       "      <th>65</th>\n",
       "      <td>From: djf@cck.coventry.ac.uk (Marvin Batty)\\nS...</td>\n",
       "      <td>1</td>\n",
       "      <td>sci.space</td>\n",
       "      <td>marvin batty subject re moon colony prize race...</td>\n",
       "      <td>[marvin, batty, subject, moon, colony, prize, ...</td>\n",
       "      <td>3</td>\n",
       "      <td>Space</td>\n",
       "    </tr>\n",
       "    <tr>\n",
       "      <th>73</th>\n",
       "      <td>From: ragee@vdoe386.vak12ed.edu (Randy Agee)\\n...</td>\n",
       "      <td>0</td>\n",
       "      <td>sci.electronics</td>\n",
       "      <td>randy agee subject radar detector detectors or...</td>\n",
       "      <td>[randy, agee, subject, radar, detector, detect...</td>\n",
       "      <td>3</td>\n",
       "      <td>Space</td>\n",
       "    </tr>\n",
       "    <tr>\n",
       "      <th>88</th>\n",
       "      <td>From: jbh55289@uxa.cso.uiuc.edu (Josh Hopkins)...</td>\n",
       "      <td>1</td>\n",
       "      <td>sci.space</td>\n",
       "      <td>josh hopkins subject re lindbergh and the moon...</td>\n",
       "      <td>[josh, hopkins, subject, lindbergh, moon, g, o...</td>\n",
       "      <td>3</td>\n",
       "      <td>Space</td>\n",
       "    </tr>\n",
       "    <tr>\n",
       "      <th>...</th>\n",
       "      <td>...</td>\n",
       "      <td>...</td>\n",
       "      <td>...</td>\n",
       "      <td>...</td>\n",
       "      <td>...</td>\n",
       "      <td>...</td>\n",
       "      <td>...</td>\n",
       "    </tr>\n",
       "    <tr>\n",
       "      <th>2203</th>\n",
       "      <td>From: phoenix.Princeton.EDU!carlosn (Carlos G....</td>\n",
       "      <td>1</td>\n",
       "      <td>sci.space</td>\n",
       "      <td>from phoenix princeton edu carlosn carlos g ni...</td>\n",
       "      <td>[phoenix, princeton, edu, carlosn, carlos, g, ...</td>\n",
       "      <td>3</td>\n",
       "      <td>Space</td>\n",
       "    </tr>\n",
       "    <tr>\n",
       "      <th>2223</th>\n",
       "      <td>Organization: University of Illinois at Chicag...</td>\n",
       "      <td>2</td>\n",
       "      <td>talk.politics.guns</td>\n",
       "      <td>organization university of illinois at chicago...</td>\n",
       "      <td>[organization, university, illinois, chicago, ...</td>\n",
       "      <td>3</td>\n",
       "      <td>Space</td>\n",
       "    </tr>\n",
       "    <tr>\n",
       "      <th>2239</th>\n",
       "      <td>From: shepard@netcom.com (Mark Shepard)\\nSubje...</td>\n",
       "      <td>2</td>\n",
       "      <td>talk.politics.guns</td>\n",
       "      <td>mark shepard subject s brady bill loopholes ke...</td>\n",
       "      <td>[mark, shepard, subject, s, brady, bill, looph...</td>\n",
       "      <td>3</td>\n",
       "      <td>Space</td>\n",
       "    </tr>\n",
       "    <tr>\n",
       "      <th>2268</th>\n",
       "      <td>From: brians@atlastele.com (Brian Sheets)\\nSub...</td>\n",
       "      <td>2</td>\n",
       "      <td>talk.politics.guns</td>\n",
       "      <td>brian sheets subject constitutionality of u s ...</td>\n",
       "      <td>[brian, sheet, subject, constitutionality, u, ...</td>\n",
       "      <td>3</td>\n",
       "      <td>Space</td>\n",
       "    </tr>\n",
       "    <tr>\n",
       "      <th>2269</th>\n",
       "      <td>From: ndallen@r-node.hub.org (Nigel Allen)\\nSu...</td>\n",
       "      <td>2</td>\n",
       "      <td>talk.politics.guns</td>\n",
       "      <td>nigel allen subject waco clinton press confere...</td>\n",
       "      <td>[nigel, allen, subject, waco, clinton, press, ...</td>\n",
       "      <td>3</td>\n",
       "      <td>Space</td>\n",
       "    </tr>\n",
       "  </tbody>\n",
       "</table>\n",
       "<p>117 rows × 7 columns</p>\n",
       "</div>"
      ],
      "text/plain": [
       "                                                content  target  \\\n",
       "6     From: fcrary@ucsu.Colorado.EDU (Frank Crary)\\n...       2   \n",
       "40    From: eldar@fraser.sfu.ca (Danny Eldar)\\nSubje...       3   \n",
       "65    From: djf@cck.coventry.ac.uk (Marvin Batty)\\nS...       1   \n",
       "73    From: ragee@vdoe386.vak12ed.edu (Randy Agee)\\n...       0   \n",
       "88    From: jbh55289@uxa.cso.uiuc.edu (Josh Hopkins)...       1   \n",
       "...                                                 ...     ...   \n",
       "2203  From: phoenix.Princeton.EDU!carlosn (Carlos G....       1   \n",
       "2223  Organization: University of Illinois at Chicag...       2   \n",
       "2239  From: shepard@netcom.com (Mark Shepard)\\nSubje...       2   \n",
       "2268  From: brians@atlastele.com (Brian Sheets)\\nSub...       2   \n",
       "2269  From: ndallen@r-node.hub.org (Nigel Allen)\\nSu...       2   \n",
       "\n",
       "               target_names  \\\n",
       "6        talk.politics.guns   \n",
       "40    talk.politics.mideast   \n",
       "65                sci.space   \n",
       "73          sci.electronics   \n",
       "88                sci.space   \n",
       "...                     ...   \n",
       "2203              sci.space   \n",
       "2223     talk.politics.guns   \n",
       "2239     talk.politics.guns   \n",
       "2268     talk.politics.guns   \n",
       "2269     talk.politics.guns   \n",
       "\n",
       "                                             clean_data  \\\n",
       "6     frank crary subject re gun control was re we r...   \n",
       "40    danny eldar subject pbs frontline documentary ...   \n",
       "65    marvin batty subject re moon colony prize race...   \n",
       "73    randy agee subject radar detector detectors or...   \n",
       "88    josh hopkins subject re lindbergh and the moon...   \n",
       "...                                                 ...   \n",
       "2203  from phoenix princeton edu carlosn carlos g ni...   \n",
       "2223  organization university of illinois at chicago...   \n",
       "2239  mark shepard subject s brady bill loopholes ke...   \n",
       "2268  brian sheets subject constitutionality of u s ...   \n",
       "2269  nigel allen subject waco clinton press confere...   \n",
       "\n",
       "                                                 lemmas  topic_id  \\\n",
       "6     [frank, crary, subject, gun, control, mad, hel...         3   \n",
       "40    [danny, eldar, subject, pbs, frontline, docume...         3   \n",
       "65    [marvin, batty, subject, moon, colony, prize, ...         3   \n",
       "73    [randy, agee, subject, radar, detector, detect...         3   \n",
       "88    [josh, hopkins, subject, lindbergh, moon, g, o...         3   \n",
       "...                                                 ...       ...   \n",
       "2203  [phoenix, princeton, edu, carlosn, carlos, g, ...         3   \n",
       "2223  [organization, university, illinois, chicago, ...         3   \n",
       "2239  [mark, shepard, subject, s, brady, bill, looph...         3   \n",
       "2268  [brian, sheet, subject, constitutionality, u, ...         3   \n",
       "2269  [nigel, allen, subject, waco, clinton, press, ...         3   \n",
       "\n",
       "     new_topic_name  \n",
       "6             Space  \n",
       "40            Space  \n",
       "65            Space  \n",
       "73            Space  \n",
       "88            Space  \n",
       "...             ...  \n",
       "2203          Space  \n",
       "2223          Space  \n",
       "2239          Space  \n",
       "2268          Space  \n",
       "2269          Space  \n",
       "\n",
       "[117 rows x 7 columns]"
      ]
     },
     "execution_count": 37,
     "metadata": {},
     "output_type": "execute_result"
    }
   ],
   "source": [
    "# you can mask for all Space articles \n",
    "science_mask = df.topic_id == 3\n",
    "df[science_mask]"
   ]
  },
  {
   "cell_type": "markdown",
   "metadata": {},
   "source": [
    "-----\n",
    "\n",
    "## Where do we go from here?\n",
    "\n",
    "What exactly did we just accomplish?\n",
    "\n",
    "Outside of this guided project (i.e. in your job) you may or may not have access to existing article topic names like we did with this data set. Meaning that we won't always have a point of reference to \"check our answers\". So let's explore 2 possible situations in which you might find yourself using this Unsupervised Learning Topic Model. \n",
    "\n",
    "### 1. You have access to existing document topic labels\n",
    "\n",
    "In this case, why would we bother with Topic Modeling? It could be the case that the current topic labels are actually not helpful for whatever task you're working on. For instance, our email dataset here has topic names however those topic labels are hierarchical, which doesn't suit your needs for some reason. So one option is generate new labels that do suit your needs (like we did here). \n",
    "\n",
    "### 2. Your corpus doesn't have any document topic labels\n",
    "\n",
    "In this case, you don't have any pre-existing topic labels. Maybe you work at Indeed or LinkedIn or Google and your job is to bring some structure to a huge collection of emails and messages that aren't labeled in any meaningful way and so it's difficult to just sort through these documents. This is a perfect use case of Topic Modeling. After you apply topic modeling, you'll then have organized your emails into broad categories and you can start structuring and then analyze your corpus, and maybe even build a supervised learning model to predict the topic of the document!"
   ]
  }
 ],
 "metadata": {
  "celltoolbar": "Create Assignment",
  "colab": {
   "collapsed_sections": [],
   "name": "REFERENCE_LS_DS_414_Topic_Modeling.ipynb",
   "provenance": []
  },
  "kernelspec": {
   "display_name": "Python 3",
   "language": "python",
   "name": "python3"
  },
  "language_info": {
   "codemirror_mode": {
    "name": "ipython",
    "version": 3
   },
   "file_extension": ".py",
   "mimetype": "text/x-python",
   "name": "python",
   "nbconvert_exporter": "python",
   "pygments_lexer": "ipython3",
   "version": "3.8.5"
  }
 },
 "nbformat": 4,
 "nbformat_minor": 4
}
